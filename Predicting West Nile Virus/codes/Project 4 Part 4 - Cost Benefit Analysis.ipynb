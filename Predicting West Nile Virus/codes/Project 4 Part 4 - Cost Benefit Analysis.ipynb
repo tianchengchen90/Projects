{
 "cells": [
  {
   "cell_type": "markdown",
   "id": "96349e4b",
   "metadata": {},
   "source": [
    "<img src=\"http://imgur.com/1ZcRyrc.png\" style=\"float: left; margin: 20px; height: 55px\">\n",
    "\n",
    "# Project 4: Predict West Nile Virus Presence in Mosquitos across the City of Chicago<br>\n",
    "# Part 4: Cost Benefit Analysis"
   ]
  },
  {
   "cell_type": "markdown",
   "id": "66e15a5c",
   "metadata": {},
   "source": [
    "This workbook is 4 out of 4 parts of a prediction model to determine the occurrence of West Nile Virus (WNV). The focus of this part is to perform cost benefit analysis on spraying.\n",
    "\n",
    "### Contents:\n",
    "- [Objective](#Objective)\n",
    "- [Data on Number of Cases in Chicago](#Data-on-Number-of-Cases-in-Chicago)\n",
    "- [Benefits Modelling](#Benefits-Modelling)\n",
    "- [Cost Modeling by Indiscriminate Spraying across Entire Chicago](#Cost-Modeling-by-Indiscriminate-Spraying-across-Entire-Chicago)\n",
    "- [Cost Benefit Analysis Conclusion for Spraying](#Cost-Benefit-Analysis-Conclusion-for-Spraying)\n",
    "- [Recommendation](#Recommendation)\n",
    "- [Areas of Future Work](#Areas-of-Future-Work)"
   ]
  },
  {
   "cell_type": "code",
   "execution_count": 3,
   "id": "d472a4dc",
   "metadata": {},
   "outputs": [],
   "source": [
    "# Import libraries\n",
    "import numpy as np"
   ]
  },
  {
   "cell_type": "markdown",
   "id": "0a07ea3e",
   "metadata": {},
   "source": [
    "## Objective"
   ]
  },
  {
   "cell_type": "markdown",
   "id": "41480322",
   "metadata": {},
   "source": [
    "Our goal is to evaluate if spraying activities is an economically beneficial action taken by Chicago. This will be done through a comprehensive modelling of costs and benefits. In the event that information required is not publicly available, proxies or estimates will be chosen in its place."
   ]
  },
  {
   "cell_type": "markdown",
   "id": "91c96450",
   "metadata": {},
   "source": [
    "## Data on Number of Cases in Chicago"
   ]
  },
  {
   "cell_type": "markdown",
   "id": "3f315bc6",
   "metadata": {},
   "source": [
    "We extracted key available number of cases in Chicago from 2002 to 2012, as this is helpful information in modelling the benefits. [*source*](https://www.chicago.gov/content/dam/city/depts/cdph/statistics_and_reports/CDInfo_2013_JULY_WNV.pdf)"
   ]
  },
  {
   "cell_type": "code",
   "execution_count": 1,
   "id": "f4c93832",
   "metadata": {},
   "outputs": [],
   "source": [
    "# Number of cases from 2002 to 2012 \n",
    "# https://www.chicago.gov/content/dam/city/depts/cdph/statistics_and_reports/CDInfo_2013_JULY_WNV.pdf\n",
    "\n",
    "wnv_cases=[225, 4, 6, 41, 29, 11, 4, 1, 9, 8, 60]"
   ]
  },
  {
   "cell_type": "markdown",
   "id": "4658fc87",
   "metadata": {},
   "source": [
    "## Benefits Modelling"
   ]
  },
  {
   "cell_type": "markdown",
   "id": "a6f23de8",
   "metadata": {},
   "source": [
    "Based on our research, in year 2002, there was an epidemic of WNV, and a total of 225 reported cases with 22 fatalities happened in Chicago. In our vector control efforts of spraying, we are essentially trying to prevent deaths and epidemics of WNV from happening again. As such, this worst case scenario will be used to model the benefits.\n",
    "\n",
    "Based on CDC guidance, 1 in 5 cases of WNV is West Nile Fever (WNF) and 1 in 150 is West Nile neuroinvasive disease (WNND). \n",
    "\n",
    "We relied heavily on research papers namely Barber et al (2010), where we extracted economic cost of West Nile Fever (WNF), and West Nile neuroinvasive disease (WNND), as well as medical cost from WNND. For the benefit of preventing death, we took reference to Staples et al (2014) to determine the cost of death."
   ]
  },
  {
   "cell_type": "code",
   "execution_count": 5,
   "id": "da93156f",
   "metadata": {},
   "outputs": [
    {
     "data": {
      "text/plain": [
       "225"
      ]
     },
     "execution_count": 5,
     "metadata": {},
     "output_type": "execute_result"
    }
   ],
   "source": [
    "# Max benefit calculate by the largest number of cases to 0\n",
    "np.max(wnv_cases)"
   ]
  },
  {
   "cell_type": "code",
   "execution_count": 6,
   "id": "c1a9398f",
   "metadata": {},
   "outputs": [
    {
     "name": "stdout",
     "output_type": "stream",
     "text": [
      "45.0\n"
     ]
    }
   ],
   "source": [
    "# Number of WNF (West Nile fever) cases expected in max case - 1 in 5\n",
    "num_wnf = 225*(1/5)\n",
    "print(num_wnf)"
   ]
  },
  {
   "cell_type": "code",
   "execution_count": 7,
   "id": "676330ef",
   "metadata": {},
   "outputs": [
    {
     "name": "stdout",
     "output_type": "stream",
     "text": [
      "2.0\n"
     ]
    }
   ],
   "source": [
    "# Number of WNND (West Nile neuroinvasive disease) cases expected in max case - 1 in 150\n",
    "num_wnnd =np.round(225*(1/150))\n",
    "print(num_wnnd)"
   ]
  },
  {
   "cell_type": "code",
   "execution_count": 35,
   "id": "e73f9374",
   "metadata": {},
   "outputs": [],
   "source": [
    "# Number of deaths based on rate from https://www.cdc.gov/mmwr/volumes/70/ss/ss7001a1.htm\n",
    "num_death = 22"
   ]
  },
  {
   "cell_type": "markdown",
   "id": "d78ef695",
   "metadata": {},
   "source": [
    "#### Benefit: Medical cost from West Nile neuroinvasive disease (WNND) annually"
   ]
  },
  {
   "cell_type": "markdown",
   "id": "9a505d57",
   "metadata": {},
   "source": [
    "Medical cost from WNND consists of actual cost measured in Sacremento 2005 WNV cases. It included costs like physician visits, hospital treatment, occupational therapy, home health aides and babysitters. \n",
    "\n",
    "We estimated the benefit based on the 2 WNND cases that we forecast would happen based on number of cases in worst case scenario."
   ]
  },
  {
   "cell_type": "code",
   "execution_count": 9,
   "id": "23dc8f09",
   "metadata": {},
   "outputs": [],
   "source": [
    "# Medical cost per WNND case extracted from Table 2 of research paper\n",
    "# https://www.ncbi.nlm.nih.gov/pmc/articles/PMC3322011/#R10\n",
    "medcostper_wnnd =2844339/46"
   ]
  },
  {
   "cell_type": "code",
   "execution_count": 51,
   "id": "f37cddd3",
   "metadata": {},
   "outputs": [
    {
     "name": "stdout",
     "output_type": "stream",
     "text": [
      "123667.0\n"
     ]
    }
   ],
   "source": [
    "# Medical cost saving based on 2 WNND case in max benefit analysis\n",
    "ben_med_wnnd = num_wnnd*medcostper_wnnd\n",
    "print(np.round(ben_med_wnnd))"
   ]
  },
  {
   "cell_type": "markdown",
   "id": "fccae4dd",
   "metadata": {},
   "source": [
    "#### Benefit: Economic cost from WNND annually"
   ]
  },
  {
   "cell_type": "markdown",
   "id": "c35e66b5",
   "metadata": {},
   "source": [
    "Economic cost from WNND consists of estimated cost measured in Sacremento 2005 WNV cases. It included productivity losses based on average productivity loss of work day, and non work day. \n",
    "\n",
    "We estimated the benefit based on the 2 WNND cases that we forecast would happen based on number of cases in worst case scenario."
   ]
  },
  {
   "cell_type": "code",
   "execution_count": 11,
   "id": "563eb8ec",
   "metadata": {},
   "outputs": [],
   "source": [
    "# Economic cost per WNND case extracted from Table 3 of research paper\n",
    "# https://www.ncbi.nlm.nih.gov/pmc/articles/PMC3322011/#R10\n",
    "econccostper_wnnd = 484800/46"
   ]
  },
  {
   "cell_type": "code",
   "execution_count": 52,
   "id": "dbc9d41b",
   "metadata": {},
   "outputs": [
    {
     "name": "stdout",
     "output_type": "stream",
     "text": [
      "21078.0\n"
     ]
    }
   ],
   "source": [
    "# Chicago estimated annual economic cost from WNND\n",
    "ben_econ_wnnd = num_wnnd*econccostper_wnnd\n",
    "print(np.round(ben_econ_wnnd))"
   ]
  },
  {
   "cell_type": "markdown",
   "id": "d8e31fa4",
   "metadata": {},
   "source": [
    "#### Benefit: Economic cost from WNF annually"
   ]
  },
  {
   "cell_type": "markdown",
   "id": "4f135733",
   "metadata": {},
   "source": [
    "Economic cost from WNF consists of estimated cost measured in Sacremento 2005 WNV cases. It included productivity losses based on average productivity loss of work day, and non work day, as well as cost of physician visit and diagnostic test for each case.\n",
    "\n",
    "We estimated the benefit based on the 45 WNF cases that we forecast would happen based on number of cases in worst case scenario."
   ]
  },
  {
   "cell_type": "code",
   "execution_count": 13,
   "id": "89fc50e5",
   "metadata": {},
   "outputs": [],
   "source": [
    "# Economical cost per WNF case extracted from Table 4 of research paper\n",
    "# https://www.ncbi.nlm.nih.gov/pmc/articles/PMC3322011/#R10\n",
    "econcostper_wnf = 136839/117"
   ]
  },
  {
   "cell_type": "code",
   "execution_count": 14,
   "id": "396f6317",
   "metadata": {},
   "outputs": [
    {
     "name": "stdout",
     "output_type": "stream",
     "text": [
      "52630.0\n"
     ]
    }
   ],
   "source": [
    "# Chicago estimated annual economic cost from WNF\n",
    "ben_econ_wnf = econcostper_wnf * num_wnf\n",
    "print(np.round(ben_econ_wnf))"
   ]
  },
  {
   "cell_type": "markdown",
   "id": "819ddb26",
   "metadata": {},
   "source": [
    "#### Benefit: Prevention of death and its related costs annually"
   ]
  },
  {
   "cell_type": "markdown",
   "id": "8449fd8c",
   "metadata": {},
   "source": [
    "Death costs is calculated by the below research paper by considering the total lifetime lost productivity. \n",
    "\n",
    "We have then used 22 actual deaths in Chicago 2002 that happened to estimate the benefit."
   ]
  },
  {
   "cell_type": "code",
   "execution_count": 48,
   "id": "8df04352",
   "metadata": {},
   "outputs": [],
   "source": [
    "# Cost estimate of death from https://www.ncbi.nlm.nih.gov/pmc/articles/PMC3945683/#R15\n",
    "costper_death = 449464800/1529"
   ]
  },
  {
   "cell_type": "code",
   "execution_count": 43,
   "id": "c96fac10",
   "metadata": {},
   "outputs": [
    {
     "name": "stdout",
     "output_type": "stream",
     "text": [
      "6467119\n"
     ]
    }
   ],
   "source": [
    "ben_death = costper_death * num_death\n",
    "print(round(ben_death))"
   ]
  },
  {
   "cell_type": "code",
   "execution_count": 49,
   "id": "f3965214",
   "metadata": {},
   "outputs": [
    {
     "name": "stdout",
     "output_type": "stream",
     "text": [
      "6664495.0\n"
     ]
    }
   ],
   "source": [
    "total_ben = ben_med_wnnd + ben_econ_wnnd + ben_econ_wnf + ben_death\n",
    "print(np.round(total_ben))"
   ]
  },
  {
   "cell_type": "markdown",
   "id": "aca489df",
   "metadata": {},
   "source": [
    "It was noted that amongst all costs, the cost of death is the largest, and is the factor that gives the most benefits and therefore moves the needle towards spraying."
   ]
  },
  {
   "cell_type": "markdown",
   "id": "3263f73a",
   "metadata": {},
   "source": [
    "## Cost Modeling by Indiscriminate Spraying across Entire Chicago"
   ]
  },
  {
   "cell_type": "markdown",
   "id": "0b6a3466",
   "metadata": {},
   "source": [
    "Cost is modelled by taking the total estimated area of Chicago, multiplied by the cost of spray per acre of Zenivex, the adulticide of choice of Chicago. This is then multiplied by the number of sprays that are announced in the past. The resultant cost is an overestimation of spraying efforts, as based on 2011 and 2013 spray data, we did not see the entire city being indiscriminately sprayed.\n",
    "\n",
    "However, for cost benefit analysis purpose, such conservative estimation would allow us to factor in worst case scenarios where the entire city do indeed require spraying."
   ]
  },
  {
   "cell_type": "code",
   "execution_count": 18,
   "id": "7ff50026",
   "metadata": {},
   "outputs": [],
   "source": [
    "# Cost to spray the entire Chicago with Zenivex based on estimated total land size \n",
    "# Chicago uses Zenivex source: https://www.chicago.gov/content/dam/city/depts/cdph/Mosquito-Borne-Diseases/Zenivex.pdf\n",
    "# Zenivex cost per acre source: https://www.centralmosquitocontrol.com/-/media/files/centralmosquitocontrol-na/us/resources-lit%20files/zenivex%20cost%20comparison%20fact%20sheet.pdf\n",
    "# Land area of Chicago City based on Google search\n",
    "costperspray= 149800*0.67"
   ]
  },
  {
   "cell_type": "code",
   "execution_count": 19,
   "id": "a027a1e1",
   "metadata": {},
   "outputs": [
    {
     "name": "stdout",
     "output_type": "stream",
     "text": [
      "1104026.0\n"
     ]
    }
   ],
   "source": [
    "# Estimate 11 sprays from https://www.chicago.gov/content/dam/city/depts/cdph/statistics_and_reports/CDInfo_2013_JULY_WNV.pdf\n",
    "total_cost = costperspray*11\n",
    "print(total_cost)"
   ]
  },
  {
   "cell_type": "markdown",
   "id": "d598d28c",
   "metadata": {},
   "source": [
    "For 2011 and 2013, we see that spray was not done across the entire city. This allows the actual cost to be much lower, and allows the true hotspots to be targeted. The savings in acres of spray can then allow for increased frequency, or translates into savings in expenditure."
   ]
  },
  {
   "cell_type": "code",
   "execution_count": 20,
   "id": "9f8ac4d3",
   "metadata": {},
   "outputs": [
    {
     "data": {
      "text/plain": [
       "968728.5276073619"
      ]
     },
     "execution_count": 20,
     "metadata": {},
     "output_type": "execute_result"
    }
   ],
   "source": [
    "# Cross check to Sacremento cost in 2005\n",
    "701790/163*np.max(wnv_cases)"
   ]
  },
  {
   "cell_type": "markdown",
   "id": "89cfa50f",
   "metadata": {},
   "source": [
    "Sacremento's cost of 968k dollars was in 2005, and used airplane fogging, with overtime of workers. Since the current modelled 1.1 million dollars is pretty close to Sacremento's cost, it should be good enough as a proxy for overall costs. There are several other costs that are not factored and will be discussed at the end of the report."
   ]
  },
  {
   "cell_type": "markdown",
   "id": "459d7ab6",
   "metadata": {},
   "source": [
    "## Cost Benefit Analysis Conclusion for Spraying"
   ]
  },
  {
   "cell_type": "code",
   "execution_count": 54,
   "id": "69593fe8",
   "metadata": {},
   "outputs": [
    {
     "name": "stdout",
     "output_type": "stream",
     "text": [
      "The net monetary benefit for spraying is estimated to be 5560469 dollars annually.\n"
     ]
    }
   ],
   "source": [
    "# Cost benefit analysis without\n",
    "net_ben = total_ben - total_cost\n",
    "print(f\"The net monetary benefit for spraying is estimated to be {round(net_ben)} dollars annually.\")"
   ]
  },
  {
   "cell_type": "markdown",
   "id": "40b2d29f",
   "metadata": {},
   "source": [
    "#### Other assumptions made, and limitations in cost modelling"
   ]
  },
  {
   "cell_type": "markdown",
   "id": "5ce4ef2e",
   "metadata": {},
   "source": [
    "#### Cost assumptions\n",
    "1) Zenivex is applied through a truck mounted fogger, and not through plane. There is no publicly available information to proxy such a cost. We assume that this cost is immaterial in the overall decision making process, where benefits clearly outweighs costs.\n",
    "\n",
    "2) Other manpower cost related to spraying are also not easily obtainable, and therefore we make the same assumption that it is immaterial to the overall decision making process.\n",
    "\n",
    "3) Other vector control costs such as larvacides and surveillance and monitoring are part of the Sacremento cost in 2005, but not part of our cost modelling, as we are simply trying to weight the benefit and cost of spraying alone. \n",
    "\n",
    "4) Human and ecologic risks associated with the emergency spray are not assessed as they are supposed to be substantially below Environmental Protection Agency levels of concern."
   ]
  },
  {
   "cell_type": "markdown",
   "id": "47050866",
   "metadata": {},
   "source": [
    "#### Benefit assumptions\n",
    "1) Pain and distress are difficult to estimate monetarily. Similarly, there are other effects such as medical costs associated with non-WNV issues, such as mosquito-bite allergenicity or sequelae, which are difficult to quantify but may be substantial.\n",
    "\n",
    "2) We assume zero WNF and WNND cases compared to 2002's epidemic situation. The actual benefit may deviate from this figure, and the benefit might not be attributable to just spraying efforts, but larvicide, monitoring of traps, and even less costly methods such as cooperation by the general public. \n",
    "\n",
    "3) We did not look at the long term cost of WNND treatment, as the current model already justifies the use of spray sufficiently with deaths.\n",
    "\n",
    "4) Time value of money is not adjusted for in the calculations."
   ]
  },
  {
   "cell_type": "markdown",
   "id": "a6f63142",
   "metadata": {},
   "source": [
    "## Recommendation"
   ]
  },
  {
   "cell_type": "markdown",
   "id": "a7fcce24",
   "metadata": {},
   "source": [
    "It is clear that spraying should continue, purely from an anti-epidemic standpoint, which is what our model does. \n",
    "Our cost benefit analysis result is not a clear mandate for the government bodies to indiscriminately spray the entire Chicago without thoughts since there are room to improve the trade off in cost and benefit.\n",
    "\n",
    "For example, a multi-pronged approach requiring the citizens of Chicago in high risk WNV areas to cooperate comes at almost no cost in monetary value. This used together with other methods would likely give rise to more economical results, than purely spraying all of Chicago.\n",
    "\n",
    "#### Citizen involvement and education [*source*](https://www.chicago.gov/city/en/depts/cdph/supp_info/infectious/west_nile_virus_surveillancereports.html)\n",
    "1) Citizens of Chicago are called to avoid being outdoors especially during the time between dawn and dusk. \n",
    "\n",
    "2) When outdoors, citizens to wear covered clothing, apply specific types of insect repellent including DEET, picarin, lemon eucalyptus or IR 3535.\n",
    "\n",
    "3) Keeping house windows and doors shut, and repairing them if there are tears leading to unintended opening.\n",
    "\n",
    "4) For citizens to have a watchful eye to remove stale water to prevent prime breeding sites.\n",
    "\n",
    "\n",
    "#### Use of larvicides\n",
    "Spraying contains only adulticides. However, larvicides are left behind to continue the spread of WNV. As such, use of larvicides in water bodies prone for mosquito breeding needs to be used in tandem with spraying efforts.\n",
    "\n",
    "#### Surveillance and testing for WNV in mosquitos\n",
    "Based on the data that was provided to us for this data science project, it is clear that the efforts of monitoring the mosquitos and testing for WNV in mosquitos gives comprehensive data with high integrity to understand where are potential hotspots. Spraying can then be targeted. For example, based on our exploration of data, O'Hare International Airport and \n",
    "South Doty Avenue are recurrent hotspots, where spray should be focused."
   ]
  },
  {
   "cell_type": "markdown",
   "id": "62ac5cb5",
   "metadata": {},
   "source": [
    "## Areas of Future Work"
   ]
  },
  {
   "cell_type": "markdown",
   "id": "41d78c36",
   "metadata": {},
   "source": [
    "For areas of future work, we would want to look at leading weather indicators that can tell us where we should spray 2 weeks from today’s date. This would allow preemptive preparation and action so that we don’t get caught by surprise. "
   ]
  }
 ],
 "metadata": {
  "kernelspec": {
   "display_name": "Python 3 (ipykernel)",
   "language": "python",
   "name": "python3"
  },
  "language_info": {
   "codemirror_mode": {
    "name": "ipython",
    "version": 3
   },
   "file_extension": ".py",
   "mimetype": "text/x-python",
   "name": "python",
   "nbconvert_exporter": "python",
   "pygments_lexer": "ipython3",
   "version": "3.8.12"
  },
  "varInspector": {
   "cols": {
    "lenName": 16,
    "lenType": 16,
    "lenVar": 40
   },
   "kernels_config": {
    "python": {
     "delete_cmd_postfix": "",
     "delete_cmd_prefix": "del ",
     "library": "var_list.py",
     "varRefreshCmd": "print(var_dic_list())"
    },
    "r": {
     "delete_cmd_postfix": ") ",
     "delete_cmd_prefix": "rm(",
     "library": "var_list.r",
     "varRefreshCmd": "cat(var_dic_list()) "
    }
   },
   "types_to_exclude": [
    "module",
    "function",
    "builtin_function_or_method",
    "instance",
    "_Feature"
   ],
   "window_display": false
  }
 },
 "nbformat": 4,
 "nbformat_minor": 5
}
