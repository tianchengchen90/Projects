{
 "cells": [
  {
   "cell_type": "markdown",
   "id": "3834fc16",
   "metadata": {},
   "source": [
    "# Project 2 Part 3: Feature Engineering and Preprocessing"
   ]
  },
  {
   "cell_type": "code",
   "execution_count": 1,
   "id": "fa22d087",
   "metadata": {},
   "outputs": [],
   "source": [
    "# Import libraries\n",
    "import pandas as pd\n",
    "import numpy as np\n",
    "import matplotlib.pyplot as plt\n",
    "import seaborn as sns\n",
    "import statsmodels.api as sm\n",
    "\n",
    "%matplotlib inline"
   ]
  },
  {
   "cell_type": "code",
   "execution_count": 2,
   "id": "5b421993",
   "metadata": {},
   "outputs": [],
   "source": [
    "from sklearn.model_selection import train_test_split, cross_val_score\n",
    "from sklearn.linear_model import LinearRegression\n",
    "from sklearn.preprocessing import StandardScaler\n",
    "from sklearn.metrics import mean_squared_error\n",
    "from sklearn.feature_selection import RFECV"
   ]
  },
  {
   "cell_type": "code",
   "execution_count": 3,
   "id": "f7df49a4",
   "metadata": {},
   "outputs": [],
   "source": [
    "# set option to display max columns always\n",
    "pd.set_option('display.max_columns', None)\n",
    "pd.set_option('display.max_rows', None)"
   ]
  },
  {
   "cell_type": "code",
   "execution_count": 4,
   "id": "3c60f365",
   "metadata": {},
   "outputs": [],
   "source": [
    "# Import cleaned datasets\n",
    "concat_df = pd.read_csv('datasets/concat_df_cleaned.csv')"
   ]
  },
  {
   "cell_type": "code",
   "execution_count": 5,
   "id": "4db7a36d",
   "metadata": {},
   "outputs": [
    {
     "data": {
      "text/plain": [
       "(2926, 282)"
      ]
     },
     "execution_count": 5,
     "metadata": {},
     "output_type": "execute_result"
    }
   ],
   "source": [
    "concat_df.shape"
   ]
  },
  {
   "cell_type": "markdown",
   "id": "1df02faf",
   "metadata": {},
   "source": [
    "## Feature Engineering Methodology\n",
    "\n",
    "#### \"Art is the reduction of the unnecessary\" Pablo Picasso\n",
    "\n",
    "After cleaning null values and dummifying the categorical data, I ended up with 218 features in my the overall concatenated dataset. I wish to avoid using the kitchen sink approach of throwing all features into the models, as there are bound to be many irrelevant and redundant features. \n",
    "\n",
    "These are the downside of using the kitchen sink approach that I wish to avoid:\n",
    "\n",
    "### Downsides of having too much features\n",
    "\n",
    "1) Overfitting - leading to less accurate results.\n",
    "\n",
    "2) Slow and expensive processing and execution time.\n",
    "\n",
    "3) Curse of dimensionality where predictive power decreases as dimensionality increases.\n",
    "\n",
    "4) Law of Parsimony and Occam's razor, where the simplest method which reaches the same result should be used. In this case, keeping the results the same, less features, and easier to explain features would be the best.\n",
    "\n",
    "\n",
    "### Methods used for feature selection\n",
    "\n",
    "Out of the 12 methods that my external research has netted me, I will be be using a mix of different methods, which includes:\n",
    "\n",
    "1,2) Correlation analysis - Pairwise correlation and correlation with target \n",
    "\n",
    "3) Variance analysis - to drop low variation features\n",
    "\n",
    "4) Backward elimination (RFE)\n",
    "\n",
    "Together with other steps that are located in Data Cleaning and my final Model notebook which are: \n",
    "\n",
    "5) Multicollinearity\n",
    "\n",
    "6) Lasso\n",
    "\n",
    "7) Intuition on irrelevant and redundant features\n",
    "\n",
    "### External research\n",
    "\n",
    "Recursive feature elimination\n",
    "https://www.linkedin.com/pulse/what-recursive-feature-elimination-amit-mittal\n",
    "\n",
    "Vishal Patel | A Practical Guide to Dimensionality Reduction Techniques\n",
    "https://www.youtube.com/watch?v=ioXKxulmwVQ"
   ]
  },
  {
   "cell_type": "markdown",
   "id": "a48ebed3",
   "metadata": {},
   "source": [
    "## Correlation analysis"
   ]
  },
  {
   "cell_type": "code",
   "execution_count": 6,
   "id": "ef83208f",
   "metadata": {},
   "outputs": [],
   "source": [
    "# Preliminary splitting of full housing training data and test data from concatenated dataframe\n",
    "# iloc 2048 instead of 2051 as I have removed 3 outliers\n",
    "housing = concat_df.iloc[:2048]\n",
    "test = concat_df.iloc[2048:]"
   ]
  },
  {
   "cell_type": "markdown",
   "id": "6491db57",
   "metadata": {},
   "source": [
    "A correlation matrix will be created using the housing training dataset, to ensure there is no leakage of test data. As I will be looking at the correation to sales price, I will not be able to create it with the test data still inside the concatenated dataframe."
   ]
  },
  {
   "cell_type": "code",
   "execution_count": 7,
   "id": "83adbb76",
   "metadata": {
    "scrolled": true
   },
   "outputs": [],
   "source": [
    "# Create matrix of all feature correlations\n",
    "corr_matrix = housing.corr().abs()\n",
    "\n",
    "sol = (corr_matrix.where(np.triu(np.ones(corr_matrix.shape), k=1)\n",
    "                  .astype(bool))\n",
    "                  .stack()\n",
    "                  .sort_values(ascending=False))\n",
    "\n",
    "# Convert to dataframe and reset multi-level index\n",
    "corr_df = pd.DataFrame(sol.head(20)).reset_index()\n",
    "\n",
    "# Rename columns\n",
    "corr_df.columns = 'v1', 'v2', 'pair_corr'"
   ]
  },
  {
   "cell_type": "code",
   "execution_count": 8,
   "id": "a2580f5b",
   "metadata": {},
   "outputs": [],
   "source": [
    "def corr_target(row):\n",
    "    row['v1_y_corr'] = housing.corr()['SalePrice'][row['v1']]\n",
    "    row['v2_y_corr'] = housing.corr()['SalePrice'][row['v2']]\n",
    "    return row"
   ]
  },
  {
   "cell_type": "code",
   "execution_count": 9,
   "id": "6e313c37",
   "metadata": {},
   "outputs": [],
   "source": [
    "# Create df with pairwise correlation and correlation to target\n",
    "corr_df = corr_df.apply(corr_target, axis=1)"
   ]
  },
  {
   "cell_type": "code",
   "execution_count": 10,
   "id": "007764d7",
   "metadata": {
    "scrolled": false
   },
   "outputs": [
    {
     "data": {
      "text/html": [
       "<div>\n",
       "<style scoped>\n",
       "    .dataframe tbody tr th:only-of-type {\n",
       "        vertical-align: middle;\n",
       "    }\n",
       "\n",
       "    .dataframe tbody tr th {\n",
       "        vertical-align: top;\n",
       "    }\n",
       "\n",
       "    .dataframe thead th {\n",
       "        text-align: right;\n",
       "    }\n",
       "</style>\n",
       "<table border=\"1\" class=\"dataframe\">\n",
       "  <thead>\n",
       "    <tr style=\"text-align: right;\">\n",
       "      <th></th>\n",
       "      <th>v1</th>\n",
       "      <th>v2</th>\n",
       "      <th>pair_corr</th>\n",
       "      <th>v1_y_corr</th>\n",
       "      <th>v2_y_corr</th>\n",
       "    </tr>\n",
       "  </thead>\n",
       "  <tbody>\n",
       "    <tr>\n",
       "      <th>0</th>\n",
       "      <td>Central Air_N</td>\n",
       "      <td>Central Air_Y</td>\n",
       "      <td>1.000000</td>\n",
       "      <td>-0.277493</td>\n",
       "      <td>0.277493</td>\n",
       "    </tr>\n",
       "    <tr>\n",
       "      <th>1</th>\n",
       "      <td>Garage Qual_None</td>\n",
       "      <td>Garage Cond_None</td>\n",
       "      <td>1.000000</td>\n",
       "      <td>-0.230954</td>\n",
       "      <td>-0.230954</td>\n",
       "    </tr>\n",
       "    <tr>\n",
       "      <th>2</th>\n",
       "      <td>Garage Finish_None</td>\n",
       "      <td>Garage Qual_None</td>\n",
       "      <td>1.000000</td>\n",
       "      <td>-0.230954</td>\n",
       "      <td>-0.230954</td>\n",
       "    </tr>\n",
       "    <tr>\n",
       "      <th>3</th>\n",
       "      <td>Garage Finish_None</td>\n",
       "      <td>Garage Cond_None</td>\n",
       "      <td>1.000000</td>\n",
       "      <td>-0.230954</td>\n",
       "      <td>-0.230954</td>\n",
       "    </tr>\n",
       "    <tr>\n",
       "      <th>4</th>\n",
       "      <td>Street_Grvl</td>\n",
       "      <td>Street_Pave</td>\n",
       "      <td>1.000000</td>\n",
       "      <td>-0.069864</td>\n",
       "      <td>0.069864</td>\n",
       "    </tr>\n",
       "    <tr>\n",
       "      <th>5</th>\n",
       "      <td>Bldg Type_Duplex</td>\n",
       "      <td>MS SubClass_90</td>\n",
       "      <td>1.000000</td>\n",
       "      <td>-0.103759</td>\n",
       "      <td>-0.103759</td>\n",
       "    </tr>\n",
       "    <tr>\n",
       "      <th>6</th>\n",
       "      <td>Garage Yr Blt</td>\n",
       "      <td>Garage Qual_None</td>\n",
       "      <td>0.998579</td>\n",
       "      <td>0.258554</td>\n",
       "      <td>-0.230954</td>\n",
       "    </tr>\n",
       "    <tr>\n",
       "      <th>7</th>\n",
       "      <td>Garage Yr Blt</td>\n",
       "      <td>Garage Finish_None</td>\n",
       "      <td>0.998579</td>\n",
       "      <td>0.258554</td>\n",
       "      <td>-0.230954</td>\n",
       "    </tr>\n",
       "    <tr>\n",
       "      <th>8</th>\n",
       "      <td>Garage Yr Blt</td>\n",
       "      <td>Garage Cond_None</td>\n",
       "      <td>0.998579</td>\n",
       "      <td>0.258554</td>\n",
       "      <td>-0.230954</td>\n",
       "    </tr>\n",
       "    <tr>\n",
       "      <th>9</th>\n",
       "      <td>Exterior 1st_CemntBd</td>\n",
       "      <td>Exterior 2nd_CmentBd</td>\n",
       "      <td>0.988254</td>\n",
       "      <td>0.168285</td>\n",
       "      <td>0.157714</td>\n",
       "    </tr>\n",
       "    <tr>\n",
       "      <th>10</th>\n",
       "      <td>Bldg Type_2fmCon</td>\n",
       "      <td>MS SubClass_190</td>\n",
       "      <td>0.977761</td>\n",
       "      <td>-0.111478</td>\n",
       "      <td>-0.109317</td>\n",
       "    </tr>\n",
       "    <tr>\n",
       "      <th>11</th>\n",
       "      <td>Exterior 1st_VinylSd</td>\n",
       "      <td>Exterior 2nd_VinylSd</td>\n",
       "      <td>0.977551</td>\n",
       "      <td>0.342072</td>\n",
       "      <td>0.337486</td>\n",
       "    </tr>\n",
       "    <tr>\n",
       "      <th>12</th>\n",
       "      <td>Exterior 1st_MetalSd</td>\n",
       "      <td>Exterior 2nd_MetalSd</td>\n",
       "      <td>0.976454</td>\n",
       "      <td>-0.150017</td>\n",
       "      <td>-0.139501</td>\n",
       "    </tr>\n",
       "    <tr>\n",
       "      <th>13</th>\n",
       "      <td>House Style_SLvl</td>\n",
       "      <td>MS SubClass_80</td>\n",
       "      <td>0.954549</td>\n",
       "      <td>-0.042170</td>\n",
       "      <td>-0.031485</td>\n",
       "    </tr>\n",
       "    <tr>\n",
       "      <th>14</th>\n",
       "      <td>Roof Style_Gable</td>\n",
       "      <td>Roof Style_Hip</td>\n",
       "      <td>0.949635</td>\n",
       "      <td>-0.250635</td>\n",
       "      <td>0.265941</td>\n",
       "    </tr>\n",
       "    <tr>\n",
       "      <th>15</th>\n",
       "      <td>House Style_1.5Fin</td>\n",
       "      <td>MS SubClass_50</td>\n",
       "      <td>0.942502</td>\n",
       "      <td>-0.195938</td>\n",
       "      <td>-0.182463</td>\n",
       "    </tr>\n",
       "    <tr>\n",
       "      <th>16</th>\n",
       "      <td>Garage Cars</td>\n",
       "      <td>Garage Area</td>\n",
       "      <td>0.897174</td>\n",
       "      <td>0.648969</td>\n",
       "      <td>0.656008</td>\n",
       "    </tr>\n",
       "    <tr>\n",
       "      <th>17</th>\n",
       "      <td>Exter Qual_Gd</td>\n",
       "      <td>Exter Qual_TA</td>\n",
       "      <td>0.895227</td>\n",
       "      <td>0.447221</td>\n",
       "      <td>-0.601468</td>\n",
       "    </tr>\n",
       "    <tr>\n",
       "      <th>18</th>\n",
       "      <td>Exterior 1st_HdBoard</td>\n",
       "      <td>Exterior 2nd_HdBoard</td>\n",
       "      <td>0.885850</td>\n",
       "      <td>-0.114482</td>\n",
       "      <td>-0.102602</td>\n",
       "    </tr>\n",
       "    <tr>\n",
       "      <th>19</th>\n",
       "      <td>MS Zoning_FV</td>\n",
       "      <td>Neighborhood_Somerst</td>\n",
       "      <td>0.874843</td>\n",
       "      <td>0.106634</td>\n",
       "      <td>0.150013</td>\n",
       "    </tr>\n",
       "  </tbody>\n",
       "</table>\n",
       "</div>"
      ],
      "text/plain": [
       "                      v1                    v2  pair_corr  v1_y_corr  \\\n",
       "0          Central Air_N         Central Air_Y   1.000000  -0.277493   \n",
       "1       Garage Qual_None      Garage Cond_None   1.000000  -0.230954   \n",
       "2     Garage Finish_None      Garage Qual_None   1.000000  -0.230954   \n",
       "3     Garage Finish_None      Garage Cond_None   1.000000  -0.230954   \n",
       "4            Street_Grvl           Street_Pave   1.000000  -0.069864   \n",
       "5       Bldg Type_Duplex        MS SubClass_90   1.000000  -0.103759   \n",
       "6          Garage Yr Blt      Garage Qual_None   0.998579   0.258554   \n",
       "7          Garage Yr Blt    Garage Finish_None   0.998579   0.258554   \n",
       "8          Garage Yr Blt      Garage Cond_None   0.998579   0.258554   \n",
       "9   Exterior 1st_CemntBd  Exterior 2nd_CmentBd   0.988254   0.168285   \n",
       "10      Bldg Type_2fmCon       MS SubClass_190   0.977761  -0.111478   \n",
       "11  Exterior 1st_VinylSd  Exterior 2nd_VinylSd   0.977551   0.342072   \n",
       "12  Exterior 1st_MetalSd  Exterior 2nd_MetalSd   0.976454  -0.150017   \n",
       "13      House Style_SLvl        MS SubClass_80   0.954549  -0.042170   \n",
       "14      Roof Style_Gable        Roof Style_Hip   0.949635  -0.250635   \n",
       "15    House Style_1.5Fin        MS SubClass_50   0.942502  -0.195938   \n",
       "16           Garage Cars           Garage Area   0.897174   0.648969   \n",
       "17         Exter Qual_Gd         Exter Qual_TA   0.895227   0.447221   \n",
       "18  Exterior 1st_HdBoard  Exterior 2nd_HdBoard   0.885850  -0.114482   \n",
       "19          MS Zoning_FV  Neighborhood_Somerst   0.874843   0.106634   \n",
       "\n",
       "    v2_y_corr  \n",
       "0    0.277493  \n",
       "1   -0.230954  \n",
       "2   -0.230954  \n",
       "3   -0.230954  \n",
       "4    0.069864  \n",
       "5   -0.103759  \n",
       "6   -0.230954  \n",
       "7   -0.230954  \n",
       "8   -0.230954  \n",
       "9    0.157714  \n",
       "10  -0.109317  \n",
       "11   0.337486  \n",
       "12  -0.139501  \n",
       "13  -0.031485  \n",
       "14   0.265941  \n",
       "15  -0.182463  \n",
       "16   0.656008  \n",
       "17  -0.601468  \n",
       "18  -0.102602  \n",
       "19   0.150013  "
      ]
     },
     "execution_count": 10,
     "metadata": {},
     "output_type": "execute_result"
    }
   ],
   "source": [
    "corr_df.head(20)"
   ]
  },
  {
   "cell_type": "markdown",
   "id": "fb4c7c76",
   "metadata": {},
   "source": [
    "A large number of exterior features for 1st and 2nd floor kept appearing. To reduce similar terms, I will be creating interaction features for external features before dropping the original exterior features columns."
   ]
  },
  {
   "cell_type": "code",
   "execution_count": 11,
   "id": "67f35208",
   "metadata": {},
   "outputs": [],
   "source": [
    "# Standardize column names for 2nd floor to 1st floor naming, to enable function to run\n",
    "concat_df = concat_df.rename(columns={'Exterior 2nd_Wd Shng': 'Exterior 2nd_WdShing'})\n",
    "concat_df = concat_df.rename(columns={'Exterior 2nd_Brk Cmn': 'Exterior 2nd_BrkComm'})\n",
    "concat_df = concat_df.rename(columns={'Exterior 2nd_CmentBd': 'Exterior 2nd_CemntBd'})"
   ]
  },
  {
   "cell_type": "code",
   "execution_count": 12,
   "id": "a950ec6f",
   "metadata": {},
   "outputs": [
    {
     "data": {
      "text/plain": [
       "Index(['Exterior 1st_AsbShng', 'Exterior 1st_AsphShn', 'Exterior 1st_BrkComm',\n",
       "       'Exterior 1st_BrkFace', 'Exterior 1st_CBlock', 'Exterior 1st_CemntBd',\n",
       "       'Exterior 1st_HdBoard', 'Exterior 1st_ImStucc', 'Exterior 1st_MetalSd',\n",
       "       'Exterior 1st_Plywood', 'Exterior 1st_PreCast', 'Exterior 1st_Stone',\n",
       "       'Exterior 1st_Stucco', 'Exterior 1st_VinylSd', 'Exterior 1st_Wd Sdng',\n",
       "       'Exterior 1st_WdShing'],\n",
       "      dtype='object')"
      ]
     },
     "execution_count": 12,
     "metadata": {},
     "output_type": "execute_result"
    }
   ],
   "source": [
    "ext_features = concat_df.columns[concat_df.columns.str.contains('Exterior 1st')]\n",
    "ext_features"
   ]
  },
  {
   "cell_type": "code",
   "execution_count": 13,
   "id": "50e408c9",
   "metadata": {},
   "outputs": [],
   "source": [
    "# Create interaction columns for Exterior features\n",
    "for i in ext_features:\n",
    "    ext_type = i.split('_')[1]\n",
    "    concat_df[f'Ext{ext_type}'] = concat_df[f'Exterior 1st_{ext_type}'] * concat_df[f'Exterior 2nd_{ext_type}']\n",
    "    concat_df = concat_df.drop([f'Exterior 1st_{ext_type}', f'Exterior 2nd_{ext_type}'], axis=1)"
   ]
  },
  {
   "cell_type": "code",
   "execution_count": 14,
   "id": "0ad268ad",
   "metadata": {},
   "outputs": [],
   "source": [
    "# Dropping due to perfect pairwise correlation score of 1\n",
    "# Dropping all Garage None as high correlation with Garage Yr Blt\n",
    "concat_df = concat_df.drop(['Street_Grvl',\n",
    "                        'Garage Cond_None',\n",
    "                        'Garage Finish_None',\n",
    "                        'Garage Qual_None',\n",
    "                        'Central Air_N',\n",
    "                        'MS SubClass_90',\n",
    "                       ],\n",
    "                       axis=1)"
   ]
  },
  {
   "cell_type": "code",
   "execution_count": 15,
   "id": "9342a290",
   "metadata": {},
   "outputs": [],
   "source": [
    "# Dropping due to high pairwise correlation score, lower of two pair\n",
    "concat_df = concat_df.drop(['MS SubClass_190',\n",
    "                    'MS SubClass_80',\n",
    "                    'Roof Style_Gable',\n",
    "                    'MS SubClass_50',\n",
    "                    'Garage Cars',\n",
    "                    'MS Zoning_FV',\n",
    "                    'MS SubClass_45', \n",
    "                       ],\n",
    "                       axis=1)"
   ]
  },
  {
   "cell_type": "code",
   "execution_count": 16,
   "id": "c46260d2",
   "metadata": {},
   "outputs": [
    {
     "data": {
      "text/plain": [
       "(2926, 253)"
      ]
     },
     "execution_count": 16,
     "metadata": {},
     "output_type": "execute_result"
    }
   ],
   "source": [
    "concat_df.shape"
   ]
  },
  {
   "cell_type": "markdown",
   "id": "dfc8238c",
   "metadata": {},
   "source": [
    "### Low Variance analysis"
   ]
  },
  {
   "cell_type": "markdown",
   "id": "3523023e",
   "metadata": {},
   "source": [
    "I have managed to shrink the number of features to 253 in my previous step. In the next steps ahead, a large number of features with low variance will be identified, which suggests that these values do not change much and are pretty constant. As such, I will be dropping these features. A total of 85 features will be dropped through low variance. I have looked through the features and I do not disagree with the dropping of these features."
   ]
  },
  {
   "cell_type": "code",
   "execution_count": 17,
   "id": "03198b0f",
   "metadata": {},
   "outputs": [],
   "source": [
    "#Sort variance and mask data\n",
    "low_variance = concat_df.var().sort_values(ascending=False)\n",
    "low_variance = low_variance[low_variance.values < 0.009]"
   ]
  },
  {
   "cell_type": "code",
   "execution_count": 18,
   "id": "951c5c9f",
   "metadata": {},
   "outputs": [],
   "source": [
    "# Drop low variance features (var<0.009)\n",
    "low_var_drop_list = [i for i in low_variance.index]\n",
    "concat_df = concat_df.drop(low_var_drop_list, axis=1)"
   ]
  },
  {
   "cell_type": "code",
   "execution_count": 19,
   "id": "c0a2210d",
   "metadata": {},
   "outputs": [
    {
     "data": {
      "text/plain": [
       "(2926, 168)"
      ]
     },
     "execution_count": 19,
     "metadata": {},
     "output_type": "execute_result"
    }
   ],
   "source": [
    "concat_df.shape"
   ]
  },
  {
   "cell_type": "code",
   "execution_count": 20,
   "id": "d32d1e9c",
   "metadata": {},
   "outputs": [],
   "source": [
    "#Second splitting of full housing training data and test data from concatenated dataframe\n",
    "housing = concat_df.iloc[:2048]\n",
    "test = concat_df.iloc[2048:]"
   ]
  },
  {
   "cell_type": "markdown",
   "id": "84b598fa",
   "metadata": {},
   "source": [
    "### Recursive feature elimination "
   ]
  },
  {
   "cell_type": "markdown",
   "id": "7cff3536",
   "metadata": {},
   "source": [
    "Recursive feature elimination (RFE) is a feature selection method that fits a model and removes the weakest feature (or features) until the specified number of features is reached. Using RFE with cross validation, I will allow Scikit learn to help optimise my optimal number of features that gives me the lowest negative mean squared error. Similarly, RFE will only be run on training dataset to ensure that there is no leakage of test data."
   ]
  },
  {
   "cell_type": "code",
   "execution_count": 21,
   "id": "6993e5c8",
   "metadata": {},
   "outputs": [
    {
     "data": {
      "text/plain": [
       "(2048, 168)"
      ]
     },
     "execution_count": 21,
     "metadata": {},
     "output_type": "execute_result"
    }
   ],
   "source": [
    "housing.shape"
   ]
  },
  {
   "cell_type": "code",
   "execution_count": 22,
   "id": "156dad88",
   "metadata": {},
   "outputs": [
    {
     "data": {
      "text/plain": [
       "(878, 168)"
      ]
     },
     "execution_count": 22,
     "metadata": {},
     "output_type": "execute_result"
    }
   ],
   "source": [
    "test.shape"
   ]
  },
  {
   "cell_type": "code",
   "execution_count": 23,
   "id": "f2e80df3",
   "metadata": {},
   "outputs": [],
   "source": [
    "features = [col for col in housing._get_numeric_data().columns if col !='SalePrice']\n",
    "features\n",
    "X = housing[features]\n",
    "y = housing['SalePrice']"
   ]
  },
  {
   "cell_type": "code",
   "execution_count": 24,
   "id": "5a93009b",
   "metadata": {},
   "outputs": [
    {
     "name": "stdout",
     "output_type": "stream",
     "text": [
      "Optimal number of features: 166\n"
     ]
    }
   ],
   "source": [
    "from sklearn.feature_selection import RFECV\n",
    "selector = RFECV(estimator=LinearRegression(), cv=20, scoring = 'neg_mean_squared_error')\n",
    "selector.fit(housing.loc[:, housing.columns != 'SalePrice'], housing['SalePrice'])\n",
    "print('Optimal number of features: %d'\n",
    " % selector.n_features_)"
   ]
  },
  {
   "cell_type": "markdown",
   "id": "dc0d1574",
   "metadata": {},
   "source": [
    "RFECV has optimised the features to be 165. As such, 2 weakest features are identified which should increase the negative mean squared error score."
   ]
  },
  {
   "cell_type": "code",
   "execution_count": 25,
   "id": "7e0f018d",
   "metadata": {},
   "outputs": [],
   "source": [
    "# Checking the column names which are selected\n",
    "final_column =  list(housing.loc[:, housing.columns != 'SalePrice'].columns[selector.support_])"
   ]
  },
  {
   "cell_type": "code",
   "execution_count": 26,
   "id": "53640a3e",
   "metadata": {},
   "outputs": [
    {
     "data": {
      "text/plain": [
       "['Lot Frontage',\n",
       " 'Lot Area',\n",
       " 'Lot Shape',\n",
       " 'Land Slope',\n",
       " 'Overall Qual',\n",
       " 'Overall Cond',\n",
       " 'Mas Vnr Area',\n",
       " 'Exter Cond',\n",
       " 'Bsmt Exposure',\n",
       " 'BsmtFin Type 1',\n",
       " 'BsmtFin SF 1',\n",
       " 'BsmtFin Type 2',\n",
       " 'BsmtFin SF 2',\n",
       " 'Bsmt Unf SF',\n",
       " 'Total Bsmt SF',\n",
       " 'Heating QC',\n",
       " 'Electrical',\n",
       " '1st Flr SF',\n",
       " '2nd Flr SF',\n",
       " 'Low Qual Fin SF',\n",
       " 'Gr Liv Area',\n",
       " 'Bsmt Full Bath',\n",
       " 'Bsmt Half Bath',\n",
       " 'Full Bath',\n",
       " 'Half Bath',\n",
       " 'Bedroom AbvGr',\n",
       " 'Kitchen AbvGr',\n",
       " 'TotRms AbvGrd',\n",
       " 'Fireplaces',\n",
       " 'Garage Yr Blt',\n",
       " 'Garage Area',\n",
       " 'Paved Drive',\n",
       " 'Wood Deck SF',\n",
       " 'Open Porch SF',\n",
       " 'Enclosed Porch',\n",
       " 'Screen Porch',\n",
       " 'Pool Area',\n",
       " 'Fence',\n",
       " 'Misc Val',\n",
       " 'Age',\n",
       " 'Misc Feature_Shed',\n",
       " 'Alley_Grvl',\n",
       " 'Alley_Pave',\n",
       " 'Fireplace Qu_Ex',\n",
       " 'Fireplace Qu_Fa',\n",
       " 'Fireplace Qu_Gd',\n",
       " 'Fireplace Qu_Po',\n",
       " 'Fireplace Qu_TA',\n",
       " 'Garage Type_Attchd',\n",
       " 'Garage Type_Basment',\n",
       " 'Garage Type_BuiltIn',\n",
       " 'Garage Type_Detchd',\n",
       " 'Bsmt Cond_Fa',\n",
       " 'Bsmt Cond_Gd',\n",
       " 'Bsmt Cond_TA',\n",
       " 'Bsmt Qual_Ex',\n",
       " 'Bsmt Qual_Fa',\n",
       " 'Bsmt Qual_Gd',\n",
       " 'Bsmt Qual_TA',\n",
       " 'Mas Vnr Type_BrkFace',\n",
       " 'Mas Vnr Type_Stone',\n",
       " 'Functional_Min1',\n",
       " 'Functional_Min2',\n",
       " 'Functional_Mod',\n",
       " 'Kitchen Qual_Ex',\n",
       " 'Kitchen Qual_Gd',\n",
       " 'Kitchen Qual_TA',\n",
       " 'Exter Qual_Ex',\n",
       " 'Exter Qual_Gd',\n",
       " 'Exter Qual_TA',\n",
       " 'MS Zoning_RH',\n",
       " 'MS Zoning_RL',\n",
       " 'MS Zoning_RM',\n",
       " 'Land Contour_Bnk',\n",
       " 'Land Contour_HLS',\n",
       " 'Land Contour_Low',\n",
       " 'Land Contour_Lvl',\n",
       " 'Lot Config_Corner',\n",
       " 'Lot Config_CulDSac',\n",
       " 'Lot Config_FR2',\n",
       " 'Lot Config_Inside',\n",
       " 'Neighborhood_Blmngtn',\n",
       " 'Neighborhood_BrDale',\n",
       " 'Neighborhood_BrkSide',\n",
       " 'Neighborhood_ClearCr',\n",
       " 'Neighborhood_CollgCr',\n",
       " 'Neighborhood_Crawfor',\n",
       " 'Neighborhood_Edwards',\n",
       " 'Neighborhood_Gilbert',\n",
       " 'Neighborhood_IDOTRR',\n",
       " 'Neighborhood_MeadowV',\n",
       " 'Neighborhood_Mitchel',\n",
       " 'Neighborhood_NAmes',\n",
       " 'Neighborhood_NWAmes',\n",
       " 'Neighborhood_NoRidge',\n",
       " 'Neighborhood_NridgHt',\n",
       " 'Neighborhood_OldTown',\n",
       " 'Neighborhood_SWISU',\n",
       " 'Neighborhood_Sawyer',\n",
       " 'Neighborhood_SawyerW',\n",
       " 'Neighborhood_Somerst',\n",
       " 'Neighborhood_StoneBr',\n",
       " 'Neighborhood_Timber',\n",
       " 'Condition 1_Artery',\n",
       " 'Condition 1_Feedr',\n",
       " 'Condition 1_Norm',\n",
       " 'Condition 1_PosN',\n",
       " 'Condition 1_RRAe',\n",
       " 'Condition 1_RRAn',\n",
       " 'Condition 2_Norm',\n",
       " 'Bldg Type_1Fam',\n",
       " 'Bldg Type_2fmCon',\n",
       " 'Bldg Type_Duplex',\n",
       " 'Bldg Type_Twnhs',\n",
       " 'Bldg Type_TwnhsE',\n",
       " 'House Style_1.5Fin',\n",
       " 'House Style_1Story',\n",
       " 'House Style_2Story',\n",
       " 'House Style_SFoyer',\n",
       " 'House Style_SLvl',\n",
       " 'Roof Style_Hip',\n",
       " 'Roof Matl_CompShg',\n",
       " 'Foundation_BrkTil',\n",
       " 'Foundation_CBlock',\n",
       " 'Foundation_PConc',\n",
       " 'Foundation_Slab',\n",
       " 'Heating_GasA',\n",
       " 'Heating_GasW',\n",
       " 'Central Air_Y',\n",
       " 'Garage Finish_Fin',\n",
       " 'Garage Finish_RFn',\n",
       " 'Garage Finish_Unf',\n",
       " 'Garage Qual_Fa',\n",
       " 'Garage Qual_TA',\n",
       " 'Garage Cond_Fa',\n",
       " 'Garage Cond_TA',\n",
       " 'Sale Type_COD',\n",
       " 'Sale Type_New',\n",
       " 'Sale Type_WD ',\n",
       " 'MS SubClass_30',\n",
       " 'MS SubClass_60',\n",
       " 'MS SubClass_70',\n",
       " 'MS SubClass_85',\n",
       " 'MS SubClass_120',\n",
       " 'MS SubClass_160',\n",
       " 'Mo Sold_2',\n",
       " 'Mo Sold_3',\n",
       " 'Mo Sold_4',\n",
       " 'Mo Sold_5',\n",
       " 'Mo Sold_6',\n",
       " 'Mo Sold_7',\n",
       " 'Mo Sold_8',\n",
       " 'Mo Sold_9',\n",
       " 'Mo Sold_10',\n",
       " 'Mo Sold_11',\n",
       " 'Mo Sold_12',\n",
       " 'ExtAsbShng',\n",
       " 'ExtBrkFace',\n",
       " 'ExtCemntBd',\n",
       " 'ExtHdBoard',\n",
       " 'ExtMetalSd',\n",
       " 'ExtPlywood',\n",
       " 'ExtStucco',\n",
       " 'ExtVinylSd',\n",
       " 'ExtWd Sdng',\n",
       " 'ExtWdShing']"
      ]
     },
     "execution_count": 26,
     "metadata": {},
     "output_type": "execute_result"
    }
   ],
   "source": [
    "final_column"
   ]
  },
  {
   "cell_type": "code",
   "execution_count": 27,
   "id": "eea6b0bd",
   "metadata": {},
   "outputs": [],
   "source": [
    "#Extract final concatenated df\n",
    "concat_df_final = concat_df[[c for c in concat_df.columns if c in final_column]]"
   ]
  },
  {
   "cell_type": "code",
   "execution_count": 28,
   "id": "ad2dde9b",
   "metadata": {},
   "outputs": [],
   "source": [
    "#Add SalePrice back\n",
    "concat_df_final.insert(0,'SalePrice',concat_df['SalePrice'])"
   ]
  },
  {
   "cell_type": "code",
   "execution_count": 29,
   "id": "012d8297",
   "metadata": {},
   "outputs": [
    {
     "data": {
      "text/plain": [
       "(2926, 167)"
      ]
     },
     "execution_count": 29,
     "metadata": {},
     "output_type": "execute_result"
    }
   ],
   "source": [
    "concat_df_final.shape"
   ]
  },
  {
   "cell_type": "code",
   "execution_count": 30,
   "id": "50d1c68b",
   "metadata": {},
   "outputs": [],
   "source": [
    "#Final splitting of full housing training data and test data from concatenated dataframe\n",
    "housing = concat_df_final.iloc[:2048]\n",
    "test = concat_df_final.iloc[2048:]"
   ]
  },
  {
   "cell_type": "markdown",
   "id": "166718e5",
   "metadata": {},
   "source": [
    "### Final checks to ensure same number of columns"
   ]
  },
  {
   "cell_type": "code",
   "execution_count": 31,
   "id": "5a9477e1",
   "metadata": {},
   "outputs": [
    {
     "data": {
      "text/plain": [
       "[]"
      ]
     },
     "execution_count": 31,
     "metadata": {},
     "output_type": "execute_result"
    }
   ],
   "source": [
    "# Checking for features in concat_dfing but not in test dataset\n",
    "[x for x in housing if x not in test]"
   ]
  },
  {
   "cell_type": "code",
   "execution_count": 32,
   "id": "b650fe3e",
   "metadata": {},
   "outputs": [
    {
     "data": {
      "text/plain": [
       "[]"
      ]
     },
     "execution_count": 32,
     "metadata": {},
     "output_type": "execute_result"
    }
   ],
   "source": [
    "# Checking for features in test dataset but not in housing dataset\n",
    "[x for x in test if x not in housing]"
   ]
  },
  {
   "cell_type": "code",
   "execution_count": 33,
   "id": "f331324a",
   "metadata": {},
   "outputs": [
    {
     "data": {
      "text/plain": [
       "(2048, 167)"
      ]
     },
     "execution_count": 33,
     "metadata": {},
     "output_type": "execute_result"
    }
   ],
   "source": [
    "housing.shape"
   ]
  },
  {
   "cell_type": "code",
   "execution_count": 34,
   "id": "2458f86b",
   "metadata": {},
   "outputs": [
    {
     "data": {
      "text/plain": [
       "(878, 167)"
      ]
     },
     "execution_count": 34,
     "metadata": {},
     "output_type": "execute_result"
    }
   ],
   "source": [
    "test.shape"
   ]
  },
  {
   "cell_type": "markdown",
   "id": "0bad927d",
   "metadata": {},
   "source": [
    "### Saving processed test and housing dataset to be used in Part 4"
   ]
  },
  {
   "cell_type": "code",
   "execution_count": 35,
   "id": "31e9773e",
   "metadata": {},
   "outputs": [],
   "source": [
    "# Save cleaned test dataset\n",
    "test.to_csv('./datasets/test_final.csv', index=False)"
   ]
  },
  {
   "cell_type": "code",
   "execution_count": 36,
   "id": "b0fcc8eb",
   "metadata": {},
   "outputs": [],
   "source": [
    "# Save cleaned housing training dataset\n",
    "housing.to_csv('./datasets/housing_final.csv', index=False)"
   ]
  },
  {
   "cell_type": "code",
   "execution_count": null,
   "id": "f3881e27",
   "metadata": {},
   "outputs": [],
   "source": []
  }
 ],
 "metadata": {
  "kernelspec": {
   "display_name": "Python 3 (ipykernel)",
   "language": "python",
   "name": "python3"
  },
  "language_info": {
   "codemirror_mode": {
    "name": "ipython",
    "version": 3
   },
   "file_extension": ".py",
   "mimetype": "text/x-python",
   "name": "python",
   "nbconvert_exporter": "python",
   "pygments_lexer": "ipython3",
   "version": "3.9.7"
  }
 },
 "nbformat": 4,
 "nbformat_minor": 5
}
