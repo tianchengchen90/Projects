{
 "cells": [
  {
   "cell_type": "markdown",
   "id": "672a2d0b",
   "metadata": {},
   "source": [
    "# Project 2 Part 4: Linear Regression Model and Insight"
   ]
  },
  {
   "cell_type": "code",
   "execution_count": 1,
   "id": "d4a1895e",
   "metadata": {},
   "outputs": [],
   "source": [
    "# Import libraries\n",
    "import pandas as pd\n",
    "import numpy as np\n",
    "import matplotlib.pyplot as plt\n",
    "import seaborn as sns\n",
    "%matplotlib inline"
   ]
  },
  {
   "cell_type": "code",
   "execution_count": 2,
   "id": "99f4d4da",
   "metadata": {},
   "outputs": [],
   "source": [
    "from sklearn.linear_model import LinearRegression, Lasso, LassoCV, Ridge, RidgeCV\n",
    "from sklearn.model_selection import train_test_split, cross_val_score\n",
    "from sklearn.preprocessing import StandardScaler\n",
    "from sklearn.metrics import mean_squared_error"
   ]
  },
  {
   "cell_type": "code",
   "execution_count": 3,
   "id": "4fd2e088",
   "metadata": {},
   "outputs": [],
   "source": [
    "# Import cleaned train dataset\n",
    "housing = pd.read_csv('./datasets/housing_final.csv')"
   ]
  },
  {
   "cell_type": "code",
   "execution_count": 4,
   "id": "b7d56d14",
   "metadata": {},
   "outputs": [],
   "source": [
    "# Import cleaned test dataset with ID separately saved\n",
    "test_ids = pd.read_csv('./datasets/test.csv')['Id']\n",
    "test = pd.read_csv('./datasets/test_final.csv')"
   ]
  },
  {
   "cell_type": "code",
   "execution_count": 5,
   "id": "5d7b5808",
   "metadata": {},
   "outputs": [],
   "source": [
    "# set option to display max columns always\n",
    "pd.set_option('display.max_columns', None)\n",
    "pd.set_option('display.max_rows', None)"
   ]
  },
  {
   "cell_type": "markdown",
   "id": "8f281bb4",
   "metadata": {},
   "source": [
    "## Model Preparation"
   ]
  },
  {
   "cell_type": "markdown",
   "id": "2c8c5c17",
   "metadata": {},
   "source": [
    "### Standard scaler and train test split"
   ]
  },
  {
   "cell_type": "code",
   "execution_count": 6,
   "id": "e68e07c8",
   "metadata": {},
   "outputs": [],
   "source": [
    "# Make features X all columns other than SalePrice, make y SalePrice  \n",
    "features = [col for col in housing._get_numeric_data().columns if col !='SalePrice']\n",
    "features\n",
    "X = housing[features]\n",
    "y = housing['SalePrice']\n",
    "indices = X.index.values"
   ]
  },
  {
   "cell_type": "code",
   "execution_count": 7,
   "id": "c2b7d165",
   "metadata": {},
   "outputs": [],
   "source": [
    "#Train test split the train dataset\n",
    "X_train, X_holdout, y_train, y_holdout, indices_train, indices_holdout = train_test_split(\n",
    "    X,\n",
    "    y,\n",
    "    indices,\n",
    "    test_size=0.2,\n",
    "    random_state=6)"
   ]
  },
  {
   "cell_type": "code",
   "execution_count": 8,
   "id": "3f6c6013",
   "metadata": {},
   "outputs": [],
   "source": [
    "#Run standard scaler\n",
    "ss = StandardScaler()\n",
    "ss.fit(X_train)\n",
    "\n",
    "X_train_scaled = ss.transform(X_train)\n",
    "X_holdout_scaled = ss.transform(X_holdout)"
   ]
  },
  {
   "cell_type": "markdown",
   "id": "fdac8001",
   "metadata": {},
   "source": [
    "## Instantiate models"
   ]
  },
  {
   "cell_type": "markdown",
   "id": "11ff7367",
   "metadata": {},
   "source": [
    "I will be trying out different models to find out which gives me the lowest score possible."
   ]
  },
  {
   "cell_type": "code",
   "execution_count": 9,
   "id": "76b9c287",
   "metadata": {},
   "outputs": [],
   "source": [
    "lr = LinearRegression()"
   ]
  },
  {
   "cell_type": "code",
   "execution_count": 10,
   "id": "76c4812e",
   "metadata": {},
   "outputs": [],
   "source": [
    "lasso = LassoCV(n_alphas=300)"
   ]
  },
  {
   "cell_type": "code",
   "execution_count": 11,
   "id": "f157c34c",
   "metadata": {},
   "outputs": [],
   "source": [
    "ridge = RidgeCV(alphas=np.logspace(0, 5, 100))"
   ]
  },
  {
   "cell_type": "markdown",
   "id": "92306e3e",
   "metadata": {},
   "source": [
    "## Model Evaluation"
   ]
  },
  {
   "cell_type": "markdown",
   "id": "92098342",
   "metadata": {},
   "source": [
    "### Linear Regression model"
   ]
  },
  {
   "cell_type": "code",
   "execution_count": 12,
   "id": "b51418c9",
   "metadata": {},
   "outputs": [],
   "source": [
    "lr_cv_score = cross_val_score(lr,\n",
    "                X_train,\n",
    "                y_train,\n",
    "                cv=10, \n",
    "                scoring='neg_mean_squared_error'\n",
    ").mean()"
   ]
  },
  {
   "cell_type": "code",
   "execution_count": 13,
   "id": "57fd90c4",
   "metadata": {},
   "outputs": [
    {
     "name": "stdout",
     "output_type": "stream",
     "text": [
      "23095.438975559267\n"
     ]
    }
   ],
   "source": [
    "lr_cv_rmse=np.sqrt(-lr_cv_score)\n",
    "print(lr_cv_rmse)"
   ]
  },
  {
   "cell_type": "code",
   "execution_count": 14,
   "id": "4844176e",
   "metadata": {},
   "outputs": [
    {
     "data": {
      "text/plain": [
       "LinearRegression()"
      ]
     },
     "execution_count": 14,
     "metadata": {},
     "output_type": "execute_result"
    }
   ],
   "source": [
    "# Refit LR model after cross val\n",
    "lr.fit(X_train, y_train)"
   ]
  },
  {
   "cell_type": "code",
   "execution_count": 15,
   "id": "573c7ce7",
   "metadata": {},
   "outputs": [],
   "source": [
    "lr_holdout_rmse = mean_squared_error(\n",
    "    y_holdout, \n",
    "    lr.predict(X_holdout),\n",
    "    squared = False\n",
    ")"
   ]
  },
  {
   "cell_type": "code",
   "execution_count": 16,
   "id": "da1c8336",
   "metadata": {},
   "outputs": [],
   "source": [
    "lr_estimate_test_rmse = mean_squared_error(\n",
    "    y_train, \n",
    "    lr.predict(X_train),\n",
    "    squared = False\n",
    ")"
   ]
  },
  {
   "cell_type": "code",
   "execution_count": 17,
   "id": "9ead11e0",
   "metadata": {},
   "outputs": [
    {
     "name": "stdout",
     "output_type": "stream",
     "text": [
      "Linear Regression Model RMSE (Train dataset): 23095.438975559267\n",
      "Linear Regression Model RMSE (Holdout dataset): 21067.49100804696\n",
      "Linear Regression Model RMSE (Estimate on unseen dataset): 20194.786141891695\n"
     ]
    }
   ],
   "source": [
    "print(\"Linear Regression Model RMSE (Train dataset): \" +  str(lr_cv_rmse))\n",
    "print(\"Linear Regression Model RMSE (Holdout dataset): \" +  str(lr_holdout_rmse))\n",
    "print(\"Linear Regression Model RMSE (Estimate on unseen dataset): \" + str(lr_estimate_test_rmse)) "
   ]
  },
  {
   "cell_type": "markdown",
   "id": "2f5f466a",
   "metadata": {},
   "source": [
    "Evaluation: The linear regression RMSE across the board are fairly consistent, and not showing any red flags of overfitting."
   ]
  },
  {
   "cell_type": "markdown",
   "id": "bbbb857f",
   "metadata": {},
   "source": [
    "### Ridge Regression model"
   ]
  },
  {
   "cell_type": "code",
   "execution_count": 18,
   "id": "f3b207a8",
   "metadata": {},
   "outputs": [
    {
     "data": {
      "text/plain": [
       "RidgeCV(alphas=array([1.00000000e+00, 1.12332403e+00, 1.26185688e+00, 1.41747416e+00,\n",
       "       1.59228279e+00, 1.78864953e+00, 2.00923300e+00, 2.25701972e+00,\n",
       "       2.53536449e+00, 2.84803587e+00, 3.19926714e+00, 3.59381366e+00,\n",
       "       4.03701726e+00, 4.53487851e+00, 5.09413801e+00, 5.72236766e+00,\n",
       "       6.42807312e+00, 7.22080902e+00, 8.11130831e+00, 9.11162756e+00,\n",
       "       1.02353102e+01, 1.14975700e+0...\n",
       "       6.89261210e+03, 7.74263683e+03, 8.69749003e+03, 9.77009957e+03,\n",
       "       1.09749877e+04, 1.23284674e+04, 1.38488637e+04, 1.55567614e+04,\n",
       "       1.74752840e+04, 1.96304065e+04, 2.20513074e+04, 2.47707636e+04,\n",
       "       2.78255940e+04, 3.12571585e+04, 3.51119173e+04, 3.94420606e+04,\n",
       "       4.43062146e+04, 4.97702356e+04, 5.59081018e+04, 6.28029144e+04,\n",
       "       7.05480231e+04, 7.92482898e+04, 8.90215085e+04, 1.00000000e+05]))"
      ]
     },
     "execution_count": 18,
     "metadata": {},
     "output_type": "execute_result"
    }
   ],
   "source": [
    "ridge.fit(X_train_scaled, y_train)"
   ]
  },
  {
   "cell_type": "code",
   "execution_count": 19,
   "id": "a4853f23",
   "metadata": {},
   "outputs": [
    {
     "data": {
      "text/plain": [
       "65.79332246575679"
      ]
     },
     "execution_count": 19,
     "metadata": {},
     "output_type": "execute_result"
    }
   ],
   "source": [
    "ridge.alpha_"
   ]
  },
  {
   "cell_type": "markdown",
   "id": "5c3628bf",
   "metadata": {},
   "source": [
    "As the alpha is not at edges, I will not test further. I will imput the alpha above as the best alpha for my ridge model."
   ]
  },
  {
   "cell_type": "code",
   "execution_count": 20,
   "id": "dcbedfd5",
   "metadata": {},
   "outputs": [],
   "source": [
    "ridge_best= Ridge(alpha=65.79332246575679)"
   ]
  },
  {
   "cell_type": "code",
   "execution_count": 21,
   "id": "3439c5dc",
   "metadata": {},
   "outputs": [
    {
     "data": {
      "text/plain": [
       "Ridge(alpha=65.79332246575679)"
      ]
     },
     "execution_count": 21,
     "metadata": {},
     "output_type": "execute_result"
    }
   ],
   "source": [
    "ridge_best.fit(X_train_scaled, y_train)"
   ]
  },
  {
   "cell_type": "code",
   "execution_count": 22,
   "id": "4e20a3c5",
   "metadata": {},
   "outputs": [],
   "source": [
    "ridge_cv_score = cross_val_score(ridge_best,\n",
    "               X_train_scaled, \n",
    "               y_train, \n",
    "               cv=10,\n",
    "               scoring='neg_mean_squared_error').mean()"
   ]
  },
  {
   "cell_type": "code",
   "execution_count": 23,
   "id": "69b71784",
   "metadata": {},
   "outputs": [],
   "source": [
    "ridge_cv_rmse = np.sqrt(-ridge_cv_score)"
   ]
  },
  {
   "cell_type": "code",
   "execution_count": 24,
   "id": "0bbd1cd3",
   "metadata": {},
   "outputs": [
    {
     "data": {
      "text/plain": [
       "Ridge(alpha=65.79332246575679)"
      ]
     },
     "execution_count": 24,
     "metadata": {},
     "output_type": "execute_result"
    }
   ],
   "source": [
    "# Refit ridge with X train scaled and y train data after cross val testing\n",
    "ridge_best.fit(X_train_scaled, y_train)"
   ]
  },
  {
   "cell_type": "code",
   "execution_count": 25,
   "id": "10b21e8d",
   "metadata": {},
   "outputs": [],
   "source": [
    "ridge_holdout_rmse = mean_squared_error(\n",
    "    y_holdout, \n",
    "    ridge_best.predict(X_holdout_scaled),\n",
    "    squared=False\n",
    ")"
   ]
  },
  {
   "cell_type": "code",
   "execution_count": 26,
   "id": "77f558f3",
   "metadata": {},
   "outputs": [],
   "source": [
    "ridge_estimate_test_rmse = mean_squared_error(\n",
    "    y_train, \n",
    "    ridge_best.predict(X_train_scaled),\n",
    "    squared=False\n",
    ")"
   ]
  },
  {
   "cell_type": "code",
   "execution_count": 27,
   "id": "e176a60f",
   "metadata": {},
   "outputs": [
    {
     "name": "stdout",
     "output_type": "stream",
     "text": [
      "Ridge Regression Model RMSE (Train dataset): 22881.48644195759\n",
      "Ridge Regression Model RMSE (Holdout dataset): 21131.82813001654\n",
      "Ridge Regression Model RMSE (Estimate on unseen dataset): 20447.038896617087\n"
     ]
    }
   ],
   "source": [
    "print(\"Ridge Regression Model RMSE (Train dataset): \" +  str(ridge_cv_rmse))\n",
    "print(\"Ridge Regression Model RMSE (Holdout dataset): \" +  str(ridge_holdout_rmse))\n",
    "print(\"Ridge Regression Model RMSE (Estimate on unseen dataset): \" + str(ridge_estimate_test_rmse)) "
   ]
  },
  {
   "cell_type": "markdown",
   "id": "f379a16a",
   "metadata": {},
   "source": [
    "Evaluation: The ridge regression RMSE across the board are fairly consistent, and not showing any red flags of overfitting."
   ]
  },
  {
   "cell_type": "markdown",
   "id": "02b8768d",
   "metadata": {},
   "source": [
    "### Lasso Regression model"
   ]
  },
  {
   "cell_type": "code",
   "execution_count": 28,
   "id": "9a35bfac",
   "metadata": {},
   "outputs": [
    {
     "data": {
      "text/plain": [
       "LassoCV(n_alphas=300)"
      ]
     },
     "execution_count": 28,
     "metadata": {},
     "output_type": "execute_result"
    }
   ],
   "source": [
    "lasso.fit(X_train_scaled, y_train)"
   ]
  },
  {
   "cell_type": "code",
   "execution_count": 29,
   "id": "1df5588c",
   "metadata": {},
   "outputs": [
    {
     "data": {
      "text/plain": [
       "238.00161419294923"
      ]
     },
     "execution_count": 29,
     "metadata": {},
     "output_type": "execute_result"
    }
   ],
   "source": [
    "lasso.alpha_"
   ]
  },
  {
   "cell_type": "markdown",
   "id": "e92eb6ce",
   "metadata": {},
   "source": [
    "As the alpha is not at the edges, I will accept the alpha as my best alpha and not test further."
   ]
  },
  {
   "cell_type": "code",
   "execution_count": 30,
   "id": "b30d263f",
   "metadata": {},
   "outputs": [],
   "source": [
    "lasso_best = Lasso(alpha = 232.56612553812673)"
   ]
  },
  {
   "cell_type": "code",
   "execution_count": 31,
   "id": "1b098af6",
   "metadata": {},
   "outputs": [],
   "source": [
    "lasso_cv_score = cross_val_score(lasso_best,\n",
    "               X_train_scaled, \n",
    "               y_train, \n",
    "               cv=10,\n",
    "               scoring='neg_mean_squared_error').mean()"
   ]
  },
  {
   "cell_type": "code",
   "execution_count": 32,
   "id": "58174574",
   "metadata": {},
   "outputs": [],
   "source": [
    "lasso_cv_rmse = np.sqrt(-lasso_cv_score)"
   ]
  },
  {
   "cell_type": "code",
   "execution_count": 33,
   "id": "383852e1",
   "metadata": {},
   "outputs": [
    {
     "data": {
      "text/plain": [
       "Lasso(alpha=232.56612553812673)"
      ]
     },
     "execution_count": 33,
     "metadata": {},
     "output_type": "execute_result"
    }
   ],
   "source": [
    "# Refit lasso model with X train scaled and y train dataset after cross val\n",
    "lasso_best.fit(X_train_scaled, y_train)"
   ]
  },
  {
   "cell_type": "code",
   "execution_count": 34,
   "id": "4a00d896",
   "metadata": {},
   "outputs": [],
   "source": [
    "lasso_holdout_rmse = mean_squared_error(\n",
    "    y_holdout, \n",
    "    lasso_best.predict(X_holdout_scaled),\n",
    "    squared=False\n",
    ")"
   ]
  },
  {
   "cell_type": "code",
   "execution_count": 35,
   "id": "f3098f82",
   "metadata": {},
   "outputs": [],
   "source": [
    "lasso_estimate_test_rmse = mean_squared_error(\n",
    "    y_train, \n",
    "    lasso_best.predict(X_train_scaled),\n",
    "    squared=False\n",
    ")"
   ]
  },
  {
   "cell_type": "code",
   "execution_count": 36,
   "id": "b6ee9ad4",
   "metadata": {},
   "outputs": [
    {
     "name": "stdout",
     "output_type": "stream",
     "text": [
      "Lasso Regression Model RMSE (Train dataset): 22874.3947835727\n",
      "Lasso Regression Model RMSE (Holdout dataset): 21041.212235405135\n",
      "Lasso Regression Model RMSE (Estimate on unseen dataset): 20750.14256553805\n"
     ]
    }
   ],
   "source": [
    "print(\"Lasso Regression Model RMSE (Train dataset): \" +  str(lasso_cv_rmse))\n",
    "print(\"Lasso Regression Model RMSE (Holdout dataset): \" +  str(lasso_holdout_rmse))\n",
    "print(\"Lasso Regression Model RMSE (Estimate on unseen dataset): \" + str(lasso_estimate_test_rmse)) "
   ]
  },
  {
   "cell_type": "markdown",
   "id": "47b26b89",
   "metadata": {},
   "source": [
    "Evaluation: The ridge regression RMSE across the board are fairly consistent, and not showing any red flags of overfitting. Lasso performs the best on train and holdout datasets in RMSE. As such, it is the best performing model that I will choose."
   ]
  },
  {
   "cell_type": "code",
   "execution_count": 37,
   "id": "fe57e5c1",
   "metadata": {},
   "outputs": [
    {
     "data": {
      "text/plain": [
       "119"
      ]
     },
     "execution_count": 37,
     "metadata": {},
     "output_type": "execute_result"
    }
   ],
   "source": [
    "np.count_nonzero(lasso.coef_)"
   ]
  },
  {
   "cell_type": "markdown",
   "id": "f41849f9",
   "metadata": {},
   "source": [
    "Noted that Lasso further zerorises a few of the coefficients, leaving only 119 features. This is helpful as another round of feature engineering."
   ]
  },
  {
   "cell_type": "markdown",
   "id": "697af1db",
   "metadata": {},
   "source": [
    "## Model choice"
   ]
  },
  {
   "cell_type": "markdown",
   "id": "8cb5f63b",
   "metadata": {},
   "source": [
    "After comparing all RMSE of Linear Regression, Ridge and Lasso models scores, the results show that the performance of all three models are all very competitive. In particular, Lasso gave the lowest RMSE for train dataset cross validation, and holdout dataset. This makes the Lasso the best model for prediction amongst the other models, and it suggests that 98 features are truly important."
   ]
  },
  {
   "cell_type": "markdown",
   "id": "da0bdbdc",
   "metadata": {},
   "source": [
    "## Error analysis"
   ]
  },
  {
   "cell_type": "code",
   "execution_count": 38,
   "id": "347d89c7",
   "metadata": {
    "scrolled": true
   },
   "outputs": [
    {
     "data": {
      "image/png": "[encoded data removed]",
      "text/plain": [
       "<Figure size 432x288 with 1 Axes>"
      ]
     },
     "metadata": {
      "needs_background": "light"
     },
     "output_type": "display_data"
    }
   ],
   "source": [
    "# Plot residual plot for train data residual\n",
    "residuals_train = y_train - lasso_best.predict(X_train_scaled)\n",
    "plt.scatter(lasso_best.predict(X_train_scaled), residuals_train);\n",
    "plt.xlabel('Predicted Sale Price', fontdict={'fontsize':14})\n",
    "plt.ylabel('Residuals', fontdict={'fontsize':14})\n",
    "plt.title('Predictions vs Residuals from Lasso Regression', fontdict={'fontsize':16}, pad=12)\n",
    "plt.axhline(y=0, c='red');"
   ]
  },
  {
   "cell_type": "markdown",
   "id": "a8c650e2",
   "metadata": {},
   "source": [
    "Residuals seem well and evenly spreaded around 0.I am inclined to believe that whatever is left behind is irreducible error."
   ]
  },
  {
   "cell_type": "code",
   "execution_count": 39,
   "id": "70e0c42f",
   "metadata": {},
   "outputs": [
    {
     "data": {
      "image/png": "[encoded data removed]",
      "text/plain": [
       "<Figure size 432x288 with 1 Axes>"
      ]
     },
     "metadata": {
      "needs_background": "light"
     },
     "output_type": "display_data"
    }
   ],
   "source": [
    "# Plot residual plot for holdout data residual\n",
    "residuals_holdout = y_holdout - lasso_best.predict(X_holdout_scaled)\n",
    "plt.scatter(lasso_best.predict(X_holdout_scaled), residuals_holdout);\n",
    "plt.xlabel('Predicted Sale Price', fontdict={'fontsize':14})\n",
    "plt.ylabel('Residuals', fontdict={'fontsize':14})\n",
    "plt.title('Predictions vs Residuals from Lasso Regression', fontdict={'fontsize':16}, pad=12)\n",
    "plt.axhline(y=0, c='red');"
   ]
  },
  {
   "cell_type": "markdown",
   "id": "1987c960",
   "metadata": {},
   "source": [
    "On holdout data, the residuals are evenly spreaded. I would believe that whatever is left behind is irreducible error."
   ]
  },
  {
   "cell_type": "code",
   "execution_count": 40,
   "id": "34e67ac6",
   "metadata": {},
   "outputs": [
    {
     "data": {
      "image/png": "[encoded data removed]",
      "text/plain": [
       "<Figure size 864x720 with 1 Axes>"
      ]
     },
     "metadata": {
      "needs_background": "light"
     },
     "output_type": "display_data"
    }
   ],
   "source": [
    "# Create dataframe of features, coefficients and absolute coefficients\n",
    "lasso_df = pd.DataFrame(columns=['Feature', 'Coef', 'Abs Coef'])\n",
    "lasso_df['Abs Coef'] = abs(lasso.coef_)\n",
    "lasso_df['Coef'] = lasso.coef_\n",
    "lasso_df['Feature'] = features\n",
    "\n",
    "# Plot top 30 features (sorted by absolute regression coefficient)\n",
    "plt.figure(figsize=(12,10))\n",
    "data = lasso_df.sort_values(by='Abs Coef', ascending=False).head(30)[['Feature', 'Coef']] \\\n",
    "               .sort_values(by='Coef', ascending=False).reset_index(drop=True)\n",
    "    \n",
    "ax = sns.barplot(data=data, y='Feature', x='Coef', orient='h', palette='Spectral')\n",
    "ax.set_ylabel('')\n",
    "ax.set_yticklabels(data['Feature'], size=11)\n",
    "ax.set_xlabel('Lasso Regression Coefficient', fontsize=14)\n",
    "plt.title('Top 30 Housing Features', fontsize=20);"
   ]
  },
  {
   "cell_type": "markdown",
   "id": "850a49e2",
   "metadata": {},
   "source": [
    "The top graph shows the most important features in determining Sale Price for property. It is within expectations, that quality, prime location, size, condition and age would be key features that would impact the Sale Price the most."
   ]
  },
  {
   "cell_type": "markdown",
   "id": "889dae80",
   "metadata": {},
   "source": [
    "## Future studies"
   ]
  },
  {
   "cell_type": "markdown",
   "id": "d02c0455",
   "metadata": {},
   "source": [
    "### Other important features can be added\n",
    "While doing up the residual plot, and analysing the larger residual sized properties, it made me realise that my model may not be able to capture property prices severely over or undervalued. For example, some properties may not be sold at arms length as they may be sold to relatives either at a major premium or discount. Others may be sold due to mortgage foreclosure.\n",
    "\n",
    "Without these features, it becomes hard to accurately predict prices of such property, and treating them as outliers would affect future prediction of such property prices.\n",
    "\n",
    "### More interaction features can be added\n",
    "Interaction features and polynomial features can be further added to enable future increases to model performance. There would however be a trade off, as management may not understand what these polynomial features mean, and create confusion for my future colleagues.\n",
    "\n",
    "### Alternative feature engineering tools can be looked into\n",
    "There are many other ways that feature engineering can be done, and there are possibly other ways to arrive at similar results that are simpler and faster as a model.\n",
    "\n",
    "### Data to be updated\n",
    "The current model stands based on historical data. This data needs to be further updated, so that it remains relevant and allows the model to learn the right relation and features.\n"
   ]
  },
  {
   "cell_type": "markdown",
   "id": "324c525b",
   "metadata": {},
   "source": [
    "## Recommendations"
   ]
  },
  {
   "cell_type": "markdown",
   "id": "e5deb0b4",
   "metadata": {},
   "source": [
    "Property owning funds in Ames can do the following:\n",
    "\n",
    "1) Have a keen focus on properties belonging in NrigeHt, StoneBr, NoRidge, Somerset and Crawford\n",
    "\n",
    "2) They have the choice to renovate features to Excellent condition that home buyers may be willing to pay more for, such as quality of Kitchen, basement and overall condition.\n",
    "\n",
    "3) Improving quality of features to excellent can also significantly improve the price of the property.\n",
    "\n",
    "Ultimately, cost benefit analysis should be done by the fund, to see if the benefit of renovating outweighs the cost of renovation."
   ]
  },
  {
   "cell_type": "markdown",
   "id": "8fc72fab",
   "metadata": {},
   "source": [
    "## Fitting Lasso model with full housing data"
   ]
  },
  {
   "cell_type": "code",
   "execution_count": 41,
   "id": "ed33da1b",
   "metadata": {},
   "outputs": [
    {
     "data": {
      "text/plain": [
       "Lasso(alpha=232.56612553812673)"
      ]
     },
     "execution_count": 41,
     "metadata": {},
     "output_type": "execute_result"
    }
   ],
   "source": [
    "# Refit model on entire training dataset, X is on entire housing dataset already, hyperparameters remain constant\n",
    "X_scaled = ss.fit_transform(X)\n",
    "lasso_best.fit(X_scaled, y)"
   ]
  },
  {
   "cell_type": "code",
   "execution_count": 42,
   "id": "2ffb3586",
   "metadata": {},
   "outputs": [
    {
     "data": {
      "text/plain": [
       "(2048, 166)"
      ]
     },
     "execution_count": 42,
     "metadata": {},
     "output_type": "execute_result"
    }
   ],
   "source": [
    "X.shape"
   ]
  },
  {
   "cell_type": "code",
   "execution_count": 43,
   "id": "50b56d1b",
   "metadata": {},
   "outputs": [
    {
     "data": {
      "text/plain": [
       "(2048,)"
      ]
     },
     "execution_count": 43,
     "metadata": {},
     "output_type": "execute_result"
    }
   ],
   "source": [
    "y.shape"
   ]
  },
  {
   "cell_type": "code",
   "execution_count": 44,
   "id": "4c95c7a4",
   "metadata": {},
   "outputs": [],
   "source": [
    "# Drop SalesPrice from test dataset which was added due to concatenation\n",
    "test = test.drop(['SalePrice'], axis=1)"
   ]
  },
  {
   "cell_type": "code",
   "execution_count": 45,
   "id": "820b684a",
   "metadata": {},
   "outputs": [
    {
     "data": {
      "text/plain": [
       "(878, 166)"
      ]
     },
     "execution_count": 45,
     "metadata": {},
     "output_type": "execute_result"
    }
   ],
   "source": [
    "test.shape"
   ]
  },
  {
   "cell_type": "code",
   "execution_count": 46,
   "id": "2155dfcf",
   "metadata": {},
   "outputs": [],
   "source": [
    "# Scale test dataset\n",
    "final_test_scaled = ss.transform(test)"
   ]
  },
  {
   "cell_type": "code",
   "execution_count": 47,
   "id": "9cbb2cc5",
   "metadata": {},
   "outputs": [
    {
     "data": {
      "text/plain": [
       "Index(['Lot Frontage', 'Lot Area', 'Lot Shape', 'Land Slope', 'Overall Qual',\n",
       "       'Overall Cond', 'Mas Vnr Area', 'Exter Cond', 'Bsmt Exposure',\n",
       "       'BsmtFin Type 1',\n",
       "       ...\n",
       "       'ExtAsbShng', 'ExtBrkFace', 'ExtCemntBd', 'ExtHdBoard', 'ExtMetalSd',\n",
       "       'ExtPlywood', 'ExtStucco', 'ExtVinylSd', 'ExtWd Sdng', 'ExtWdShing'],\n",
       "      dtype='object', length=166)"
      ]
     },
     "execution_count": 47,
     "metadata": {},
     "output_type": "execute_result"
    }
   ],
   "source": [
    "test.columns"
   ]
  },
  {
   "cell_type": "code",
   "execution_count": 48,
   "id": "c2efa24c",
   "metadata": {},
   "outputs": [],
   "source": [
    "final_predictions = lasso_best.predict(final_test_scaled)"
   ]
  },
  {
   "cell_type": "code",
   "execution_count": 49,
   "id": "a96171cb",
   "metadata": {},
   "outputs": [],
   "source": [
    "test['SalePrice'] = final_predictions"
   ]
  },
  {
   "cell_type": "code",
   "execution_count": 50,
   "id": "93121ee0",
   "metadata": {},
   "outputs": [],
   "source": [
    "test['Id'] = test_ids"
   ]
  },
  {
   "cell_type": "code",
   "execution_count": 52,
   "id": "cc0e0c02",
   "metadata": {},
   "outputs": [
    {
     "data": {
      "text/html": [
       "<div>\n",
       "<style scoped>\n",
       "    .dataframe tbody tr th:only-of-type {\n",
       "        vertical-align: middle;\n",
       "    }\n",
       "\n",
       "    .dataframe tbody tr th {\n",
       "        vertical-align: top;\n",
       "    }\n",
       "\n",
       "    .dataframe thead th {\n",
       "        text-align: right;\n",
       "    }\n",
       "</style>\n",
       "<table border=\"1\" class=\"dataframe\">\n",
       "  <thead>\n",
       "    <tr style=\"text-align: right;\">\n",
       "      <th></th>\n",
       "      <th>Id</th>\n",
       "      <th>SalePrice</th>\n",
       "    </tr>\n",
       "  </thead>\n",
       "  <tbody>\n",
       "    <tr>\n",
       "      <th>0</th>\n",
       "      <td>2658</td>\n",
       "      <td>156086.033694</td>\n",
       "    </tr>\n",
       "    <tr>\n",
       "      <th>1</th>\n",
       "      <td>2718</td>\n",
       "      <td>151934.097721</td>\n",
       "    </tr>\n",
       "    <tr>\n",
       "      <th>2</th>\n",
       "      <td>2414</td>\n",
       "      <td>214141.401544</td>\n",
       "    </tr>\n",
       "    <tr>\n",
       "      <th>3</th>\n",
       "      <td>1989</td>\n",
       "      <td>106799.005243</td>\n",
       "    </tr>\n",
       "    <tr>\n",
       "      <th>4</th>\n",
       "      <td>625</td>\n",
       "      <td>175359.693083</td>\n",
       "    </tr>\n",
       "  </tbody>\n",
       "</table>\n",
       "</div>"
      ],
      "text/plain": [
       "     Id      SalePrice\n",
       "0  2658  156086.033694\n",
       "1  2718  151934.097721\n",
       "2  2414  214141.401544\n",
       "3  1989  106799.005243\n",
       "4   625  175359.693083"
      ]
     },
     "execution_count": 52,
     "metadata": {},
     "output_type": "execute_result"
    }
   ],
   "source": [
    "test['Id'] = test_ids\n",
    "# Create csv for submission\n",
    "submission = test[['Id','SalePrice']]\n",
    "submission.to_csv('./datasets/kaggle_submission.csv', index=False)\n",
    "\n",
    "#View submission\n",
    "submission.head()"
   ]
  }
 ],
 "metadata": {
  "kernelspec": {
   "display_name": "Python 3 (ipykernel)",
   "language": "python",
   "name": "python3"
  },
  "language_info": {
   "codemirror_mode": {
    "name": "ipython",
    "version": 3
   },
   "file_extension": ".py",
   "mimetype": "text/x-python",
   "name": "python",
   "nbconvert_exporter": "python",
   "pygments_lexer": "ipython3",
   "version": "3.9.7"
  }
 },
 "nbformat": 4,
 "nbformat_minor": 5
}
