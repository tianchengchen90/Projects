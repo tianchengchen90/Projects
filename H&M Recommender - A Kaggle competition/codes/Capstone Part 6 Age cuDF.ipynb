{
 "cells": [
  {
   "cell_type": "markdown",
   "id": "9d644d56",
   "metadata": {},
   "source": [
    "## Capstone Part 6 - Age model"
   ]
  },
  {
   "cell_type": "code",
   "execution_count": null,
   "id": "9724d10c",
   "metadata": {
    "id": "9724d10c"
   },
   "outputs": [],
   "source": [
    "# Reference made from to build model:\n",
    "# https://www.kaggle.com/code/hechtjp/h-m-eda-rule-base-by-customer-age"
   ]
  },
  {
   "cell_type": "markdown",
   "id": "2347b6f1",
   "metadata": {},
   "source": [
    "The objective of this notebook is to create an alternative model to LGBM and base model in parts 2 and 4. \n",
    "\n",
    "This notebook was run on Google Colab Pro+ account, using rapids and cuDF to shorten run time. Below are some of the commands to aid with installation to enable cuDF to be imported.\n",
    "\n",
    "As the notebook was optimised to run on Google Colab, the relative references are kept in order to let the notebook run on Colab."
   ]
  },
  {
   "cell_type": "code",
   "execution_count": null,
   "id": "-ttYa0pTBtdT",
   "metadata": {
    "id": "-ttYa0pTBtdT"
   },
   "outputs": [],
   "source": [
    "# import libraries\n",
    "# === General ===\n",
    "import sys, warnings, time, os, copy, random, cudf\n",
    "warnings.filterwarnings('ignore')\n",
    "from IPython.display import display\n",
    "import matplotlib.pyplot as plt\n",
    "import numpy as np\n",
    "import pandas as pd\n",
    "# pd.set_option('display.max_rows', 50)\n",
    "# pd.set_option('display.max_columns', None)\n",
    "# pd.set_option(\"display.max_colwidth\", 10000)\n",
    "import seaborn as sns\n",
    "sns.set()\n",
    "from pathlib import Path\n",
    "from datetime import datetime, timedelta"
   ]
  },
  {
   "cell_type": "markdown",
   "id": "227961d5",
   "metadata": {},
   "source": [
    "## Steps for cuDF installation onto Colab"
   ]
  },
  {
   "cell_type": "markdown",
   "id": "1f270472",
   "metadata": {},
   "source": [
    "Below are the steps to enable running of cuDF installation onto Colab. As I will be using a virtual machine, the same steps will need to be repeated each time I start Colab. "
   ]
  },
  {
   "cell_type": "code",
   "execution_count": null,
   "id": "cnq71kOqBjh9",
   "metadata": {
    "id": "cnq71kOqBjh9"
   },
   "outputs": [],
   "source": [
    "#!git clone https://github.com/rapidsai/rapidsai-csp-utils.git\n",
    "#!python rapidsai-csp-utils/colab/env-check.py"
   ]
  },
  {
   "cell_type": "code",
   "execution_count": null,
   "id": "qM0iS-XOBk9i",
   "metadata": {
    "id": "qM0iS-XOBk9i"
   },
   "outputs": [],
   "source": [
    "#!bash rapidsai-csp-utils/colab/update_gcc.sh\n",
    "#import os\n",
    "#os._exit(00)"
   ]
  },
  {
   "cell_type": "code",
   "execution_count": null,
   "id": "y5Y5tqGKB3op",
   "metadata": {
    "id": "y5Y5tqGKB3op"
   },
   "outputs": [],
   "source": [
    "#import condacolab\n",
    "#condacolab.install()"
   ]
  },
  {
   "cell_type": "code",
   "execution_count": null,
   "id": "9tJTad2QB6J2",
   "metadata": {
    "id": "9tJTad2QB6J2"
   },
   "outputs": [],
   "source": [
    "# you can now run the rest of the cells as normal\n",
    "#import condacolab\n",
    "#condacolab.check()"
   ]
  },
  {
   "cell_type": "code",
   "execution_count": null,
   "id": "x9jUtKAFCTdT",
   "metadata": {
    "id": "x9jUtKAFCTdT"
   },
   "outputs": [],
   "source": [
    "# Installing RAPIDS is now 'python rapidsai-csp-utils/colab/install_rapids.py <release> <packages>'\n",
    "# The <release> options are 'stable' and 'nightly'.  Leaving it blank or adding any other words will default to stable.\n",
    "#!python rapidsai-csp-utils/colab/install_rapids.py stable\n",
    "#import os\n",
    "#os.environ['NUMBAPRO_NVVM'] = '/usr/local/cuda/nvvm/lib64/libnvvm.so'\n",
    "#os.environ['NUMBAPRO_LIBDEVICE'] = '/usr/local/cuda/nvvm/libdevice/'\n",
    "#os.environ['CONDA_PREFIX'] = '/usr/local'"
   ]
  },
  {
   "cell_type": "code",
   "execution_count": null,
   "id": "9dQChYNUIczK",
   "metadata": {
    "colab": {
     "base_uri": "https://localhost:8080/"
    },
    "id": "9dQChYNUIczK",
    "outputId": "5e61b0ab-16e3-4fb7-ae09-cfb3dd6c0841"
   },
   "outputs": [
    {
     "name": "stdout",
     "output_type": "stream",
     "text": [
      "Drive already mounted at /content/drive/; to attempt to forcibly remount, call drive.mount(\"/content/drive/\", force_remount=True).\n"
     ]
    }
   ],
   "source": [
    "from google.colab import drive\n",
    "drive.mount('/content/drive/')"
   ]
  },
  {
   "cell_type": "code",
   "execution_count": null,
   "id": "dzBBK2u_eY50",
   "metadata": {
    "id": "dzBBK2u_eY50"
   },
   "outputs": [],
   "source": [
    "DEBUG = False\n",
    "PATH_INPUT = r'/content/drive/MyDrive/datasets/'"
   ]
  },
  {
   "cell_type": "code",
   "execution_count": null,
   "id": "748f1476",
   "metadata": {
    "id": "748f1476"
   },
   "outputs": [],
   "source": [
    "# read csv\n",
    "customers = cudf.read_csv(PATH_INPUT + 'customers.csv', usecols=['customer_id', 'age'])\n",
    "articles = cudf.read_csv(PATH_INPUT + 'articles.csv', usecols=['article_id', \"product_group_name\", \"perceived_colour_master_name\"])\n",
    "train = cudf.read_csv(PATH_INPUT + 'transactions_train.csv', usecols=['t_dat', 'customer_id', 'article_id'],\n",
    "                               dtype={'article_id': 'int32', 't_dat': 'string', 'customer_id': 'string'})"
   ]
  },
  {
   "cell_type": "code",
   "execution_count": null,
   "id": "bb1fdf72",
   "metadata": {
    "id": "bb1fdf72"
   },
   "outputs": [],
   "source": [
    "customers=customers[['customer_id', 'age']]"
   ]
  },
  {
   "cell_type": "code",
   "execution_count": null,
   "id": "efce83cf",
   "metadata": {
    "colab": {
     "base_uri": "https://localhost:8080/",
     "height": 423
    },
    "id": "efce83cf",
    "outputId": "c0a114c3-e6b9-4100-db7e-288ec08fce58",
    "scrolled": true
   },
   "outputs": [
    {
     "data": {
      "text/html": [
       "<div>\n",
       "<style scoped>\n",
       "    .dataframe tbody tr th:only-of-type {\n",
       "        vertical-align: middle;\n",
       "    }\n",
       "\n",
       "    .dataframe tbody tr th {\n",
       "        vertical-align: top;\n",
       "    }\n",
       "\n",
       "    .dataframe thead th {\n",
       "        text-align: right;\n",
       "    }\n",
       "</style>\n",
       "<table border=\"1\" class=\"dataframe\">\n",
       "  <thead>\n",
       "    <tr style=\"text-align: right;\">\n",
       "      <th></th>\n",
       "      <th>customer_id</th>\n",
       "      <th>age</th>\n",
       "    </tr>\n",
       "  </thead>\n",
       "  <tbody>\n",
       "    <tr>\n",
       "      <th>0</th>\n",
       "      <td>00000dbacae5abe5e23885899a1fa44253a17956c6d1c3...</td>\n",
       "      <td>49.0</td>\n",
       "    </tr>\n",
       "    <tr>\n",
       "      <th>1</th>\n",
       "      <td>0000423b00ade91418cceaf3b26c6af3dd342b51fd051e...</td>\n",
       "      <td>25.0</td>\n",
       "    </tr>\n",
       "    <tr>\n",
       "      <th>2</th>\n",
       "      <td>000058a12d5b43e67d225668fa1f8d618c13dc232df0ca...</td>\n",
       "      <td>24.0</td>\n",
       "    </tr>\n",
       "    <tr>\n",
       "      <th>3</th>\n",
       "      <td>00005ca1c9ed5f5146b52ac8639a40ca9d57aeff4d1bd2...</td>\n",
       "      <td>54.0</td>\n",
       "    </tr>\n",
       "    <tr>\n",
       "      <th>4</th>\n",
       "      <td>00006413d8573cd20ed7128e53b7b13819fe5cfc2d801f...</td>\n",
       "      <td>52.0</td>\n",
       "    </tr>\n",
       "    <tr>\n",
       "      <th>...</th>\n",
       "      <td>...</td>\n",
       "      <td>...</td>\n",
       "    </tr>\n",
       "    <tr>\n",
       "      <th>1371975</th>\n",
       "      <td>ffffbbf78b6eaac697a8a5dfbfd2bfa8113ee5b403e474...</td>\n",
       "      <td>24.0</td>\n",
       "    </tr>\n",
       "    <tr>\n",
       "      <th>1371976</th>\n",
       "      <td>ffffcd5046a6143d29a04fb8c424ce494a76e5cdf4fab5...</td>\n",
       "      <td>21.0</td>\n",
       "    </tr>\n",
       "    <tr>\n",
       "      <th>1371977</th>\n",
       "      <td>ffffcf35913a0bee60e8741cb2b4e78b8a98ee5ff2e6a1...</td>\n",
       "      <td>21.0</td>\n",
       "    </tr>\n",
       "    <tr>\n",
       "      <th>1371978</th>\n",
       "      <td>ffffd7744cebcf3aca44ae7049d2a94b87074c3d4ffe38...</td>\n",
       "      <td>18.0</td>\n",
       "    </tr>\n",
       "    <tr>\n",
       "      <th>1371979</th>\n",
       "      <td>ffffd9ac14e89946416d80e791d064701994755c3ab686...</td>\n",
       "      <td>65.0</td>\n",
       "    </tr>\n",
       "  </tbody>\n",
       "</table>\n",
       "<p>1371980 rows × 2 columns</p>\n",
       "</div>"
      ],
      "text/plain": [
       "                                               customer_id   age\n",
       "0        00000dbacae5abe5e23885899a1fa44253a17956c6d1c3...  49.0\n",
       "1        0000423b00ade91418cceaf3b26c6af3dd342b51fd051e...  25.0\n",
       "2        000058a12d5b43e67d225668fa1f8d618c13dc232df0ca...  24.0\n",
       "3        00005ca1c9ed5f5146b52ac8639a40ca9d57aeff4d1bd2...  54.0\n",
       "4        00006413d8573cd20ed7128e53b7b13819fe5cfc2d801f...  52.0\n",
       "...                                                    ...   ...\n",
       "1371975  ffffbbf78b6eaac697a8a5dfbfd2bfa8113ee5b403e474...  24.0\n",
       "1371976  ffffcd5046a6143d29a04fb8c424ce494a76e5cdf4fab5...  21.0\n",
       "1371977  ffffcf35913a0bee60e8741cb2b4e78b8a98ee5ff2e6a1...  21.0\n",
       "1371978  ffffd7744cebcf3aca44ae7049d2a94b87074c3d4ffe38...  18.0\n",
       "1371979  ffffd9ac14e89946416d80e791d064701994755c3ab686...  65.0\n",
       "\n",
       "[1371980 rows x 2 columns]"
      ]
     },
     "execution_count": 13,
     "metadata": {},
     "output_type": "execute_result"
    }
   ],
   "source": [
    "customers"
   ]
  },
  {
   "cell_type": "code",
   "execution_count": null,
   "id": "a160cf38",
   "metadata": {
    "id": "a160cf38"
   },
   "outputs": [],
   "source": [
    "articles = articles[['article_id', 'product_group_name', 'perceived_colour_master_name']]"
   ]
  },
  {
   "cell_type": "code",
   "execution_count": null,
   "id": "a08bcd0b",
   "metadata": {
    "colab": {
     "base_uri": "https://localhost:8080/",
     "height": 206
    },
    "id": "a08bcd0b",
    "outputId": "68eaf731-ffa4-4a72-fb19-5b7665b0e9c4"
   },
   "outputs": [
    {
     "data": {
      "text/html": [
       "<div>\n",
       "<style scoped>\n",
       "    .dataframe tbody tr th:only-of-type {\n",
       "        vertical-align: middle;\n",
       "    }\n",
       "\n",
       "    .dataframe tbody tr th {\n",
       "        vertical-align: top;\n",
       "    }\n",
       "\n",
       "    .dataframe thead th {\n",
       "        text-align: right;\n",
       "    }\n",
       "</style>\n",
       "<table border=\"1\" class=\"dataframe\">\n",
       "  <thead>\n",
       "    <tr style=\"text-align: right;\">\n",
       "      <th></th>\n",
       "      <th>article_id</th>\n",
       "      <th>product_group_name</th>\n",
       "      <th>perceived_colour_master_name</th>\n",
       "    </tr>\n",
       "  </thead>\n",
       "  <tbody>\n",
       "    <tr>\n",
       "      <th>0</th>\n",
       "      <td>108775015</td>\n",
       "      <td>Garment Upper body</td>\n",
       "      <td>Black</td>\n",
       "    </tr>\n",
       "    <tr>\n",
       "      <th>1</th>\n",
       "      <td>108775044</td>\n",
       "      <td>Garment Upper body</td>\n",
       "      <td>White</td>\n",
       "    </tr>\n",
       "    <tr>\n",
       "      <th>2</th>\n",
       "      <td>108775051</td>\n",
       "      <td>Garment Upper body</td>\n",
       "      <td>White</td>\n",
       "    </tr>\n",
       "    <tr>\n",
       "      <th>3</th>\n",
       "      <td>110065001</td>\n",
       "      <td>Underwear</td>\n",
       "      <td>Black</td>\n",
       "    </tr>\n",
       "    <tr>\n",
       "      <th>4</th>\n",
       "      <td>110065002</td>\n",
       "      <td>Underwear</td>\n",
       "      <td>White</td>\n",
       "    </tr>\n",
       "  </tbody>\n",
       "</table>\n",
       "</div>"
      ],
      "text/plain": [
       "   article_id  product_group_name perceived_colour_master_name\n",
       "0   108775015  Garment Upper body                        Black\n",
       "1   108775044  Garment Upper body                        White\n",
       "2   108775051  Garment Upper body                        White\n",
       "3   110065001           Underwear                        Black\n",
       "4   110065002           Underwear                        White"
      ]
     },
     "execution_count": 15,
     "metadata": {},
     "output_type": "execute_result"
    }
   ],
   "source": [
    "articles.head()"
   ]
  },
  {
   "cell_type": "markdown",
   "id": "49557469",
   "metadata": {
    "id": "49557469"
   },
   "source": [
    "## Create age bins"
   ]
  },
  {
   "cell_type": "code",
   "execution_count": null,
   "id": "f3299e99",
   "metadata": {
    "id": "f3299e99"
   },
   "outputs": [],
   "source": [
    "customers = customers.to_pandas()\n",
    "listBin = [-1, 19, 29, 39, 49, 59, 69, 119]\n",
    "customers['age_bins'] = pd.cut(customers['age'], listBin)"
   ]
  },
  {
   "cell_type": "code",
   "execution_count": null,
   "id": "6b91df0e",
   "metadata": {
    "colab": {
     "base_uri": "https://localhost:8080/",
     "height": 206
    },
    "id": "6b91df0e",
    "outputId": "19cba46a-9df1-439f-dc19-801895062969",
    "scrolled": true
   },
   "outputs": [
    {
     "data": {
      "text/html": [
       "\n",
       "  <div id=\"df-a989ce4f-a479-4f6a-aa89-3c1178e99301\">\n",
       "    <div class=\"colab-df-container\">\n",
       "      <div>\n",
       "<style scoped>\n",
       "    .dataframe tbody tr th:only-of-type {\n",
       "        vertical-align: middle;\n",
       "    }\n",
       "\n",
       "    .dataframe tbody tr th {\n",
       "        vertical-align: top;\n",
       "    }\n",
       "\n",
       "    .dataframe thead th {\n",
       "        text-align: right;\n",
       "    }\n",
       "</style>\n",
       "<table border=\"1\" class=\"dataframe\">\n",
       "  <thead>\n",
       "    <tr style=\"text-align: right;\">\n",
       "      <th></th>\n",
       "      <th>customer_id</th>\n",
       "      <th>age</th>\n",
       "      <th>age_bins</th>\n",
       "    </tr>\n",
       "  </thead>\n",
       "  <tbody>\n",
       "    <tr>\n",
       "      <th>0</th>\n",
       "      <td>00000dbacae5abe5e23885899a1fa44253a17956c6d1c3...</td>\n",
       "      <td>49.0</td>\n",
       "      <td>(39, 49]</td>\n",
       "    </tr>\n",
       "    <tr>\n",
       "      <th>1</th>\n",
       "      <td>0000423b00ade91418cceaf3b26c6af3dd342b51fd051e...</td>\n",
       "      <td>25.0</td>\n",
       "      <td>(19, 29]</td>\n",
       "    </tr>\n",
       "    <tr>\n",
       "      <th>2</th>\n",
       "      <td>000058a12d5b43e67d225668fa1f8d618c13dc232df0ca...</td>\n",
       "      <td>24.0</td>\n",
       "      <td>(19, 29]</td>\n",
       "    </tr>\n",
       "    <tr>\n",
       "      <th>3</th>\n",
       "      <td>00005ca1c9ed5f5146b52ac8639a40ca9d57aeff4d1bd2...</td>\n",
       "      <td>54.0</td>\n",
       "      <td>(49, 59]</td>\n",
       "    </tr>\n",
       "    <tr>\n",
       "      <th>4</th>\n",
       "      <td>00006413d8573cd20ed7128e53b7b13819fe5cfc2d801f...</td>\n",
       "      <td>52.0</td>\n",
       "      <td>(49, 59]</td>\n",
       "    </tr>\n",
       "  </tbody>\n",
       "</table>\n",
       "</div>\n",
       "      <button class=\"colab-df-convert\" onclick=\"convertToInteractive('df-a989ce4f-a479-4f6a-aa89-3c1178e99301')\"\n",
       "              title=\"Convert this dataframe to an interactive table.\"\n",
       "              style=\"display:none;\">\n",
       "        \n",
       "  <svg xmlns=\"http://www.w3.org/2000/svg\" height=\"24px\"viewBox=\"0 0 24 24\"\n",
       "       width=\"24px\">\n",
       "    <path d=\"M0 0h24v24H0V0z\" fill=\"none\"/>\n",
       "    <path d=\"M18.56 5.44l.94 2.06.94-2.06 2.06-.94-2.06-.94-.94-2.06-.94 2.06-2.06.94zm-11 1L8.5 8.5l.94-2.06 2.06-.94-2.06-.94L8.5 2.5l-.94 2.06-2.06.94zm10 10l.94 2.06.94-2.06 2.06-.94-2.06-.94-.94-2.06-.94 2.06-2.06.94z\"/><path d=\"M17.41 7.96l-1.37-1.37c-.4-.4-.92-.59-1.43-.59-.52 0-1.04.2-1.43.59L10.3 9.45l-7.72 7.72c-.78.78-.78 2.05 0 2.83L4 21.41c.39.39.9.59 1.41.59.51 0 1.02-.2 1.41-.59l7.78-7.78 2.81-2.81c.8-.78.8-2.07 0-2.86zM5.41 20L4 18.59l7.72-7.72 1.47 1.35L5.41 20z\"/>\n",
       "  </svg>\n",
       "      </button>\n",
       "      \n",
       "  <style>\n",
       "    .colab-df-container {\n",
       "      display:flex;\n",
       "      flex-wrap:wrap;\n",
       "      gap: 12px;\n",
       "    }\n",
       "\n",
       "    .colab-df-convert {\n",
       "      background-color: #E8F0FE;\n",
       "      border: none;\n",
       "      border-radius: 50%;\n",
       "      cursor: pointer;\n",
       "      display: none;\n",
       "      fill: #1967D2;\n",
       "      height: 32px;\n",
       "      padding: 0 0 0 0;\n",
       "      width: 32px;\n",
       "    }\n",
       "\n",
       "    .colab-df-convert:hover {\n",
       "      background-color: #E2EBFA;\n",
       "      box-shadow: 0px 1px 2px rgba(60, 64, 67, 0.3), 0px 1px 3px 1px rgba(60, 64, 67, 0.15);\n",
       "      fill: #174EA6;\n",
       "    }\n",
       "\n",
       "    [theme=dark] .colab-df-convert {\n",
       "      background-color: #3B4455;\n",
       "      fill: #D2E3FC;\n",
       "    }\n",
       "\n",
       "    [theme=dark] .colab-df-convert:hover {\n",
       "      background-color: #434B5C;\n",
       "      box-shadow: 0px 1px 3px 1px rgba(0, 0, 0, 0.15);\n",
       "      filter: drop-shadow(0px 1px 2px rgba(0, 0, 0, 0.3));\n",
       "      fill: #FFFFFF;\n",
       "    }\n",
       "  </style>\n",
       "\n",
       "      <script>\n",
       "        const buttonEl =\n",
       "          document.querySelector('#df-a989ce4f-a479-4f6a-aa89-3c1178e99301 button.colab-df-convert');\n",
       "        buttonEl.style.display =\n",
       "          google.colab.kernel.accessAllowed ? 'block' : 'none';\n",
       "\n",
       "        async function convertToInteractive(key) {\n",
       "          const element = document.querySelector('#df-a989ce4f-a479-4f6a-aa89-3c1178e99301');\n",
       "          const dataTable =\n",
       "            await google.colab.kernel.invokeFunction('convertToInteractive',\n",
       "                                                     [key], {});\n",
       "          if (!dataTable) return;\n",
       "\n",
       "          const docLinkHtml = 'Like what you see? Visit the ' +\n",
       "            '<a target=\"_blank\" href=https://colab.research.google.com/notebooks/data_table.ipynb>data table notebook</a>'\n",
       "            + ' to learn more about interactive tables.';\n",
       "          element.innerHTML = '';\n",
       "          dataTable['output_type'] = 'display_data';\n",
       "          await google.colab.output.renderOutput(dataTable, element);\n",
       "          const docLink = document.createElement('div');\n",
       "          docLink.innerHTML = docLinkHtml;\n",
       "          element.appendChild(docLink);\n",
       "        }\n",
       "      </script>\n",
       "    </div>\n",
       "  </div>\n",
       "  "
      ],
      "text/plain": [
       "                                         customer_id   age  age_bins\n",
       "0  00000dbacae5abe5e23885899a1fa44253a17956c6d1c3...  49.0  (39, 49]\n",
       "1  0000423b00ade91418cceaf3b26c6af3dd342b51fd051e...  25.0  (19, 29]\n",
       "2  000058a12d5b43e67d225668fa1f8d618c13dc232df0ca...  24.0  (19, 29]\n",
       "3  00005ca1c9ed5f5146b52ac8639a40ca9d57aeff4d1bd2...  54.0  (49, 59]\n",
       "4  00006413d8573cd20ed7128e53b7b13819fe5cfc2d801f...  52.0  (49, 59]"
      ]
     },
     "execution_count": 17,
     "metadata": {},
     "output_type": "execute_result"
    }
   ],
   "source": [
    "customers.head()"
   ]
  },
  {
   "cell_type": "code",
   "execution_count": null,
   "id": "o2Tp3eFZqXke",
   "metadata": {
    "colab": {
     "base_uri": "https://localhost:8080/"
    },
    "id": "o2Tp3eFZqXke",
    "outputId": "485227a4-3a8e-4b69-b49f-24626957afbe"
   },
   "outputs": [
    {
     "data": {
      "text/plain": [
       "(1371980, 3)"
      ]
     },
     "execution_count": 33,
     "metadata": {},
     "output_type": "execute_result"
    }
   ],
   "source": [
    "customers.shape"
   ]
  },
  {
   "cell_type": "code",
   "execution_count": null,
   "id": "c5dintz5oGba",
   "metadata": {
    "colab": {
     "base_uri": "https://localhost:8080/"
    },
    "id": "c5dintz5oGba",
    "outputId": "fd56583d-0974-449b-e945-1b62f0451916"
   },
   "outputs": [
    {
     "name": "stdout",
     "output_type": "stream",
     "text": [
      "15861 customer_id do not have age information.\n",
      "\n"
     ]
    }
   ],
   "source": [
    "x = customers[customers['age_bins'].isnull()].shape[0]\n",
    "print(f'{x} customer_id do not have age information.\\n')"
   ]
  },
  {
   "cell_type": "code",
   "execution_count": null,
   "id": "xFLZCZ__rksc",
   "metadata": {
    "colab": {
     "base_uri": "https://localhost:8080/",
     "height": 423
    },
    "id": "xFLZCZ__rksc",
    "outputId": "96beb788-d975-4396-f76c-38be133ee1b8"
   },
   "outputs": [
    {
     "data": {
      "text/html": [
       "\n",
       "  <div id=\"df-adb4d274-60ae-4506-afa5-4a4ba3349161\">\n",
       "    <div class=\"colab-df-container\">\n",
       "      <div>\n",
       "<style scoped>\n",
       "    .dataframe tbody tr th:only-of-type {\n",
       "        vertical-align: middle;\n",
       "    }\n",
       "\n",
       "    .dataframe tbody tr th {\n",
       "        vertical-align: top;\n",
       "    }\n",
       "\n",
       "    .dataframe thead th {\n",
       "        text-align: right;\n",
       "    }\n",
       "</style>\n",
       "<table border=\"1\" class=\"dataframe\">\n",
       "  <thead>\n",
       "    <tr style=\"text-align: right;\">\n",
       "      <th></th>\n",
       "      <th>customer_id</th>\n",
       "      <th>age</th>\n",
       "      <th>age_bins</th>\n",
       "    </tr>\n",
       "  </thead>\n",
       "  <tbody>\n",
       "    <tr>\n",
       "      <th>5</th>\n",
       "      <td>000064249685c11552da43ef22a5030f35a147f723d5b0...</td>\n",
       "      <td>NaN</td>\n",
       "      <td>NaN</td>\n",
       "    </tr>\n",
       "    <tr>\n",
       "      <th>54</th>\n",
       "      <td>0002b9088196900626214bcdc6d5f3d85f38fb462a4806...</td>\n",
       "      <td>NaN</td>\n",
       "      <td>NaN</td>\n",
       "    </tr>\n",
       "    <tr>\n",
       "      <th>99</th>\n",
       "      <td>0004690d2b68d5175697d197a86065595ef7b49c7c051b...</td>\n",
       "      <td>NaN</td>\n",
       "      <td>NaN</td>\n",
       "    </tr>\n",
       "    <tr>\n",
       "      <th>138</th>\n",
       "      <td>0005cd85a6220e1f1c582c7ff9175efe7d7c16d184c5ba...</td>\n",
       "      <td>NaN</td>\n",
       "      <td>NaN</td>\n",
       "    </tr>\n",
       "    <tr>\n",
       "      <th>148</th>\n",
       "      <td>00060d2f1e63f2b95268b8573996b9aa5612a3efc97c71...</td>\n",
       "      <td>NaN</td>\n",
       "      <td>NaN</td>\n",
       "    </tr>\n",
       "    <tr>\n",
       "      <th>...</th>\n",
       "      <td>...</td>\n",
       "      <td>...</td>\n",
       "      <td>...</td>\n",
       "    </tr>\n",
       "    <tr>\n",
       "      <th>1371583</th>\n",
       "      <td>ffecf38e80a8d73c9c6fb6db193e559dbd5374747b4b88...</td>\n",
       "      <td>NaN</td>\n",
       "      <td>NaN</td>\n",
       "    </tr>\n",
       "    <tr>\n",
       "      <th>1371637</th>\n",
       "      <td>ffefa8fa76909f9b9b3c14680d3e00dae891de5d1522f9...</td>\n",
       "      <td>NaN</td>\n",
       "      <td>NaN</td>\n",
       "    </tr>\n",
       "    <tr>\n",
       "      <th>1371712</th>\n",
       "      <td>fff2f8b52ac6983cf9b2332d1a9bfe0ef38349a8d5392e...</td>\n",
       "      <td>NaN</td>\n",
       "      <td>NaN</td>\n",
       "    </tr>\n",
       "    <tr>\n",
       "      <th>1371888</th>\n",
       "      <td>fffb069903e91c2ea4d665851b821c3f812e184119e5a8...</td>\n",
       "      <td>NaN</td>\n",
       "      <td>NaN</td>\n",
       "    </tr>\n",
       "    <tr>\n",
       "      <th>1371922</th>\n",
       "      <td>fffccb8e98d3fb387fcd05cdd995221be3b07e26184f1a...</td>\n",
       "      <td>NaN</td>\n",
       "      <td>NaN</td>\n",
       "    </tr>\n",
       "  </tbody>\n",
       "</table>\n",
       "<p>15861 rows × 3 columns</p>\n",
       "</div>\n",
       "      <button class=\"colab-df-convert\" onclick=\"convertToInteractive('df-adb4d274-60ae-4506-afa5-4a4ba3349161')\"\n",
       "              title=\"Convert this dataframe to an interactive table.\"\n",
       "              style=\"display:none;\">\n",
       "        \n",
       "  <svg xmlns=\"http://www.w3.org/2000/svg\" height=\"24px\"viewBox=\"0 0 24 24\"\n",
       "       width=\"24px\">\n",
       "    <path d=\"M0 0h24v24H0V0z\" fill=\"none\"/>\n",
       "    <path d=\"M18.56 5.44l.94 2.06.94-2.06 2.06-.94-2.06-.94-.94-2.06-.94 2.06-2.06.94zm-11 1L8.5 8.5l.94-2.06 2.06-.94-2.06-.94L8.5 2.5l-.94 2.06-2.06.94zm10 10l.94 2.06.94-2.06 2.06-.94-2.06-.94-.94-2.06-.94 2.06-2.06.94z\"/><path d=\"M17.41 7.96l-1.37-1.37c-.4-.4-.92-.59-1.43-.59-.52 0-1.04.2-1.43.59L10.3 9.45l-7.72 7.72c-.78.78-.78 2.05 0 2.83L4 21.41c.39.39.9.59 1.41.59.51 0 1.02-.2 1.41-.59l7.78-7.78 2.81-2.81c.8-.78.8-2.07 0-2.86zM5.41 20L4 18.59l7.72-7.72 1.47 1.35L5.41 20z\"/>\n",
       "  </svg>\n",
       "      </button>\n",
       "      \n",
       "  <style>\n",
       "    .colab-df-container {\n",
       "      display:flex;\n",
       "      flex-wrap:wrap;\n",
       "      gap: 12px;\n",
       "    }\n",
       "\n",
       "    .colab-df-convert {\n",
       "      background-color: #E8F0FE;\n",
       "      border: none;\n",
       "      border-radius: 50%;\n",
       "      cursor: pointer;\n",
       "      display: none;\n",
       "      fill: #1967D2;\n",
       "      height: 32px;\n",
       "      padding: 0 0 0 0;\n",
       "      width: 32px;\n",
       "    }\n",
       "\n",
       "    .colab-df-convert:hover {\n",
       "      background-color: #E2EBFA;\n",
       "      box-shadow: 0px 1px 2px rgba(60, 64, 67, 0.3), 0px 1px 3px 1px rgba(60, 64, 67, 0.15);\n",
       "      fill: #174EA6;\n",
       "    }\n",
       "\n",
       "    [theme=dark] .colab-df-convert {\n",
       "      background-color: #3B4455;\n",
       "      fill: #D2E3FC;\n",
       "    }\n",
       "\n",
       "    [theme=dark] .colab-df-convert:hover {\n",
       "      background-color: #434B5C;\n",
       "      box-shadow: 0px 1px 3px 1px rgba(0, 0, 0, 0.15);\n",
       "      filter: drop-shadow(0px 1px 2px rgba(0, 0, 0, 0.3));\n",
       "      fill: #FFFFFF;\n",
       "    }\n",
       "  </style>\n",
       "\n",
       "      <script>\n",
       "        const buttonEl =\n",
       "          document.querySelector('#df-adb4d274-60ae-4506-afa5-4a4ba3349161 button.colab-df-convert');\n",
       "        buttonEl.style.display =\n",
       "          google.colab.kernel.accessAllowed ? 'block' : 'none';\n",
       "\n",
       "        async function convertToInteractive(key) {\n",
       "          const element = document.querySelector('#df-adb4d274-60ae-4506-afa5-4a4ba3349161');\n",
       "          const dataTable =\n",
       "            await google.colab.kernel.invokeFunction('convertToInteractive',\n",
       "                                                     [key], {});\n",
       "          if (!dataTable) return;\n",
       "\n",
       "          const docLinkHtml = 'Like what you see? Visit the ' +\n",
       "            '<a target=\"_blank\" href=https://colab.research.google.com/notebooks/data_table.ipynb>data table notebook</a>'\n",
       "            + ' to learn more about interactive tables.';\n",
       "          element.innerHTML = '';\n",
       "          dataTable['output_type'] = 'display_data';\n",
       "          await google.colab.output.renderOutput(dataTable, element);\n",
       "          const docLink = document.createElement('div');\n",
       "          docLink.innerHTML = docLinkHtml;\n",
       "          element.appendChild(docLink);\n",
       "        }\n",
       "      </script>\n",
       "    </div>\n",
       "  </div>\n",
       "  "
      ],
      "text/plain": [
       "                                               customer_id  age age_bins\n",
       "5        000064249685c11552da43ef22a5030f35a147f723d5b0...  NaN      NaN\n",
       "54       0002b9088196900626214bcdc6d5f3d85f38fb462a4806...  NaN      NaN\n",
       "99       0004690d2b68d5175697d197a86065595ef7b49c7c051b...  NaN      NaN\n",
       "138      0005cd85a6220e1f1c582c7ff9175efe7d7c16d184c5ba...  NaN      NaN\n",
       "148      00060d2f1e63f2b95268b8573996b9aa5612a3efc97c71...  NaN      NaN\n",
       "...                                                    ...  ...      ...\n",
       "1371583  ffecf38e80a8d73c9c6fb6db193e559dbd5374747b4b88...  NaN      NaN\n",
       "1371637  ffefa8fa76909f9b9b3c14680d3e00dae891de5d1522f9...  NaN      NaN\n",
       "1371712  fff2f8b52ac6983cf9b2332d1a9bfe0ef38349a8d5392e...  NaN      NaN\n",
       "1371888  fffb069903e91c2ea4d665851b821c3f812e184119e5a8...  NaN      NaN\n",
       "1371922  fffccb8e98d3fb387fcd05cdd995221be3b07e26184f1a...  NaN      NaN\n",
       "\n",
       "[15861 rows x 3 columns]"
      ]
     },
     "execution_count": 34,
     "metadata": {},
     "output_type": "execute_result"
    }
   ],
   "source": [
    "customers[customers['age_bins'].isnull()]"
   ]
  },
  {
   "cell_type": "markdown",
   "id": "9bc3a8bc",
   "metadata": {},
   "source": [
    "I did not wish to do deductive imputation on the null values for age. This might create an unintentional skewing for each age bin. As such, I let null remain as its own age bin, and allowed the model to predict it separately."
   ]
  },
  {
   "cell_type": "markdown",
   "id": "1ec1e642",
   "metadata": {
    "id": "1ec1e642"
   },
   "source": [
    "## Transaction 5 weeks"
   ]
  },
  {
   "cell_type": "code",
   "execution_count": null,
   "id": "b85cbef9",
   "metadata": {
    "colab": {
     "base_uri": "https://localhost:8080/",
     "height": 206
    },
    "id": "b85cbef9",
    "outputId": "6b40de62-15fa-488b-f93d-b215bd005199"
   },
   "outputs": [
    {
     "data": {
      "text/html": [
       "<div>\n",
       "<style scoped>\n",
       "    .dataframe tbody tr th:only-of-type {\n",
       "        vertical-align: middle;\n",
       "    }\n",
       "\n",
       "    .dataframe tbody tr th {\n",
       "        vertical-align: top;\n",
       "    }\n",
       "\n",
       "    .dataframe thead th {\n",
       "        text-align: right;\n",
       "    }\n",
       "</style>\n",
       "<table border=\"1\" class=\"dataframe\">\n",
       "  <thead>\n",
       "    <tr style=\"text-align: right;\">\n",
       "      <th></th>\n",
       "      <th>t_dat</th>\n",
       "      <th>customer_id</th>\n",
       "      <th>article_id</th>\n",
       "    </tr>\n",
       "  </thead>\n",
       "  <tbody>\n",
       "    <tr>\n",
       "      <th>0</th>\n",
       "      <td>2018-09-20</td>\n",
       "      <td>000058a12d5b43e67d225668fa1f8d618c13dc232df0ca...</td>\n",
       "      <td>663713001</td>\n",
       "    </tr>\n",
       "    <tr>\n",
       "      <th>1</th>\n",
       "      <td>2018-09-20</td>\n",
       "      <td>000058a12d5b43e67d225668fa1f8d618c13dc232df0ca...</td>\n",
       "      <td>541518023</td>\n",
       "    </tr>\n",
       "    <tr>\n",
       "      <th>2</th>\n",
       "      <td>2018-09-20</td>\n",
       "      <td>00007d2de826758b65a93dd24ce629ed66842531df6699...</td>\n",
       "      <td>505221004</td>\n",
       "    </tr>\n",
       "    <tr>\n",
       "      <th>3</th>\n",
       "      <td>2018-09-20</td>\n",
       "      <td>00007d2de826758b65a93dd24ce629ed66842531df6699...</td>\n",
       "      <td>685687003</td>\n",
       "    </tr>\n",
       "    <tr>\n",
       "      <th>4</th>\n",
       "      <td>2018-09-20</td>\n",
       "      <td>00007d2de826758b65a93dd24ce629ed66842531df6699...</td>\n",
       "      <td>685687004</td>\n",
       "    </tr>\n",
       "  </tbody>\n",
       "</table>\n",
       "</div>"
      ],
      "text/plain": [
       "        t_dat                                        customer_id  article_id\n",
       "0  2018-09-20  000058a12d5b43e67d225668fa1f8d618c13dc232df0ca...   663713001\n",
       "1  2018-09-20  000058a12d5b43e67d225668fa1f8d618c13dc232df0ca...   541518023\n",
       "2  2018-09-20  00007d2de826758b65a93dd24ce629ed66842531df6699...   505221004\n",
       "3  2018-09-20  00007d2de826758b65a93dd24ce629ed66842531df6699...   685687003\n",
       "4  2018-09-20  00007d2de826758b65a93dd24ce629ed66842531df6699...   685687004"
      ]
     },
     "execution_count": 18,
     "metadata": {},
     "output_type": "execute_result"
    }
   ],
   "source": [
    "train.head()"
   ]
  },
  {
   "cell_type": "code",
   "execution_count": null,
   "id": "7c72372a",
   "metadata": {
    "id": "7c72372a"
   },
   "outputs": [],
   "source": [
    "train['t_dat'] = cudf.to_datetime(train['t_dat'])\n",
    "train.set_index('t_dat', inplace=True)"
   ]
  },
  {
   "cell_type": "code",
   "execution_count": null,
   "id": "35bde20a",
   "metadata": {
    "colab": {
     "base_uri": "https://localhost:8080/",
     "height": 238
    },
    "id": "35bde20a",
    "outputId": "bc034dba-f69a-4367-d952-8154c114af76"
   },
   "outputs": [
    {
     "data": {
      "text/html": [
       "\n",
       "  <div id=\"df-60447b00-f682-4cb9-8df1-08ccdfad2a50\">\n",
       "    <div class=\"colab-df-container\">\n",
       "      <div>\n",
       "<style scoped>\n",
       "    .dataframe tbody tr th:only-of-type {\n",
       "        vertical-align: middle;\n",
       "    }\n",
       "\n",
       "    .dataframe tbody tr th {\n",
       "        vertical-align: top;\n",
       "    }\n",
       "\n",
       "    .dataframe thead th {\n",
       "        text-align: right;\n",
       "    }\n",
       "</style>\n",
       "<table border=\"1\" class=\"dataframe\">\n",
       "  <thead>\n",
       "    <tr style=\"text-align: right;\">\n",
       "      <th></th>\n",
       "      <th>customer_id</th>\n",
       "      <th>article_id</th>\n",
       "    </tr>\n",
       "    <tr>\n",
       "      <th>t_dat</th>\n",
       "      <th></th>\n",
       "      <th></th>\n",
       "    </tr>\n",
       "  </thead>\n",
       "  <tbody>\n",
       "    <tr>\n",
       "      <th>2020-08-14</th>\n",
       "      <td>00009d946eec3ea54add5ba56d5210ea898def4b46c685...</td>\n",
       "      <td>884319008</td>\n",
       "    </tr>\n",
       "    <tr>\n",
       "      <th>2020-08-14</th>\n",
       "      <td>00009d946eec3ea54add5ba56d5210ea898def4b46c685...</td>\n",
       "      <td>921226001</td>\n",
       "    </tr>\n",
       "    <tr>\n",
       "      <th>2020-08-14</th>\n",
       "      <td>00009d946eec3ea54add5ba56d5210ea898def4b46c685...</td>\n",
       "      <td>706016001</td>\n",
       "    </tr>\n",
       "    <tr>\n",
       "      <th>2020-08-14</th>\n",
       "      <td>00009d946eec3ea54add5ba56d5210ea898def4b46c685...</td>\n",
       "      <td>881244001</td>\n",
       "    </tr>\n",
       "    <tr>\n",
       "      <th>2020-08-14</th>\n",
       "      <td>00025f8226be50dcab09402a2cacd520a99e112fe01fdd...</td>\n",
       "      <td>781613016</td>\n",
       "    </tr>\n",
       "  </tbody>\n",
       "</table>\n",
       "</div>\n",
       "      <button class=\"colab-df-convert\" onclick=\"convertToInteractive('df-60447b00-f682-4cb9-8df1-08ccdfad2a50')\"\n",
       "              title=\"Convert this dataframe to an interactive table.\"\n",
       "              style=\"display:none;\">\n",
       "        \n",
       "  <svg xmlns=\"http://www.w3.org/2000/svg\" height=\"24px\"viewBox=\"0 0 24 24\"\n",
       "       width=\"24px\">\n",
       "    <path d=\"M0 0h24v24H0V0z\" fill=\"none\"/>\n",
       "    <path d=\"M18.56 5.44l.94 2.06.94-2.06 2.06-.94-2.06-.94-.94-2.06-.94 2.06-2.06.94zm-11 1L8.5 8.5l.94-2.06 2.06-.94-2.06-.94L8.5 2.5l-.94 2.06-2.06.94zm10 10l.94 2.06.94-2.06 2.06-.94-2.06-.94-.94-2.06-.94 2.06-2.06.94z\"/><path d=\"M17.41 7.96l-1.37-1.37c-.4-.4-.92-.59-1.43-.59-.52 0-1.04.2-1.43.59L10.3 9.45l-7.72 7.72c-.78.78-.78 2.05 0 2.83L4 21.41c.39.39.9.59 1.41.59.51 0 1.02-.2 1.41-.59l7.78-7.78 2.81-2.81c.8-.78.8-2.07 0-2.86zM5.41 20L4 18.59l7.72-7.72 1.47 1.35L5.41 20z\"/>\n",
       "  </svg>\n",
       "      </button>\n",
       "      \n",
       "  <style>\n",
       "    .colab-df-container {\n",
       "      display:flex;\n",
       "      flex-wrap:wrap;\n",
       "      gap: 12px;\n",
       "    }\n",
       "\n",
       "    .colab-df-convert {\n",
       "      background-color: #E8F0FE;\n",
       "      border: none;\n",
       "      border-radius: 50%;\n",
       "      cursor: pointer;\n",
       "      display: none;\n",
       "      fill: #1967D2;\n",
       "      height: 32px;\n",
       "      padding: 0 0 0 0;\n",
       "      width: 32px;\n",
       "    }\n",
       "\n",
       "    .colab-df-convert:hover {\n",
       "      background-color: #E2EBFA;\n",
       "      box-shadow: 0px 1px 2px rgba(60, 64, 67, 0.3), 0px 1px 3px 1px rgba(60, 64, 67, 0.15);\n",
       "      fill: #174EA6;\n",
       "    }\n",
       "\n",
       "    [theme=dark] .colab-df-convert {\n",
       "      background-color: #3B4455;\n",
       "      fill: #D2E3FC;\n",
       "    }\n",
       "\n",
       "    [theme=dark] .colab-df-convert:hover {\n",
       "      background-color: #434B5C;\n",
       "      box-shadow: 0px 1px 3px 1px rgba(0, 0, 0, 0.15);\n",
       "      filter: drop-shadow(0px 1px 2px rgba(0, 0, 0, 0.3));\n",
       "      fill: #FFFFFF;\n",
       "    }\n",
       "  </style>\n",
       "\n",
       "      <script>\n",
       "        const buttonEl =\n",
       "          document.querySelector('#df-60447b00-f682-4cb9-8df1-08ccdfad2a50 button.colab-df-convert');\n",
       "        buttonEl.style.display =\n",
       "          google.colab.kernel.accessAllowed ? 'block' : 'none';\n",
       "\n",
       "        async function convertToInteractive(key) {\n",
       "          const element = document.querySelector('#df-60447b00-f682-4cb9-8df1-08ccdfad2a50');\n",
       "          const dataTable =\n",
       "            await google.colab.kernel.invokeFunction('convertToInteractive',\n",
       "                                                     [key], {});\n",
       "          if (!dataTable) return;\n",
       "\n",
       "          const docLinkHtml = 'Like what you see? Visit the ' +\n",
       "            '<a target=\"_blank\" href=https://colab.research.google.com/notebooks/data_table.ipynb>data table notebook</a>'\n",
       "            + ' to learn more about interactive tables.';\n",
       "          element.innerHTML = '';\n",
       "          dataTable['output_type'] = 'display_data';\n",
       "          await google.colab.output.renderOutput(dataTable, element);\n",
       "          const docLink = document.createElement('div');\n",
       "          docLink.innerHTML = docLinkHtml;\n",
       "          element.appendChild(docLink);\n",
       "        }\n",
       "      </script>\n",
       "    </div>\n",
       "  </div>\n",
       "  "
      ],
      "text/plain": [
       "                                                  customer_id  article_id\n",
       "t_dat                                                                    \n",
       "2020-08-14  00009d946eec3ea54add5ba56d5210ea898def4b46c685...   884319008\n",
       "2020-08-14  00009d946eec3ea54add5ba56d5210ea898def4b46c685...   921226001\n",
       "2020-08-14  00009d946eec3ea54add5ba56d5210ea898def4b46c685...   706016001\n",
       "2020-08-14  00009d946eec3ea54add5ba56d5210ea898def4b46c685...   881244001\n",
       "2020-08-14  00025f8226be50dcab09402a2cacd520a99e112fe01fdd...   781613016"
      ]
     },
     "execution_count": 21,
     "metadata": {},
     "output_type": "execute_result"
    }
   ],
   "source": [
    "dfRecent = train.loc['2020-08-14' : '2020-09-21']\n",
    "dfRecent= dfRecent.to_pandas()\n",
    "dfRecent.head()"
   ]
  },
  {
   "cell_type": "code",
   "execution_count": null,
   "id": "23c907d3",
   "metadata": {
    "id": "23c907d3"
   },
   "outputs": [],
   "source": [
    "dfRecent = dfRecent.merge(customers, on='customer_id', how='inner')"
   ]
  },
  {
   "cell_type": "code",
   "execution_count": null,
   "id": "1444d13f",
   "metadata": {
    "id": "1444d13f"
   },
   "outputs": [],
   "source": [
    "dfRecent = dfRecent.groupby(['age_bins', 'article_id']).count().reset_index().rename(columns={'customer_id': 'counts'})\n",
    "\n",
    "listUniBins = dfRecent['age_bins'].unique().tolist()\n",
    "\n",
    "dict100 = {}\n",
    "for uniBin in listUniBins:\n",
    "    dfTemp = dfRecent[dfRecent['age_bins'] == uniBin]\n",
    "    dfTemp = dfTemp.sort_values(by='counts', ascending=False)\n",
    "    dict100[uniBin] = dfTemp.head(100)['article_id'].values.tolist()\n",
    "\n",
    "df100 = pd.DataFrame([dict100]).T.rename(columns={0:'top100'})"
   ]
  },
  {
   "cell_type": "code",
   "execution_count": null,
   "id": "5f019200",
   "metadata": {
    "colab": {
     "base_uri": "https://localhost:8080/",
     "height": 394
    },
    "id": "5f019200",
    "outputId": "2370bf41-87ea-45f0-a8be-688a8e6be8c4"
   },
   "outputs": [
    {
     "data": {
      "text/plain": [
       "<matplotlib.axes._subplots.AxesSubplot at 0x7ff1e00d0350>"
      ]
     },
     "execution_count": 24,
     "metadata": {},
     "output_type": "execute_result"
    },
    {
     "data": {
      "image/png": "[encoded data removed]",
      "text/plain": [
       "<Figure size 720x432 with 1 Axes>"
      ]
     },
     "metadata": {},
     "output_type": "display_data"
    }
   ],
   "source": [
    "for index in df100.index:\n",
    "    df100[index] = [len(set(df100.at[index, 'top100']) & set(df100.at[x, 'top100']))/100 for x in df100.index]\n",
    "\n",
    "df100 = df100.drop(columns='top100')\n",
    "plt.figure(figsize=(10, 6))\n",
    "sns.heatmap(df100, annot=True, cbar=False);"
   ]
  },
  {
   "cell_type": "markdown",
   "id": "ad762c65",
   "metadata": {},
   "source": [
    "There is generally some correlation between the nearest age bin. however, it seems to be around 0.5 to 0.7. As such, I believe there is no real need to further split out age bins"
   ]
  },
  {
   "cell_type": "code",
   "execution_count": null,
   "id": "ab558b01",
   "metadata": {
    "colab": {
     "base_uri": "https://localhost:8080/",
     "height": 269
    },
    "id": "ab558b01",
    "outputId": "0353a423-df32-4962-89b0-e2d24fa6110e"
   },
   "outputs": [
    {
     "data": {
      "text/html": [
       "\n",
       "  <div id=\"df-d942a1c8-ba63-40ed-bfaf-01b947f1f20c\">\n",
       "    <div class=\"colab-df-container\">\n",
       "      <div>\n",
       "<style scoped>\n",
       "    .dataframe tbody tr th:only-of-type {\n",
       "        vertical-align: middle;\n",
       "    }\n",
       "\n",
       "    .dataframe tbody tr th {\n",
       "        vertical-align: top;\n",
       "    }\n",
       "\n",
       "    .dataframe thead th {\n",
       "        text-align: right;\n",
       "    }\n",
       "</style>\n",
       "<table border=\"1\" class=\"dataframe\">\n",
       "  <thead>\n",
       "    <tr style=\"text-align: right;\">\n",
       "      <th></th>\n",
       "      <th>(-1, 19]</th>\n",
       "      <th>(19, 29]</th>\n",
       "      <th>(29, 39]</th>\n",
       "      <th>(39, 49]</th>\n",
       "      <th>(49, 59]</th>\n",
       "      <th>(59, 69]</th>\n",
       "      <th>(69, 119]</th>\n",
       "    </tr>\n",
       "  </thead>\n",
       "  <tbody>\n",
       "    <tr>\n",
       "      <th>(-1, 19]</th>\n",
       "      <td>1.00</td>\n",
       "      <td>0.48</td>\n",
       "      <td>0.26</td>\n",
       "      <td>0.42</td>\n",
       "      <td>0.27</td>\n",
       "      <td>0.15</td>\n",
       "      <td>0.11</td>\n",
       "    </tr>\n",
       "    <tr>\n",
       "      <th>(19, 29]</th>\n",
       "      <td>0.48</td>\n",
       "      <td>1.00</td>\n",
       "      <td>0.63</td>\n",
       "      <td>0.49</td>\n",
       "      <td>0.47</td>\n",
       "      <td>0.30</td>\n",
       "      <td>0.24</td>\n",
       "    </tr>\n",
       "    <tr>\n",
       "      <th>(29, 39]</th>\n",
       "      <td>0.26</td>\n",
       "      <td>0.63</td>\n",
       "      <td>1.00</td>\n",
       "      <td>0.51</td>\n",
       "      <td>0.46</td>\n",
       "      <td>0.35</td>\n",
       "      <td>0.27</td>\n",
       "    </tr>\n",
       "    <tr>\n",
       "      <th>(39, 49]</th>\n",
       "      <td>0.42</td>\n",
       "      <td>0.49</td>\n",
       "      <td>0.51</td>\n",
       "      <td>1.00</td>\n",
       "      <td>0.65</td>\n",
       "      <td>0.42</td>\n",
       "      <td>0.32</td>\n",
       "    </tr>\n",
       "    <tr>\n",
       "      <th>(49, 59]</th>\n",
       "      <td>0.27</td>\n",
       "      <td>0.47</td>\n",
       "      <td>0.46</td>\n",
       "      <td>0.65</td>\n",
       "      <td>1.00</td>\n",
       "      <td>0.58</td>\n",
       "      <td>0.45</td>\n",
       "    </tr>\n",
       "    <tr>\n",
       "      <th>(59, 69]</th>\n",
       "      <td>0.15</td>\n",
       "      <td>0.30</td>\n",
       "      <td>0.35</td>\n",
       "      <td>0.42</td>\n",
       "      <td>0.58</td>\n",
       "      <td>1.00</td>\n",
       "      <td>0.67</td>\n",
       "    </tr>\n",
       "    <tr>\n",
       "      <th>(69, 119]</th>\n",
       "      <td>0.11</td>\n",
       "      <td>0.24</td>\n",
       "      <td>0.27</td>\n",
       "      <td>0.32</td>\n",
       "      <td>0.45</td>\n",
       "      <td>0.67</td>\n",
       "      <td>1.00</td>\n",
       "    </tr>\n",
       "  </tbody>\n",
       "</table>\n",
       "</div>\n",
       "      <button class=\"colab-df-convert\" onclick=\"convertToInteractive('df-d942a1c8-ba63-40ed-bfaf-01b947f1f20c')\"\n",
       "              title=\"Convert this dataframe to an interactive table.\"\n",
       "              style=\"display:none;\">\n",
       "        \n",
       "  <svg xmlns=\"http://www.w3.org/2000/svg\" height=\"24px\"viewBox=\"0 0 24 24\"\n",
       "       width=\"24px\">\n",
       "    <path d=\"M0 0h24v24H0V0z\" fill=\"none\"/>\n",
       "    <path d=\"M18.56 5.44l.94 2.06.94-2.06 2.06-.94-2.06-.94-.94-2.06-.94 2.06-2.06.94zm-11 1L8.5 8.5l.94-2.06 2.06-.94-2.06-.94L8.5 2.5l-.94 2.06-2.06.94zm10 10l.94 2.06.94-2.06 2.06-.94-2.06-.94-.94-2.06-.94 2.06-2.06.94z\"/><path d=\"M17.41 7.96l-1.37-1.37c-.4-.4-.92-.59-1.43-.59-.52 0-1.04.2-1.43.59L10.3 9.45l-7.72 7.72c-.78.78-.78 2.05 0 2.83L4 21.41c.39.39.9.59 1.41.59.51 0 1.02-.2 1.41-.59l7.78-7.78 2.81-2.81c.8-.78.8-2.07 0-2.86zM5.41 20L4 18.59l7.72-7.72 1.47 1.35L5.41 20z\"/>\n",
       "  </svg>\n",
       "      </button>\n",
       "      \n",
       "  <style>\n",
       "    .colab-df-container {\n",
       "      display:flex;\n",
       "      flex-wrap:wrap;\n",
       "      gap: 12px;\n",
       "    }\n",
       "\n",
       "    .colab-df-convert {\n",
       "      background-color: #E8F0FE;\n",
       "      border: none;\n",
       "      border-radius: 50%;\n",
       "      cursor: pointer;\n",
       "      display: none;\n",
       "      fill: #1967D2;\n",
       "      height: 32px;\n",
       "      padding: 0 0 0 0;\n",
       "      width: 32px;\n",
       "    }\n",
       "\n",
       "    .colab-df-convert:hover {\n",
       "      background-color: #E2EBFA;\n",
       "      box-shadow: 0px 1px 2px rgba(60, 64, 67, 0.3), 0px 1px 3px 1px rgba(60, 64, 67, 0.15);\n",
       "      fill: #174EA6;\n",
       "    }\n",
       "\n",
       "    [theme=dark] .colab-df-convert {\n",
       "      background-color: #3B4455;\n",
       "      fill: #D2E3FC;\n",
       "    }\n",
       "\n",
       "    [theme=dark] .colab-df-convert:hover {\n",
       "      background-color: #434B5C;\n",
       "      box-shadow: 0px 1px 3px 1px rgba(0, 0, 0, 0.15);\n",
       "      filter: drop-shadow(0px 1px 2px rgba(0, 0, 0, 0.3));\n",
       "      fill: #FFFFFF;\n",
       "    }\n",
       "  </style>\n",
       "\n",
       "      <script>\n",
       "        const buttonEl =\n",
       "          document.querySelector('#df-d942a1c8-ba63-40ed-bfaf-01b947f1f20c button.colab-df-convert');\n",
       "        buttonEl.style.display =\n",
       "          google.colab.kernel.accessAllowed ? 'block' : 'none';\n",
       "\n",
       "        async function convertToInteractive(key) {\n",
       "          const element = document.querySelector('#df-d942a1c8-ba63-40ed-bfaf-01b947f1f20c');\n",
       "          const dataTable =\n",
       "            await google.colab.kernel.invokeFunction('convertToInteractive',\n",
       "                                                     [key], {});\n",
       "          if (!dataTable) return;\n",
       "\n",
       "          const docLinkHtml = 'Like what you see? Visit the ' +\n",
       "            '<a target=\"_blank\" href=https://colab.research.google.com/notebooks/data_table.ipynb>data table notebook</a>'\n",
       "            + ' to learn more about interactive tables.';\n",
       "          element.innerHTML = '';\n",
       "          dataTable['output_type'] = 'display_data';\n",
       "          await google.colab.output.renderOutput(dataTable, element);\n",
       "          const docLink = document.createElement('div');\n",
       "          docLink.innerHTML = docLinkHtml;\n",
       "          element.appendChild(docLink);\n",
       "        }\n",
       "      </script>\n",
       "    </div>\n",
       "  </div>\n",
       "  "
      ],
      "text/plain": [
       "           (-1, 19]  (19, 29]  (29, 39]  (39, 49]  (49, 59]  (59, 69]  \\\n",
       "(-1, 19]       1.00      0.48      0.26      0.42      0.27      0.15   \n",
       "(19, 29]       0.48      1.00      0.63      0.49      0.47      0.30   \n",
       "(29, 39]       0.26      0.63      1.00      0.51      0.46      0.35   \n",
       "(39, 49]       0.42      0.49      0.51      1.00      0.65      0.42   \n",
       "(49, 59]       0.27      0.47      0.46      0.65      1.00      0.58   \n",
       "(59, 69]       0.15      0.30      0.35      0.42      0.58      1.00   \n",
       "(69, 119]      0.11      0.24      0.27      0.32      0.45      0.67   \n",
       "\n",
       "           (69, 119]  \n",
       "(-1, 19]        0.11  \n",
       "(19, 29]        0.24  \n",
       "(29, 39]        0.27  \n",
       "(39, 49]        0.32  \n",
       "(49, 59]        0.45  \n",
       "(59, 69]        0.67  \n",
       "(69, 119]       1.00  "
      ]
     },
     "execution_count": 25,
     "metadata": {},
     "output_type": "execute_result"
    }
   ],
   "source": [
    "df100"
   ]
  },
  {
   "cell_type": "code",
   "execution_count": null,
   "id": "05e9be61",
   "metadata": {
    "id": "05e9be61"
   },
   "outputs": [],
   "source": [
    "N = 12\n",
    "listUniBins = customers['age_bins'].unique().tolist()"
   ]
  },
  {
   "cell_type": "code",
   "execution_count": null,
   "id": "556cde83",
   "metadata": {
    "colab": {
     "base_uri": "https://localhost:8080/"
    },
    "id": "556cde83",
    "outputId": "d33761de-e68c-4e19-ca80-b491d427c825"
   },
   "outputs": [
    {
     "name": "stdout",
     "output_type": "stream",
     "text": [
      "The shape of scope transaction for (39.0, 49.0] is (4908363, 4). \n",
      "\n",
      "Saved prediction for (39.0, 49.0]. The shape is (204118, 2). \n",
      "\n",
      "--------------------------------------------------\n",
      "The shape of scope transaction for (19.0, 29.0] is (13058587, 4). \n",
      "\n",
      "Saved prediction for (19.0, 29.0]. The shape is (528358, 2). \n",
      "\n",
      "--------------------------------------------------\n",
      "The shape of scope transaction for (49.0, 59.0] is (5136958, 4). \n",
      "\n",
      "Saved prediction for (49.0, 59.0]. The shape is (226242, 2). \n",
      "\n",
      "--------------------------------------------------\n",
      "The shape of scope transaction for nan is (140258, 4). \n",
      "\n",
      "Saved prediction for nan. The shape is (15861, 2). \n",
      "\n",
      "--------------------------------------------------\n",
      "The shape of scope transaction for (29.0, 39.0] is (6428863, 4). \n",
      "\n",
      "Saved prediction for (29.0, 39.0]. The shape is (234068, 2). \n",
      "\n",
      "--------------------------------------------------\n",
      "The shape of scope transaction for (69.0, 119.0] is (220067, 4). \n",
      "\n",
      "Saved prediction for (69.0, 119.0]. The shape is (19127, 2). \n",
      "\n",
      "--------------------------------------------------\n",
      "The shape of scope transaction for (59.0, 69.0] is (1203826, 4). \n",
      "\n",
      "Saved prediction for (59.0, 69.0]. The shape is (72623, 2). \n",
      "\n",
      "--------------------------------------------------\n",
      "The shape of scope transaction for (-1.0, 19.0] is (691402, 4). \n",
      "\n",
      "Saved prediction for (-1.0, 19.0]. The shape is (71583, 2). \n",
      "\n",
      "--------------------------------------------------\n",
      "Finished.\n",
      "\n",
      "==================================================\n"
     ]
    }
   ],
   "source": [
    "for uniBin in listUniBins:\n",
    "    df  = cudf.read_csv(PATH_INPUT + 'transactions_train.csv',\n",
    "                            usecols= ['t_dat', 'customer_id', 'article_id'], \n",
    "                            dtype={'article_id': 'int32', 't_dat': 'string', 'customer_id': 'string'})\n",
    "    if str(uniBin) == 'nan':\n",
    "        dfCustomersTemp = customers[customers['age_bins'].isnull()]\n",
    "    else:\n",
    "        dfCustomersTemp = customers[customers['age_bins'] == uniBin]\n",
    "    \n",
    "    dfCustomersTemp = dfCustomersTemp.drop(['age_bins'], axis=1)\n",
    "    dfCustomersTemp = cudf.from_pandas(dfCustomersTemp)\n",
    "    \n",
    "    df = df.merge(dfCustomersTemp[['customer_id', 'age']], on='customer_id', how='inner')\n",
    "    print(f'The shape of scope transaction for {uniBin} is {df.shape}. \\n')\n",
    "          \n",
    "    df ['customer_id'] = df ['customer_id'].str[-16:].str.hex_to_int().astype('int64')\n",
    "    df['t_dat'] = cudf.to_datetime(df['t_dat'])\n",
    "    last_ts = df['t_dat'].max()\n",
    "\n",
    "    tmp = df[['t_dat']].copy().to_pandas()\n",
    "    tmp['dow'] = tmp['t_dat'].dt.dayofweek\n",
    "    tmp['ldbw'] = tmp['t_dat'] - pd.TimedeltaIndex(tmp['dow'] - 1, unit='D')\n",
    "    tmp.loc[tmp['dow'] >=2 , 'ldbw'] = tmp.loc[tmp['dow'] >=2 , 'ldbw'] + pd.TimedeltaIndex(np.ones(len(tmp.loc[tmp['dow'] >=2])) * 7, unit='D')\n",
    "\n",
    "    df['ldbw'] = tmp['ldbw'].values\n",
    "    \n",
    "    weekly_sales = df.drop('customer_id', axis=1).groupby(['ldbw', 'article_id']).count().reset_index()\n",
    "    weekly_sales = weekly_sales.rename(columns={'t_dat': 'count'})\n",
    "    \n",
    "    df = df.merge(weekly_sales, on=['ldbw', 'article_id'], how = 'left')\n",
    "    \n",
    "    weekly_sales = weekly_sales.reset_index().set_index('article_id')\n",
    "\n",
    "    df = df.merge(\n",
    "        weekly_sales.loc[weekly_sales['ldbw']==last_ts, ['count']],\n",
    "        on='article_id', suffixes=(\"\", \"_targ\"))\n",
    "\n",
    "    df['count_targ'].fillna(0, inplace=True)\n",
    "    del weekly_sales\n",
    "    \n",
    "    df['quotient'] = df['count_targ'] / df['count']\n",
    "    \n",
    "    target_sales = df.drop('customer_id', axis=1).groupby('article_id')['quotient'].sum()\n",
    "    general_pred = target_sales.nlargest(N).index.to_pandas().tolist()\n",
    "    general_pred = ['0' + str(article_id) for article_id in general_pred]\n",
    "    general_pred_str =  ' '.join(general_pred)\n",
    "    del target_sales\n",
    "    \n",
    "    purchase_dict = {}\n",
    "\n",
    "    tmp = df.copy().to_pandas()\n",
    "    tmp['x'] = ((last_ts - tmp['t_dat']) / np.timedelta64(1, 'D')).astype(int)\n",
    "    tmp['dummy_1'] = 1 \n",
    "    tmp['x'] = tmp[[\"x\", \"dummy_1\"]].max(axis=1)\n",
    "\n",
    "    a, b, c, d = 2.5e4, 1.5e5, 2e-1, 1e3\n",
    "    tmp['y'] = a / np.sqrt(tmp['x']) + b * np.exp(-c*tmp['x']) - d\n",
    "\n",
    "    tmp['dummy_0'] = 0 \n",
    "    tmp['y'] = tmp[[\"y\", \"dummy_0\"]].max(axis=1)\n",
    "    tmp['value'] = tmp['quotient'] * tmp['y'] \n",
    "\n",
    "    tmp = tmp.groupby(['customer_id', 'article_id']).agg({'value': 'sum'})\n",
    "    tmp = tmp.reset_index()\n",
    "\n",
    "    tmp = tmp.loc[tmp['value'] > 0]\n",
    "    tmp['rank'] = tmp.groupby(\"customer_id\")[\"value\"].rank(\"dense\", ascending=False)\n",
    "    tmp = tmp.loc[tmp['rank'] <= 12]\n",
    "\n",
    "    purchase_df = tmp.sort_values(['customer_id', 'value'], ascending = False).reset_index(drop = True)\n",
    "    purchase_df['prediction'] = '0' + purchase_df['article_id'].astype(str) + ' '\n",
    "    purchase_df = purchase_df.groupby('customer_id').agg({'prediction': sum}).reset_index()\n",
    "    purchase_df['prediction'] = purchase_df['prediction'].str.strip()\n",
    "    purchase_df = cudf.DataFrame(purchase_df)\n",
    "    \n",
    "    sub  = cudf.read_csv(PATH_INPUT + 'sample_submission.csv',\n",
    "                            usecols= ['customer_id'], \n",
    "                            dtype={'customer_id': 'string'})\n",
    "    \n",
    "    numCustomers = sub.shape[0]\n",
    "    \n",
    "    sub = sub.merge(dfCustomersTemp[['customer_id', 'age']], on='customer_id', how='inner')\n",
    "\n",
    "    sub['customer_id2'] = sub['customer_id'].str[-16:].str.hex_to_int().astype('int64')\n",
    "\n",
    "    sub = sub.merge(purchase_df, left_on = 'customer_id2', right_on = 'customer_id', how = 'left',\n",
    "                   suffixes = ('', '_ignored'))\n",
    "\n",
    "    sub = sub.to_pandas()\n",
    "    sub['prediction'] = sub['prediction'].fillna(general_pred_str)\n",
    "    sub['prediction'] = sub['prediction'] + ' ' +  general_pred_str\n",
    "    sub['prediction'] = sub['prediction'].str.strip()\n",
    "    sub['prediction'] = sub['prediction'].str[:131]\n",
    "    sub = sub[['customer_id', 'prediction']]\n",
    "    sub.to_csv(f'submission_' + str(uniBin) + '.csv',index=False)\n",
    "    print(f'Saved prediction for {uniBin}. The shape is {sub.shape}. \\n')\n",
    "    print('-'*50)\n",
    "print('Finished.\\n')\n",
    "print('='*50)"
   ]
  },
  {
   "cell_type": "markdown",
   "id": "827d9926",
   "metadata": {},
   "source": [
    "## Submission"
   ]
  },
  {
   "cell_type": "code",
   "execution_count": null,
   "id": "dfcf7af6",
   "metadata": {
    "colab": {
     "base_uri": "https://localhost:8080/"
    },
    "id": "dfcf7af6",
    "outputId": "7c3b012c-7dca-4530-cbdd-eb95ee05e588"
   },
   "outputs": [
    {
     "name": "stdout",
     "output_type": "stream",
     "text": [
      "Saved age.csv.\n"
     ]
    }
   ],
   "source": [
    "for i, uniBin in enumerate(listUniBins):\n",
    "    dfTemp  = cudf.read_csv(f'submission_' + str(uniBin) + '.csv')\n",
    "    if i == 0:\n",
    "        dfSub = dfTemp\n",
    "    else:\n",
    "        dfSub = cudf.concat([dfSub, dfTemp], axis=0)\n",
    "\n",
    "assert dfSub.shape[0] == numCustomers, f'The number of dfSub rows is not correct. {dfSub.shape[0]} vs {numCustomers}.'\n",
    "\n",
    "dfSub.to_csv('/content/drive/MyDrive/datasets/age.csv', index=False)\n",
    "print(f'Saved age.csv.')"
   ]
  },
  {
   "cell_type": "markdown",
   "id": "xSbwF_YfuDiv",
   "metadata": {
    "id": "xSbwF_YfuDiv"
   },
   "source": [
    "Kaggle score returned MAP@ 12 of 0.0227, which is highest so far."
   ]
  }
 ],
 "metadata": {
  "accelerator": "GPU",
  "colab": {
   "collapsed_sections": [],
   "name": "cuDF Customers age capstone part 5.ipynb",
   "provenance": []
  },
  "kernelspec": {
   "display_name": "Python 3 (ipykernel)",
   "language": "python",
   "name": "python3"
  },
  "language_info": {
   "codemirror_mode": {
    "name": "ipython",
    "version": 3
   },
   "file_extension": ".py",
   "mimetype": "text/x-python",
   "name": "python",
   "nbconvert_exporter": "python",
   "pygments_lexer": "ipython3",
   "version": "3.7.13"
  }
 },
 "nbformat": 4,
 "nbformat_minor": 5
}
