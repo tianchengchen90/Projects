{
 "cells": [
  {
   "cell_type": "markdown",
   "id": "91c6512c",
   "metadata": {},
   "source": [
    "## Capstone Part 3 - Preprocessing for LGBM Ranker model"
   ]
  },
  {
   "cell_type": "markdown",
   "id": "0c9510ab",
   "metadata": {},
   "source": [
    "In this notebook, I will attempt to use parquet and other techniques to reduce the file sizes for use in Light GBM Ranker."
   ]
  },
  {
   "cell_type": "code",
   "execution_count": 18,
   "id": "f7c3d694",
   "metadata": {},
   "outputs": [],
   "source": [
    "# Import libraries\n",
    "import pandas as pd\n",
    "import numpy as np"
   ]
  },
  {
   "cell_type": "code",
   "execution_count": 2,
   "id": "a986c2d1",
   "metadata": {},
   "outputs": [],
   "source": [
    "# Read csv files\n",
    "transactions = pd.read_csv('../datasets/transactions_train.csv', dtype={\"article_id\": \"str\"})\n",
    "customers = pd.read_csv('../datasets/customers_cleaned.csv')\n",
    "articles = pd.read_csv('../datasets/articles_cleaned.csv', dtype={\"article_id\": \"str\"})"
   ]
  },
  {
   "cell_type": "markdown",
   "id": "445c9ddb",
   "metadata": {},
   "source": [
    "## Steps below performed to save memory"
   ]
  },
  {
   "cell_type": "code",
   "execution_count": 3,
   "id": "8ad0504c",
   "metadata": {},
   "outputs": [],
   "source": [
    "# helper functions from following link:\n",
    "# https://www.kaggle.com/c/h-and-m-personalized-fashion-recommendations/discussion/308635\n",
    "def customer_hex_id_to_int(series):\n",
    "    return series.str[-16:].apply(hex_id_to_int)\n",
    "\n",
    "def hex_id_to_int(str):\n",
    "    return int(str[-16:], 16)\n",
    "\n",
    "def article_id_str_to_int(series):\n",
    "    return series.astype('int32')\n",
    "\n",
    "def article_id_int_to_str(series):\n",
    "    return '0' + series.astype('str')"
   ]
  },
  {
   "cell_type": "code",
   "execution_count": 4,
   "id": "08462570",
   "metadata": {},
   "outputs": [],
   "source": [
    "transactions['customer_id'] = customer_hex_id_to_int(transactions['customer_id'])"
   ]
  },
  {
   "cell_type": "code",
   "execution_count": 5,
   "id": "22b36ff2",
   "metadata": {},
   "outputs": [],
   "source": [
    "transactions.t_dat = pd.to_datetime(transactions.t_dat, format='%Y-%m-%d')"
   ]
  },
  {
   "cell_type": "code",
   "execution_count": 6,
   "id": "95c1b7d7",
   "metadata": {},
   "outputs": [],
   "source": [
    "# Impute week column, // used to not have rounding but whole number for week\n",
    "transactions['week'] = 104 - (transactions.t_dat.max() - transactions.t_dat).dt.days // 7"
   ]
  },
  {
   "cell_type": "code",
   "execution_count": 7,
   "id": "374bdb7a",
   "metadata": {},
   "outputs": [],
   "source": [
    "transactions.article_id = article_id_str_to_int(transactions.article_id)\n",
    "articles.article_id = article_id_str_to_int(articles.article_id)\n",
    "\n",
    "transactions.week = transactions.week.astype('int8')\n",
    "transactions.sales_channel_id = transactions.sales_channel_id.astype('int8')\n",
    "transactions.price = transactions.price.astype('float32')"
   ]
  },
  {
   "cell_type": "code",
   "execution_count": 8,
   "id": "65a70ea8",
   "metadata": {},
   "outputs": [],
   "source": [
    "customers.customer_id = customer_hex_id_to_int(customers.customer_id)\n",
    "for col in ['FN', 'Active', 'age']:\n",
    "    customers[col].fillna(-1, inplace=True)\n",
    "    customers[col] = customers[col].astype('int8')"
   ]
  },
  {
   "cell_type": "code",
   "execution_count": 11,
   "id": "5fe5ad39",
   "metadata": {},
   "outputs": [],
   "source": [
    "# helper function\n",
    "from sklearn.base import BaseEstimator, TransformerMixin\n",
    "class Categorize(BaseEstimator, TransformerMixin):\n",
    "    def __init__(self, min_examples=0):\n",
    "        self.min_examples = min_examples\n",
    "        self.categories = []\n",
    "        \n",
    "    def fit(self, X):\n",
    "        for i in range(X.shape[1]):\n",
    "            vc = X.iloc[:, i].value_counts()\n",
    "            self.categories.append(vc[vc > self.min_examples].index.tolist())\n",
    "        return self\n",
    "\n",
    "    def transform(self, X):\n",
    "        data = {X.columns[i]: pd.Categorical(X.iloc[:, i], categories=self.categories[i]).codes for i in range(X.shape[1])}\n",
    "        return pd.DataFrame(data=data)"
   ]
  },
  {
   "cell_type": "code",
   "execution_count": 12,
   "id": "ec2ae711",
   "metadata": {},
   "outputs": [],
   "source": [
    "customers.club_member_status = Categorize().fit_transform(customers[['club_member_status']]).club_member_status\n",
    "customers.postal_code = Categorize().fit_transform(customers[['postal_code']]).postal_code\n",
    "customers.fashion_news_frequency = Categorize().fit_transform(customers[['fashion_news_frequency']]).fashion_news_frequency"
   ]
  },
  {
   "cell_type": "code",
   "execution_count": 13,
   "id": "fc1d8d88",
   "metadata": {},
   "outputs": [],
   "source": [
    "for col in articles.columns:\n",
    "    if articles[col].dtype == 'object':\n",
    "        articles[col] = Categorize().fit_transform(articles[[col]])[col]"
   ]
  },
  {
   "cell_type": "code",
   "execution_count": 14,
   "id": "9fc4a8b2",
   "metadata": {},
   "outputs": [],
   "source": [
    "for col in articles.columns:\n",
    "    if articles[col].dtype == 'int64':\n",
    "        articles[col] = articles[col].astype('int32')"
   ]
  },
  {
   "cell_type": "code",
   "execution_count": 15,
   "id": "96cae404",
   "metadata": {},
   "outputs": [],
   "source": [
    "transactions.sort_values(['t_dat', 'customer_id'], inplace=True)"
   ]
  },
  {
   "cell_type": "code",
   "execution_count": 16,
   "id": "399bdbbd",
   "metadata": {},
   "outputs": [
    {
     "data": {
      "text/html": [
       "<div>\n",
       "<style scoped>\n",
       "    .dataframe tbody tr th:only-of-type {\n",
       "        vertical-align: middle;\n",
       "    }\n",
       "\n",
       "    .dataframe tbody tr th {\n",
       "        vertical-align: top;\n",
       "    }\n",
       "\n",
       "    .dataframe thead th {\n",
       "        text-align: right;\n",
       "    }\n",
       "</style>\n",
       "<table border=\"1\" class=\"dataframe\">\n",
       "  <thead>\n",
       "    <tr style=\"text-align: right;\">\n",
       "      <th></th>\n",
       "      <th>t_dat</th>\n",
       "      <th>customer_id</th>\n",
       "      <th>article_id</th>\n",
       "      <th>price</th>\n",
       "      <th>sales_channel_id</th>\n",
       "      <th>week</th>\n",
       "    </tr>\n",
       "  </thead>\n",
       "  <tbody>\n",
       "    <tr>\n",
       "      <th>31774722</th>\n",
       "      <td>2020-09-22</td>\n",
       "      <td>18439937050817258297</td>\n",
       "      <td>891591003</td>\n",
       "      <td>0.084729</td>\n",
       "      <td>2</td>\n",
       "      <td>104</td>\n",
       "    </tr>\n",
       "    <tr>\n",
       "      <th>31774723</th>\n",
       "      <td>2020-09-22</td>\n",
       "      <td>18439937050817258297</td>\n",
       "      <td>869706005</td>\n",
       "      <td>0.084729</td>\n",
       "      <td>2</td>\n",
       "      <td>104</td>\n",
       "    </tr>\n",
       "    <tr>\n",
       "      <th>31779097</th>\n",
       "      <td>2020-09-22</td>\n",
       "      <td>18440902715633436014</td>\n",
       "      <td>918894002</td>\n",
       "      <td>0.016932</td>\n",
       "      <td>1</td>\n",
       "      <td>104</td>\n",
       "    </tr>\n",
       "    <tr>\n",
       "      <th>31779098</th>\n",
       "      <td>2020-09-22</td>\n",
       "      <td>18440902715633436014</td>\n",
       "      <td>761269001</td>\n",
       "      <td>0.016932</td>\n",
       "      <td>1</td>\n",
       "      <td>104</td>\n",
       "    </tr>\n",
       "    <tr>\n",
       "      <th>31780475</th>\n",
       "      <td>2020-09-22</td>\n",
       "      <td>18443633011701112574</td>\n",
       "      <td>914868002</td>\n",
       "      <td>0.033881</td>\n",
       "      <td>1</td>\n",
       "      <td>104</td>\n",
       "    </tr>\n",
       "  </tbody>\n",
       "</table>\n",
       "</div>"
      ],
      "text/plain": [
       "              t_dat           customer_id  article_id     price  \\\n",
       "31774722 2020-09-22  18439937050817258297   891591003  0.084729   \n",
       "31774723 2020-09-22  18439937050817258297   869706005  0.084729   \n",
       "31779097 2020-09-22  18440902715633436014   918894002  0.016932   \n",
       "31779098 2020-09-22  18440902715633436014   761269001  0.016932   \n",
       "31780475 2020-09-22  18443633011701112574   914868002  0.033881   \n",
       "\n",
       "          sales_channel_id  week  \n",
       "31774722                 2   104  \n",
       "31774723                 2   104  \n",
       "31779097                 1   104  \n",
       "31779098                 1   104  \n",
       "31780475                 1   104  "
      ]
     },
     "execution_count": 16,
     "metadata": {},
     "output_type": "execute_result"
    }
   ],
   "source": [
    "transactions.tail()"
   ]
  },
  {
   "cell_type": "code",
   "execution_count": 17,
   "id": "5cc5df5b",
   "metadata": {},
   "outputs": [],
   "source": [
    "transactions_5w = transactions[transactions['week']>99]"
   ]
  },
  {
   "cell_type": "code",
   "execution_count": null,
   "id": "c5edd595",
   "metadata": {},
   "outputs": [],
   "source": [
    "transactions.to_parquet('../datasets/transactions_train.parquet')\n",
    "transactions_5w.to_parquet('../datasets/transactions_5w_train.parquet')\n",
    "customers.to_parquet('../datasets/customers.parquet')\n",
    "articles.to_parquet('../datasets/articles.parquet')"
   ]
  }
 ],
 "metadata": {
  "kernelspec": {
   "display_name": "Python 3 (ipykernel)",
   "language": "python",
   "name": "python3"
  },
  "language_info": {
   "codemirror_mode": {
    "name": "ipython",
    "version": 3
   },
   "file_extension": ".py",
   "mimetype": "text/x-python",
   "name": "python",
   "nbconvert_exporter": "python",
   "pygments_lexer": "ipython3",
   "version": "3.7.13"
  }
 },
 "nbformat": 4,
 "nbformat_minor": 5
}
