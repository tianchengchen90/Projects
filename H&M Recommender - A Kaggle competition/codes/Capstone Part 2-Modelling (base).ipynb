{
 "cells": [
  {
   "cell_type": "markdown",
   "id": "f1ef938c",
   "metadata": {},
   "source": [
    "## H&M Recommender system - Capstone Part 2"
   ]
  },
  {
   "cell_type": "markdown",
   "id": "8f45df5b",
   "metadata": {},
   "source": [
    "The focus of this notebook is to make use of Kaggle submission scores to uncover facts of the underlying purchasing habits of customers, in order to better come up with a recommender. A non machine learning, rule based approach will be used for the base model, and further models will seek to add additional features. \n",
    "\n",
    "This base model was created before I learnt about tools such as higher RAM and GPU use on Google Colab, RAPIDS cuDF, parquet files and other memory saving techniques.\n",
    "\n",
    "For the base model, the focus is:\n",
    "\n",
    "- 1) Dealing with the common problem of cold start, by recommending popular items.\n",
    "- 2) Dealing with customers who are returning, by recommending items previously purchased.\n",
    "\n",
    "As a preliminary conclusion, I found that the last 5 weeks seems to be the most relevant to predict the 1 week ahead. \n",
    "\n",
    "Based on my research and understanding of H&M, the company is in fast fashion, and items for sale can change every season. Taking the most recent information only will forgo past purchasing information from the customers but there is also a trade off when we take old information, which is that the product in the old transactions are no longer in season and not for sale anymore. In my iterative process of 9 submissions, which I have left my entire workings below, I will attempt to find that best trade off number of weeks."
   ]
  },
  {
   "cell_type": "code",
   "execution_count": 1,
   "id": "b0fb0b8c",
   "metadata": {},
   "outputs": [],
   "source": [
    "import numpy as np\n",
    "import pandas as pd"
   ]
  },
  {
   "cell_type": "code",
   "execution_count": 2,
   "id": "1ced6196",
   "metadata": {},
   "outputs": [],
   "source": [
    "transactions = pd.read_csv('../datasets/transactions_train.csv', dtype={'article_id': str})\n",
    "transactions['t_dat'] = pd.to_datetime(transactions['t_dat'])\n",
    "transactions['month'] = transactions['t_dat'].dt.month\n",
    "transactions['year'] = transactions['t_dat'].dt.year\n",
    "\n",
    "submission = pd.read_csv('../datasets/sample_submission.csv')"
   ]
  },
  {
   "cell_type": "markdown",
   "id": "64d66740",
   "metadata": {},
   "source": [
    "### Baseline model - using June to November as in season months"
   ]
  },
  {
   "cell_type": "markdown",
   "id": "a8d55156",
   "metadata": {},
   "source": [
    "Based on best guess of season as stated in my EDA notebook, I will be zooming in to June to November as the periods of concern since it is likely that the clothing that is most popularly sold will be summer and autumn collection. To deal with cold start users, I will recommend them the most popular 12 items in the season."
   ]
  },
  {
   "cell_type": "code",
   "execution_count": 8,
   "id": "de60f43d",
   "metadata": {},
   "outputs": [],
   "source": [
    "# zoom in transaction to only June to November\n",
    "transactions_season = transactions.loc[transactions['month'].isin([6,7,8,9,10,11])]\n",
    "transactions_season.reset_index(drop=True, inplace=True)"
   ]
  },
  {
   "cell_type": "code",
   "execution_count": 9,
   "id": "0c2f72b5",
   "metadata": {},
   "outputs": [
    {
     "data": {
      "text/html": [
       "<div>\n",
       "<style scoped>\n",
       "    .dataframe tbody tr th:only-of-type {\n",
       "        vertical-align: middle;\n",
       "    }\n",
       "\n",
       "    .dataframe tbody tr th {\n",
       "        vertical-align: top;\n",
       "    }\n",
       "\n",
       "    .dataframe thead th {\n",
       "        text-align: right;\n",
       "    }\n",
       "</style>\n",
       "<table border=\"1\" class=\"dataframe\">\n",
       "  <thead>\n",
       "    <tr style=\"text-align: right;\">\n",
       "      <th></th>\n",
       "      <th>t_dat</th>\n",
       "      <th>customer_id</th>\n",
       "      <th>article_id</th>\n",
       "      <th>price</th>\n",
       "      <th>sales_channel_id</th>\n",
       "      <th>month</th>\n",
       "      <th>year</th>\n",
       "    </tr>\n",
       "  </thead>\n",
       "  <tbody>\n",
       "    <tr>\n",
       "      <th>0</th>\n",
       "      <td>2018-09-20</td>\n",
       "      <td>000058a12d5b43e67d225668fa1f8d618c13dc232df0ca...</td>\n",
       "      <td>0663713001</td>\n",
       "      <td>0.050831</td>\n",
       "      <td>2</td>\n",
       "      <td>9</td>\n",
       "      <td>2018</td>\n",
       "    </tr>\n",
       "    <tr>\n",
       "      <th>1</th>\n",
       "      <td>2018-09-20</td>\n",
       "      <td>000058a12d5b43e67d225668fa1f8d618c13dc232df0ca...</td>\n",
       "      <td>0541518023</td>\n",
       "      <td>0.030492</td>\n",
       "      <td>2</td>\n",
       "      <td>9</td>\n",
       "      <td>2018</td>\n",
       "    </tr>\n",
       "    <tr>\n",
       "      <th>2</th>\n",
       "      <td>2018-09-20</td>\n",
       "      <td>00007d2de826758b65a93dd24ce629ed66842531df6699...</td>\n",
       "      <td>0505221004</td>\n",
       "      <td>0.015237</td>\n",
       "      <td>2</td>\n",
       "      <td>9</td>\n",
       "      <td>2018</td>\n",
       "    </tr>\n",
       "    <tr>\n",
       "      <th>3</th>\n",
       "      <td>2018-09-20</td>\n",
       "      <td>00007d2de826758b65a93dd24ce629ed66842531df6699...</td>\n",
       "      <td>0685687003</td>\n",
       "      <td>0.016932</td>\n",
       "      <td>2</td>\n",
       "      <td>9</td>\n",
       "      <td>2018</td>\n",
       "    </tr>\n",
       "    <tr>\n",
       "      <th>4</th>\n",
       "      <td>2018-09-20</td>\n",
       "      <td>00007d2de826758b65a93dd24ce629ed66842531df6699...</td>\n",
       "      <td>0685687004</td>\n",
       "      <td>0.016932</td>\n",
       "      <td>2</td>\n",
       "      <td>9</td>\n",
       "      <td>2018</td>\n",
       "    </tr>\n",
       "  </tbody>\n",
       "</table>\n",
       "</div>"
      ],
      "text/plain": [
       "       t_dat                                        customer_id  article_id  \\\n",
       "0 2018-09-20  000058a12d5b43e67d225668fa1f8d618c13dc232df0ca...  0663713001   \n",
       "1 2018-09-20  000058a12d5b43e67d225668fa1f8d618c13dc232df0ca...  0541518023   \n",
       "2 2018-09-20  00007d2de826758b65a93dd24ce629ed66842531df6699...  0505221004   \n",
       "3 2018-09-20  00007d2de826758b65a93dd24ce629ed66842531df6699...  0685687003   \n",
       "4 2018-09-20  00007d2de826758b65a93dd24ce629ed66842531df6699...  0685687004   \n",
       "\n",
       "      price  sales_channel_id  month  year  \n",
       "0  0.050831                 2      9  2018  \n",
       "1  0.030492                 2      9  2018  \n",
       "2  0.015237                 2      9  2018  \n",
       "3  0.016932                 2      9  2018  \n",
       "4  0.016932                 2      9  2018  "
      ]
     },
     "execution_count": 9,
     "metadata": {},
     "output_type": "execute_result"
    }
   ],
   "source": [
    "transactions_season.head()"
   ]
  },
  {
   "cell_type": "code",
   "execution_count": 10,
   "id": "72adbb77",
   "metadata": {},
   "outputs": [
    {
     "name": "stdout",
     "output_type": "stream",
     "text": [
      "1074208\n"
     ]
    }
   ],
   "source": [
    "# Create purchase dictionary for customer and article belonging to June to November period\n",
    "purchase_dict = {}\n",
    "\n",
    "for i,x in enumerate(zip(transactions_season['customer_id'], transactions_season['article_id'])):\n",
    "    cust_id, art_id = x\n",
    "    if cust_id not in purchase_dict:\n",
    "        purchase_dict[cust_id] = {}\n",
    "    \n",
    "    if art_id not in purchase_dict[cust_id]:\n",
    "        purchase_dict[cust_id][art_id] = 0\n",
    "    \n",
    "    purchase_dict[cust_id][art_id] += 1\n",
    "    \n",
    "print(len(purchase_dict))"
   ]
  },
  {
   "cell_type": "code",
   "execution_count": 13,
   "id": "f281a1e4",
   "metadata": {},
   "outputs": [
    {
     "name": "stdout",
     "output_type": "stream",
     "text": [
      "(1371980, 2)\n"
     ]
    },
    {
     "data": {
      "text/html": [
       "<div>\n",
       "<style scoped>\n",
       "    .dataframe tbody tr th:only-of-type {\n",
       "        vertical-align: middle;\n",
       "    }\n",
       "\n",
       "    .dataframe tbody tr th {\n",
       "        vertical-align: top;\n",
       "    }\n",
       "\n",
       "    .dataframe thead th {\n",
       "        text-align: right;\n",
       "    }\n",
       "</style>\n",
       "<table border=\"1\" class=\"dataframe\">\n",
       "  <thead>\n",
       "    <tr style=\"text-align: right;\">\n",
       "      <th></th>\n",
       "      <th>customer_id</th>\n",
       "      <th>prediction</th>\n",
       "    </tr>\n",
       "  </thead>\n",
       "  <tbody>\n",
       "    <tr>\n",
       "      <th>0</th>\n",
       "      <td>00000dbacae5abe5e23885899a1fa44253a17956c6d1c3...</td>\n",
       "      <td>0797065001 0607642008 0745232001 0656719005 07...</td>\n",
       "    </tr>\n",
       "    <tr>\n",
       "      <th>1</th>\n",
       "      <td>0000423b00ade91418cceaf3b26c6af3dd342b51fd051e...</td>\n",
       "      <td>0689898002 0583558001 0666448006 0599580024 07...</td>\n",
       "    </tr>\n",
       "    <tr>\n",
       "      <th>2</th>\n",
       "      <td>000058a12d5b43e67d225668fa1f8d618c13dc232df0ca...</td>\n",
       "      <td>0663713001 0541518023 0794321007 0706016001 03...</td>\n",
       "    </tr>\n",
       "    <tr>\n",
       "      <th>3</th>\n",
       "      <td>00005ca1c9ed5f5146b52ac8639a40ca9d57aeff4d1bd2...</td>\n",
       "      <td>0742079001 0732413001 0706016001 0372860001 07...</td>\n",
       "    </tr>\n",
       "    <tr>\n",
       "      <th>4</th>\n",
       "      <td>00006413d8573cd20ed7128e53b7b13819fe5cfc2d801f...</td>\n",
       "      <td>0399061015 0634249005 0677049001 0589440005 08...</td>\n",
       "    </tr>\n",
       "  </tbody>\n",
       "</table>\n",
       "</div>"
      ],
      "text/plain": [
       "                                         customer_id  \\\n",
       "0  00000dbacae5abe5e23885899a1fa44253a17956c6d1c3...   \n",
       "1  0000423b00ade91418cceaf3b26c6af3dd342b51fd051e...   \n",
       "2  000058a12d5b43e67d225668fa1f8d618c13dc232df0ca...   \n",
       "3  00005ca1c9ed5f5146b52ac8639a40ca9d57aeff4d1bd2...   \n",
       "4  00006413d8573cd20ed7128e53b7b13819fe5cfc2d801f...   \n",
       "\n",
       "                                          prediction  \n",
       "0  0797065001 0607642008 0745232001 0656719005 07...  \n",
       "1  0689898002 0583558001 0666448006 0599580024 07...  \n",
       "2  0663713001 0541518023 0794321007 0706016001 03...  \n",
       "3  0742079001 0732413001 0706016001 0372860001 07...  \n",
       "4  0399061015 0634249005 0677049001 0589440005 08...  "
      ]
     },
     "execution_count": 13,
     "metadata": {},
     "output_type": "execute_result"
    }
   ],
   "source": [
    "# Base model will recommend top 12 in season items to cold start users if they have not bought more than 12 items\n",
    "# For customers who have bought more than 12 items, model will recommend the top 12 items they have most frequently bought in the season\n",
    "\n",
    "top12inseason_benchmark = submission[['customer_id']]\n",
    "prediction_list = []\n",
    "dummy_list = list((transactions_season['article_id'].value_counts()).index)[:12]\n",
    "dummy_pred = ' '.join(dummy_list)\n",
    "\n",
    "for i, cust_id in enumerate(submission['customer_id'].values.reshape((-1,))):\n",
    "    if cust_id in purchase_dict:\n",
    "        l = sorted((purchase_dict[cust_id]).items(), key=lambda x: x[1], reverse=True)\n",
    "        l = [y[0] for y in l]\n",
    "        if len(l)>12:\n",
    "            s = ' '.join(l[:12])\n",
    "        else:\n",
    "            s = ' '.join(l+dummy_list[:(12-len(l))])\n",
    "    else:\n",
    "        s = dummy_pred\n",
    "    prediction_list.append(s)\n",
    "\n",
    "top12inseason_benchmark['prediction'] = prediction_list\n",
    "print(top12inseason_benchmark.shape)\n",
    "top12inseason_benchmark.head()"
   ]
  },
  {
   "cell_type": "code",
   "execution_count": 14,
   "id": "8f22aa59",
   "metadata": {},
   "outputs": [],
   "source": [
    "top12inseason_benchmark.to_csv('../datasets/submission1.csv', index=False)"
   ]
  },
  {
   "cell_type": "markdown",
   "id": "8932795d",
   "metadata": {},
   "source": [
    "Kaggle submission above returned 0.0069 Mean Average Precision on submission data, which is a relatively poor score. This shows that we may not have accurately picked items, and most of the items picked may no longer be on sale in stores any longer."
   ]
  },
  {
   "cell_type": "markdown",
   "id": "4e93d615",
   "metadata": {},
   "source": [
    "### Baseline model - using recent 3 weeks"
   ]
  },
  {
   "cell_type": "markdown",
   "id": "afe9c94b",
   "metadata": {},
   "source": [
    "Based on my observation, items will go on and off season, and since there is no publicly available information of when styles of clothing goes off season, the latest month might be the best guess for what is in season. As such, I will attempt a submission to test this hypothesis."
   ]
  },
  {
   "cell_type": "code",
   "execution_count": 11,
   "id": "3e83222b",
   "metadata": {},
   "outputs": [],
   "source": [
    "# zoom in transaction from September 2020 alone \n",
    "transactions_3w = transactions.loc[(transactions['month']==9) & (transactions['year']==2020)]\n",
    "transactions_3w.reset_index(drop=True, inplace=True)"
   ]
  },
  {
   "cell_type": "code",
   "execution_count": 12,
   "id": "aeb0e0ad",
   "metadata": {},
   "outputs": [
    {
     "data": {
      "text/html": [
       "<div>\n",
       "<style scoped>\n",
       "    .dataframe tbody tr th:only-of-type {\n",
       "        vertical-align: middle;\n",
       "    }\n",
       "\n",
       "    .dataframe tbody tr th {\n",
       "        vertical-align: top;\n",
       "    }\n",
       "\n",
       "    .dataframe thead th {\n",
       "        text-align: right;\n",
       "    }\n",
       "</style>\n",
       "<table border=\"1\" class=\"dataframe\">\n",
       "  <thead>\n",
       "    <tr style=\"text-align: right;\">\n",
       "      <th></th>\n",
       "      <th>t_dat</th>\n",
       "      <th>customer_id</th>\n",
       "      <th>article_id</th>\n",
       "      <th>price</th>\n",
       "      <th>sales_channel_id</th>\n",
       "      <th>month</th>\n",
       "      <th>year</th>\n",
       "    </tr>\n",
       "  </thead>\n",
       "  <tbody>\n",
       "    <tr>\n",
       "      <th>0</th>\n",
       "      <td>2020-09-01</td>\n",
       "      <td>0001d44dbe7f6c4b35200abdb052c77a87596fe1bdcc37...</td>\n",
       "      <td>0777148006</td>\n",
       "      <td>0.013542</td>\n",
       "      <td>1</td>\n",
       "      <td>9</td>\n",
       "      <td>2020</td>\n",
       "    </tr>\n",
       "    <tr>\n",
       "      <th>1</th>\n",
       "      <td>2020-09-01</td>\n",
       "      <td>0001d44dbe7f6c4b35200abdb052c77a87596fe1bdcc37...</td>\n",
       "      <td>0835801001</td>\n",
       "      <td>0.018627</td>\n",
       "      <td>1</td>\n",
       "      <td>9</td>\n",
       "      <td>2020</td>\n",
       "    </tr>\n",
       "    <tr>\n",
       "      <th>2</th>\n",
       "      <td>2020-09-01</td>\n",
       "      <td>0001d44dbe7f6c4b35200abdb052c77a87596fe1bdcc37...</td>\n",
       "      <td>0923134005</td>\n",
       "      <td>0.012695</td>\n",
       "      <td>1</td>\n",
       "      <td>9</td>\n",
       "      <td>2020</td>\n",
       "    </tr>\n",
       "    <tr>\n",
       "      <th>3</th>\n",
       "      <td>2020-09-01</td>\n",
       "      <td>0001d44dbe7f6c4b35200abdb052c77a87596fe1bdcc37...</td>\n",
       "      <td>0865929003</td>\n",
       "      <td>0.016932</td>\n",
       "      <td>1</td>\n",
       "      <td>9</td>\n",
       "      <td>2020</td>\n",
       "    </tr>\n",
       "    <tr>\n",
       "      <th>4</th>\n",
       "      <td>2020-09-01</td>\n",
       "      <td>0005ed68483efa39644c45185550a82dd09acb07622acb...</td>\n",
       "      <td>0863646004</td>\n",
       "      <td>0.033881</td>\n",
       "      <td>1</td>\n",
       "      <td>9</td>\n",
       "      <td>2020</td>\n",
       "    </tr>\n",
       "  </tbody>\n",
       "</table>\n",
       "</div>"
      ],
      "text/plain": [
       "       t_dat                                        customer_id  article_id  \\\n",
       "0 2020-09-01  0001d44dbe7f6c4b35200abdb052c77a87596fe1bdcc37...  0777148006   \n",
       "1 2020-09-01  0001d44dbe7f6c4b35200abdb052c77a87596fe1bdcc37...  0835801001   \n",
       "2 2020-09-01  0001d44dbe7f6c4b35200abdb052c77a87596fe1bdcc37...  0923134005   \n",
       "3 2020-09-01  0001d44dbe7f6c4b35200abdb052c77a87596fe1bdcc37...  0865929003   \n",
       "4 2020-09-01  0005ed68483efa39644c45185550a82dd09acb07622acb...  0863646004   \n",
       "\n",
       "      price  sales_channel_id  month  year  \n",
       "0  0.013542                 1      9  2020  \n",
       "1  0.018627                 1      9  2020  \n",
       "2  0.012695                 1      9  2020  \n",
       "3  0.016932                 1      9  2020  \n",
       "4  0.033881                 1      9  2020  "
      ]
     },
     "execution_count": 12,
     "metadata": {},
     "output_type": "execute_result"
    }
   ],
   "source": [
    "transactions_3w.head()"
   ]
  },
  {
   "cell_type": "code",
   "execution_count": 13,
   "id": "d285ef5f",
   "metadata": {},
   "outputs": [
    {
     "name": "stdout",
     "output_type": "stream",
     "text": [
      "189510\n"
     ]
    }
   ],
   "source": [
    "# Create purchase dictionary for customer and article belonging to September 2020 period\n",
    "purchase_dict_3w = {}\n",
    "\n",
    "for i,x in enumerate(zip(transactions_3w['customer_id'], transactions_3w['article_id'])):\n",
    "    cust_id, art_id = x\n",
    "    if cust_id not in purchase_dict_3w:\n",
    "        purchase_dict_3w[cust_id] = {}\n",
    "    \n",
    "    if art_id not in purchase_dict_3w[cust_id]:\n",
    "        purchase_dict_3w[cust_id][art_id] = 0\n",
    "    \n",
    "    purchase_dict_3w[cust_id][art_id] += 1\n",
    "    \n",
    "print(len(purchase_dict_3w))"
   ]
  },
  {
   "cell_type": "code",
   "execution_count": 14,
   "id": "8c094185",
   "metadata": {},
   "outputs": [
    {
     "name": "stdout",
     "output_type": "stream",
     "text": [
      "(1371980, 2)\n"
     ]
    },
    {
     "data": {
      "text/html": [
       "<div>\n",
       "<style scoped>\n",
       "    .dataframe tbody tr th:only-of-type {\n",
       "        vertical-align: middle;\n",
       "    }\n",
       "\n",
       "    .dataframe tbody tr th {\n",
       "        vertical-align: top;\n",
       "    }\n",
       "\n",
       "    .dataframe thead th {\n",
       "        text-align: right;\n",
       "    }\n",
       "</style>\n",
       "<table border=\"1\" class=\"dataframe\">\n",
       "  <thead>\n",
       "    <tr style=\"text-align: right;\">\n",
       "      <th></th>\n",
       "      <th>customer_id</th>\n",
       "      <th>prediction</th>\n",
       "    </tr>\n",
       "  </thead>\n",
       "  <tbody>\n",
       "    <tr>\n",
       "      <th>0</th>\n",
       "      <td>00000dbacae5abe5e23885899a1fa44253a17956c6d1c3...</td>\n",
       "      <td>0568601043 0751471001 0909370001 0918522001 09...</td>\n",
       "    </tr>\n",
       "    <tr>\n",
       "      <th>1</th>\n",
       "      <td>0000423b00ade91418cceaf3b26c6af3dd342b51fd051e...</td>\n",
       "      <td>0751471001 0909370001 0918522001 0924243001 09...</td>\n",
       "    </tr>\n",
       "    <tr>\n",
       "      <th>2</th>\n",
       "      <td>000058a12d5b43e67d225668fa1f8d618c13dc232df0ca...</td>\n",
       "      <td>0794321007 0751471001 0909370001 0918522001 09...</td>\n",
       "    </tr>\n",
       "    <tr>\n",
       "      <th>3</th>\n",
       "      <td>00005ca1c9ed5f5146b52ac8639a40ca9d57aeff4d1bd2...</td>\n",
       "      <td>0751471001 0909370001 0918522001 0924243001 09...</td>\n",
       "    </tr>\n",
       "    <tr>\n",
       "      <th>4</th>\n",
       "      <td>00006413d8573cd20ed7128e53b7b13819fe5cfc2d801f...</td>\n",
       "      <td>0751471001 0909370001 0918522001 0924243001 09...</td>\n",
       "    </tr>\n",
       "  </tbody>\n",
       "</table>\n",
       "</div>"
      ],
      "text/plain": [
       "                                         customer_id  \\\n",
       "0  00000dbacae5abe5e23885899a1fa44253a17956c6d1c3...   \n",
       "1  0000423b00ade91418cceaf3b26c6af3dd342b51fd051e...   \n",
       "2  000058a12d5b43e67d225668fa1f8d618c13dc232df0ca...   \n",
       "3  00005ca1c9ed5f5146b52ac8639a40ca9d57aeff4d1bd2...   \n",
       "4  00006413d8573cd20ed7128e53b7b13819fe5cfc2d801f...   \n",
       "\n",
       "                                          prediction  \n",
       "0  0568601043 0751471001 0909370001 0918522001 09...  \n",
       "1  0751471001 0909370001 0918522001 0924243001 09...  \n",
       "2  0794321007 0751471001 0909370001 0918522001 09...  \n",
       "3  0751471001 0909370001 0918522001 0924243001 09...  \n",
       "4  0751471001 0909370001 0918522001 0924243001 09...  "
      ]
     },
     "execution_count": 14,
     "metadata": {},
     "output_type": "execute_result"
    }
   ],
   "source": [
    "# Variant Base model will recommend top 12 in current month items to cold start users if they have not bought more than 12 items\n",
    "# For customers who have bought more than 12 items, model will recommend the top 12 items they have most frequently bought historically\n",
    "\n",
    "top12inmonth_benchmark = submission[['customer_id']]\n",
    "prediction_list = []\n",
    "dummy_list = list((transactions_3w['article_id'].value_counts()).index)[:12]\n",
    "dummy_pred = ' '.join(dummy_list)\n",
    "\n",
    "for i, cust_id in enumerate(submission['customer_id'].values.reshape((-1,))):\n",
    "    if cust_id in purchase_dict_3w:\n",
    "        l = sorted((purchase_dict_3w[cust_id]).items(), key=lambda x: x[1], reverse=True)\n",
    "        l = [y[0] for y in l]\n",
    "        if len(l)>12:\n",
    "            s = ' '.join(l[:12])\n",
    "        else:\n",
    "            s = ' '.join(l+dummy_list[:(12-len(l))])\n",
    "    else:\n",
    "        s = dummy_pred\n",
    "    prediction_list.append(s)\n",
    "\n",
    "top12inmonth_benchmark['prediction'] = prediction_list\n",
    "print(top12inmonth_benchmark.shape)\n",
    "top12inmonth_benchmark.head()"
   ]
  },
  {
   "cell_type": "code",
   "execution_count": 17,
   "id": "8f7b7b9c",
   "metadata": {},
   "outputs": [],
   "source": [
    "top12inmonth_benchmark.to_csv('../datasets/submission2.csv', index=False)"
   ]
  },
  {
   "cell_type": "markdown",
   "id": "fe7798fa",
   "metadata": {},
   "source": [
    "Kaggle submission above returned 0.0191 Mean Average Precision on submission data, which was a massive improvement. This shows that recent data is crucial in predictions, possibly due to trends as H&M is in fast fashion, and trends move very quickly."
   ]
  },
  {
   "cell_type": "markdown",
   "id": "cfbbea00",
   "metadata": {},
   "source": [
    "### Baseline model - using recent 2 months"
   ]
  },
  {
   "cell_type": "code",
   "execution_count": 29,
   "id": "9df9dde3",
   "metadata": {},
   "outputs": [],
   "source": [
    "# zoom in transaction from August, September 2020 alone \n",
    "transactions_ = transactions.loc[transactions['month'].isin([8,9])]\n",
    "transactions_2m = transactions_.loc[transactions_['year']==2020]\n",
    "transactions_2m.reset_index(drop=True, inplace=True)"
   ]
  },
  {
   "cell_type": "code",
   "execution_count": 32,
   "id": "1f54d84a",
   "metadata": {},
   "outputs": [
    {
     "name": "stdout",
     "output_type": "stream",
     "text": [
      "363798\n"
     ]
    }
   ],
   "source": [
    "# Create purchase dictionary for customer and article belonging to August and September 2020 period\n",
    "purchase_dict = {}\n",
    "\n",
    "for i,x in enumerate(zip(transactions_2m['customer_id'], transactions_2m['article_id'])):\n",
    "    cust_id, art_id = x\n",
    "    if cust_id not in purchase_dict:\n",
    "        purchase_dict[cust_id] = {}\n",
    "    \n",
    "    if art_id not in purchase_dict[cust_id]:\n",
    "        purchase_dict[cust_id][art_id] = 0\n",
    "    \n",
    "    purchase_dict[cust_id][art_id] += 1\n",
    "    \n",
    "print(len(purchase_dict))"
   ]
  },
  {
   "cell_type": "code",
   "execution_count": 33,
   "id": "99399b97",
   "metadata": {},
   "outputs": [
    {
     "name": "stdout",
     "output_type": "stream",
     "text": [
      "(1371980, 2)\n"
     ]
    },
    {
     "data": {
      "text/html": [
       "<div>\n",
       "<style scoped>\n",
       "    .dataframe tbody tr th:only-of-type {\n",
       "        vertical-align: middle;\n",
       "    }\n",
       "\n",
       "    .dataframe tbody tr th {\n",
       "        vertical-align: top;\n",
       "    }\n",
       "\n",
       "    .dataframe thead th {\n",
       "        text-align: right;\n",
       "    }\n",
       "</style>\n",
       "<table border=\"1\" class=\"dataframe\">\n",
       "  <thead>\n",
       "    <tr style=\"text-align: right;\">\n",
       "      <th></th>\n",
       "      <th>customer_id</th>\n",
       "      <th>prediction</th>\n",
       "    </tr>\n",
       "  </thead>\n",
       "  <tbody>\n",
       "    <tr>\n",
       "      <th>0</th>\n",
       "      <td>00000dbacae5abe5e23885899a1fa44253a17956c6d1c3...</td>\n",
       "      <td>0568601043 0751471001 0918292001 0706016001 04...</td>\n",
       "    </tr>\n",
       "    <tr>\n",
       "      <th>1</th>\n",
       "      <td>0000423b00ade91418cceaf3b26c6af3dd342b51fd051e...</td>\n",
       "      <td>0751471001 0918292001 0706016001 0448509014 07...</td>\n",
       "    </tr>\n",
       "    <tr>\n",
       "      <th>2</th>\n",
       "      <td>000058a12d5b43e67d225668fa1f8d618c13dc232df0ca...</td>\n",
       "      <td>0794321007 0751471001 0918292001 0706016001 04...</td>\n",
       "    </tr>\n",
       "    <tr>\n",
       "      <th>3</th>\n",
       "      <td>00005ca1c9ed5f5146b52ac8639a40ca9d57aeff4d1bd2...</td>\n",
       "      <td>0751471001 0918292001 0706016001 0448509014 07...</td>\n",
       "    </tr>\n",
       "    <tr>\n",
       "      <th>4</th>\n",
       "      <td>00006413d8573cd20ed7128e53b7b13819fe5cfc2d801f...</td>\n",
       "      <td>0896152002 0730683050 0927530004 0791587015 07...</td>\n",
       "    </tr>\n",
       "  </tbody>\n",
       "</table>\n",
       "</div>"
      ],
      "text/plain": [
       "                                         customer_id  \\\n",
       "0  00000dbacae5abe5e23885899a1fa44253a17956c6d1c3...   \n",
       "1  0000423b00ade91418cceaf3b26c6af3dd342b51fd051e...   \n",
       "2  000058a12d5b43e67d225668fa1f8d618c13dc232df0ca...   \n",
       "3  00005ca1c9ed5f5146b52ac8639a40ca9d57aeff4d1bd2...   \n",
       "4  00006413d8573cd20ed7128e53b7b13819fe5cfc2d801f...   \n",
       "\n",
       "                                          prediction  \n",
       "0  0568601043 0751471001 0918292001 0706016001 04...  \n",
       "1  0751471001 0918292001 0706016001 0448509014 07...  \n",
       "2  0794321007 0751471001 0918292001 0706016001 04...  \n",
       "3  0751471001 0918292001 0706016001 0448509014 07...  \n",
       "4  0896152002 0730683050 0927530004 0791587015 07...  "
      ]
     },
     "execution_count": 33,
     "metadata": {},
     "output_type": "execute_result"
    }
   ],
   "source": [
    "# Variant Base model will recommend top 12 in last 2 month items to cold start users if they have not bought more than 12 items\n",
    "# For customers who have bought more than 12 items, model will recommend the top 12 items they have most frequently bought historically\n",
    "\n",
    "top12in2month_benchmark = submission[['customer_id']]\n",
    "prediction_list = []\n",
    "dummy_list = list((transactions_2m['article_id'].value_counts()).index)[:12]\n",
    "dummy_pred = ' '.join(dummy_list)\n",
    "\n",
    "for i, cust_id in enumerate(submission['customer_id'].values.reshape((-1,))):\n",
    "    if cust_id in purchase_dict:\n",
    "        l = sorted((purchase_dict[cust_id]).items(), key=lambda x: x[1], reverse=True)\n",
    "        l = [y[0] for y in l]\n",
    "        if len(l)>12:\n",
    "            s = ' '.join(l[:12])\n",
    "        else:\n",
    "            s = ' '.join(l+dummy_list[:(12-len(l))])\n",
    "    else:\n",
    "        s = dummy_pred\n",
    "    prediction_list.append(s)\n",
    "\n",
    "top12in2month_benchmark['prediction'] = prediction_list\n",
    "print(top12in2month_benchmark.shape)\n",
    "top12in2month_benchmark.head()"
   ]
  },
  {
   "cell_type": "code",
   "execution_count": 34,
   "id": "108d30be",
   "metadata": {},
   "outputs": [],
   "source": [
    "top12in2month_benchmark.to_csv('../datasets/submission3.csv', index=False)"
   ]
  },
  {
   "cell_type": "markdown",
   "id": "b494fd85",
   "metadata": {},
   "source": [
    "Kaggle submission above returned 0.0155 Mean Average Precision on submission data, which was not an improvement. This is crucial information, as it shows that the last month's information is the best predictor for what would be bought."
   ]
  },
  {
   "cell_type": "markdown",
   "id": "09d90e4b",
   "metadata": {},
   "source": [
    "### Baseline model - using recent 1 weeks"
   ]
  },
  {
   "cell_type": "code",
   "execution_count": 30,
   "id": "8a26c8a4",
   "metadata": {},
   "outputs": [],
   "source": [
    "# zoom in transaction from 1 week September 2020 alone \n",
    "transactions_1w = transactions_3w.loc[(transactions_3w['t_dat']>='2020-09-15')]\n",
    "transactions_1w.reset_index(drop=True, inplace=True)"
   ]
  },
  {
   "cell_type": "code",
   "execution_count": 17,
   "id": "38ff4a41",
   "metadata": {},
   "outputs": [
    {
     "name": "stdout",
     "output_type": "stream",
     "text": [
      "82588\n"
     ]
    }
   ],
   "source": [
    "# Create purchase dictionary for customer and article belonging to September 2020 14 to 22 period\n",
    "purchase_dict_1w = {}\n",
    "\n",
    "for i,x in enumerate(zip(transactions_1w['customer_id'], transactions_1w['article_id'])):\n",
    "    cust_id, art_id = x\n",
    "    if cust_id not in purchase_dict_1w:\n",
    "        purchase_dict_1w[cust_id] = {}\n",
    "    \n",
    "    if art_id not in purchase_dict_1w[cust_id]:\n",
    "        purchase_dict_1w[cust_id][art_id] = 0\n",
    "    \n",
    "    purchase_dict_1w[cust_id][art_id] += 1\n",
    "    \n",
    "print(len(purchase_dict_1w))"
   ]
  },
  {
   "cell_type": "code",
   "execution_count": 18,
   "id": "fdde5fb8",
   "metadata": {},
   "outputs": [
    {
     "name": "stdout",
     "output_type": "stream",
     "text": [
      "(1371980, 2)\n"
     ]
    },
    {
     "data": {
      "text/html": [
       "<div>\n",
       "<style scoped>\n",
       "    .dataframe tbody tr th:only-of-type {\n",
       "        vertical-align: middle;\n",
       "    }\n",
       "\n",
       "    .dataframe tbody tr th {\n",
       "        vertical-align: top;\n",
       "    }\n",
       "\n",
       "    .dataframe thead th {\n",
       "        text-align: right;\n",
       "    }\n",
       "</style>\n",
       "<table border=\"1\" class=\"dataframe\">\n",
       "  <thead>\n",
       "    <tr style=\"text-align: right;\">\n",
       "      <th></th>\n",
       "      <th>customer_id</th>\n",
       "      <th>prediction</th>\n",
       "    </tr>\n",
       "  </thead>\n",
       "  <tbody>\n",
       "    <tr>\n",
       "      <th>0</th>\n",
       "      <td>00000dbacae5abe5e23885899a1fa44253a17956c6d1c3...</td>\n",
       "      <td>0924243001 0923758001 0924243002 0918522001 07...</td>\n",
       "    </tr>\n",
       "    <tr>\n",
       "      <th>1</th>\n",
       "      <td>0000423b00ade91418cceaf3b26c6af3dd342b51fd051e...</td>\n",
       "      <td>0924243001 0923758001 0924243002 0918522001 07...</td>\n",
       "    </tr>\n",
       "    <tr>\n",
       "      <th>2</th>\n",
       "      <td>000058a12d5b43e67d225668fa1f8d618c13dc232df0ca...</td>\n",
       "      <td>0794321007 0924243001 0923758001 0924243002 09...</td>\n",
       "    </tr>\n",
       "    <tr>\n",
       "      <th>3</th>\n",
       "      <td>00005ca1c9ed5f5146b52ac8639a40ca9d57aeff4d1bd2...</td>\n",
       "      <td>0924243001 0923758001 0924243002 0918522001 07...</td>\n",
       "    </tr>\n",
       "    <tr>\n",
       "      <th>4</th>\n",
       "      <td>00006413d8573cd20ed7128e53b7b13819fe5cfc2d801f...</td>\n",
       "      <td>0924243001 0923758001 0924243002 0918522001 07...</td>\n",
       "    </tr>\n",
       "  </tbody>\n",
       "</table>\n",
       "</div>"
      ],
      "text/plain": [
       "                                         customer_id  \\\n",
       "0  00000dbacae5abe5e23885899a1fa44253a17956c6d1c3...   \n",
       "1  0000423b00ade91418cceaf3b26c6af3dd342b51fd051e...   \n",
       "2  000058a12d5b43e67d225668fa1f8d618c13dc232df0ca...   \n",
       "3  00005ca1c9ed5f5146b52ac8639a40ca9d57aeff4d1bd2...   \n",
       "4  00006413d8573cd20ed7128e53b7b13819fe5cfc2d801f...   \n",
       "\n",
       "                                          prediction  \n",
       "0  0924243001 0923758001 0924243002 0918522001 07...  \n",
       "1  0924243001 0923758001 0924243002 0918522001 07...  \n",
       "2  0794321007 0924243001 0923758001 0924243002 09...  \n",
       "3  0924243001 0923758001 0924243002 0918522001 07...  \n",
       "4  0924243001 0923758001 0924243002 0918522001 07...  "
      ]
     },
     "execution_count": 18,
     "metadata": {},
     "output_type": "execute_result"
    }
   ],
   "source": [
    "# Variant Base model will recommend top 12 in last 1 week items to cold start users if they have not bought more than 12 items\n",
    "# For customers who have bought more than 12 items, model will recommend the top 12 items they have most frequently bought historically\n",
    "\n",
    "top12in1week_benchmark = submission[['customer_id']]\n",
    "prediction_list = []\n",
    "dummy_list = list((transactions_1w['article_id'].value_counts()).index)[:12]\n",
    "dummy_pred = ' '.join(dummy_list)\n",
    "\n",
    "for i, cust_id in enumerate(submission['customer_id'].values.reshape((-1,))):\n",
    "    if cust_id in purchase_dict_1w:\n",
    "        l = sorted((purchase_dict_1w[cust_id]).items(), key=lambda x: x[1], reverse=True)\n",
    "        l = [y[0] for y in l]\n",
    "        if len(l)>12:\n",
    "            s = ' '.join(l[:12])\n",
    "        else:\n",
    "            s = ' '.join(l+dummy_list[:(12-len(l))])\n",
    "    else:\n",
    "        s = dummy_pred\n",
    "    prediction_list.append(s)\n",
    "\n",
    "top12in1week_benchmark['prediction'] = prediction_list\n",
    "print(top12in1week_benchmark.shape)\n",
    "top12in1week_benchmark.head()"
   ]
  },
  {
   "cell_type": "code",
   "execution_count": 42,
   "id": "e5a12536",
   "metadata": {},
   "outputs": [],
   "source": [
    "top12in1week_benchmark.to_csv('../datasets/submission4.csv', index=False)"
   ]
  },
  {
   "cell_type": "markdown",
   "id": "dcc4ea8e",
   "metadata": {},
   "source": [
    "Kaggle score returned 0.0186, slightly lower than what 3 weeks gives."
   ]
  },
  {
   "cell_type": "markdown",
   "id": "eaf07e82",
   "metadata": {},
   "source": [
    "### Baseline model - using recent 1 day"
   ]
  },
  {
   "cell_type": "code",
   "execution_count": 5,
   "id": "3ccd1c52",
   "metadata": {},
   "outputs": [],
   "source": [
    "# zoom in transaction from 22 September 2020 alone \n",
    "transactions_1d = transactions.loc[(transactions['t_dat']=='2020-09-22')]\n",
    "transactions_1d.reset_index(drop=True, inplace=True)"
   ]
  },
  {
   "cell_type": "code",
   "execution_count": 7,
   "id": "0f9d9b6f",
   "metadata": {},
   "outputs": [
    {
     "name": "stdout",
     "output_type": "stream",
     "text": [
      "10528\n"
     ]
    }
   ],
   "source": [
    "# Create purchase dictionary for customer and article belonging to 22 September 2020 \n",
    "purchase_dict = {}\n",
    "\n",
    "for i,x in enumerate(zip(transactions_1d['customer_id'], transactions_1d['article_id'])):\n",
    "    cust_id, art_id = x\n",
    "    if cust_id not in purchase_dict:\n",
    "        purchase_dict[cust_id] = {}\n",
    "    \n",
    "    if art_id not in purchase_dict[cust_id]:\n",
    "        purchase_dict[cust_id][art_id] = 0\n",
    "    \n",
    "    purchase_dict[cust_id][art_id] += 1\n",
    "    \n",
    "print(len(purchase_dict))"
   ]
  },
  {
   "cell_type": "code",
   "execution_count": 8,
   "id": "3687f004",
   "metadata": {},
   "outputs": [
    {
     "name": "stdout",
     "output_type": "stream",
     "text": [
      "(1371980, 2)\n"
     ]
    },
    {
     "data": {
      "text/html": [
       "<div>\n",
       "<style scoped>\n",
       "    .dataframe tbody tr th:only-of-type {\n",
       "        vertical-align: middle;\n",
       "    }\n",
       "\n",
       "    .dataframe tbody tr th {\n",
       "        vertical-align: top;\n",
       "    }\n",
       "\n",
       "    .dataframe thead th {\n",
       "        text-align: right;\n",
       "    }\n",
       "</style>\n",
       "<table border=\"1\" class=\"dataframe\">\n",
       "  <thead>\n",
       "    <tr style=\"text-align: right;\">\n",
       "      <th></th>\n",
       "      <th>customer_id</th>\n",
       "      <th>prediction</th>\n",
       "    </tr>\n",
       "  </thead>\n",
       "  <tbody>\n",
       "    <tr>\n",
       "      <th>0</th>\n",
       "      <td>00000dbacae5abe5e23885899a1fa44253a17956c6d1c3...</td>\n",
       "      <td>0924243002 0751471001 0448509014 0918522001 08...</td>\n",
       "    </tr>\n",
       "    <tr>\n",
       "      <th>1</th>\n",
       "      <td>0000423b00ade91418cceaf3b26c6af3dd342b51fd051e...</td>\n",
       "      <td>0924243002 0751471001 0448509014 0918522001 08...</td>\n",
       "    </tr>\n",
       "    <tr>\n",
       "      <th>2</th>\n",
       "      <td>000058a12d5b43e67d225668fa1f8d618c13dc232df0ca...</td>\n",
       "      <td>0924243002 0751471001 0448509014 0918522001 08...</td>\n",
       "    </tr>\n",
       "    <tr>\n",
       "      <th>3</th>\n",
       "      <td>00005ca1c9ed5f5146b52ac8639a40ca9d57aeff4d1bd2...</td>\n",
       "      <td>0924243002 0751471001 0448509014 0918522001 08...</td>\n",
       "    </tr>\n",
       "    <tr>\n",
       "      <th>4</th>\n",
       "      <td>00006413d8573cd20ed7128e53b7b13819fe5cfc2d801f...</td>\n",
       "      <td>0924243002 0751471001 0448509014 0918522001 08...</td>\n",
       "    </tr>\n",
       "  </tbody>\n",
       "</table>\n",
       "</div>"
      ],
      "text/plain": [
       "                                         customer_id  \\\n",
       "0  00000dbacae5abe5e23885899a1fa44253a17956c6d1c3...   \n",
       "1  0000423b00ade91418cceaf3b26c6af3dd342b51fd051e...   \n",
       "2  000058a12d5b43e67d225668fa1f8d618c13dc232df0ca...   \n",
       "3  00005ca1c9ed5f5146b52ac8639a40ca9d57aeff4d1bd2...   \n",
       "4  00006413d8573cd20ed7128e53b7b13819fe5cfc2d801f...   \n",
       "\n",
       "                                          prediction  \n",
       "0  0924243002 0751471001 0448509014 0918522001 08...  \n",
       "1  0924243002 0751471001 0448509014 0918522001 08...  \n",
       "2  0924243002 0751471001 0448509014 0918522001 08...  \n",
       "3  0924243002 0751471001 0448509014 0918522001 08...  \n",
       "4  0924243002 0751471001 0448509014 0918522001 08...  "
      ]
     },
     "execution_count": 8,
     "metadata": {},
     "output_type": "execute_result"
    }
   ],
   "source": [
    "# Variant Base model will recommend top 12 in last 1 day items to cold start users if they have not bought more than 12 items\n",
    "# For customers who have bought more than 12 items, model will recommend the top 12 items they have most frequently bought historically\n",
    "\n",
    "top12in1day_benchmark = submission[['customer_id']]\n",
    "prediction_list = []\n",
    "dummy_list = list((transactions_1d['article_id'].value_counts()).index)[:12]\n",
    "dummy_pred = ' '.join(dummy_list)\n",
    "\n",
    "for i, cust_id in enumerate(submission['customer_id'].values.reshape((-1,))):\n",
    "    if cust_id in purchase_dict:\n",
    "        l = sorted((purchase_dict[cust_id]).items(), key=lambda x: x[1], reverse=True)\n",
    "        l = [y[0] for y in l]\n",
    "        if len(l)>12:\n",
    "            s = ' '.join(l[:12])\n",
    "        else:\n",
    "            s = ' '.join(l+dummy_list[:(12-len(l))])\n",
    "    else:\n",
    "        s = dummy_pred\n",
    "    prediction_list.append(s)\n",
    "\n",
    "top12in1day_benchmark['prediction'] = prediction_list\n",
    "print(top12in1day_benchmark.shape)\n",
    "top12in1day_benchmark.head()"
   ]
  },
  {
   "cell_type": "code",
   "execution_count": 9,
   "id": "9b352a61",
   "metadata": {},
   "outputs": [],
   "source": [
    "top12in1day_benchmark.to_csv('../datasets/submission5.csv', index=False)"
   ]
  },
  {
   "cell_type": "markdown",
   "id": "534a6342",
   "metadata": {},
   "source": [
    "Kaggle score returned 0.00929 Mean Average Precision @ 12. This is a massive decrease, showing that recent does not always mean better, and there is a sweet spot that I have yet to uncover. "
   ]
  },
  {
   "cell_type": "markdown",
   "id": "e72aeb56",
   "metadata": {},
   "source": [
    "### Baseline model - using recent 1 day"
   ]
  },
  {
   "cell_type": "code",
   "execution_count": 19,
   "id": "751f8684",
   "metadata": {},
   "outputs": [],
   "source": [
    "# zoom in transaction from 2 week September 2020 alone \n",
    "transactions_2w = transactions_3w.loc[(transactions_3w['t_dat']>='2020-09-07')]\n",
    "transactions_2w.reset_index(drop=True, inplace=True)"
   ]
  },
  {
   "cell_type": "code",
   "execution_count": 21,
   "id": "63b4ff2c",
   "metadata": {},
   "outputs": [
    {
     "name": "stdout",
     "output_type": "stream",
     "text": [
      "143455\n"
     ]
    }
   ],
   "source": [
    "# Create purchase dictionary for customer and article belonging to September 2020 14 to 22 period\n",
    "purchase_dict_2w = {}\n",
    "\n",
    "for i,x in enumerate(zip(transactions_2w['customer_id'], transactions_2w['article_id'])):\n",
    "    cust_id, art_id = x\n",
    "    if cust_id not in purchase_dict_2w:\n",
    "        purchase_dict_2w[cust_id] = {}\n",
    "    \n",
    "    if art_id not in purchase_dict_2w[cust_id]:\n",
    "        purchase_dict_2w[cust_id][art_id] = 0\n",
    "    \n",
    "    purchase_dict_2w[cust_id][art_id] += 1\n",
    "    \n",
    "print(len(purchase_dict_2w))"
   ]
  },
  {
   "cell_type": "code",
   "execution_count": 22,
   "id": "dc22c39b",
   "metadata": {},
   "outputs": [
    {
     "name": "stdout",
     "output_type": "stream",
     "text": [
      "(1371980, 2)\n"
     ]
    },
    {
     "data": {
      "text/html": [
       "<div>\n",
       "<style scoped>\n",
       "    .dataframe tbody tr th:only-of-type {\n",
       "        vertical-align: middle;\n",
       "    }\n",
       "\n",
       "    .dataframe tbody tr th {\n",
       "        vertical-align: top;\n",
       "    }\n",
       "\n",
       "    .dataframe thead th {\n",
       "        text-align: right;\n",
       "    }\n",
       "</style>\n",
       "<table border=\"1\" class=\"dataframe\">\n",
       "  <thead>\n",
       "    <tr style=\"text-align: right;\">\n",
       "      <th></th>\n",
       "      <th>customer_id</th>\n",
       "      <th>prediction</th>\n",
       "    </tr>\n",
       "  </thead>\n",
       "  <tbody>\n",
       "    <tr>\n",
       "      <th>0</th>\n",
       "      <td>00000dbacae5abe5e23885899a1fa44253a17956c6d1c3...</td>\n",
       "      <td>0909370001 0924243001 0918522001 0448509014 07...</td>\n",
       "    </tr>\n",
       "    <tr>\n",
       "      <th>1</th>\n",
       "      <td>0000423b00ade91418cceaf3b26c6af3dd342b51fd051e...</td>\n",
       "      <td>0909370001 0924243001 0918522001 0448509014 07...</td>\n",
       "    </tr>\n",
       "    <tr>\n",
       "      <th>2</th>\n",
       "      <td>000058a12d5b43e67d225668fa1f8d618c13dc232df0ca...</td>\n",
       "      <td>0794321007 0909370001 0924243001 0918522001 04...</td>\n",
       "    </tr>\n",
       "    <tr>\n",
       "      <th>3</th>\n",
       "      <td>00005ca1c9ed5f5146b52ac8639a40ca9d57aeff4d1bd2...</td>\n",
       "      <td>0909370001 0924243001 0918522001 0448509014 07...</td>\n",
       "    </tr>\n",
       "    <tr>\n",
       "      <th>4</th>\n",
       "      <td>00006413d8573cd20ed7128e53b7b13819fe5cfc2d801f...</td>\n",
       "      <td>0909370001 0924243001 0918522001 0448509014 07...</td>\n",
       "    </tr>\n",
       "  </tbody>\n",
       "</table>\n",
       "</div>"
      ],
      "text/plain": [
       "                                         customer_id  \\\n",
       "0  00000dbacae5abe5e23885899a1fa44253a17956c6d1c3...   \n",
       "1  0000423b00ade91418cceaf3b26c6af3dd342b51fd051e...   \n",
       "2  000058a12d5b43e67d225668fa1f8d618c13dc232df0ca...   \n",
       "3  00005ca1c9ed5f5146b52ac8639a40ca9d57aeff4d1bd2...   \n",
       "4  00006413d8573cd20ed7128e53b7b13819fe5cfc2d801f...   \n",
       "\n",
       "                                          prediction  \n",
       "0  0909370001 0924243001 0918522001 0448509014 07...  \n",
       "1  0909370001 0924243001 0918522001 0448509014 07...  \n",
       "2  0794321007 0909370001 0924243001 0918522001 04...  \n",
       "3  0909370001 0924243001 0918522001 0448509014 07...  \n",
       "4  0909370001 0924243001 0918522001 0448509014 07...  "
      ]
     },
     "execution_count": 22,
     "metadata": {},
     "output_type": "execute_result"
    }
   ],
   "source": [
    "# Variant Base model will recommend top 12 in last 2 week items to cold start users if they have not bought more than 12 items\n",
    "# For customers who have bought more than 12 items, model will recommend the top 12 items they have most frequently bought historically\n",
    "\n",
    "top12in2week_benchmark = submission[['customer_id']]\n",
    "prediction_list = []\n",
    "dummy_list = list((transactions_2w['article_id'].value_counts()).index)[:12]\n",
    "dummy_pred = ' '.join(dummy_list)\n",
    "\n",
    "for i, cust_id in enumerate(submission['customer_id'].values.reshape((-1,))):\n",
    "    if cust_id in purchase_dict_2w:\n",
    "        l = sorted((purchase_dict_2w[cust_id]).items(), key=lambda x: x[1], reverse=True)\n",
    "        l = [y[0] for y in l]\n",
    "        if len(l)>12:\n",
    "            s = ' '.join(l[:12])\n",
    "        else:\n",
    "            s = ' '.join(l+dummy_list[:(12-len(l))])\n",
    "    else:\n",
    "        s = dummy_pred\n",
    "    prediction_list.append(s)\n",
    "\n",
    "top12in2week_benchmark['prediction'] = prediction_list\n",
    "print(top12in2week_benchmark.shape)\n",
    "top12in2week_benchmark.head()"
   ]
  },
  {
   "cell_type": "code",
   "execution_count": 23,
   "id": "056c33eb",
   "metadata": {},
   "outputs": [],
   "source": [
    "top12in2week_benchmark.to_csv('../datasets/submission6.csv', index=False)"
   ]
  },
  {
   "cell_type": "markdown",
   "id": "9564fb4f",
   "metadata": {},
   "source": [
    "Kaggle score returned 0.0186, slightly lower than what 3 weeks gives."
   ]
  },
  {
   "cell_type": "markdown",
   "id": "1abc1172",
   "metadata": {},
   "source": [
    "#### Combined 1w, 2w, 3w model"
   ]
  },
  {
   "cell_type": "markdown",
   "id": "d979b0b3",
   "metadata": {},
   "source": [
    "Factoring in that not all customers are truly cold start and new in their transactions, I tried instead to look across 3 weeks before filling up their existing purchases, before filling up the top purchases."
   ]
  },
  {
   "cell_type": "code",
   "execution_count": 25,
   "id": "0412973c",
   "metadata": {},
   "outputs": [],
   "source": [
    "dummy_list_1w = list((transactions_1w['article_id'].value_counts()).index)[:12]\n",
    "dummy_list_2w = list((transactions_2w['article_id'].value_counts()).index)[:12]\n",
    "dummy_list_3w = list((transactions_3w['article_id'].value_counts()).index)[:12]"
   ]
  },
  {
   "cell_type": "code",
   "execution_count": 26,
   "id": "0de8f7ce",
   "metadata": {},
   "outputs": [
    {
     "name": "stdout",
     "output_type": "stream",
     "text": [
      "(1371980, 2)\n"
     ]
    },
    {
     "data": {
      "text/html": [
       "<div>\n",
       "<style scoped>\n",
       "    .dataframe tbody tr th:only-of-type {\n",
       "        vertical-align: middle;\n",
       "    }\n",
       "\n",
       "    .dataframe tbody tr th {\n",
       "        vertical-align: top;\n",
       "    }\n",
       "\n",
       "    .dataframe thead th {\n",
       "        text-align: right;\n",
       "    }\n",
       "</style>\n",
       "<table border=\"1\" class=\"dataframe\">\n",
       "  <thead>\n",
       "    <tr style=\"text-align: right;\">\n",
       "      <th></th>\n",
       "      <th>customer_id</th>\n",
       "      <th>prediction</th>\n",
       "    </tr>\n",
       "  </thead>\n",
       "  <tbody>\n",
       "    <tr>\n",
       "      <th>0</th>\n",
       "      <td>00000dbacae5abe5e23885899a1fa44253a17956c6d1c3...</td>\n",
       "      <td>0568601043 0751471001 0909370001 0918522001 09...</td>\n",
       "    </tr>\n",
       "    <tr>\n",
       "      <th>1</th>\n",
       "      <td>0000423b00ade91418cceaf3b26c6af3dd342b51fd051e...</td>\n",
       "      <td>0924243001 0923758001 0924243002 0918522001 07...</td>\n",
       "    </tr>\n",
       "    <tr>\n",
       "      <th>2</th>\n",
       "      <td>000058a12d5b43e67d225668fa1f8d618c13dc232df0ca...</td>\n",
       "      <td>0794321007 0924243001 0923758001 0924243002 09...</td>\n",
       "    </tr>\n",
       "    <tr>\n",
       "      <th>3</th>\n",
       "      <td>00005ca1c9ed5f5146b52ac8639a40ca9d57aeff4d1bd2...</td>\n",
       "      <td>0924243001 0923758001 0924243002 0918522001 07...</td>\n",
       "    </tr>\n",
       "    <tr>\n",
       "      <th>4</th>\n",
       "      <td>00006413d8573cd20ed7128e53b7b13819fe5cfc2d801f...</td>\n",
       "      <td>0924243001 0923758001 0924243002 0918522001 07...</td>\n",
       "    </tr>\n",
       "  </tbody>\n",
       "</table>\n",
       "</div>"
      ],
      "text/plain": [
       "                                         customer_id  \\\n",
       "0  00000dbacae5abe5e23885899a1fa44253a17956c6d1c3...   \n",
       "1  0000423b00ade91418cceaf3b26c6af3dd342b51fd051e...   \n",
       "2  000058a12d5b43e67d225668fa1f8d618c13dc232df0ca...   \n",
       "3  00005ca1c9ed5f5146b52ac8639a40ca9d57aeff4d1bd2...   \n",
       "4  00006413d8573cd20ed7128e53b7b13819fe5cfc2d801f...   \n",
       "\n",
       "                                          prediction  \n",
       "0  0568601043 0751471001 0909370001 0918522001 09...  \n",
       "1  0924243001 0923758001 0924243002 0918522001 07...  \n",
       "2  0794321007 0924243001 0923758001 0924243002 09...  \n",
       "3  0924243001 0923758001 0924243002 0918522001 07...  \n",
       "4  0924243001 0923758001 0924243002 0918522001 07...  "
      ]
     },
     "execution_count": 26,
     "metadata": {},
     "output_type": "execute_result"
    }
   ],
   "source": [
    "combined_benchmark = submission[['customer_id']]\n",
    "prediction_list = []\n",
    "\n",
    "dummy_list = list((transactions_1w['article_id'].value_counts()).index)[:12]\n",
    "dummy_pred = ' '.join(dummy_list)\n",
    "\n",
    "for i, cust_id in enumerate(submission['customer_id'].values.reshape((-1,))):\n",
    "    if cust_id in purchase_dict_1w:\n",
    "        l = sorted((purchase_dict_1w[cust_id]).items(), key=lambda x: x[1], reverse=True)\n",
    "        l = [y[0] for y in l]\n",
    "        if len(l)>12:\n",
    "            s = ' '.join(l[:12])\n",
    "        else:\n",
    "            s = ' '.join(l+dummy_list_1w[:(12-len(l))])\n",
    "    elif cust_id in purchase_dict_2w:\n",
    "        l = sorted((purchase_dict_2w[cust_id]).items(), key=lambda x: x[1], reverse=True)\n",
    "        l = [y[0] for y in l]\n",
    "        if len(l)>12:\n",
    "            s = ' '.join(l[:12])\n",
    "        else:\n",
    "            s = ' '.join(l+dummy_list_2w[:(12-len(l))])\n",
    "    elif cust_id in purchase_dict_3w:\n",
    "        l = sorted((purchase_dict_3w[cust_id]).items(), key=lambda x: x[1], reverse=True)\n",
    "        l = [y[0] for y in l]\n",
    "        if len(l)>12:\n",
    "            s = ' '.join(l[:12])\n",
    "        else:\n",
    "            s = ' '.join(l+dummy_list_3w[:(12-len(l))])\n",
    "    else:\n",
    "        s = dummy_pred\n",
    "    prediction_list.append(s)\n",
    "\n",
    "combined_benchmark['prediction'] = prediction_list\n",
    "print(combined_benchmark.shape)\n",
    "combined_benchmark.head()"
   ]
  },
  {
   "cell_type": "code",
   "execution_count": 27,
   "id": "8dc18623",
   "metadata": {},
   "outputs": [],
   "source": [
    "combined_benchmark.to_csv('../datasets/submission7.csv', index=False)"
   ]
  },
  {
   "cell_type": "markdown",
   "id": "d3a904ba",
   "metadata": {},
   "source": [
    "Kaggle score improved significantly to 0.203. This gives credit to the method of going by most recent, then filling it up historically, before filling with top 12 recommended. I will be testing with 4w and 5w as well. Perhaps until significant effect cannot be found."
   ]
  },
  {
   "cell_type": "code",
   "execution_count": 32,
   "id": "af00350c",
   "metadata": {},
   "outputs": [],
   "source": [
    "transactions_4w = transactions[transactions['t_dat'] >= pd.to_datetime('2020-08-22')].copy()\n",
    "transactions_5w = transactions[transactions['t_dat'] >= pd.to_datetime('2020-08-15')].copy()"
   ]
  },
  {
   "cell_type": "code",
   "execution_count": 33,
   "id": "7683eac7",
   "metadata": {},
   "outputs": [
    {
     "name": "stdout",
     "output_type": "stream",
     "text": [
      "256355\n"
     ]
    }
   ],
   "source": [
    "purchase_dict_4w = {}\n",
    "\n",
    "for i,x in enumerate(zip(transactions_4w['customer_id'], transactions_4w['article_id'])):\n",
    "    cust_id, art_id = x\n",
    "    if cust_id not in purchase_dict_4w:\n",
    "        purchase_dict_4w[cust_id] = {}\n",
    "    \n",
    "    if art_id not in purchase_dict_4w[cust_id]:\n",
    "        purchase_dict_4w[cust_id][art_id] = 0\n",
    "    \n",
    "    purchase_dict_4w[cust_id][art_id] += 1\n",
    "    \n",
    "print(len(purchase_dict_4w))\n",
    "\n",
    "dummy_list_4w = list((transactions_4w['article_id'].value_counts()).index)[:12]"
   ]
  },
  {
   "cell_type": "code",
   "execution_count": 34,
   "id": "4734112c",
   "metadata": {},
   "outputs": [
    {
     "name": "stdout",
     "output_type": "stream",
     "text": [
      "290751\n"
     ]
    }
   ],
   "source": [
    "purchase_dict_5w = {}\n",
    "\n",
    "for i,x in enumerate(zip(transactions_5w['customer_id'], transactions_5w['article_id'])):\n",
    "    cust_id, art_id = x\n",
    "    if cust_id not in purchase_dict_5w:\n",
    "        purchase_dict_5w[cust_id] = {}\n",
    "    \n",
    "    if art_id not in purchase_dict_5w[cust_id]:\n",
    "        purchase_dict_5w[cust_id][art_id] = 0\n",
    "    \n",
    "    purchase_dict_5w[cust_id][art_id] += 1\n",
    "    \n",
    "print(len(purchase_dict_5w))\n",
    "\n",
    "dummy_list_5w = list((transactions_5w['article_id'].value_counts()).index)[:12]"
   ]
  },
  {
   "cell_type": "code",
   "execution_count": 35,
   "id": "fa60644c",
   "metadata": {},
   "outputs": [
    {
     "name": "stdout",
     "output_type": "stream",
     "text": [
      "(1371980, 2)\n"
     ]
    },
    {
     "data": {
      "text/html": [
       "<div>\n",
       "<style scoped>\n",
       "    .dataframe tbody tr th:only-of-type {\n",
       "        vertical-align: middle;\n",
       "    }\n",
       "\n",
       "    .dataframe tbody tr th {\n",
       "        vertical-align: top;\n",
       "    }\n",
       "\n",
       "    .dataframe thead th {\n",
       "        text-align: right;\n",
       "    }\n",
       "</style>\n",
       "<table border=\"1\" class=\"dataframe\">\n",
       "  <thead>\n",
       "    <tr style=\"text-align: right;\">\n",
       "      <th></th>\n",
       "      <th>customer_id</th>\n",
       "      <th>prediction</th>\n",
       "    </tr>\n",
       "  </thead>\n",
       "  <tbody>\n",
       "    <tr>\n",
       "      <th>0</th>\n",
       "      <td>00000dbacae5abe5e23885899a1fa44253a17956c6d1c3...</td>\n",
       "      <td>0568601043 0751471001 0909370001 0918522001 09...</td>\n",
       "    </tr>\n",
       "    <tr>\n",
       "      <th>1</th>\n",
       "      <td>0000423b00ade91418cceaf3b26c6af3dd342b51fd051e...</td>\n",
       "      <td>0924243001 0924243002 0923758001 0918522001 09...</td>\n",
       "    </tr>\n",
       "    <tr>\n",
       "      <th>2</th>\n",
       "      <td>000058a12d5b43e67d225668fa1f8d618c13dc232df0ca...</td>\n",
       "      <td>0794321007 0924243001 0923758001 0924243002 09...</td>\n",
       "    </tr>\n",
       "    <tr>\n",
       "      <th>3</th>\n",
       "      <td>00005ca1c9ed5f5146b52ac8639a40ca9d57aeff4d1bd2...</td>\n",
       "      <td>0924243001 0924243002 0923758001 0918522001 09...</td>\n",
       "    </tr>\n",
       "    <tr>\n",
       "      <th>4</th>\n",
       "      <td>00006413d8573cd20ed7128e53b7b13819fe5cfc2d801f...</td>\n",
       "      <td>0924243001 0924243002 0923758001 0918522001 09...</td>\n",
       "    </tr>\n",
       "  </tbody>\n",
       "</table>\n",
       "</div>"
      ],
      "text/plain": [
       "                                         customer_id  \\\n",
       "0  00000dbacae5abe5e23885899a1fa44253a17956c6d1c3...   \n",
       "1  0000423b00ade91418cceaf3b26c6af3dd342b51fd051e...   \n",
       "2  000058a12d5b43e67d225668fa1f8d618c13dc232df0ca...   \n",
       "3  00005ca1c9ed5f5146b52ac8639a40ca9d57aeff4d1bd2...   \n",
       "4  00006413d8573cd20ed7128e53b7b13819fe5cfc2d801f...   \n",
       "\n",
       "                                          prediction  \n",
       "0  0568601043 0751471001 0909370001 0918522001 09...  \n",
       "1  0924243001 0924243002 0923758001 0918522001 09...  \n",
       "2  0794321007 0924243001 0923758001 0924243002 09...  \n",
       "3  0924243001 0924243002 0923758001 0918522001 09...  \n",
       "4  0924243001 0924243002 0923758001 0918522001 09...  "
      ]
     },
     "execution_count": 35,
     "metadata": {},
     "output_type": "execute_result"
    }
   ],
   "source": [
    "# recommend purchases based on most recent transaction\n",
    "combined_to5wbenchmark = submission[['customer_id']]\n",
    "prediction_list = []\n",
    "\n",
    "dummy_list = list((transactions_1w['article_id'].value_counts()).index)[:12] #come up with top 12 best seller in week 104\n",
    "dummy_pred = ' '.join(dummy_list)\n",
    "\n",
    "for i, cust_id in enumerate(submission['customer_id'].values.reshape((-1,))):  \n",
    "    if cust_id in purchase_dict_1w:                # if customer made a purchase 1 week ago, recommend same items until 12   \n",
    "        l = sorted((purchase_dict_1w[cust_id]).items(), key=lambda x: x[1], reverse=True)\n",
    "        l = [y[0] for y in l]\n",
    "        if len(l)>12:\n",
    "            s = ' '.join(l[:12])                  # if customer bought more than 12, cut list to 12\n",
    "        else:\n",
    "            s = ' '.join(l+dummy_list_1w[:(12-len(l))])   # if list is still less than 12, recommend best sellers in week 104\n",
    "    elif cust_id in purchase_dict_2w:             \n",
    "        l = sorted((purchase_dict_2w[cust_id]).items(), key=lambda x: x[1], reverse=True)\n",
    "        l = [y[0] for y in l]\n",
    "        if len(l)>12:\n",
    "            s = ' '.join(l[:12])                 \n",
    "        else:\n",
    "            s = ' '.join(l+dummy_list_2w[:(12-len(l))])\n",
    "    elif cust_id in purchase_dict_3w:\n",
    "        l = sorted((purchase_dict_3w[cust_id]).items(), key=lambda x: x[1], reverse=True)\n",
    "        l = [y[0] for y in l]\n",
    "        if len(l)>12:\n",
    "            s = ' '.join(l[:12])\n",
    "        else:\n",
    "            s = ' '.join(l+dummy_list_3w[:(12-len(l))])\n",
    "    elif cust_id in purchase_dict_4w:\n",
    "        l = sorted((purchase_dict_4w[cust_id]).items(), key=lambda x: x[1], reverse=True)\n",
    "        l = [y[0] for y in l]\n",
    "        if len(l)>12:\n",
    "            s = ' '.join(l[:12])\n",
    "        else:\n",
    "            s = ' '.join(l+dummy_list_4w[:(12-len(l))])\n",
    "    elif cust_id in purchase_dict_5w:\n",
    "        l = sorted((purchase_dict_5w[cust_id]).items(), key=lambda x: x[1], reverse=True)\n",
    "        l = [y[0] for y in l]\n",
    "        if len(l)>12:\n",
    "            s = ' '.join(l[:12])\n",
    "        else:\n",
    "            s = ' '.join(l+dummy_list_5w[:(12-len(l))])\n",
    "    else:\n",
    "        s = dummy_pred\n",
    "    prediction_list.append(s)\n",
    "\n",
    "combined_to5wbenchmark['prediction'] = prediction_list\n",
    "print(combined_to5wbenchmark.shape)\n",
    "combined_to5wbenchmark.head()"
   ]
  },
  {
   "cell_type": "code",
   "execution_count": 36,
   "id": "3fe8cf3a",
   "metadata": {},
   "outputs": [],
   "source": [
    "combined_to5wbenchmark.to_csv('../datasets/submission8.csv', index=False)"
   ]
  },
  {
   "cell_type": "markdown",
   "id": "b21d159a",
   "metadata": {},
   "source": [
    "Returned MAP@12 is the most optimal at 0.0206."
   ]
  },
  {
   "cell_type": "code",
   "execution_count": 37,
   "id": "7cd3e9ff",
   "metadata": {},
   "outputs": [],
   "source": [
    "transactions_6w = transactions[transactions['t_dat'] >= pd.to_datetime('2020-08-08')].copy()\n",
    "transactions_7w = transactions[transactions['t_dat'] >= pd.to_datetime('2020-08-01')].copy()"
   ]
  },
  {
   "cell_type": "code",
   "execution_count": 38,
   "id": "0cf0da59",
   "metadata": {},
   "outputs": [
    {
     "name": "stdout",
     "output_type": "stream",
     "text": [
      "325906\n"
     ]
    }
   ],
   "source": [
    "purchase_dict_6w = {}\n",
    "\n",
    "for i,x in enumerate(zip(transactions_6w['customer_id'], transactions_6w['article_id'])):\n",
    "    cust_id, art_id = x\n",
    "    if cust_id not in purchase_dict_6w:\n",
    "        purchase_dict_6w[cust_id] = {}\n",
    "    \n",
    "    if art_id not in purchase_dict_6w[cust_id]:\n",
    "        purchase_dict_6w[cust_id][art_id] = 0\n",
    "    \n",
    "    purchase_dict_6w[cust_id][art_id] += 1\n",
    "    \n",
    "print(len(purchase_dict_6w))\n",
    "\n",
    "dummy_list_6w = list((transactions_6w['article_id'].value_counts()).index)[:12]"
   ]
  },
  {
   "cell_type": "code",
   "execution_count": 39,
   "id": "c5690c65",
   "metadata": {},
   "outputs": [
    {
     "name": "stdout",
     "output_type": "stream",
     "text": [
      "363798\n"
     ]
    }
   ],
   "source": [
    "purchase_dict_7w = {}\n",
    "\n",
    "for i,x in enumerate(zip(transactions_7w['customer_id'], transactions_7w['article_id'])):\n",
    "    cust_id, art_id = x\n",
    "    if cust_id not in purchase_dict_7w:\n",
    "        purchase_dict_7w[cust_id] = {}\n",
    "    \n",
    "    if art_id not in purchase_dict_7w[cust_id]:\n",
    "        purchase_dict_7w[cust_id][art_id] = 0\n",
    "    \n",
    "    purchase_dict_7w[cust_id][art_id] += 1\n",
    "    \n",
    "print(len(purchase_dict_7w))\n",
    "\n",
    "dummy_list_7w = list((transactions_7w['article_id'].value_counts()).index)[:12]"
   ]
  },
  {
   "cell_type": "code",
   "execution_count": 40,
   "id": "8e879b36",
   "metadata": {},
   "outputs": [
    {
     "name": "stdout",
     "output_type": "stream",
     "text": [
      "(1371980, 2)\n"
     ]
    },
    {
     "data": {
      "text/html": [
       "<div>\n",
       "<style scoped>\n",
       "    .dataframe tbody tr th:only-of-type {\n",
       "        vertical-align: middle;\n",
       "    }\n",
       "\n",
       "    .dataframe tbody tr th {\n",
       "        vertical-align: top;\n",
       "    }\n",
       "\n",
       "    .dataframe thead th {\n",
       "        text-align: right;\n",
       "    }\n",
       "</style>\n",
       "<table border=\"1\" class=\"dataframe\">\n",
       "  <thead>\n",
       "    <tr style=\"text-align: right;\">\n",
       "      <th></th>\n",
       "      <th>customer_id</th>\n",
       "      <th>prediction</th>\n",
       "    </tr>\n",
       "  </thead>\n",
       "  <tbody>\n",
       "    <tr>\n",
       "      <th>0</th>\n",
       "      <td>00000dbacae5abe5e23885899a1fa44253a17956c6d1c3...</td>\n",
       "      <td>0568601043 0751471001 0909370001 0918522001 09...</td>\n",
       "    </tr>\n",
       "    <tr>\n",
       "      <th>1</th>\n",
       "      <td>0000423b00ade91418cceaf3b26c6af3dd342b51fd051e...</td>\n",
       "      <td>0924243001 0924243002 0923758001 0918522001 09...</td>\n",
       "    </tr>\n",
       "    <tr>\n",
       "      <th>2</th>\n",
       "      <td>000058a12d5b43e67d225668fa1f8d618c13dc232df0ca...</td>\n",
       "      <td>0794321007 0924243001 0923758001 0924243002 09...</td>\n",
       "    </tr>\n",
       "    <tr>\n",
       "      <th>3</th>\n",
       "      <td>00005ca1c9ed5f5146b52ac8639a40ca9d57aeff4d1bd2...</td>\n",
       "      <td>0924243001 0924243002 0923758001 0918522001 09...</td>\n",
       "    </tr>\n",
       "    <tr>\n",
       "      <th>4</th>\n",
       "      <td>00006413d8573cd20ed7128e53b7b13819fe5cfc2d801f...</td>\n",
       "      <td>0896152002 0730683050 0927530004 0791587015 07...</td>\n",
       "    </tr>\n",
       "  </tbody>\n",
       "</table>\n",
       "</div>"
      ],
      "text/plain": [
       "                                         customer_id  \\\n",
       "0  00000dbacae5abe5e23885899a1fa44253a17956c6d1c3...   \n",
       "1  0000423b00ade91418cceaf3b26c6af3dd342b51fd051e...   \n",
       "2  000058a12d5b43e67d225668fa1f8d618c13dc232df0ca...   \n",
       "3  00005ca1c9ed5f5146b52ac8639a40ca9d57aeff4d1bd2...   \n",
       "4  00006413d8573cd20ed7128e53b7b13819fe5cfc2d801f...   \n",
       "\n",
       "                                          prediction  \n",
       "0  0568601043 0751471001 0909370001 0918522001 09...  \n",
       "1  0924243001 0924243002 0923758001 0918522001 09...  \n",
       "2  0794321007 0924243001 0923758001 0924243002 09...  \n",
       "3  0924243001 0924243002 0923758001 0918522001 09...  \n",
       "4  0896152002 0730683050 0927530004 0791587015 07...  "
      ]
     },
     "execution_count": 40,
     "metadata": {},
     "output_type": "execute_result"
    }
   ],
   "source": [
    "combined_to7wbenchmark = submission[['customer_id']]\n",
    "prediction_list = []\n",
    "\n",
    "dummy_list = list((transactions_1w['article_id'].value_counts()).index)[:12]\n",
    "dummy_pred = ' '.join(dummy_list)\n",
    "\n",
    "for i, cust_id in enumerate(submission['customer_id'].values.reshape((-1,))):\n",
    "    if cust_id in purchase_dict_1w:\n",
    "        l = sorted((purchase_dict_1w[cust_id]).items(), key=lambda x: x[1], reverse=True)\n",
    "        l = [y[0] for y in l]\n",
    "        if len(l)>12:\n",
    "            s = ' '.join(l[:12])\n",
    "        else:\n",
    "            s = ' '.join(l+dummy_list_1w[:(12-len(l))])\n",
    "    elif cust_id in purchase_dict_2w:\n",
    "        l = sorted((purchase_dict_2w[cust_id]).items(), key=lambda x: x[1], reverse=True)\n",
    "        l = [y[0] for y in l]\n",
    "        if len(l)>12:\n",
    "            s = ' '.join(l[:12])\n",
    "        else:\n",
    "            s = ' '.join(l+dummy_list_2w[:(12-len(l))])\n",
    "    elif cust_id in purchase_dict_3w:\n",
    "        l = sorted((purchase_dict_3w[cust_id]).items(), key=lambda x: x[1], reverse=True)\n",
    "        l = [y[0] for y in l]\n",
    "        if len(l)>12:\n",
    "            s = ' '.join(l[:12])\n",
    "        else:\n",
    "            s = ' '.join(l+dummy_list_3w[:(12-len(l))])\n",
    "    elif cust_id in purchase_dict_4w:\n",
    "        l = sorted((purchase_dict_4w[cust_id]).items(), key=lambda x: x[1], reverse=True)\n",
    "        l = [y[0] for y in l]\n",
    "        if len(l)>12:\n",
    "            s = ' '.join(l[:12])\n",
    "        else:\n",
    "            s = ' '.join(l+dummy_list_4w[:(12-len(l))])\n",
    "    elif cust_id in purchase_dict_5w:\n",
    "        l = sorted((purchase_dict_5w[cust_id]).items(), key=lambda x: x[1], reverse=True)\n",
    "        l = [y[0] for y in l]\n",
    "        if len(l)>12:\n",
    "            s = ' '.join(l[:12])\n",
    "        else:\n",
    "            s = ' '.join(l+dummy_list_5w[:(12-len(l))])\n",
    "    elif cust_id in purchase_dict_6w:\n",
    "        l = sorted((purchase_dict_6w[cust_id]).items(), key=lambda x: x[1], reverse=True)\n",
    "        l = [y[0] for y in l]\n",
    "        if len(l)>12:\n",
    "            s = ' '.join(l[:12])\n",
    "        else:\n",
    "            s = ' '.join(l+dummy_list_6w[:(12-len(l))])\n",
    "    elif cust_id in purchase_dict_7w:\n",
    "        l = sorted((purchase_dict_7w[cust_id]).items(), key=lambda x: x[1], reverse=True)\n",
    "        l = [y[0] for y in l]\n",
    "        if len(l)>12:\n",
    "            s = ' '.join(l[:12])\n",
    "        else:\n",
    "            s = ' '.join(l+dummy_list_7w[:(12-len(l))])\n",
    "    else:\n",
    "        s = dummy_pred\n",
    "    prediction_list.append(s)\n",
    "\n",
    "combined_to7wbenchmark['prediction'] = prediction_list\n",
    "print(combined_to7wbenchmark.shape)\n",
    "combined_to7wbenchmark.head()"
   ]
  },
  {
   "cell_type": "code",
   "execution_count": 41,
   "id": "303034d1",
   "metadata": {},
   "outputs": [],
   "source": [
    "combined_to7wbenchmark.to_csv('../datasets/submission9.csv', index=False)"
   ]
  },
  {
   "cell_type": "markdown",
   "id": "20027739",
   "metadata": {},
   "source": [
    "Kaggle score stopped improving from  `dummy_list_5w`. This shows that the most relevant feature is actually the first 5 weeks information."
   ]
  },
  {
   "cell_type": "markdown",
   "id": "ce502edd",
   "metadata": {},
   "source": [
    "## Conclusion from base model"
   ]
  },
  {
   "cell_type": "markdown",
   "id": "67196b9e",
   "metadata": {},
   "source": [
    "I found the sweet spot for the base model to be around the most recent 5 weeks of transaction. This is because taking the most recent information only will forgo past purchasing information from the customers. There is also a trade off when we take old information, which is that the product in the old transactions are no longer in season and not for sale anymore.\n",
    "\n",
    "The MAP@12 score for baseline model is currently at 0.0206, and in future models, I will try to improve from this baseline."
   ]
  }
 ],
 "metadata": {
  "kernelspec": {
   "display_name": "Python 3 (ipykernel)",
   "language": "python",
   "name": "python3"
  },
  "language_info": {
   "codemirror_mode": {
    "name": "ipython",
    "version": 3
   },
   "file_extension": ".py",
   "mimetype": "text/x-python",
   "name": "python",
   "nbconvert_exporter": "python",
   "pygments_lexer": "ipython3",
   "version": "3.7.13"
  }
 },
 "nbformat": 4,
 "nbformat_minor": 5
}
