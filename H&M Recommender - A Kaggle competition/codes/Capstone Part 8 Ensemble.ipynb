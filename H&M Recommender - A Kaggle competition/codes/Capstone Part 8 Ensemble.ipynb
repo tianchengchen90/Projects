{
 "cells": [
  {
   "cell_type": "markdown",
   "metadata": {},
   "source": [
    "## H&M Recommender system - Capstone Part 8"
   ]
  },
  {
   "cell_type": "markdown",
   "metadata": {},
   "source": [
    "“The theory of the “wisdom of crowds,” says that if you aggregate many different opinions from a diverse group of people, you are much more likely to arrive at the best opinion than if you just listen to one specialist.”\n",
    "— Simon Kuper\n",
    "\n",
    "The focus of this notebook is to investigate if ensembling can give rise to a better MAP@12 score as part of model selection since I have built several models by this juncture. It would be a waste to simply choose the best model without trying out this step.\n",
    "\n",
    "Furthermore, most of the models built are rule based and do not have hyperparameters to tune, the scores of those models are more or less fixed and unlikely to further improve greatly. "
   ]
  },
  {
   "cell_type": "code",
   "execution_count": 1,
   "metadata": {
    "_cell_guid": "b1076dfc-b9ad-4769-8c92-a6c4dae69d19",
    "_uuid": "8f2839f25d086af736a60e9eeb907d3b93b6e0e5",
    "execution": {
     "iopub.execute_input": "2022-04-23T14:07:52.113217Z",
     "iopub.status.busy": "2022-04-23T14:07:52.111728Z",
     "iopub.status.idle": "2022-04-23T14:07:52.120275Z",
     "shell.execute_reply": "2022-04-23T14:07:52.120671Z",
     "shell.execute_reply.started": "2022-04-18T10:22:56.125032Z"
    },
    "papermill": {
     "duration": 0.020406,
     "end_time": "2022-04-23T14:07:52.120895",
     "exception": false,
     "start_time": "2022-04-23T14:07:52.100489",
     "status": "completed"
    },
    "tags": []
   },
   "outputs": [],
   "source": [
    "# Import libraries\n",
    "import numpy as np\n",
    "import pandas as pd\n",
    "import gc"
   ]
  },
  {
   "cell_type": "markdown",
   "metadata": {
    "papermill": {
     "duration": 0.007358,
     "end_time": "2022-04-23T14:07:52.13554",
     "exception": false,
     "start_time": "2022-04-23T14:07:52.128182",
     "status": "completed"
    },
    "tags": []
   },
   "source": [
    "# To ensemble I used 5 submissions that gave me the highest scores so far"
   ]
  },
  {
   "cell_type": "code",
   "execution_count": 3,
   "metadata": {
    "execution": {
     "iopub.execute_input": "2022-04-23T14:07:52.157872Z",
     "iopub.status.busy": "2022-04-23T14:07:52.157307Z",
     "iopub.status.idle": "2022-04-23T14:08:52.844274Z",
     "shell.execute_reply": "2022-04-23T14:08:52.843318Z",
     "shell.execute_reply.started": "2022-04-18T10:29:10.321248Z"
    },
    "papermill": {
     "duration": 60.70143,
     "end_time": "2022-04-23T14:08:52.844425",
     "exception": false,
     "start_time": "2022-04-23T14:07:52.142995",
     "status": "completed"
    },
    "tags": []
   },
   "outputs": [],
   "source": [
    "sub1 = pd.read_csv('../datasets/LGBM5w_NDCG@122025ES.csv').sort_values('customer_id').reset_index(drop=True)  # 0.0199\n",
    "sub2 = pd.read_csv('../datasets/submission8.csv').sort_values('customer_id').reset_index(drop=True)           # 0.0206\n",
    "sub3 = pd.read_csv('../datasets/trending.csv').sort_values('customer_id').reset_index(drop=True)              # 0.0226\n",
    "sub4 = pd.read_csv('../datasets/age.csv').sort_values('customer_id').reset_index(drop=True)                   # 0.0227\n",
    "sub5 = pd.read_csv('../datasets/kmeans.csv').sort_values('customer_id').reset_index(drop=True)                # 0.0224"
   ]
  },
  {
   "cell_type": "code",
   "execution_count": 6,
   "metadata": {
    "execution": {
     "iopub.execute_input": "2022-04-23T14:08:52.870403Z",
     "iopub.status.busy": "2022-04-23T14:08:52.869501Z",
     "iopub.status.idle": "2022-04-23T14:08:53.76499Z",
     "shell.execute_reply": "2022-04-23T14:08:53.765394Z",
     "shell.execute_reply.started": "2022-04-18T10:30:00.102483Z"
    },
    "papermill": {
     "duration": 0.912698,
     "end_time": "2022-04-23T14:08:53.765548",
     "exception": false,
     "start_time": "2022-04-23T14:08:52.85285",
     "status": "completed"
    },
    "tags": []
   },
   "outputs": [
    {
     "data": {
      "text/html": [
       "<div>\n",
       "<style scoped>\n",
       "    .dataframe tbody tr th:only-of-type {\n",
       "        vertical-align: middle;\n",
       "    }\n",
       "\n",
       "    .dataframe tbody tr th {\n",
       "        vertical-align: top;\n",
       "    }\n",
       "\n",
       "    .dataframe thead th {\n",
       "        text-align: right;\n",
       "    }\n",
       "</style>\n",
       "<table border=\"1\" class=\"dataframe\">\n",
       "  <thead>\n",
       "    <tr style=\"text-align: right;\">\n",
       "      <th></th>\n",
       "      <th>customer_id</th>\n",
       "      <th>prediction1</th>\n",
       "      <th>prediction2</th>\n",
       "      <th>prediction3</th>\n",
       "      <th>prediction4</th>\n",
       "      <th>prediction5</th>\n",
       "    </tr>\n",
       "  </thead>\n",
       "  <tbody>\n",
       "    <tr>\n",
       "      <th>0</th>\n",
       "      <td>00000dbacae5abe5e23885899a1fa44253a17956c6d1c3...</td>\n",
       "      <td>0568601043 0924243001 0909370001 0865799006 09...</td>\n",
       "      <td>0568601043 0751471001 0909370001 0918522001 09...</td>\n",
       "      <td>0568601043 0568601006 0448509014 0573085028 07...</td>\n",
       "      <td>0568601043 0568601006 0745232001 0751471001 04...</td>\n",
       "      <td>0568601043 0568601006 0745232001 0751471001 04...</td>\n",
       "    </tr>\n",
       "    <tr>\n",
       "      <th>1</th>\n",
       "      <td>0000423b00ade91418cceaf3b26c6af3dd342b51fd051e...</td>\n",
       "      <td>0924243001 0924243002 0918522001 0923758001 08...</td>\n",
       "      <td>0924243001 0924243002 0923758001 0918522001 09...</td>\n",
       "      <td>0826211002 0800436010 0739590027 0448509014 05...</td>\n",
       "      <td>0826211002 0739590027 0811835004 0764280001 07...</td>\n",
       "      <td>0826211002 0739590027 0811835004 0764280001 07...</td>\n",
       "    </tr>\n",
       "    <tr>\n",
       "      <th>2</th>\n",
       "      <td>000058a12d5b43e67d225668fa1f8d618c13dc232df0ca...</td>\n",
       "      <td>0794321007 0924243001 0762846027 0918522001 09...</td>\n",
       "      <td>0794321007 0924243001 0923758001 0924243002 09...</td>\n",
       "      <td>0794321007 0852643001 0852643003 0858883002 07...</td>\n",
       "      <td>0794321007 0858883002 0852643003 0727808007 08...</td>\n",
       "      <td>0794321007 0852643001 0852643003 0727808007 08...</td>\n",
       "    </tr>\n",
       "    <tr>\n",
       "      <th>3</th>\n",
       "      <td>00005ca1c9ed5f5146b52ac8639a40ca9d57aeff4d1bd2...</td>\n",
       "      <td>0924243001 0924243002 0918522001 0923758001 08...</td>\n",
       "      <td>0924243001 0924243002 0923758001 0918522001 09...</td>\n",
       "      <td>0448509014 0573085028 0751471001 0706016001 06...</td>\n",
       "      <td>0751471001 0579541001 0573085028 0673677002 06...</td>\n",
       "      <td>0751471001 0678942001 0673677002 0579541001 05...</td>\n",
       "    </tr>\n",
       "    <tr>\n",
       "      <th>4</th>\n",
       "      <td>00006413d8573cd20ed7128e53b7b13819fe5cfc2d801f...</td>\n",
       "      <td>0924243001 0924243002 0918522001 0923758001 08...</td>\n",
       "      <td>0924243001 0924243002 0923758001 0918522001 09...</td>\n",
       "      <td>0730683050 0791587015 0896152002 0818320001 09...</td>\n",
       "      <td>0730683050 0791587015 0896152002 0927530004 08...</td>\n",
       "      <td>0730683050 0791587015 0896152002 0927530004 05...</td>\n",
       "    </tr>\n",
       "  </tbody>\n",
       "</table>\n",
       "</div>"
      ],
      "text/plain": [
       "                                         customer_id  \\\n",
       "0  00000dbacae5abe5e23885899a1fa44253a17956c6d1c3...   \n",
       "1  0000423b00ade91418cceaf3b26c6af3dd342b51fd051e...   \n",
       "2  000058a12d5b43e67d225668fa1f8d618c13dc232df0ca...   \n",
       "3  00005ca1c9ed5f5146b52ac8639a40ca9d57aeff4d1bd2...   \n",
       "4  00006413d8573cd20ed7128e53b7b13819fe5cfc2d801f...   \n",
       "\n",
       "                                         prediction1  \\\n",
       "0  0568601043 0924243001 0909370001 0865799006 09...   \n",
       "1  0924243001 0924243002 0918522001 0923758001 08...   \n",
       "2  0794321007 0924243001 0762846027 0918522001 09...   \n",
       "3  0924243001 0924243002 0918522001 0923758001 08...   \n",
       "4  0924243001 0924243002 0918522001 0923758001 08...   \n",
       "\n",
       "                                         prediction2  \\\n",
       "0  0568601043 0751471001 0909370001 0918522001 09...   \n",
       "1  0924243001 0924243002 0923758001 0918522001 09...   \n",
       "2  0794321007 0924243001 0923758001 0924243002 09...   \n",
       "3  0924243001 0924243002 0923758001 0918522001 09...   \n",
       "4  0924243001 0924243002 0923758001 0918522001 09...   \n",
       "\n",
       "                                         prediction3  \\\n",
       "0  0568601043 0568601006 0448509014 0573085028 07...   \n",
       "1  0826211002 0800436010 0739590027 0448509014 05...   \n",
       "2  0794321007 0852643001 0852643003 0858883002 07...   \n",
       "3  0448509014 0573085028 0751471001 0706016001 06...   \n",
       "4  0730683050 0791587015 0896152002 0818320001 09...   \n",
       "\n",
       "                                         prediction4  \\\n",
       "0  0568601043 0568601006 0745232001 0751471001 04...   \n",
       "1  0826211002 0739590027 0811835004 0764280001 07...   \n",
       "2  0794321007 0858883002 0852643003 0727808007 08...   \n",
       "3  0751471001 0579541001 0573085028 0673677002 06...   \n",
       "4  0730683050 0791587015 0896152002 0927530004 08...   \n",
       "\n",
       "                                         prediction5  \n",
       "0  0568601043 0568601006 0745232001 0751471001 04...  \n",
       "1  0826211002 0739590027 0811835004 0764280001 07...  \n",
       "2  0794321007 0852643001 0852643003 0727808007 08...  \n",
       "3  0751471001 0678942001 0673677002 0579541001 05...  \n",
       "4  0730683050 0791587015 0896152002 0927530004 05...  "
      ]
     },
     "execution_count": 6,
     "metadata": {},
     "output_type": "execute_result"
    }
   ],
   "source": [
    "sub1.columns = ['customer_id', 'prediction1']\n",
    "sub1['prediction2'] = sub2['prediction']\n",
    "sub1['prediction3'] = sub3['prediction']\n",
    "sub1['prediction4'] = sub4['prediction']\n",
    "sub1['prediction5'] = sub5['prediction']\n",
    "\n",
    "del sub2, sub3, sub4, sub5\n",
    "sub1.head()"
   ]
  },
  {
   "cell_type": "code",
   "execution_count": 7,
   "metadata": {
    "execution": {
     "iopub.execute_input": "2022-04-23T14:08:53.785475Z",
     "iopub.status.busy": "2022-04-23T14:08:53.784584Z",
     "iopub.status.idle": "2022-04-23T14:11:19.816142Z",
     "shell.execute_reply": "2022-04-23T14:11:19.816574Z",
     "shell.execute_reply.started": "2022-04-18T10:30:01.021476Z"
    },
    "papermill": {
     "duration": 146.042668,
     "end_time": "2022-04-23T14:11:19.816751",
     "exception": false,
     "start_time": "2022-04-23T14:08:53.774083",
     "status": "completed"
    },
    "scrolled": true,
    "tags": []
   },
   "outputs": [
    {
     "data": {
      "text/html": [
       "<div>\n",
       "<style scoped>\n",
       "    .dataframe tbody tr th:only-of-type {\n",
       "        vertical-align: middle;\n",
       "    }\n",
       "\n",
       "    .dataframe tbody tr th {\n",
       "        vertical-align: top;\n",
       "    }\n",
       "\n",
       "    .dataframe thead th {\n",
       "        text-align: right;\n",
       "    }\n",
       "</style>\n",
       "<table border=\"1\" class=\"dataframe\">\n",
       "  <thead>\n",
       "    <tr style=\"text-align: right;\">\n",
       "      <th></th>\n",
       "      <th>customer_id</th>\n",
       "      <th>prediction1</th>\n",
       "      <th>prediction2</th>\n",
       "      <th>prediction3</th>\n",
       "      <th>prediction4</th>\n",
       "      <th>prediction5</th>\n",
       "      <th>prediction</th>\n",
       "    </tr>\n",
       "  </thead>\n",
       "  <tbody>\n",
       "    <tr>\n",
       "      <th>0</th>\n",
       "      <td>00000dbacae5abe5e23885899a1fa44253a17956c6d1c3...</td>\n",
       "      <td>0568601043 0924243001 0909370001 0865799006 09...</td>\n",
       "      <td>0568601043 0751471001 0909370001 0918522001 09...</td>\n",
       "      <td>0568601043 0568601006 0448509014 0573085028 07...</td>\n",
       "      <td>0568601043 0568601006 0745232001 0751471001 04...</td>\n",
       "      <td>0568601043 0568601006 0745232001 0751471001 04...</td>\n",
       "      <td>0568601043 0568601006 0751471001 0448509014 09...</td>\n",
       "    </tr>\n",
       "    <tr>\n",
       "      <th>1</th>\n",
       "      <td>0000423b00ade91418cceaf3b26c6af3dd342b51fd051e...</td>\n",
       "      <td>0924243001 0924243002 0918522001 0923758001 08...</td>\n",
       "      <td>0924243001 0924243002 0923758001 0918522001 09...</td>\n",
       "      <td>0826211002 0800436010 0739590027 0448509014 05...</td>\n",
       "      <td>0826211002 0739590027 0811835004 0764280001 07...</td>\n",
       "      <td>0826211002 0739590027 0811835004 0764280001 07...</td>\n",
       "      <td>0826211002 0924243001 0739590027 0924243002 08...</td>\n",
       "    </tr>\n",
       "    <tr>\n",
       "      <th>2</th>\n",
       "      <td>000058a12d5b43e67d225668fa1f8d618c13dc232df0ca...</td>\n",
       "      <td>0794321007 0924243001 0762846027 0918522001 09...</td>\n",
       "      <td>0794321007 0924243001 0923758001 0924243002 09...</td>\n",
       "      <td>0794321007 0852643001 0852643003 0858883002 07...</td>\n",
       "      <td>0794321007 0858883002 0852643003 0727808007 08...</td>\n",
       "      <td>0794321007 0852643001 0852643003 0727808007 08...</td>\n",
       "      <td>0794321007 0852643001 0924243001 0852643003 08...</td>\n",
       "    </tr>\n",
       "    <tr>\n",
       "      <th>3</th>\n",
       "      <td>00005ca1c9ed5f5146b52ac8639a40ca9d57aeff4d1bd2...</td>\n",
       "      <td>0924243001 0924243002 0918522001 0923758001 08...</td>\n",
       "      <td>0924243001 0924243002 0923758001 0918522001 09...</td>\n",
       "      <td>0448509014 0573085028 0751471001 0706016001 06...</td>\n",
       "      <td>0751471001 0579541001 0573085028 0673677002 06...</td>\n",
       "      <td>0751471001 0678942001 0673677002 0579541001 05...</td>\n",
       "      <td>0751471001 0924243001 0448509014 0924243002 05...</td>\n",
       "    </tr>\n",
       "    <tr>\n",
       "      <th>4</th>\n",
       "      <td>00006413d8573cd20ed7128e53b7b13819fe5cfc2d801f...</td>\n",
       "      <td>0924243001 0924243002 0918522001 0923758001 08...</td>\n",
       "      <td>0924243001 0924243002 0923758001 0918522001 09...</td>\n",
       "      <td>0730683050 0791587015 0896152002 0818320001 09...</td>\n",
       "      <td>0730683050 0791587015 0896152002 0927530004 08...</td>\n",
       "      <td>0730683050 0791587015 0896152002 0927530004 05...</td>\n",
       "      <td>0730683050 0924243001 0791587015 0924243002 08...</td>\n",
       "    </tr>\n",
       "  </tbody>\n",
       "</table>\n",
       "</div>"
      ],
      "text/plain": [
       "                                         customer_id  \\\n",
       "0  00000dbacae5abe5e23885899a1fa44253a17956c6d1c3...   \n",
       "1  0000423b00ade91418cceaf3b26c6af3dd342b51fd051e...   \n",
       "2  000058a12d5b43e67d225668fa1f8d618c13dc232df0ca...   \n",
       "3  00005ca1c9ed5f5146b52ac8639a40ca9d57aeff4d1bd2...   \n",
       "4  00006413d8573cd20ed7128e53b7b13819fe5cfc2d801f...   \n",
       "\n",
       "                                         prediction1  \\\n",
       "0  0568601043 0924243001 0909370001 0865799006 09...   \n",
       "1  0924243001 0924243002 0918522001 0923758001 08...   \n",
       "2  0794321007 0924243001 0762846027 0918522001 09...   \n",
       "3  0924243001 0924243002 0918522001 0923758001 08...   \n",
       "4  0924243001 0924243002 0918522001 0923758001 08...   \n",
       "\n",
       "                                         prediction2  \\\n",
       "0  0568601043 0751471001 0909370001 0918522001 09...   \n",
       "1  0924243001 0924243002 0923758001 0918522001 09...   \n",
       "2  0794321007 0924243001 0923758001 0924243002 09...   \n",
       "3  0924243001 0924243002 0923758001 0918522001 09...   \n",
       "4  0924243001 0924243002 0923758001 0918522001 09...   \n",
       "\n",
       "                                         prediction3  \\\n",
       "0  0568601043 0568601006 0448509014 0573085028 07...   \n",
       "1  0826211002 0800436010 0739590027 0448509014 05...   \n",
       "2  0794321007 0852643001 0852643003 0858883002 07...   \n",
       "3  0448509014 0573085028 0751471001 0706016001 06...   \n",
       "4  0730683050 0791587015 0896152002 0818320001 09...   \n",
       "\n",
       "                                         prediction4  \\\n",
       "0  0568601043 0568601006 0745232001 0751471001 04...   \n",
       "1  0826211002 0739590027 0811835004 0764280001 07...   \n",
       "2  0794321007 0858883002 0852643003 0727808007 08...   \n",
       "3  0751471001 0579541001 0573085028 0673677002 06...   \n",
       "4  0730683050 0791587015 0896152002 0927530004 08...   \n",
       "\n",
       "                                         prediction5  \\\n",
       "0  0568601043 0568601006 0745232001 0751471001 04...   \n",
       "1  0826211002 0739590027 0811835004 0764280001 07...   \n",
       "2  0794321007 0852643001 0852643003 0727808007 08...   \n",
       "3  0751471001 0678942001 0673677002 0579541001 05...   \n",
       "4  0730683050 0791587015 0896152002 0927530004 05...   \n",
       "\n",
       "                                          prediction  \n",
       "0  0568601043 0568601006 0751471001 0448509014 09...  \n",
       "1  0826211002 0924243001 0739590027 0924243002 08...  \n",
       "2  0794321007 0852643001 0924243001 0852643003 08...  \n",
       "3  0751471001 0924243001 0448509014 0924243002 05...  \n",
       "4  0730683050 0924243001 0791587015 0924243002 08...  "
      ]
     },
     "execution_count": 7,
     "metadata": {},
     "output_type": "execute_result"
    }
   ],
   "source": [
    "def cust_blend(dt, W = [1,1,1,1,1]):\n",
    "    #Global ensemble weights\n",
    "    #W = [1.15,0.95,0.85]\n",
    "\n",
    "    #Create a list of all model predictions\n",
    "    REC = []\n",
    "\n",
    "    REC.append(dt['prediction1'].split())\n",
    "    REC.append(dt['prediction2'].split())\n",
    "    REC.append(dt['prediction3'].split())\n",
    "    REC.append(dt['prediction4'].split())\n",
    "    REC.append(dt['prediction5'].split())\n",
    "\n",
    "    #Create a dictionary of items recommended.\n",
    "    #Assign a weight according the order of appearance and multiply by global weights\n",
    "    res = {}\n",
    "    for M in range(len(REC)):\n",
    "        for n, v in enumerate(REC[M]):\n",
    "            if v in res:\n",
    "                res[v] += (W[M]/(n+1))\n",
    "            else:\n",
    "                res[v] = (W[M]/(n+1))\n",
    "\n",
    "    # Sort dictionary by item weights\n",
    "    res = list(dict(sorted(res.items(), key=lambda item: -item[1])).keys())\n",
    "\n",
    "    # Return the top 12 items only\n",
    "    return ' '.join(res[:12])\n",
    "\n",
    "# weights assigned arbitrarily\n",
    "sub1['prediction'] = sub1.apply(cust_blend, W = [1.05,0.78,0.86,0.88,0.85], axis=1)\n",
    "sub1.head()"
   ]
  },
  {
   "cell_type": "markdown",
   "metadata": {},
   "source": [
    "In the above code, the weightages have been arbitrarily tweaked and submitted on Kaggle, in order to know if it brings improvement or not. "
   ]
  },
  {
   "cell_type": "markdown",
   "metadata": {
    "papermill": {
     "duration": 0.008635,
     "end_time": "2022-04-23T14:11:19.834502",
     "exception": false,
     "start_time": "2022-04-23T14:11:19.825867",
     "status": "completed"
    },
    "tags": []
   },
   "source": [
    "# Make a submission"
   ]
  },
  {
   "cell_type": "code",
   "execution_count": 8,
   "metadata": {
    "execution": {
     "iopub.execute_input": "2022-04-23T14:11:19.860177Z",
     "iopub.status.busy": "2022-04-23T14:11:19.859312Z",
     "iopub.status.idle": "2022-04-23T14:11:31.424863Z",
     "shell.execute_reply": "2022-04-23T14:11:31.425311Z",
     "shell.execute_reply.started": "2022-04-18T10:26:44.145695Z"
    },
    "papermill": {
     "duration": 11.582373,
     "end_time": "2022-04-23T14:11:31.425482",
     "exception": false,
     "start_time": "2022-04-23T14:11:19.843109",
     "status": "completed"
    },
    "tags": []
   },
   "outputs": [],
   "source": [
    "del sub1['prediction1']\n",
    "del sub1['prediction2']\n",
    "del sub1['prediction3']\n",
    "del sub1['prediction4']\n",
    "del sub1['prediction5']\n",
    "\n",
    "gc.collect()\n",
    "\n",
    "\n",
    "sub1.to_csv('../datasets/ensemble9.csv', index=False)"
   ]
  },
  {
   "cell_type": "markdown",
   "metadata": {},
   "source": [
    "My 9th attempt at ensembling gave the highest MAP@12 at 0.0237"
   ]
  },
  {
   "cell_type": "markdown",
   "metadata": {
    "papermill": {
     "duration": 0.008509,
     "end_time": "2022-04-23T14:11:31.442856",
     "exception": false,
     "start_time": "2022-04-23T14:11:31.434347",
     "status": "completed"
    },
    "tags": []
   },
   "source": [
    "## Conclusion from ensembling"
   ]
  },
  {
   "cell_type": "markdown",
   "metadata": {},
   "source": [
    "Further iterations of ensembles did not improve the MAP from 0.0237. As such, they will not be included in the notebook. Strategies like multiblend for ensemble was also employed, but did not improve the score.\n",
    "\n",
    "It was interesting to note that the improvement in MAP@12 was 4.4% from the best performing model of 0.0227. I also noted that the more diverse the models, the better the score improves. "
   ]
  },
  {
   "cell_type": "markdown",
   "metadata": {},
   "source": [
    "## Future works"
   ]
  },
  {
   "cell_type": "markdown",
   "metadata": {},
   "source": [
    "The competition has ended on 10 May 2022, and the top scoring methodologies are starting to be posted on the public boards.\n",
    "\n",
    "It was noted that the top strategies employed multiple candidate generation method, some even up to 20, before employing a ranking model. Ensemble was also a crucial step that was employed by them. [*link*](https://www.kaggle.com/competitions/h-and-m-personalized-fashion-recommendations/discussion/324103)\n",
    "\n",
    "For future works and learning, I would want to try to further improve the score by using these top ranking techniques. I noted that recommender competitions are pretty popular, and with this experience, I hope to score better in future in the leaderboards."
   ]
  }
 ],
 "metadata": {
  "kernelspec": {
   "display_name": "Python 3 (ipykernel)",
   "language": "python",
   "name": "python3"
  },
  "language_info": {
   "codemirror_mode": {
    "name": "ipython",
    "version": 3
   },
   "file_extension": ".py",
   "mimetype": "text/x-python",
   "name": "python",
   "nbconvert_exporter": "python",
   "pygments_lexer": "ipython3",
   "version": "3.7.13"
  }
 },
 "nbformat": 4,
 "nbformat_minor": 4
}
