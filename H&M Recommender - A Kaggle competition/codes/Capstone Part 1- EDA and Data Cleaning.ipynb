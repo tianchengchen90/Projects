{
 "cells": [
  {
   "cell_type": "markdown",
   "id": "2a205282",
   "metadata": {},
   "source": [
    "# H&M Recommender system - Capstone Part 1"
   ]
  },
  {
   "cell_type": "markdown",
   "id": "663fb5aa",
   "metadata": {},
   "source": [
    "## Problem statement"
   ]
  },
  {
   "cell_type": "markdown",
   "id": "4f760fbd",
   "metadata": {},
   "source": [
    "The challenge was an active Kaggle competition which I participated in which was hosted and ran from February 7 2022 till May 9 2022 by H&M Group. \n",
    "\n",
    "[*link*](https://www.kaggle.com/competitions/h-and-m-personalized-fashion-recommendations/overview/description)\n",
    "\n",
    "For this challenge I was given the purchase history of customers across time, along with supporting metadata. The challenge is to predict what articles each customer will purchase in the 7-day period immediately after the training data ends. Customer who did not make any purchase during that time are excluded from the scoring.\n",
    "\n",
    "Scoring method used in the competition is Mean Average Precision @ 12 (MAP@12) and since there is never a penalty for using the full 12 predictions for a customer that ordered fewer than 12 items; thus, it's advantageous to make 12 predictions for each customer."
   ]
  },
  {
   "cell_type": "code",
   "execution_count": 1,
   "id": "f214f061",
   "metadata": {},
   "outputs": [],
   "source": [
    "# Import libraries\n",
    "import pandas as pd\n",
    "import numpy as np\n",
    "import seaborn as sns\n",
    "import matplotlib.pyplot as plt"
   ]
  },
  {
   "cell_type": "code",
   "execution_count": 2,
   "id": "3855284f",
   "metadata": {},
   "outputs": [],
   "source": [
    "# Read all csv\n",
    "articles = pd.read_csv('../datasets/articles.csv', dtype={'article_id': 'str'})\n",
    "customers = pd.read_csv('../datasets/customers.csv')\n",
    "sample = pd.read_csv('../datasets/sample_submission.csv')\n",
    "train = pd.read_csv('../datasets/transactions_train.csv', dtype={'article_id': 'str'})"
   ]
  },
  {
   "cell_type": "markdown",
   "id": "77828310",
   "metadata": {},
   "source": [
    "## Articles dataset"
   ]
  },
  {
   "cell_type": "markdown",
   "id": "7912b447",
   "metadata": {},
   "source": [
    "The articles dataset contains the specifics of all products sold in H&M."
   ]
  },
  {
   "cell_type": "code",
   "execution_count": 3,
   "id": "b99f0da6",
   "metadata": {},
   "outputs": [
    {
     "data": {
      "text/plain": [
       "article_id                      object\n",
       "product_code                     int64\n",
       "prod_name                       object\n",
       "product_type_no                  int64\n",
       "product_type_name               object\n",
       "product_group_name              object\n",
       "graphical_appearance_no          int64\n",
       "graphical_appearance_name       object\n",
       "colour_group_code                int64\n",
       "colour_group_name               object\n",
       "perceived_colour_value_id        int64\n",
       "perceived_colour_value_name     object\n",
       "perceived_colour_master_id       int64\n",
       "perceived_colour_master_name    object\n",
       "department_no                    int64\n",
       "department_name                 object\n",
       "index_code                      object\n",
       "index_name                      object\n",
       "index_group_no                   int64\n",
       "index_group_name                object\n",
       "section_no                       int64\n",
       "section_name                    object\n",
       "garment_group_no                 int64\n",
       "garment_group_name              object\n",
       "detail_desc                     object\n",
       "dtype: object"
      ]
     },
     "execution_count": 3,
     "metadata": {},
     "output_type": "execute_result"
    }
   ],
   "source": [
    "articles.dtypes"
   ]
  },
  {
   "cell_type": "markdown",
   "id": "bb111d56",
   "metadata": {},
   "source": [
    "| Item     | Description |\n",
    "| ----------- | ----------- |\n",
    "|article_id      | The assigned article ID. The ID will be unique for each identifiable article.|\n",
    "|product_code  |A subcategory code for the group of products. |\n",
    "|prod_name| A subcategory name for the group of products. |\n",
    "|product_type_no|A subcategory code for type of product.|\n",
    "|product_type_name|A subcategory name for type of product.|\n",
    "|product_group_name|A subcategory name for group of product. ie. Underwear, Upper garment etc.|\n",
    "|graphical_appearance_no|A subcategory code for type of pattern product belongs to. Eg. Solid or Stripes etc and its corresponding number|\n",
    "|graphical_appearance_name  |A subcategory name for type of pattern product belongs to. Eg. Solid or Stripes etc.|\n",
    "|colour_group_code  |A subcategory code for type of color group which product belongs to. Eg. Black or white and its corresponding number.|\n",
    "|colour_group_name  |A subcategory name for type of color group which product belongs to. Eg. Black or white.|\n",
    "|perceived_colour_value_id |A subcategory code for type of perceieved color group which product belongs to. Eg. Dark, light in numerical form.|\n",
    "|perceived_colour_value_name  |A subcategory name for type of perceieved color group which product belongs to. Eg. Dark, light.|\n",
    "|perceived_colour_master_id   |A subcategory code for type of perceived color group which product belongs to. Eg. Black, white in numerical form.|\n",
    "|perceived_colour_master_name    |A subcategory name for type of perceived color group which product belongs to. Eg. Black, white.|\n",
    "|department_no    |A subcategory code for department which product belongs to. Eg. Jersey, lingerie etc|\n",
    "|department_name    |A subcategory name for department which product belongs to. Eg. Jersey, lingerie etc.|\n",
    "|index_code     |A subcategory code for index that product belongs to. Eg. Ladieswear, Lingeries, Menswear etc.|\n",
    "|index_name     |A subcategory name for index that product belongs to. Eg. Ladieswear, Lingeries, Menswear etc.|\n",
    "|index_group_no     |A greater subcategory code for index that product belongs to. Eg. Ladieswear, Menswear etc.|\n",
    "|index_group_name    |A greater subcategory name for index that product belongs to. Eg. Ladieswear, Menswear etc.|\n",
    "|section_no       |A subcategory code for section that product belongs to. Eg. Women's Everyday Basics, Men Underwear etc.|\n",
    "|section_name     |A subcategory name for section that product belongs to. Eg. Women's Everyday Basics, Men Underwear etc.|\n",
    "|garment_group_no    |A subcategory code for garment group that product belongs to. Eg. Jersey Basic, Jersey Fancy etc.|\n",
    "|garment_group_name   |A subcategory name for garment group that product belongs to. Eg. Jersey Basic, Jersey Fancy etc.|\n",
    "|detail_desc    |General description of the product and its features.|"
   ]
  },
  {
   "cell_type": "code",
   "execution_count": 4,
   "id": "0e9e9177",
   "metadata": {},
   "outputs": [
    {
     "data": {
      "text/html": [
       "<div>\n",
       "<style scoped>\n",
       "    .dataframe tbody tr th:only-of-type {\n",
       "        vertical-align: middle;\n",
       "    }\n",
       "\n",
       "    .dataframe tbody tr th {\n",
       "        vertical-align: top;\n",
       "    }\n",
       "\n",
       "    .dataframe thead th {\n",
       "        text-align: right;\n",
       "    }\n",
       "</style>\n",
       "<table border=\"1\" class=\"dataframe\">\n",
       "  <thead>\n",
       "    <tr style=\"text-align: right;\">\n",
       "      <th></th>\n",
       "      <th>product_code</th>\n",
       "      <th>product_type_no</th>\n",
       "      <th>graphical_appearance_no</th>\n",
       "      <th>colour_group_code</th>\n",
       "      <th>perceived_colour_value_id</th>\n",
       "      <th>perceived_colour_master_id</th>\n",
       "      <th>department_no</th>\n",
       "      <th>index_group_no</th>\n",
       "      <th>section_no</th>\n",
       "      <th>garment_group_no</th>\n",
       "    </tr>\n",
       "  </thead>\n",
       "  <tbody>\n",
       "    <tr>\n",
       "      <th>count</th>\n",
       "      <td>105542.000000</td>\n",
       "      <td>105542.000000</td>\n",
       "      <td>1.055420e+05</td>\n",
       "      <td>105542.000000</td>\n",
       "      <td>105542.000000</td>\n",
       "      <td>105542.000000</td>\n",
       "      <td>105542.000000</td>\n",
       "      <td>105542.000000</td>\n",
       "      <td>105542.000000</td>\n",
       "      <td>105542.000000</td>\n",
       "    </tr>\n",
       "    <tr>\n",
       "      <th>mean</th>\n",
       "      <td>698424.563378</td>\n",
       "      <td>234.861875</td>\n",
       "      <td>1.009515e+06</td>\n",
       "      <td>32.233822</td>\n",
       "      <td>3.206183</td>\n",
       "      <td>7.807972</td>\n",
       "      <td>4532.777833</td>\n",
       "      <td>3.171534</td>\n",
       "      <td>42.664219</td>\n",
       "      <td>1010.438290</td>\n",
       "    </tr>\n",
       "    <tr>\n",
       "      <th>std</th>\n",
       "      <td>128462.384432</td>\n",
       "      <td>75.049308</td>\n",
       "      <td>2.241359e+04</td>\n",
       "      <td>28.086154</td>\n",
       "      <td>1.563839</td>\n",
       "      <td>5.376727</td>\n",
       "      <td>2712.692011</td>\n",
       "      <td>4.353234</td>\n",
       "      <td>23.260105</td>\n",
       "      <td>6.731023</td>\n",
       "    </tr>\n",
       "    <tr>\n",
       "      <th>min</th>\n",
       "      <td>108775.000000</td>\n",
       "      <td>-1.000000</td>\n",
       "      <td>-1.000000e+00</td>\n",
       "      <td>-1.000000</td>\n",
       "      <td>-1.000000</td>\n",
       "      <td>-1.000000</td>\n",
       "      <td>1201.000000</td>\n",
       "      <td>1.000000</td>\n",
       "      <td>2.000000</td>\n",
       "      <td>1001.000000</td>\n",
       "    </tr>\n",
       "    <tr>\n",
       "      <th>25%</th>\n",
       "      <td>616992.500000</td>\n",
       "      <td>252.000000</td>\n",
       "      <td>1.010008e+06</td>\n",
       "      <td>9.000000</td>\n",
       "      <td>2.000000</td>\n",
       "      <td>4.000000</td>\n",
       "      <td>1676.000000</td>\n",
       "      <td>1.000000</td>\n",
       "      <td>20.000000</td>\n",
       "      <td>1005.000000</td>\n",
       "    </tr>\n",
       "    <tr>\n",
       "      <th>50%</th>\n",
       "      <td>702213.000000</td>\n",
       "      <td>259.000000</td>\n",
       "      <td>1.010016e+06</td>\n",
       "      <td>14.000000</td>\n",
       "      <td>4.000000</td>\n",
       "      <td>5.000000</td>\n",
       "      <td>4222.000000</td>\n",
       "      <td>2.000000</td>\n",
       "      <td>46.000000</td>\n",
       "      <td>1009.000000</td>\n",
       "    </tr>\n",
       "    <tr>\n",
       "      <th>75%</th>\n",
       "      <td>796703.000000</td>\n",
       "      <td>272.000000</td>\n",
       "      <td>1.010016e+06</td>\n",
       "      <td>52.000000</td>\n",
       "      <td>4.000000</td>\n",
       "      <td>11.000000</td>\n",
       "      <td>7389.000000</td>\n",
       "      <td>4.000000</td>\n",
       "      <td>61.000000</td>\n",
       "      <td>1017.000000</td>\n",
       "    </tr>\n",
       "    <tr>\n",
       "      <th>max</th>\n",
       "      <td>959461.000000</td>\n",
       "      <td>762.000000</td>\n",
       "      <td>1.010029e+06</td>\n",
       "      <td>93.000000</td>\n",
       "      <td>7.000000</td>\n",
       "      <td>20.000000</td>\n",
       "      <td>9989.000000</td>\n",
       "      <td>26.000000</td>\n",
       "      <td>97.000000</td>\n",
       "      <td>1025.000000</td>\n",
       "    </tr>\n",
       "  </tbody>\n",
       "</table>\n",
       "</div>"
      ],
      "text/plain": [
       "        product_code  product_type_no  graphical_appearance_no  \\\n",
       "count  105542.000000    105542.000000             1.055420e+05   \n",
       "mean   698424.563378       234.861875             1.009515e+06   \n",
       "std    128462.384432        75.049308             2.241359e+04   \n",
       "min    108775.000000        -1.000000            -1.000000e+00   \n",
       "25%    616992.500000       252.000000             1.010008e+06   \n",
       "50%    702213.000000       259.000000             1.010016e+06   \n",
       "75%    796703.000000       272.000000             1.010016e+06   \n",
       "max    959461.000000       762.000000             1.010029e+06   \n",
       "\n",
       "       colour_group_code  perceived_colour_value_id  \\\n",
       "count      105542.000000              105542.000000   \n",
       "mean           32.233822                   3.206183   \n",
       "std            28.086154                   1.563839   \n",
       "min            -1.000000                  -1.000000   \n",
       "25%             9.000000                   2.000000   \n",
       "50%            14.000000                   4.000000   \n",
       "75%            52.000000                   4.000000   \n",
       "max            93.000000                   7.000000   \n",
       "\n",
       "       perceived_colour_master_id  department_no  index_group_no  \\\n",
       "count               105542.000000  105542.000000   105542.000000   \n",
       "mean                     7.807972    4532.777833        3.171534   \n",
       "std                      5.376727    2712.692011        4.353234   \n",
       "min                     -1.000000    1201.000000        1.000000   \n",
       "25%                      4.000000    1676.000000        1.000000   \n",
       "50%                      5.000000    4222.000000        2.000000   \n",
       "75%                     11.000000    7389.000000        4.000000   \n",
       "max                     20.000000    9989.000000       26.000000   \n",
       "\n",
       "          section_no  garment_group_no  \n",
       "count  105542.000000     105542.000000  \n",
       "mean       42.664219       1010.438290  \n",
       "std        23.260105          6.731023  \n",
       "min         2.000000       1001.000000  \n",
       "25%        20.000000       1005.000000  \n",
       "50%        46.000000       1009.000000  \n",
       "75%        61.000000       1017.000000  \n",
       "max        97.000000       1025.000000  "
      ]
     },
     "execution_count": 4,
     "metadata": {},
     "output_type": "execute_result"
    }
   ],
   "source": [
    "articles.describe()"
   ]
  },
  {
   "cell_type": "markdown",
   "id": "a809dfda",
   "metadata": {},
   "source": [
    "Noted that H&M is a clothing retailer, and it is within expectations to have lots of products in their inventory.\n",
    "\n",
    "The complication that arises is that this which translates into many rows of data in the `articles` dataset. In particular, there are a total of 105,542 rows, which ties in with the 105,542 unique values of `article_id`. Also noted that there are many features that can be used to distinguish between each product."
   ]
  },
  {
   "cell_type": "markdown",
   "id": "a48ddb36",
   "metadata": {},
   "source": [
    "### Check for null values"
   ]
  },
  {
   "cell_type": "code",
   "execution_count": 40,
   "id": "58029dc2",
   "metadata": {},
   "outputs": [
    {
     "data": {
      "text/plain": [
       "0              Jersey Basic\n",
       "1              Jersey Basic\n",
       "2              Jersey Basic\n",
       "3         Under-, Nightwear\n",
       "4         Under-, Nightwear\n",
       "                ...        \n",
       "105537     Socks and Tights\n",
       "105538         Jersey Fancy\n",
       "105539         Jersey Fancy\n",
       "105540          Accessories\n",
       "105541         Jersey Fancy\n",
       "Name: garment_group_name, Length: 105542, dtype: object"
      ]
     },
     "execution_count": 40,
     "metadata": {},
     "output_type": "execute_result"
    }
   ],
   "source": [
    "articles['garment_group_name']"
   ]
  },
  {
   "cell_type": "code",
   "execution_count": 5,
   "id": "c482e6df",
   "metadata": {},
   "outputs": [
    {
     "data": {
      "text/plain": [
       "article_id                        0\n",
       "product_code                      0\n",
       "prod_name                         0\n",
       "product_type_no                   0\n",
       "product_type_name                 0\n",
       "product_group_name                0\n",
       "graphical_appearance_no           0\n",
       "graphical_appearance_name         0\n",
       "colour_group_code                 0\n",
       "colour_group_name                 0\n",
       "perceived_colour_value_id         0\n",
       "perceived_colour_value_name       0\n",
       "perceived_colour_master_id        0\n",
       "perceived_colour_master_name      0\n",
       "department_no                     0\n",
       "department_name                   0\n",
       "index_code                        0\n",
       "index_name                        0\n",
       "index_group_no                    0\n",
       "index_group_name                  0\n",
       "section_no                        0\n",
       "section_name                      0\n",
       "garment_group_no                  0\n",
       "garment_group_name                0\n",
       "detail_desc                     416\n",
       "dtype: int64"
      ]
     },
     "execution_count": 5,
     "metadata": {},
     "output_type": "execute_result"
    }
   ],
   "source": [
    "articles.isnull().sum()"
   ]
  },
  {
   "cell_type": "markdown",
   "id": "52b26a1c",
   "metadata": {},
   "source": [
    "Other than `detail_desc` there are no other null values found in the dataset."
   ]
  },
  {
   "cell_type": "code",
   "execution_count": 6,
   "id": "1c8c936c",
   "metadata": {},
   "outputs": [
    {
     "data": {
      "text/html": [
       "<div>\n",
       "<style scoped>\n",
       "    .dataframe tbody tr th:only-of-type {\n",
       "        vertical-align: middle;\n",
       "    }\n",
       "\n",
       "    .dataframe tbody tr th {\n",
       "        vertical-align: top;\n",
       "    }\n",
       "\n",
       "    .dataframe thead th {\n",
       "        text-align: right;\n",
       "    }\n",
       "</style>\n",
       "<table border=\"1\" class=\"dataframe\">\n",
       "  <thead>\n",
       "    <tr style=\"text-align: right;\">\n",
       "      <th></th>\n",
       "      <th>article_id</th>\n",
       "      <th>product_code</th>\n",
       "      <th>prod_name</th>\n",
       "      <th>product_type_no</th>\n",
       "      <th>product_type_name</th>\n",
       "      <th>product_group_name</th>\n",
       "      <th>graphical_appearance_no</th>\n",
       "      <th>graphical_appearance_name</th>\n",
       "      <th>colour_group_code</th>\n",
       "      <th>colour_group_name</th>\n",
       "      <th>...</th>\n",
       "      <th>department_name</th>\n",
       "      <th>index_code</th>\n",
       "      <th>index_name</th>\n",
       "      <th>index_group_no</th>\n",
       "      <th>index_group_name</th>\n",
       "      <th>section_no</th>\n",
       "      <th>section_name</th>\n",
       "      <th>garment_group_no</th>\n",
       "      <th>garment_group_name</th>\n",
       "      <th>detail_desc</th>\n",
       "    </tr>\n",
       "  </thead>\n",
       "  <tbody>\n",
       "    <tr>\n",
       "      <th>0</th>\n",
       "      <td>0108775015</td>\n",
       "      <td>108775</td>\n",
       "      <td>Strap top</td>\n",
       "      <td>253</td>\n",
       "      <td>Vest top</td>\n",
       "      <td>Garment Upper body</td>\n",
       "      <td>1010016</td>\n",
       "      <td>Solid</td>\n",
       "      <td>9</td>\n",
       "      <td>Black</td>\n",
       "      <td>...</td>\n",
       "      <td>Jersey Basic</td>\n",
       "      <td>A</td>\n",
       "      <td>Ladieswear</td>\n",
       "      <td>1</td>\n",
       "      <td>Ladieswear</td>\n",
       "      <td>16</td>\n",
       "      <td>Womens Everyday Basics</td>\n",
       "      <td>1002</td>\n",
       "      <td>Jersey Basic</td>\n",
       "      <td>Jersey top with narrow shoulder straps.</td>\n",
       "    </tr>\n",
       "    <tr>\n",
       "      <th>1</th>\n",
       "      <td>0108775044</td>\n",
       "      <td>108775</td>\n",
       "      <td>Strap top</td>\n",
       "      <td>253</td>\n",
       "      <td>Vest top</td>\n",
       "      <td>Garment Upper body</td>\n",
       "      <td>1010016</td>\n",
       "      <td>Solid</td>\n",
       "      <td>10</td>\n",
       "      <td>White</td>\n",
       "      <td>...</td>\n",
       "      <td>Jersey Basic</td>\n",
       "      <td>A</td>\n",
       "      <td>Ladieswear</td>\n",
       "      <td>1</td>\n",
       "      <td>Ladieswear</td>\n",
       "      <td>16</td>\n",
       "      <td>Womens Everyday Basics</td>\n",
       "      <td>1002</td>\n",
       "      <td>Jersey Basic</td>\n",
       "      <td>Jersey top with narrow shoulder straps.</td>\n",
       "    </tr>\n",
       "    <tr>\n",
       "      <th>2</th>\n",
       "      <td>0108775051</td>\n",
       "      <td>108775</td>\n",
       "      <td>Strap top (1)</td>\n",
       "      <td>253</td>\n",
       "      <td>Vest top</td>\n",
       "      <td>Garment Upper body</td>\n",
       "      <td>1010017</td>\n",
       "      <td>Stripe</td>\n",
       "      <td>11</td>\n",
       "      <td>Off White</td>\n",
       "      <td>...</td>\n",
       "      <td>Jersey Basic</td>\n",
       "      <td>A</td>\n",
       "      <td>Ladieswear</td>\n",
       "      <td>1</td>\n",
       "      <td>Ladieswear</td>\n",
       "      <td>16</td>\n",
       "      <td>Womens Everyday Basics</td>\n",
       "      <td>1002</td>\n",
       "      <td>Jersey Basic</td>\n",
       "      <td>Jersey top with narrow shoulder straps.</td>\n",
       "    </tr>\n",
       "    <tr>\n",
       "      <th>3</th>\n",
       "      <td>0110065001</td>\n",
       "      <td>110065</td>\n",
       "      <td>OP T-shirt (Idro)</td>\n",
       "      <td>306</td>\n",
       "      <td>Bra</td>\n",
       "      <td>Underwear</td>\n",
       "      <td>1010016</td>\n",
       "      <td>Solid</td>\n",
       "      <td>9</td>\n",
       "      <td>Black</td>\n",
       "      <td>...</td>\n",
       "      <td>Clean Lingerie</td>\n",
       "      <td>B</td>\n",
       "      <td>Lingeries/Tights</td>\n",
       "      <td>1</td>\n",
       "      <td>Ladieswear</td>\n",
       "      <td>61</td>\n",
       "      <td>Womens Lingerie</td>\n",
       "      <td>1017</td>\n",
       "      <td>Under-, Nightwear</td>\n",
       "      <td>Microfibre T-shirt bra with underwired, moulde...</td>\n",
       "    </tr>\n",
       "    <tr>\n",
       "      <th>4</th>\n",
       "      <td>0110065002</td>\n",
       "      <td>110065</td>\n",
       "      <td>OP T-shirt (Idro)</td>\n",
       "      <td>306</td>\n",
       "      <td>Bra</td>\n",
       "      <td>Underwear</td>\n",
       "      <td>1010016</td>\n",
       "      <td>Solid</td>\n",
       "      <td>10</td>\n",
       "      <td>White</td>\n",
       "      <td>...</td>\n",
       "      <td>Clean Lingerie</td>\n",
       "      <td>B</td>\n",
       "      <td>Lingeries/Tights</td>\n",
       "      <td>1</td>\n",
       "      <td>Ladieswear</td>\n",
       "      <td>61</td>\n",
       "      <td>Womens Lingerie</td>\n",
       "      <td>1017</td>\n",
       "      <td>Under-, Nightwear</td>\n",
       "      <td>Microfibre T-shirt bra with underwired, moulde...</td>\n",
       "    </tr>\n",
       "  </tbody>\n",
       "</table>\n",
       "<p>5 rows × 25 columns</p>\n",
       "</div>"
      ],
      "text/plain": [
       "   article_id  product_code          prod_name  product_type_no  \\\n",
       "0  0108775015        108775          Strap top              253   \n",
       "1  0108775044        108775          Strap top              253   \n",
       "2  0108775051        108775      Strap top (1)              253   \n",
       "3  0110065001        110065  OP T-shirt (Idro)              306   \n",
       "4  0110065002        110065  OP T-shirt (Idro)              306   \n",
       "\n",
       "  product_type_name  product_group_name  graphical_appearance_no  \\\n",
       "0          Vest top  Garment Upper body                  1010016   \n",
       "1          Vest top  Garment Upper body                  1010016   \n",
       "2          Vest top  Garment Upper body                  1010017   \n",
       "3               Bra           Underwear                  1010016   \n",
       "4               Bra           Underwear                  1010016   \n",
       "\n",
       "  graphical_appearance_name  colour_group_code colour_group_name  ...  \\\n",
       "0                     Solid                  9             Black  ...   \n",
       "1                     Solid                 10             White  ...   \n",
       "2                    Stripe                 11         Off White  ...   \n",
       "3                     Solid                  9             Black  ...   \n",
       "4                     Solid                 10             White  ...   \n",
       "\n",
       "   department_name index_code        index_name index_group_no  \\\n",
       "0     Jersey Basic          A        Ladieswear              1   \n",
       "1     Jersey Basic          A        Ladieswear              1   \n",
       "2     Jersey Basic          A        Ladieswear              1   \n",
       "3   Clean Lingerie          B  Lingeries/Tights              1   \n",
       "4   Clean Lingerie          B  Lingeries/Tights              1   \n",
       "\n",
       "   index_group_name section_no            section_name garment_group_no  \\\n",
       "0        Ladieswear         16  Womens Everyday Basics             1002   \n",
       "1        Ladieswear         16  Womens Everyday Basics             1002   \n",
       "2        Ladieswear         16  Womens Everyday Basics             1002   \n",
       "3        Ladieswear         61         Womens Lingerie             1017   \n",
       "4        Ladieswear         61         Womens Lingerie             1017   \n",
       "\n",
       "   garment_group_name                                        detail_desc  \n",
       "0        Jersey Basic            Jersey top with narrow shoulder straps.  \n",
       "1        Jersey Basic            Jersey top with narrow shoulder straps.  \n",
       "2        Jersey Basic            Jersey top with narrow shoulder straps.  \n",
       "3   Under-, Nightwear  Microfibre T-shirt bra with underwired, moulde...  \n",
       "4   Under-, Nightwear  Microfibre T-shirt bra with underwired, moulde...  \n",
       "\n",
       "[5 rows x 25 columns]"
      ]
     },
     "execution_count": 6,
     "metadata": {},
     "output_type": "execute_result"
    }
   ],
   "source": [
    "articles.head()"
   ]
  },
  {
   "cell_type": "code",
   "execution_count": 7,
   "id": "76a2beaf",
   "metadata": {},
   "outputs": [
    {
     "data": {
      "text/html": [
       "<div>\n",
       "<style scoped>\n",
       "    .dataframe tbody tr th:only-of-type {\n",
       "        vertical-align: middle;\n",
       "    }\n",
       "\n",
       "    .dataframe tbody tr th {\n",
       "        vertical-align: top;\n",
       "    }\n",
       "\n",
       "    .dataframe thead th {\n",
       "        text-align: right;\n",
       "    }\n",
       "</style>\n",
       "<table border=\"1\" class=\"dataframe\">\n",
       "  <thead>\n",
       "    <tr style=\"text-align: right;\">\n",
       "      <th></th>\n",
       "      <th>article_id</th>\n",
       "      <th>product_code</th>\n",
       "      <th>prod_name</th>\n",
       "      <th>product_type_no</th>\n",
       "      <th>product_type_name</th>\n",
       "      <th>product_group_name</th>\n",
       "      <th>graphical_appearance_no</th>\n",
       "      <th>graphical_appearance_name</th>\n",
       "      <th>colour_group_code</th>\n",
       "      <th>colour_group_name</th>\n",
       "      <th>...</th>\n",
       "      <th>department_name</th>\n",
       "      <th>index_code</th>\n",
       "      <th>index_name</th>\n",
       "      <th>index_group_no</th>\n",
       "      <th>index_group_name</th>\n",
       "      <th>section_no</th>\n",
       "      <th>section_name</th>\n",
       "      <th>garment_group_no</th>\n",
       "      <th>garment_group_name</th>\n",
       "      <th>detail_desc</th>\n",
       "    </tr>\n",
       "  </thead>\n",
       "  <tbody>\n",
       "    <tr>\n",
       "      <th>0</th>\n",
       "      <td>0108775015</td>\n",
       "      <td>108775</td>\n",
       "      <td>Strap top</td>\n",
       "      <td>253</td>\n",
       "      <td>Vest top</td>\n",
       "      <td>Garment Upper body</td>\n",
       "      <td>1010016</td>\n",
       "      <td>Solid</td>\n",
       "      <td>9</td>\n",
       "      <td>Black</td>\n",
       "      <td>...</td>\n",
       "      <td>Jersey Basic</td>\n",
       "      <td>A</td>\n",
       "      <td>Ladieswear</td>\n",
       "      <td>1</td>\n",
       "      <td>Ladieswear</td>\n",
       "      <td>16</td>\n",
       "      <td>Womens Everyday Basics</td>\n",
       "      <td>1002</td>\n",
       "      <td>Jersey Basic</td>\n",
       "      <td>Jersey top with narrow shoulder straps.</td>\n",
       "    </tr>\n",
       "    <tr>\n",
       "      <th>1</th>\n",
       "      <td>0108775044</td>\n",
       "      <td>108775</td>\n",
       "      <td>Strap top</td>\n",
       "      <td>253</td>\n",
       "      <td>Vest top</td>\n",
       "      <td>Garment Upper body</td>\n",
       "      <td>1010016</td>\n",
       "      <td>Solid</td>\n",
       "      <td>10</td>\n",
       "      <td>White</td>\n",
       "      <td>...</td>\n",
       "      <td>Jersey Basic</td>\n",
       "      <td>A</td>\n",
       "      <td>Ladieswear</td>\n",
       "      <td>1</td>\n",
       "      <td>Ladieswear</td>\n",
       "      <td>16</td>\n",
       "      <td>Womens Everyday Basics</td>\n",
       "      <td>1002</td>\n",
       "      <td>Jersey Basic</td>\n",
       "      <td>Jersey top with narrow shoulder straps.</td>\n",
       "    </tr>\n",
       "    <tr>\n",
       "      <th>2</th>\n",
       "      <td>0108775051</td>\n",
       "      <td>108775</td>\n",
       "      <td>Strap top (1)</td>\n",
       "      <td>253</td>\n",
       "      <td>Vest top</td>\n",
       "      <td>Garment Upper body</td>\n",
       "      <td>1010017</td>\n",
       "      <td>Stripe</td>\n",
       "      <td>11</td>\n",
       "      <td>Off White</td>\n",
       "      <td>...</td>\n",
       "      <td>Jersey Basic</td>\n",
       "      <td>A</td>\n",
       "      <td>Ladieswear</td>\n",
       "      <td>1</td>\n",
       "      <td>Ladieswear</td>\n",
       "      <td>16</td>\n",
       "      <td>Womens Everyday Basics</td>\n",
       "      <td>1002</td>\n",
       "      <td>Jersey Basic</td>\n",
       "      <td>Jersey top with narrow shoulder straps.</td>\n",
       "    </tr>\n",
       "    <tr>\n",
       "      <th>3</th>\n",
       "      <td>0110065001</td>\n",
       "      <td>110065</td>\n",
       "      <td>OP T-shirt (Idro)</td>\n",
       "      <td>306</td>\n",
       "      <td>Bra</td>\n",
       "      <td>Underwear</td>\n",
       "      <td>1010016</td>\n",
       "      <td>Solid</td>\n",
       "      <td>9</td>\n",
       "      <td>Black</td>\n",
       "      <td>...</td>\n",
       "      <td>Clean Lingerie</td>\n",
       "      <td>B</td>\n",
       "      <td>Lingeries/Tights</td>\n",
       "      <td>1</td>\n",
       "      <td>Ladieswear</td>\n",
       "      <td>61</td>\n",
       "      <td>Womens Lingerie</td>\n",
       "      <td>1017</td>\n",
       "      <td>Under-, Nightwear</td>\n",
       "      <td>Microfibre T-shirt bra with underwired, moulde...</td>\n",
       "    </tr>\n",
       "    <tr>\n",
       "      <th>4</th>\n",
       "      <td>0110065002</td>\n",
       "      <td>110065</td>\n",
       "      <td>OP T-shirt (Idro)</td>\n",
       "      <td>306</td>\n",
       "      <td>Bra</td>\n",
       "      <td>Underwear</td>\n",
       "      <td>1010016</td>\n",
       "      <td>Solid</td>\n",
       "      <td>10</td>\n",
       "      <td>White</td>\n",
       "      <td>...</td>\n",
       "      <td>Clean Lingerie</td>\n",
       "      <td>B</td>\n",
       "      <td>Lingeries/Tights</td>\n",
       "      <td>1</td>\n",
       "      <td>Ladieswear</td>\n",
       "      <td>61</td>\n",
       "      <td>Womens Lingerie</td>\n",
       "      <td>1017</td>\n",
       "      <td>Under-, Nightwear</td>\n",
       "      <td>Microfibre T-shirt bra with underwired, moulde...</td>\n",
       "    </tr>\n",
       "  </tbody>\n",
       "</table>\n",
       "<p>5 rows × 25 columns</p>\n",
       "</div>"
      ],
      "text/plain": [
       "   article_id  product_code          prod_name  product_type_no  \\\n",
       "0  0108775015        108775          Strap top              253   \n",
       "1  0108775044        108775          Strap top              253   \n",
       "2  0108775051        108775      Strap top (1)              253   \n",
       "3  0110065001        110065  OP T-shirt (Idro)              306   \n",
       "4  0110065002        110065  OP T-shirt (Idro)              306   \n",
       "\n",
       "  product_type_name  product_group_name  graphical_appearance_no  \\\n",
       "0          Vest top  Garment Upper body                  1010016   \n",
       "1          Vest top  Garment Upper body                  1010016   \n",
       "2          Vest top  Garment Upper body                  1010017   \n",
       "3               Bra           Underwear                  1010016   \n",
       "4               Bra           Underwear                  1010016   \n",
       "\n",
       "  graphical_appearance_name  colour_group_code colour_group_name  ...  \\\n",
       "0                     Solid                  9             Black  ...   \n",
       "1                     Solid                 10             White  ...   \n",
       "2                    Stripe                 11         Off White  ...   \n",
       "3                     Solid                  9             Black  ...   \n",
       "4                     Solid                 10             White  ...   \n",
       "\n",
       "   department_name index_code        index_name index_group_no  \\\n",
       "0     Jersey Basic          A        Ladieswear              1   \n",
       "1     Jersey Basic          A        Ladieswear              1   \n",
       "2     Jersey Basic          A        Ladieswear              1   \n",
       "3   Clean Lingerie          B  Lingeries/Tights              1   \n",
       "4   Clean Lingerie          B  Lingeries/Tights              1   \n",
       "\n",
       "   index_group_name section_no            section_name garment_group_no  \\\n",
       "0        Ladieswear         16  Womens Everyday Basics             1002   \n",
       "1        Ladieswear         16  Womens Everyday Basics             1002   \n",
       "2        Ladieswear         16  Womens Everyday Basics             1002   \n",
       "3        Ladieswear         61         Womens Lingerie             1017   \n",
       "4        Ladieswear         61         Womens Lingerie             1017   \n",
       "\n",
       "   garment_group_name                                        detail_desc  \n",
       "0        Jersey Basic            Jersey top with narrow shoulder straps.  \n",
       "1        Jersey Basic            Jersey top with narrow shoulder straps.  \n",
       "2        Jersey Basic            Jersey top with narrow shoulder straps.  \n",
       "3   Under-, Nightwear  Microfibre T-shirt bra with underwired, moulde...  \n",
       "4   Under-, Nightwear  Microfibre T-shirt bra with underwired, moulde...  \n",
       "\n",
       "[5 rows x 25 columns]"
      ]
     },
     "execution_count": 7,
     "metadata": {},
     "output_type": "execute_result"
    }
   ],
   "source": [
    "articles[articles['detail_desc'].notnull()].head()"
   ]
  },
  {
   "cell_type": "markdown",
   "id": "f8242eb8",
   "metadata": {},
   "source": [
    "#### Treatment of null values"
   ]
  },
  {
   "cell_type": "markdown",
   "id": "ffbf22d9",
   "metadata": {},
   "source": [
    "Upon perusal and comparing to the entries with `detail_desc` filled up, I personally am of the opinion that there is plenty of other information from `prod_name`, `product_type_name`, `product_group_name` and `garment_group_name` which give enough description of what the item is. `detail_desc` merely gives even more nuanced details. \n",
    "\n",
    "As such, I will drop the column since it is repeated information."
   ]
  },
  {
   "cell_type": "code",
   "execution_count": 8,
   "id": "4702ce20",
   "metadata": {},
   "outputs": [],
   "source": [
    "articles.drop(columns='detail_desc', inplace=True)"
   ]
  },
  {
   "cell_type": "code",
   "execution_count": 9,
   "id": "96e868e9",
   "metadata": {},
   "outputs": [
    {
     "data": {
      "text/plain": [
       "105542"
      ]
     },
     "execution_count": 9,
     "metadata": {},
     "output_type": "execute_result"
    }
   ],
   "source": [
    "articles['article_id'].nunique()"
   ]
  },
  {
   "cell_type": "code",
   "execution_count": 29,
   "id": "12b190e3",
   "metadata": {},
   "outputs": [
    {
     "data": {
      "text/plain": [
       "'0.0114%'"
      ]
     },
     "execution_count": 29,
     "metadata": {},
     "output_type": "execute_result"
    }
   ],
   "source": [
    "str(round((12/105542*100),4))+'%'"
   ]
  },
  {
   "cell_type": "markdown",
   "id": "3b7adfb9",
   "metadata": {},
   "source": [
    "In picking the top 12 items that are the most probable, I am picking 0.0114% of the population from the total number of articles. This makes it a very challenging task and very low odds to guess correctly if a non systematic elimination method is not derived."
   ]
  },
  {
   "cell_type": "code",
   "execution_count": 9,
   "id": "6485733a",
   "metadata": {},
   "outputs": [
    {
     "data": {
      "text/html": [
       "<div>\n",
       "<style scoped>\n",
       "    .dataframe tbody tr th:only-of-type {\n",
       "        vertical-align: middle;\n",
       "    }\n",
       "\n",
       "    .dataframe tbody tr th {\n",
       "        vertical-align: top;\n",
       "    }\n",
       "\n",
       "    .dataframe thead th {\n",
       "        text-align: right;\n",
       "    }\n",
       "</style>\n",
       "<table border=\"1\" class=\"dataframe\">\n",
       "  <thead>\n",
       "    <tr style=\"text-align: right;\">\n",
       "      <th></th>\n",
       "      <th>article_id</th>\n",
       "      <th>product_code</th>\n",
       "      <th>prod_name</th>\n",
       "      <th>product_type_no</th>\n",
       "      <th>product_type_name</th>\n",
       "      <th>product_group_name</th>\n",
       "      <th>graphical_appearance_no</th>\n",
       "      <th>graphical_appearance_name</th>\n",
       "      <th>colour_group_code</th>\n",
       "      <th>colour_group_name</th>\n",
       "      <th>...</th>\n",
       "      <th>department_name</th>\n",
       "      <th>index_code</th>\n",
       "      <th>index_name</th>\n",
       "      <th>index_group_no</th>\n",
       "      <th>index_group_name</th>\n",
       "      <th>section_no</th>\n",
       "      <th>section_name</th>\n",
       "      <th>garment_group_no</th>\n",
       "      <th>garment_group_name</th>\n",
       "      <th>detail_desc</th>\n",
       "    </tr>\n",
       "  </thead>\n",
       "  <tbody>\n",
       "    <tr>\n",
       "      <th>0</th>\n",
       "      <td>0108775015</td>\n",
       "      <td>108775</td>\n",
       "      <td>Strap top</td>\n",
       "      <td>253</td>\n",
       "      <td>Vest top</td>\n",
       "      <td>Garment Upper body</td>\n",
       "      <td>1010016</td>\n",
       "      <td>Solid</td>\n",
       "      <td>9</td>\n",
       "      <td>Black</td>\n",
       "      <td>...</td>\n",
       "      <td>Jersey Basic</td>\n",
       "      <td>A</td>\n",
       "      <td>Ladieswear</td>\n",
       "      <td>1</td>\n",
       "      <td>Ladieswear</td>\n",
       "      <td>16</td>\n",
       "      <td>Womens Everyday Basics</td>\n",
       "      <td>1002</td>\n",
       "      <td>Jersey Basic</td>\n",
       "      <td>Jersey top with narrow shoulder straps.</td>\n",
       "    </tr>\n",
       "    <tr>\n",
       "      <th>1</th>\n",
       "      <td>0108775044</td>\n",
       "      <td>108775</td>\n",
       "      <td>Strap top</td>\n",
       "      <td>253</td>\n",
       "      <td>Vest top</td>\n",
       "      <td>Garment Upper body</td>\n",
       "      <td>1010016</td>\n",
       "      <td>Solid</td>\n",
       "      <td>10</td>\n",
       "      <td>White</td>\n",
       "      <td>...</td>\n",
       "      <td>Jersey Basic</td>\n",
       "      <td>A</td>\n",
       "      <td>Ladieswear</td>\n",
       "      <td>1</td>\n",
       "      <td>Ladieswear</td>\n",
       "      <td>16</td>\n",
       "      <td>Womens Everyday Basics</td>\n",
       "      <td>1002</td>\n",
       "      <td>Jersey Basic</td>\n",
       "      <td>Jersey top with narrow shoulder straps.</td>\n",
       "    </tr>\n",
       "    <tr>\n",
       "      <th>2</th>\n",
       "      <td>0108775051</td>\n",
       "      <td>108775</td>\n",
       "      <td>Strap top (1)</td>\n",
       "      <td>253</td>\n",
       "      <td>Vest top</td>\n",
       "      <td>Garment Upper body</td>\n",
       "      <td>1010017</td>\n",
       "      <td>Stripe</td>\n",
       "      <td>11</td>\n",
       "      <td>Off White</td>\n",
       "      <td>...</td>\n",
       "      <td>Jersey Basic</td>\n",
       "      <td>A</td>\n",
       "      <td>Ladieswear</td>\n",
       "      <td>1</td>\n",
       "      <td>Ladieswear</td>\n",
       "      <td>16</td>\n",
       "      <td>Womens Everyday Basics</td>\n",
       "      <td>1002</td>\n",
       "      <td>Jersey Basic</td>\n",
       "      <td>Jersey top with narrow shoulder straps.</td>\n",
       "    </tr>\n",
       "    <tr>\n",
       "      <th>3</th>\n",
       "      <td>0110065001</td>\n",
       "      <td>110065</td>\n",
       "      <td>OP T-shirt (Idro)</td>\n",
       "      <td>306</td>\n",
       "      <td>Bra</td>\n",
       "      <td>Underwear</td>\n",
       "      <td>1010016</td>\n",
       "      <td>Solid</td>\n",
       "      <td>9</td>\n",
       "      <td>Black</td>\n",
       "      <td>...</td>\n",
       "      <td>Clean Lingerie</td>\n",
       "      <td>B</td>\n",
       "      <td>Lingeries/Tights</td>\n",
       "      <td>1</td>\n",
       "      <td>Ladieswear</td>\n",
       "      <td>61</td>\n",
       "      <td>Womens Lingerie</td>\n",
       "      <td>1017</td>\n",
       "      <td>Under-, Nightwear</td>\n",
       "      <td>Microfibre T-shirt bra with underwired, moulde...</td>\n",
       "    </tr>\n",
       "    <tr>\n",
       "      <th>4</th>\n",
       "      <td>0110065002</td>\n",
       "      <td>110065</td>\n",
       "      <td>OP T-shirt (Idro)</td>\n",
       "      <td>306</td>\n",
       "      <td>Bra</td>\n",
       "      <td>Underwear</td>\n",
       "      <td>1010016</td>\n",
       "      <td>Solid</td>\n",
       "      <td>10</td>\n",
       "      <td>White</td>\n",
       "      <td>...</td>\n",
       "      <td>Clean Lingerie</td>\n",
       "      <td>B</td>\n",
       "      <td>Lingeries/Tights</td>\n",
       "      <td>1</td>\n",
       "      <td>Ladieswear</td>\n",
       "      <td>61</td>\n",
       "      <td>Womens Lingerie</td>\n",
       "      <td>1017</td>\n",
       "      <td>Under-, Nightwear</td>\n",
       "      <td>Microfibre T-shirt bra with underwired, moulde...</td>\n",
       "    </tr>\n",
       "  </tbody>\n",
       "</table>\n",
       "<p>5 rows × 25 columns</p>\n",
       "</div>"
      ],
      "text/plain": [
       "   article_id  product_code          prod_name  product_type_no  \\\n",
       "0  0108775015        108775          Strap top              253   \n",
       "1  0108775044        108775          Strap top              253   \n",
       "2  0108775051        108775      Strap top (1)              253   \n",
       "3  0110065001        110065  OP T-shirt (Idro)              306   \n",
       "4  0110065002        110065  OP T-shirt (Idro)              306   \n",
       "\n",
       "  product_type_name  product_group_name  graphical_appearance_no  \\\n",
       "0          Vest top  Garment Upper body                  1010016   \n",
       "1          Vest top  Garment Upper body                  1010016   \n",
       "2          Vest top  Garment Upper body                  1010017   \n",
       "3               Bra           Underwear                  1010016   \n",
       "4               Bra           Underwear                  1010016   \n",
       "\n",
       "  graphical_appearance_name  colour_group_code colour_group_name  ...  \\\n",
       "0                     Solid                  9             Black  ...   \n",
       "1                     Solid                 10             White  ...   \n",
       "2                    Stripe                 11         Off White  ...   \n",
       "3                     Solid                  9             Black  ...   \n",
       "4                     Solid                 10             White  ...   \n",
       "\n",
       "   department_name index_code        index_name index_group_no  \\\n",
       "0     Jersey Basic          A        Ladieswear              1   \n",
       "1     Jersey Basic          A        Ladieswear              1   \n",
       "2     Jersey Basic          A        Ladieswear              1   \n",
       "3   Clean Lingerie          B  Lingeries/Tights              1   \n",
       "4   Clean Lingerie          B  Lingeries/Tights              1   \n",
       "\n",
       "   index_group_name section_no            section_name garment_group_no  \\\n",
       "0        Ladieswear         16  Womens Everyday Basics             1002   \n",
       "1        Ladieswear         16  Womens Everyday Basics             1002   \n",
       "2        Ladieswear         16  Womens Everyday Basics             1002   \n",
       "3        Ladieswear         61         Womens Lingerie             1017   \n",
       "4        Ladieswear         61         Womens Lingerie             1017   \n",
       "\n",
       "   garment_group_name                                        detail_desc  \n",
       "0        Jersey Basic            Jersey top with narrow shoulder straps.  \n",
       "1        Jersey Basic            Jersey top with narrow shoulder straps.  \n",
       "2        Jersey Basic            Jersey top with narrow shoulder straps.  \n",
       "3   Under-, Nightwear  Microfibre T-shirt bra with underwired, moulde...  \n",
       "4   Under-, Nightwear  Microfibre T-shirt bra with underwired, moulde...  \n",
       "\n",
       "[5 rows x 25 columns]"
      ]
     },
     "execution_count": 9,
     "metadata": {},
     "output_type": "execute_result"
    }
   ],
   "source": [
    "articles.head()"
   ]
  },
  {
   "cell_type": "code",
   "execution_count": 51,
   "id": "8e0f8296",
   "metadata": {},
   "outputs": [
    {
     "data": {
      "image/png": "[encoded data removed]",
      "text/plain": [
       "<Figure size 432x288 with 1 Axes>"
      ]
     },
     "metadata": {
      "needs_background": "light"
     },
     "output_type": "display_data"
    }
   ],
   "source": [
    "# Plot histplot to understand popular products in 'perceived_colour_value_name' subcategory\n",
    "sns.histplot(articles, y='perceived_colour_value_name')\n",
    "plt.title('Number of items per \\'perceived_colour_value_name\\' subcategory', fontsize=14);"
   ]
  },
  {
   "cell_type": "markdown",
   "id": "02b6713d",
   "metadata": {},
   "source": [
    "The most common color scheme is dark."
   ]
  },
  {
   "cell_type": "code",
   "execution_count": 3,
   "id": "dd6e95d6",
   "metadata": {},
   "outputs": [
    {
     "data": {
      "image/png": "[encoded data removed]",
      "text/plain": [
       "<Figure size 432x288 with 1 Axes>"
      ]
     },
     "metadata": {
      "needs_background": "light"
     },
     "output_type": "display_data"
    }
   ],
   "source": [
    "# Plot histplot to understand popular products in 'index_name' subcategory\n",
    "sns.histplot(articles, y='index_name')\n",
    "plt.title('Number of items per \\'index_name\\' subcategory', fontsize=14);"
   ]
  },
  {
   "cell_type": "markdown",
   "id": "5c6300fe",
   "metadata": {},
   "source": [
    "`Ladieswear` is the subcategory which has the most variety of products, followed by `Divided` and then `Menswear`. As such, we can see that H&M customers are heavily skewed towards the female gender."
   ]
  },
  {
   "cell_type": "code",
   "execution_count": 41,
   "id": "0711ff95",
   "metadata": {
    "scrolled": true
   },
   "outputs": [
    {
     "data": {
      "image/png": "[encoded data removed]",
      "text/plain": [
       "<Figure size 432x288 with 1 Axes>"
      ]
     },
     "metadata": {
      "needs_background": "light"
     },
     "output_type": "display_data"
    }
   ],
   "source": [
    "# Plot histplot to understand popular products in 'index_group_name' subcategory\n",
    "sns.histplot(articles, y='index_group_name')\n",
    "plt.title('Number of items per \\'index_group_name\\' subcategory', fontsize=14);"
   ]
  },
  {
   "cell_type": "markdown",
   "id": "6a2e2c02",
   "metadata": {},
   "source": [
    "We see the same skewed numbers towards ladies products. Given that there is different types of products, I will try to build a model that groups the customers by their features. This idea will be further explored as we understand the `Customers` dataset at a deeper level."
   ]
  },
  {
   "cell_type": "markdown",
   "id": "b7ed89df",
   "metadata": {},
   "source": [
    "It was noted that `prod_name`, `prod_type_name`, `department_name`, `section_name` had too many categories, as such, it was difficult to visualise them in charts. In a rule base model, such variations would be difficult to capture. However, if fed to a machine learning model, such granularity can help models to predict better since it means more features to work with."
   ]
  },
  {
   "cell_type": "markdown",
   "id": "67a7c629",
   "metadata": {},
   "source": [
    "## Customers dataset"
   ]
  },
  {
   "cell_type": "markdown",
   "id": "fb9293cd",
   "metadata": {},
   "source": [
    "Customers dataset is a masked database containing member information."
   ]
  },
  {
   "cell_type": "code",
   "execution_count": 7,
   "id": "d29645da",
   "metadata": {},
   "outputs": [
    {
     "data": {
      "text/plain": [
       "customer_id                object\n",
       "FN                        float64\n",
       "Active                    float64\n",
       "club_member_status         object\n",
       "fashion_news_frequency     object\n",
       "age                       float64\n",
       "postal_code                object\n",
       "dtype: object"
      ]
     },
     "execution_count": 7,
     "metadata": {},
     "output_type": "execute_result"
    }
   ],
   "source": [
    "customers.dtypes"
   ]
  },
  {
   "cell_type": "markdown",
   "id": "4fc2b7c6",
   "metadata": {},
   "source": [
    "#### Data dictionary for `customers` dataset"
   ]
  },
  {
   "cell_type": "markdown",
   "id": "b057a196",
   "metadata": {},
   "source": [
    "| Item     | Description |\n",
    "| ----------- | ----------- |\n",
    "| customer_id      | The assigned customer ID. The ID will be unique for each identified customer.|\n",
    "| FN   |Whether the customer receives a fashion newsletter from H&M. 1 for receiving, NaN for not receiving. Explained in https://www.kaggle.com/c/h-and-m-personalized-fashion-recommendations/discussion/305952#1684481  |\n",
    "|Active| Whether customer is active for communications. 1 for active, NaN for not active. Explained in https://www.kaggle.com/c/h-and-m-personalized-fashion-recommendations/discussion/305952#1684481|\n",
    "|club_member_status|Current status of customer in membership.|\n",
    "|fashion_news_frequency| Frequency of receiving fashion newsletter.|\n",
    "|age|Age of customer.|\n",
    "|postal_code|Unique postal code which has been masked for purpose of competition.|\n",
    "\n"
   ]
  },
  {
   "cell_type": "code",
   "execution_count": 16,
   "id": "27737201",
   "metadata": {},
   "outputs": [
    {
     "data": {
      "text/html": [
       "<div>\n",
       "<style scoped>\n",
       "    .dataframe tbody tr th:only-of-type {\n",
       "        vertical-align: middle;\n",
       "    }\n",
       "\n",
       "    .dataframe tbody tr th {\n",
       "        vertical-align: top;\n",
       "    }\n",
       "\n",
       "    .dataframe thead th {\n",
       "        text-align: right;\n",
       "    }\n",
       "</style>\n",
       "<table border=\"1\" class=\"dataframe\">\n",
       "  <thead>\n",
       "    <tr style=\"text-align: right;\">\n",
       "      <th></th>\n",
       "      <th>FN</th>\n",
       "      <th>Active</th>\n",
       "      <th>age</th>\n",
       "    </tr>\n",
       "  </thead>\n",
       "  <tbody>\n",
       "    <tr>\n",
       "      <th>count</th>\n",
       "      <td>476930.0</td>\n",
       "      <td>464404.0</td>\n",
       "      <td>1.356119e+06</td>\n",
       "    </tr>\n",
       "    <tr>\n",
       "      <th>mean</th>\n",
       "      <td>1.0</td>\n",
       "      <td>1.0</td>\n",
       "      <td>3.638696e+01</td>\n",
       "    </tr>\n",
       "    <tr>\n",
       "      <th>std</th>\n",
       "      <td>0.0</td>\n",
       "      <td>0.0</td>\n",
       "      <td>1.431363e+01</td>\n",
       "    </tr>\n",
       "    <tr>\n",
       "      <th>min</th>\n",
       "      <td>1.0</td>\n",
       "      <td>1.0</td>\n",
       "      <td>1.600000e+01</td>\n",
       "    </tr>\n",
       "    <tr>\n",
       "      <th>25%</th>\n",
       "      <td>1.0</td>\n",
       "      <td>1.0</td>\n",
       "      <td>2.400000e+01</td>\n",
       "    </tr>\n",
       "    <tr>\n",
       "      <th>50%</th>\n",
       "      <td>1.0</td>\n",
       "      <td>1.0</td>\n",
       "      <td>3.200000e+01</td>\n",
       "    </tr>\n",
       "    <tr>\n",
       "      <th>75%</th>\n",
       "      <td>1.0</td>\n",
       "      <td>1.0</td>\n",
       "      <td>4.900000e+01</td>\n",
       "    </tr>\n",
       "    <tr>\n",
       "      <th>max</th>\n",
       "      <td>1.0</td>\n",
       "      <td>1.0</td>\n",
       "      <td>9.900000e+01</td>\n",
       "    </tr>\n",
       "  </tbody>\n",
       "</table>\n",
       "</div>"
      ],
      "text/plain": [
       "             FN    Active           age\n",
       "count  476930.0  464404.0  1.356119e+06\n",
       "mean        1.0       1.0  3.638696e+01\n",
       "std         0.0       0.0  1.431363e+01\n",
       "min         1.0       1.0  1.600000e+01\n",
       "25%         1.0       1.0  2.400000e+01\n",
       "50%         1.0       1.0  3.200000e+01\n",
       "75%         1.0       1.0  4.900000e+01\n",
       "max         1.0       1.0  9.900000e+01"
      ]
     },
     "execution_count": 16,
     "metadata": {},
     "output_type": "execute_result"
    }
   ],
   "source": [
    "customers.describe()"
   ]
  },
  {
   "cell_type": "code",
   "execution_count": 15,
   "id": "a6cca1e1",
   "metadata": {},
   "outputs": [
    {
     "data": {
      "text/html": [
       "<div>\n",
       "<style scoped>\n",
       "    .dataframe tbody tr th:only-of-type {\n",
       "        vertical-align: middle;\n",
       "    }\n",
       "\n",
       "    .dataframe tbody tr th {\n",
       "        vertical-align: top;\n",
       "    }\n",
       "\n",
       "    .dataframe thead th {\n",
       "        text-align: right;\n",
       "    }\n",
       "</style>\n",
       "<table border=\"1\" class=\"dataframe\">\n",
       "  <thead>\n",
       "    <tr style=\"text-align: right;\">\n",
       "      <th></th>\n",
       "      <th>customer_id</th>\n",
       "      <th>FN</th>\n",
       "      <th>Active</th>\n",
       "      <th>club_member_status</th>\n",
       "      <th>fashion_news_frequency</th>\n",
       "      <th>age</th>\n",
       "      <th>postal_code</th>\n",
       "    </tr>\n",
       "  </thead>\n",
       "  <tbody>\n",
       "    <tr>\n",
       "      <th>0</th>\n",
       "      <td>00000dbacae5abe5e23885899a1fa44253a17956c6d1c3...</td>\n",
       "      <td>NaN</td>\n",
       "      <td>NaN</td>\n",
       "      <td>ACTIVE</td>\n",
       "      <td>NONE</td>\n",
       "      <td>49.0</td>\n",
       "      <td>52043ee2162cf5aa7ee79974281641c6f11a68d276429a...</td>\n",
       "    </tr>\n",
       "    <tr>\n",
       "      <th>1</th>\n",
       "      <td>0000423b00ade91418cceaf3b26c6af3dd342b51fd051e...</td>\n",
       "      <td>NaN</td>\n",
       "      <td>NaN</td>\n",
       "      <td>ACTIVE</td>\n",
       "      <td>NONE</td>\n",
       "      <td>25.0</td>\n",
       "      <td>2973abc54daa8a5f8ccfe9362140c63247c5eee03f1d93...</td>\n",
       "    </tr>\n",
       "    <tr>\n",
       "      <th>2</th>\n",
       "      <td>000058a12d5b43e67d225668fa1f8d618c13dc232df0ca...</td>\n",
       "      <td>NaN</td>\n",
       "      <td>NaN</td>\n",
       "      <td>ACTIVE</td>\n",
       "      <td>NONE</td>\n",
       "      <td>24.0</td>\n",
       "      <td>64f17e6a330a85798e4998f62d0930d14db8db1c054af6...</td>\n",
       "    </tr>\n",
       "    <tr>\n",
       "      <th>3</th>\n",
       "      <td>00005ca1c9ed5f5146b52ac8639a40ca9d57aeff4d1bd2...</td>\n",
       "      <td>NaN</td>\n",
       "      <td>NaN</td>\n",
       "      <td>ACTIVE</td>\n",
       "      <td>NONE</td>\n",
       "      <td>54.0</td>\n",
       "      <td>5d36574f52495e81f019b680c843c443bd343d5ca5b1c2...</td>\n",
       "    </tr>\n",
       "    <tr>\n",
       "      <th>4</th>\n",
       "      <td>00006413d8573cd20ed7128e53b7b13819fe5cfc2d801f...</td>\n",
       "      <td>1.0</td>\n",
       "      <td>1.0</td>\n",
       "      <td>ACTIVE</td>\n",
       "      <td>Regularly</td>\n",
       "      <td>52.0</td>\n",
       "      <td>25fa5ddee9aac01b35208d01736e57942317d756b32ddd...</td>\n",
       "    </tr>\n",
       "  </tbody>\n",
       "</table>\n",
       "</div>"
      ],
      "text/plain": [
       "                                         customer_id   FN  Active  \\\n",
       "0  00000dbacae5abe5e23885899a1fa44253a17956c6d1c3...  NaN     NaN   \n",
       "1  0000423b00ade91418cceaf3b26c6af3dd342b51fd051e...  NaN     NaN   \n",
       "2  000058a12d5b43e67d225668fa1f8d618c13dc232df0ca...  NaN     NaN   \n",
       "3  00005ca1c9ed5f5146b52ac8639a40ca9d57aeff4d1bd2...  NaN     NaN   \n",
       "4  00006413d8573cd20ed7128e53b7b13819fe5cfc2d801f...  1.0     1.0   \n",
       "\n",
       "  club_member_status fashion_news_frequency   age  \\\n",
       "0             ACTIVE                   NONE  49.0   \n",
       "1             ACTIVE                   NONE  25.0   \n",
       "2             ACTIVE                   NONE  24.0   \n",
       "3             ACTIVE                   NONE  54.0   \n",
       "4             ACTIVE              Regularly  52.0   \n",
       "\n",
       "                                         postal_code  \n",
       "0  52043ee2162cf5aa7ee79974281641c6f11a68d276429a...  \n",
       "1  2973abc54daa8a5f8ccfe9362140c63247c5eee03f1d93...  \n",
       "2  64f17e6a330a85798e4998f62d0930d14db8db1c054af6...  \n",
       "3  5d36574f52495e81f019b680c843c443bd343d5ca5b1c2...  \n",
       "4  25fa5ddee9aac01b35208d01736e57942317d756b32ddd...  "
      ]
     },
     "execution_count": 15,
     "metadata": {},
     "output_type": "execute_result"
    }
   ],
   "source": [
    "customers.head()"
   ]
  },
  {
   "cell_type": "code",
   "execution_count": 37,
   "id": "445ac70f",
   "metadata": {},
   "outputs": [
    {
     "data": {
      "text/plain": [
       "NONE         877711\n",
       "Regularly    477416\n",
       "Monthly         842\n",
       "None              2\n",
       "Name: fashion_news_frequency, dtype: int64"
      ]
     },
     "execution_count": 37,
     "metadata": {},
     "output_type": "execute_result"
    }
   ],
   "source": [
    "customers['fashion_news_frequency'].value_counts()"
   ]
  },
  {
   "cell_type": "markdown",
   "id": "004c7b52",
   "metadata": {},
   "source": [
    "Most of the customers have chosen to not get fashion news, and thus having `NONE` as most frequent value."
   ]
  },
  {
   "cell_type": "code",
   "execution_count": null,
   "id": "e5267f0c",
   "metadata": {
    "scrolled": false
   },
   "outputs": [],
   "source": [
    "customers[customers['FN'].isnull()]"
   ]
  },
  {
   "cell_type": "code",
   "execution_count": null,
   "id": "bca58690",
   "metadata": {},
   "outputs": [],
   "source": [
    "customers[customers['Active'].isnull()]"
   ]
  },
  {
   "cell_type": "markdown",
   "id": "17e75d9f",
   "metadata": {},
   "source": [
    "#### Treatment for null values"
   ]
  },
  {
   "cell_type": "code",
   "execution_count": 17,
   "id": "72cd1ac0",
   "metadata": {},
   "outputs": [
    {
     "data": {
      "text/plain": [
       "customer_id                    0\n",
       "FN                        895050\n",
       "Active                    907576\n",
       "club_member_status          6062\n",
       "fashion_news_frequency     16009\n",
       "age                        15861\n",
       "postal_code                    0\n",
       "dtype: int64"
      ]
     },
     "execution_count": 17,
     "metadata": {},
     "output_type": "execute_result"
    }
   ],
   "source": [
    "customers.isnull().sum()"
   ]
  },
  {
   "cell_type": "markdown",
   "id": "a6b0b45b",
   "metadata": {},
   "source": [
    "Several columns of the `customers` dataset contains null values. In particular, FN and Active contains the most and on further understanding, null value can be inferred to be the negative class for these 2 columns, as only value of '1' is present."
   ]
  },
  {
   "cell_type": "code",
   "execution_count": 17,
   "id": "a305bf73",
   "metadata": {},
   "outputs": [],
   "source": [
    "# Impute NaN values by deductive imputation and understanding from data dictionary\n",
    "customers['FN'].fillna(0, inplace=True)\n",
    "customers['Active'].fillna(0, inplace=True)\n",
    "customers['club_member_status'].fillna('UNKNOWN', inplace=True)\n",
    "customers['fashion_news_frequency'].fillna('NONE', inplace=True)\n",
    "customers['age'].fillna(customers['age'].mean(), inplace=True)"
   ]
  },
  {
   "cell_type": "code",
   "execution_count": 29,
   "id": "f51762d9",
   "metadata": {},
   "outputs": [
    {
     "data": {
      "text/plain": [
       "1371980"
      ]
     },
     "execution_count": 29,
     "metadata": {},
     "output_type": "execute_result"
    }
   ],
   "source": [
    "customers['customer_id'].nunique()"
   ]
  },
  {
   "cell_type": "markdown",
   "id": "cb721935",
   "metadata": {},
   "source": [
    "There is 1,371,980 customers ID data in total. However, there are plenty of null values for FN and Active columns."
   ]
  },
  {
   "cell_type": "markdown",
   "id": "768cfde9",
   "metadata": {},
   "source": [
    "#### EDA for `customers` dataset"
   ]
  },
  {
   "cell_type": "code",
   "execution_count": 14,
   "id": "a177d5e0",
   "metadata": {},
   "outputs": [
    {
     "data": {
      "image/png": "[encoded data removed]",
      "text/plain": [
       "<Figure size 432x288 with 1 Axes>"
      ]
     },
     "metadata": {
      "needs_background": "light"
     },
     "output_type": "display_data"
    }
   ],
   "source": [
    "# Plot histplot to understand distribution of active\n",
    "sns.histplot(customers,x='club_member_status')\n",
    "plt.title('Distribution of active and inactive users', fontsize=14);"
   ]
  },
  {
   "cell_type": "markdown",
   "id": "ca87b079",
   "metadata": {},
   "source": [
    "Most customers in the database are considered as `Active` customers. This seems to be very loosely kept by H&M, and might not be a datapoint of high integrity, since most are within the `Active` category."
   ]
  },
  {
   "cell_type": "code",
   "execution_count": 6,
   "id": "f7134114",
   "metadata": {},
   "outputs": [
    {
     "data": {
      "text/plain": [
       "NONE         877711\n",
       "Regularly    477416\n",
       "Monthly         842\n",
       "None              2\n",
       "Name: fashion_news_frequency, dtype: int64"
      ]
     },
     "execution_count": 6,
     "metadata": {},
     "output_type": "execute_result"
    }
   ],
   "source": [
    "customers['fashion_news_frequency'].value_counts()"
   ]
  },
  {
   "cell_type": "code",
   "execution_count": 4,
   "id": "ab165c19",
   "metadata": {},
   "outputs": [
    {
     "data": {
      "image/png": "[encoded data removed]",
      "text/plain": [
       "<Figure size 432x288 with 1 Axes>"
      ]
     },
     "metadata": {
      "needs_background": "light"
     },
     "output_type": "display_data"
    }
   ],
   "source": [
    "# Plot histplot to understand distribution of fashion_news_frequency\n",
    "sns.histplot(customers,x='fashion_news_frequency')\n",
    "plt.title('Distribution of active and inactive users', fontsize=14);"
   ]
  },
  {
   "cell_type": "code",
   "execution_count": 44,
   "id": "b9077a66",
   "metadata": {},
   "outputs": [
    {
     "data": {
      "image/png": "[encoded data removed]",
      "text/plain": [
       "<Figure size 432x288 with 1 Axes>"
      ]
     },
     "metadata": {
      "needs_background": "light"
     },
     "output_type": "display_data"
    }
   ],
   "source": [
    "sns.histplot(customers,x='age', binwidth=5)\n",
    "plt.title('Distribution of age of customers', fontsize=14);"
   ]
  },
  {
   "cell_type": "markdown",
   "id": "2ca4b8a4",
   "metadata": {},
   "source": [
    "Most common age of customers is around 21 to 25. The customers are seen to have a wide age group, showing that H&M is a store for all ages."
   ]
  },
  {
   "cell_type": "markdown",
   "id": "ce6409cd",
   "metadata": {},
   "source": [
    "## Train dataset"
   ]
  },
  {
   "cell_type": "code",
   "execution_count": 3,
   "id": "4e20b91e",
   "metadata": {},
   "outputs": [
    {
     "data": {
      "text/plain": [
       "t_dat                object\n",
       "customer_id          object\n",
       "article_id           object\n",
       "price               float64\n",
       "sales_channel_id      int64\n",
       "dtype: object"
      ]
     },
     "execution_count": 3,
     "metadata": {},
     "output_type": "execute_result"
    }
   ],
   "source": [
    "train.dtypes"
   ]
  },
  {
   "cell_type": "code",
   "execution_count": 4,
   "id": "7a7a5b82",
   "metadata": {},
   "outputs": [
    {
     "data": {
      "text/html": [
       "<div>\n",
       "<style scoped>\n",
       "    .dataframe tbody tr th:only-of-type {\n",
       "        vertical-align: middle;\n",
       "    }\n",
       "\n",
       "    .dataframe tbody tr th {\n",
       "        vertical-align: top;\n",
       "    }\n",
       "\n",
       "    .dataframe thead th {\n",
       "        text-align: right;\n",
       "    }\n",
       "</style>\n",
       "<table border=\"1\" class=\"dataframe\">\n",
       "  <thead>\n",
       "    <tr style=\"text-align: right;\">\n",
       "      <th></th>\n",
       "      <th>price</th>\n",
       "      <th>sales_channel_id</th>\n",
       "    </tr>\n",
       "  </thead>\n",
       "  <tbody>\n",
       "    <tr>\n",
       "      <th>count</th>\n",
       "      <td>3.178832e+07</td>\n",
       "      <td>3.178832e+07</td>\n",
       "    </tr>\n",
       "    <tr>\n",
       "      <th>mean</th>\n",
       "      <td>2.782927e-02</td>\n",
       "      <td>1.704028e+00</td>\n",
       "    </tr>\n",
       "    <tr>\n",
       "      <th>std</th>\n",
       "      <td>1.918113e-02</td>\n",
       "      <td>4.564786e-01</td>\n",
       "    </tr>\n",
       "    <tr>\n",
       "      <th>min</th>\n",
       "      <td>1.694915e-05</td>\n",
       "      <td>1.000000e+00</td>\n",
       "    </tr>\n",
       "    <tr>\n",
       "      <th>25%</th>\n",
       "      <td>1.581356e-02</td>\n",
       "      <td>1.000000e+00</td>\n",
       "    </tr>\n",
       "    <tr>\n",
       "      <th>50%</th>\n",
       "      <td>2.540678e-02</td>\n",
       "      <td>2.000000e+00</td>\n",
       "    </tr>\n",
       "    <tr>\n",
       "      <th>75%</th>\n",
       "      <td>3.388136e-02</td>\n",
       "      <td>2.000000e+00</td>\n",
       "    </tr>\n",
       "    <tr>\n",
       "      <th>max</th>\n",
       "      <td>5.915254e-01</td>\n",
       "      <td>2.000000e+00</td>\n",
       "    </tr>\n",
       "  </tbody>\n",
       "</table>\n",
       "</div>"
      ],
      "text/plain": [
       "              price  sales_channel_id\n",
       "count  3.178832e+07      3.178832e+07\n",
       "mean   2.782927e-02      1.704028e+00\n",
       "std    1.918113e-02      4.564786e-01\n",
       "min    1.694915e-05      1.000000e+00\n",
       "25%    1.581356e-02      1.000000e+00\n",
       "50%    2.540678e-02      2.000000e+00\n",
       "75%    3.388136e-02      2.000000e+00\n",
       "max    5.915254e-01      2.000000e+00"
      ]
     },
     "execution_count": 4,
     "metadata": {},
     "output_type": "execute_result"
    }
   ],
   "source": [
    "train.describe()"
   ]
  },
  {
   "cell_type": "code",
   "execution_count": 5,
   "id": "ea1db51e",
   "metadata": {},
   "outputs": [
    {
     "data": {
      "text/plain": [
       "1362281"
      ]
     },
     "execution_count": 5,
     "metadata": {},
     "output_type": "execute_result"
    }
   ],
   "source": [
    "train['customer_id'].nunique()"
   ]
  },
  {
   "cell_type": "markdown",
   "id": "c9f282ff",
   "metadata": {},
   "source": [
    "Compared with 1,371,980 unique customer IDs it shows that not all customers purchased anything in the 2 year period that we have in `train` dataset. I will assume that 9,699 (around 0.7%) are new customers who bought something in the 7 days period which we are trying to predict. "
   ]
  },
  {
   "cell_type": "code",
   "execution_count": 8,
   "id": "b82bb46e",
   "metadata": {},
   "outputs": [
    {
     "data": {
      "text/plain": [
       "t_dat               0\n",
       "customer_id         0\n",
       "article_id          0\n",
       "price               0\n",
       "sales_channel_id    0\n",
       "dtype: int64"
      ]
     },
     "execution_count": 8,
     "metadata": {},
     "output_type": "execute_result"
    }
   ],
   "source": [
    "train.isnull().sum()"
   ]
  },
  {
   "cell_type": "markdown",
   "id": "10849d6e",
   "metadata": {},
   "source": [
    "There are no null values to be concerned with for the dataset."
   ]
  },
  {
   "cell_type": "code",
   "execution_count": 19,
   "id": "faf269a8",
   "metadata": {},
   "outputs": [],
   "source": [
    "# Change date to datetime format, and create month and year column\n",
    "train['t_dat']=pd.to_datetime(train['t_dat'])\n",
    "train['month']=train['t_dat'].dt.month\n",
    "train['year']=train['t_dat'].dt.year\n"
   ]
  },
  {
   "cell_type": "markdown",
   "id": "156a6c1a",
   "metadata": {},
   "source": [
    "H&M belongs to fast fashion, where there are products that are seasonal. As we are predicting what are items that will be bought in the next seven days in September, I will want to focus on specific months of the season instead of every month."
   ]
  },
  {
   "cell_type": "code",
   "execution_count": 16,
   "id": "7146859e",
   "metadata": {},
   "outputs": [
    {
     "data": {
      "text/plain": [
       "Timestamp('2018-09-20 00:00:00')"
      ]
     },
     "execution_count": 16,
     "metadata": {},
     "output_type": "execute_result"
    }
   ],
   "source": [
    "train['t_dat'].min()"
   ]
  },
  {
   "cell_type": "code",
   "execution_count": 17,
   "id": "f5c51bf8",
   "metadata": {},
   "outputs": [
    {
     "data": {
      "text/plain": [
       "Timestamp('2020-09-22 00:00:00')"
      ]
     },
     "execution_count": 17,
     "metadata": {},
     "output_type": "execute_result"
    }
   ],
   "source": [
    "train['t_dat'].max()"
   ]
  },
  {
   "cell_type": "code",
   "execution_count": 20,
   "id": "006d3431",
   "metadata": {},
   "outputs": [
    {
     "data": {
      "text/html": [
       "<div>\n",
       "<style scoped>\n",
       "    .dataframe tbody tr th:only-of-type {\n",
       "        vertical-align: middle;\n",
       "    }\n",
       "\n",
       "    .dataframe tbody tr th {\n",
       "        vertical-align: top;\n",
       "    }\n",
       "\n",
       "    .dataframe thead th {\n",
       "        text-align: right;\n",
       "    }\n",
       "</style>\n",
       "<table border=\"1\" class=\"dataframe\">\n",
       "  <thead>\n",
       "    <tr style=\"text-align: right;\">\n",
       "      <th></th>\n",
       "      <th>t_dat</th>\n",
       "      <th>customer_id</th>\n",
       "      <th>article_id</th>\n",
       "      <th>price</th>\n",
       "      <th>sales_channel_id</th>\n",
       "      <th>month</th>\n",
       "      <th>year</th>\n",
       "    </tr>\n",
       "  </thead>\n",
       "  <tbody>\n",
       "    <tr>\n",
       "      <th>0</th>\n",
       "      <td>2018-09-20</td>\n",
       "      <td>000058a12d5b43e67d225668fa1f8d618c13dc232df0ca...</td>\n",
       "      <td>0663713001</td>\n",
       "      <td>0.050831</td>\n",
       "      <td>2</td>\n",
       "      <td>9</td>\n",
       "      <td>2018</td>\n",
       "    </tr>\n",
       "    <tr>\n",
       "      <th>1</th>\n",
       "      <td>2018-09-20</td>\n",
       "      <td>000058a12d5b43e67d225668fa1f8d618c13dc232df0ca...</td>\n",
       "      <td>0541518023</td>\n",
       "      <td>0.030492</td>\n",
       "      <td>2</td>\n",
       "      <td>9</td>\n",
       "      <td>2018</td>\n",
       "    </tr>\n",
       "    <tr>\n",
       "      <th>2</th>\n",
       "      <td>2018-09-20</td>\n",
       "      <td>00007d2de826758b65a93dd24ce629ed66842531df6699...</td>\n",
       "      <td>0505221004</td>\n",
       "      <td>0.015237</td>\n",
       "      <td>2</td>\n",
       "      <td>9</td>\n",
       "      <td>2018</td>\n",
       "    </tr>\n",
       "    <tr>\n",
       "      <th>3</th>\n",
       "      <td>2018-09-20</td>\n",
       "      <td>00007d2de826758b65a93dd24ce629ed66842531df6699...</td>\n",
       "      <td>0685687003</td>\n",
       "      <td>0.016932</td>\n",
       "      <td>2</td>\n",
       "      <td>9</td>\n",
       "      <td>2018</td>\n",
       "    </tr>\n",
       "    <tr>\n",
       "      <th>4</th>\n",
       "      <td>2018-09-20</td>\n",
       "      <td>00007d2de826758b65a93dd24ce629ed66842531df6699...</td>\n",
       "      <td>0685687004</td>\n",
       "      <td>0.016932</td>\n",
       "      <td>2</td>\n",
       "      <td>9</td>\n",
       "      <td>2018</td>\n",
       "    </tr>\n",
       "  </tbody>\n",
       "</table>\n",
       "</div>"
      ],
      "text/plain": [
       "       t_dat                                        customer_id  article_id  \\\n",
       "0 2018-09-20  000058a12d5b43e67d225668fa1f8d618c13dc232df0ca...  0663713001   \n",
       "1 2018-09-20  000058a12d5b43e67d225668fa1f8d618c13dc232df0ca...  0541518023   \n",
       "2 2018-09-20  00007d2de826758b65a93dd24ce629ed66842531df6699...  0505221004   \n",
       "3 2018-09-20  00007d2de826758b65a93dd24ce629ed66842531df6699...  0685687003   \n",
       "4 2018-09-20  00007d2de826758b65a93dd24ce629ed66842531df6699...  0685687004   \n",
       "\n",
       "      price  sales_channel_id  month  year  \n",
       "0  0.050831                 2      9  2018  \n",
       "1  0.030492                 2      9  2018  \n",
       "2  0.015237                 2      9  2018  \n",
       "3  0.016932                 2      9  2018  \n",
       "4  0.016932                 2      9  2018  "
      ]
     },
     "execution_count": 20,
     "metadata": {},
     "output_type": "execute_result"
    }
   ],
   "source": [
    "train.head()"
   ]
  },
  {
   "cell_type": "code",
   "execution_count": 14,
   "id": "d0bc2dc6",
   "metadata": {},
   "outputs": [
    {
     "data": {
      "text/html": [
       "<div>\n",
       "<style scoped>\n",
       "    .dataframe tbody tr th:only-of-type {\n",
       "        vertical-align: middle;\n",
       "    }\n",
       "\n",
       "    .dataframe tbody tr th {\n",
       "        vertical-align: top;\n",
       "    }\n",
       "\n",
       "    .dataframe thead th {\n",
       "        text-align: right;\n",
       "    }\n",
       "</style>\n",
       "<table border=\"1\" class=\"dataframe\">\n",
       "  <thead>\n",
       "    <tr style=\"text-align: right;\">\n",
       "      <th></th>\n",
       "      <th>t_dat</th>\n",
       "      <th>customer_id</th>\n",
       "      <th>article_id</th>\n",
       "      <th>price</th>\n",
       "      <th>sales_channel_id</th>\n",
       "      <th>month</th>\n",
       "    </tr>\n",
       "  </thead>\n",
       "  <tbody>\n",
       "    <tr>\n",
       "      <th>31788319</th>\n",
       "      <td>2020-09-22</td>\n",
       "      <td>fff2282977442e327b45d8c89afde25617d00124d0f999...</td>\n",
       "      <td>0929511001</td>\n",
       "      <td>0.059305</td>\n",
       "      <td>2</td>\n",
       "      <td>9</td>\n",
       "    </tr>\n",
       "    <tr>\n",
       "      <th>31788320</th>\n",
       "      <td>2020-09-22</td>\n",
       "      <td>fff2282977442e327b45d8c89afde25617d00124d0f999...</td>\n",
       "      <td>0891322004</td>\n",
       "      <td>0.042356</td>\n",
       "      <td>2</td>\n",
       "      <td>9</td>\n",
       "    </tr>\n",
       "    <tr>\n",
       "      <th>31788321</th>\n",
       "      <td>2020-09-22</td>\n",
       "      <td>fff380805474b287b05cb2a7507b9a013482f7dd0bce0e...</td>\n",
       "      <td>0918325001</td>\n",
       "      <td>0.043203</td>\n",
       "      <td>1</td>\n",
       "      <td>9</td>\n",
       "    </tr>\n",
       "    <tr>\n",
       "      <th>31788322</th>\n",
       "      <td>2020-09-22</td>\n",
       "      <td>fff4d3a8b1f3b60af93e78c30a7cb4cf75edaf2590d3e5...</td>\n",
       "      <td>0833459002</td>\n",
       "      <td>0.006763</td>\n",
       "      <td>1</td>\n",
       "      <td>9</td>\n",
       "    </tr>\n",
       "    <tr>\n",
       "      <th>31788323</th>\n",
       "      <td>2020-09-22</td>\n",
       "      <td>fffef3b6b73545df065b521e19f64bf6fe93bfd450ab20...</td>\n",
       "      <td>0898573003</td>\n",
       "      <td>0.033881</td>\n",
       "      <td>2</td>\n",
       "      <td>9</td>\n",
       "    </tr>\n",
       "  </tbody>\n",
       "</table>\n",
       "</div>"
      ],
      "text/plain": [
       "              t_dat                                        customer_id  \\\n",
       "31788319 2020-09-22  fff2282977442e327b45d8c89afde25617d00124d0f999...   \n",
       "31788320 2020-09-22  fff2282977442e327b45d8c89afde25617d00124d0f999...   \n",
       "31788321 2020-09-22  fff380805474b287b05cb2a7507b9a013482f7dd0bce0e...   \n",
       "31788322 2020-09-22  fff4d3a8b1f3b60af93e78c30a7cb4cf75edaf2590d3e5...   \n",
       "31788323 2020-09-22  fffef3b6b73545df065b521e19f64bf6fe93bfd450ab20...   \n",
       "\n",
       "          article_id     price  sales_channel_id  month  \n",
       "31788319  0929511001  0.059305                 2      9  \n",
       "31788320  0891322004  0.042356                 2      9  \n",
       "31788321  0918325001  0.043203                 1      9  \n",
       "31788322  0833459002  0.006763                 1      9  \n",
       "31788323  0898573003  0.033881                 2      9  "
      ]
     },
     "execution_count": 14,
     "metadata": {},
     "output_type": "execute_result"
    }
   ],
   "source": [
    "train.tail()"
   ]
  },
  {
   "cell_type": "code",
   "execution_count": 10,
   "id": "408e8ebd",
   "metadata": {},
   "outputs": [
    {
     "data": {
      "text/html": [
       "<div>\n",
       "<style scoped>\n",
       "    .dataframe tbody tr th:only-of-type {\n",
       "        vertical-align: middle;\n",
       "    }\n",
       "\n",
       "    .dataframe tbody tr th {\n",
       "        vertical-align: top;\n",
       "    }\n",
       "\n",
       "    .dataframe thead th {\n",
       "        text-align: right;\n",
       "    }\n",
       "</style>\n",
       "<table border=\"1\" class=\"dataframe\">\n",
       "  <thead>\n",
       "    <tr style=\"text-align: right;\">\n",
       "      <th></th>\n",
       "      <th>t_dat</th>\n",
       "      <th>article_id</th>\n",
       "      <th>price</th>\n",
       "      <th>sales_channel_id</th>\n",
       "    </tr>\n",
       "    <tr>\n",
       "      <th>customer_id</th>\n",
       "      <th></th>\n",
       "      <th></th>\n",
       "      <th></th>\n",
       "      <th></th>\n",
       "    </tr>\n",
       "  </thead>\n",
       "  <tbody>\n",
       "    <tr>\n",
       "      <th>be1981ab818cf4ef6765b2ecaea7a2cbf14ccd6e8a7ee985513d9e8e53c6d91b</th>\n",
       "      <td>1895</td>\n",
       "      <td>1895</td>\n",
       "      <td>1895</td>\n",
       "      <td>1895</td>\n",
       "    </tr>\n",
       "    <tr>\n",
       "      <th>b4db5e5259234574edfff958e170fe3a5e13b6f146752ca066abca3c156acc71</th>\n",
       "      <td>1441</td>\n",
       "      <td>1441</td>\n",
       "      <td>1441</td>\n",
       "      <td>1441</td>\n",
       "    </tr>\n",
       "    <tr>\n",
       "      <th>49beaacac0c7801c2ce2d189efe525fe80b5d37e46ed05b50a4cd88e34d0748f</th>\n",
       "      <td>1364</td>\n",
       "      <td>1364</td>\n",
       "      <td>1364</td>\n",
       "      <td>1364</td>\n",
       "    </tr>\n",
       "    <tr>\n",
       "      <th>a65f77281a528bf5c1e9f270141d601d116e1df33bf9df512f495ee06647a9cc</th>\n",
       "      <td>1361</td>\n",
       "      <td>1361</td>\n",
       "      <td>1361</td>\n",
       "      <td>1361</td>\n",
       "    </tr>\n",
       "    <tr>\n",
       "      <th>cd04ec2726dd58a8c753e0d6423e57716fd9ebcf2f14ed6012e7e5bea016b4d6</th>\n",
       "      <td>1237</td>\n",
       "      <td>1237</td>\n",
       "      <td>1237</td>\n",
       "      <td>1237</td>\n",
       "    </tr>\n",
       "    <tr>\n",
       "      <th>55d15396193dfd45836af3a6269a079efea339e875eff42cc0c228b002548a9d</th>\n",
       "      <td>1208</td>\n",
       "      <td>1208</td>\n",
       "      <td>1208</td>\n",
       "      <td>1208</td>\n",
       "    </tr>\n",
       "    <tr>\n",
       "      <th>c140410d72a41ee5e2e3ba3d7f5a860f337f1b5e41c27cf9bda5517c8774f8fa</th>\n",
       "      <td>1170</td>\n",
       "      <td>1170</td>\n",
       "      <td>1170</td>\n",
       "      <td>1170</td>\n",
       "    </tr>\n",
       "    <tr>\n",
       "      <th>8df45859ccd71ef1e48e2ee9d1c65d5728c31c46ae957d659fa4e5c3af6cc076</th>\n",
       "      <td>1169</td>\n",
       "      <td>1169</td>\n",
       "      <td>1169</td>\n",
       "      <td>1169</td>\n",
       "    </tr>\n",
       "    <tr>\n",
       "      <th>03d0011487606c37c1b1ed147fc72f285a50c05f00b9712e0fc3da400c864296</th>\n",
       "      <td>1157</td>\n",
       "      <td>1157</td>\n",
       "      <td>1157</td>\n",
       "      <td>1157</td>\n",
       "    </tr>\n",
       "    <tr>\n",
       "      <th>6cc121e5cc202d2bf344ffe795002bdbf87178054bcda2e57161f0ef810a4b55</th>\n",
       "      <td>1143</td>\n",
       "      <td>1143</td>\n",
       "      <td>1143</td>\n",
       "      <td>1143</td>\n",
       "    </tr>\n",
       "    <tr>\n",
       "      <th>e34f8aa5e7c8c258523ea3e5f5f13168b6c21a9e8bffccd515dd5cef56126efb</th>\n",
       "      <td>1117</td>\n",
       "      <td>1117</td>\n",
       "      <td>1117</td>\n",
       "      <td>1117</td>\n",
       "    </tr>\n",
       "    <tr>\n",
       "      <th>3493c55a7fe252c84a9a03db338f5be7afbce1edbca12f3a908fac9b983692f2</th>\n",
       "      <td>1115</td>\n",
       "      <td>1115</td>\n",
       "      <td>1115</td>\n",
       "      <td>1115</td>\n",
       "    </tr>\n",
       "    <tr>\n",
       "      <th>0bf4c6fd4e9d33f9bfb807bb78348cbf5c565846ff4006acf5c1b9aea77b0e54</th>\n",
       "      <td>1099</td>\n",
       "      <td>1099</td>\n",
       "      <td>1099</td>\n",
       "      <td>1099</td>\n",
       "    </tr>\n",
       "    <tr>\n",
       "      <th>e6498c7514c61d3c24669f49753dc83fdff3ec1ba13902dd9184c959d8f0b249</th>\n",
       "      <td>1068</td>\n",
       "      <td>1068</td>\n",
       "      <td>1068</td>\n",
       "      <td>1068</td>\n",
       "    </tr>\n",
       "    <tr>\n",
       "      <th>d80ed4ababfa96812e22b911629e6bcbf5093769051ea447e2b696ac98a3dae9</th>\n",
       "      <td>1066</td>\n",
       "      <td>1066</td>\n",
       "      <td>1066</td>\n",
       "      <td>1066</td>\n",
       "    </tr>\n",
       "    <tr>\n",
       "      <th>1320d4b3dd6481cde05bb80fb7ca37397f70470b9afb96aeca5d41175acaf836</th>\n",
       "      <td>1059</td>\n",
       "      <td>1059</td>\n",
       "      <td>1059</td>\n",
       "      <td>1059</td>\n",
       "    </tr>\n",
       "    <tr>\n",
       "      <th>a76cf5ea515d09f22b7fe3e8ea3c1944316bd6264a90e26cef126242ef3c5e11</th>\n",
       "      <td>1038</td>\n",
       "      <td>1038</td>\n",
       "      <td>1038</td>\n",
       "      <td>1038</td>\n",
       "    </tr>\n",
       "    <tr>\n",
       "      <th>e238725cbff3774b711407cc000f42c0ddabf6b07eb0e311ffb5fc72e862a34b</th>\n",
       "      <td>1022</td>\n",
       "      <td>1022</td>\n",
       "      <td>1022</td>\n",
       "      <td>1022</td>\n",
       "    </tr>\n",
       "    <tr>\n",
       "      <th>689f4eda82fdf3d9bfe8e524bbd0d931c4d7690f2234d3e48779f924aaf4103d</th>\n",
       "      <td>1022</td>\n",
       "      <td>1022</td>\n",
       "      <td>1022</td>\n",
       "      <td>1022</td>\n",
       "    </tr>\n",
       "    <tr>\n",
       "      <th>e97c3a6c680cd3569df10f901a61fdffaf8f70300f6adf6e266b80c87d54245a</th>\n",
       "      <td>1009</td>\n",
       "      <td>1009</td>\n",
       "      <td>1009</td>\n",
       "      <td>1009</td>\n",
       "    </tr>\n",
       "  </tbody>\n",
       "</table>\n",
       "</div>"
      ],
      "text/plain": [
       "                                                    t_dat  article_id  price  \\\n",
       "customer_id                                                                    \n",
       "be1981ab818cf4ef6765b2ecaea7a2cbf14ccd6e8a7ee98...   1895        1895   1895   \n",
       "b4db5e5259234574edfff958e170fe3a5e13b6f146752ca...   1441        1441   1441   \n",
       "49beaacac0c7801c2ce2d189efe525fe80b5d37e46ed05b...   1364        1364   1364   \n",
       "a65f77281a528bf5c1e9f270141d601d116e1df33bf9df5...   1361        1361   1361   \n",
       "cd04ec2726dd58a8c753e0d6423e57716fd9ebcf2f14ed6...   1237        1237   1237   \n",
       "55d15396193dfd45836af3a6269a079efea339e875eff42...   1208        1208   1208   \n",
       "c140410d72a41ee5e2e3ba3d7f5a860f337f1b5e41c27cf...   1170        1170   1170   \n",
       "8df45859ccd71ef1e48e2ee9d1c65d5728c31c46ae957d6...   1169        1169   1169   \n",
       "03d0011487606c37c1b1ed147fc72f285a50c05f00b9712...   1157        1157   1157   \n",
       "6cc121e5cc202d2bf344ffe795002bdbf87178054bcda2e...   1143        1143   1143   \n",
       "e34f8aa5e7c8c258523ea3e5f5f13168b6c21a9e8bffccd...   1117        1117   1117   \n",
       "3493c55a7fe252c84a9a03db338f5be7afbce1edbca12f3...   1115        1115   1115   \n",
       "0bf4c6fd4e9d33f9bfb807bb78348cbf5c565846ff4006a...   1099        1099   1099   \n",
       "e6498c7514c61d3c24669f49753dc83fdff3ec1ba13902d...   1068        1068   1068   \n",
       "d80ed4ababfa96812e22b911629e6bcbf5093769051ea44...   1066        1066   1066   \n",
       "1320d4b3dd6481cde05bb80fb7ca37397f70470b9afb96a...   1059        1059   1059   \n",
       "a76cf5ea515d09f22b7fe3e8ea3c1944316bd6264a90e26...   1038        1038   1038   \n",
       "e238725cbff3774b711407cc000f42c0ddabf6b07eb0e31...   1022        1022   1022   \n",
       "689f4eda82fdf3d9bfe8e524bbd0d931c4d7690f2234d3e...   1022        1022   1022   \n",
       "e97c3a6c680cd3569df10f901a61fdffaf8f70300f6adf6...   1009        1009   1009   \n",
       "\n",
       "                                                    sales_channel_id  \n",
       "customer_id                                                           \n",
       "be1981ab818cf4ef6765b2ecaea7a2cbf14ccd6e8a7ee98...              1895  \n",
       "b4db5e5259234574edfff958e170fe3a5e13b6f146752ca...              1441  \n",
       "49beaacac0c7801c2ce2d189efe525fe80b5d37e46ed05b...              1364  \n",
       "a65f77281a528bf5c1e9f270141d601d116e1df33bf9df5...              1361  \n",
       "cd04ec2726dd58a8c753e0d6423e57716fd9ebcf2f14ed6...              1237  \n",
       "55d15396193dfd45836af3a6269a079efea339e875eff42...              1208  \n",
       "c140410d72a41ee5e2e3ba3d7f5a860f337f1b5e41c27cf...              1170  \n",
       "8df45859ccd71ef1e48e2ee9d1c65d5728c31c46ae957d6...              1169  \n",
       "03d0011487606c37c1b1ed147fc72f285a50c05f00b9712...              1157  \n",
       "6cc121e5cc202d2bf344ffe795002bdbf87178054bcda2e...              1143  \n",
       "e34f8aa5e7c8c258523ea3e5f5f13168b6c21a9e8bffccd...              1117  \n",
       "3493c55a7fe252c84a9a03db338f5be7afbce1edbca12f3...              1115  \n",
       "0bf4c6fd4e9d33f9bfb807bb78348cbf5c565846ff4006a...              1099  \n",
       "e6498c7514c61d3c24669f49753dc83fdff3ec1ba13902d...              1068  \n",
       "d80ed4ababfa96812e22b911629e6bcbf5093769051ea44...              1066  \n",
       "1320d4b3dd6481cde05bb80fb7ca37397f70470b9afb96a...              1059  \n",
       "a76cf5ea515d09f22b7fe3e8ea3c1944316bd6264a90e26...              1038  \n",
       "e238725cbff3774b711407cc000f42c0ddabf6b07eb0e31...              1022  \n",
       "689f4eda82fdf3d9bfe8e524bbd0d931c4d7690f2234d3e...              1022  \n",
       "e97c3a6c680cd3569df10f901a61fdffaf8f70300f6adf6...              1009  "
      ]
     },
     "execution_count": 10,
     "metadata": {},
     "output_type": "execute_result"
    }
   ],
   "source": [
    "# Top 20 customers\n",
    "train_byid = train.groupby('customer_id').count()\n",
    "train_byid.sort_values('t_dat',ascending=False)[:20]"
   ]
  },
  {
   "cell_type": "markdown",
   "id": "643fba23",
   "metadata": {},
   "source": [
    "There are some really die hard fans of the H&M brand who has bought alot of items."
   ]
  },
  {
   "cell_type": "code",
   "execution_count": 11,
   "id": "5a2ad709",
   "metadata": {},
   "outputs": [
    {
     "data": {
      "text/html": [
       "<div>\n",
       "<style scoped>\n",
       "    .dataframe tbody tr th:only-of-type {\n",
       "        vertical-align: middle;\n",
       "    }\n",
       "\n",
       "    .dataframe tbody tr th {\n",
       "        vertical-align: top;\n",
       "    }\n",
       "\n",
       "    .dataframe thead th {\n",
       "        text-align: right;\n",
       "    }\n",
       "</style>\n",
       "<table border=\"1\" class=\"dataframe\">\n",
       "  <thead>\n",
       "    <tr style=\"text-align: right;\">\n",
       "      <th></th>\n",
       "      <th>t_dat</th>\n",
       "      <th>article_id</th>\n",
       "      <th>price</th>\n",
       "      <th>sales_channel_id</th>\n",
       "    </tr>\n",
       "    <tr>\n",
       "      <th>customer_id</th>\n",
       "      <th></th>\n",
       "      <th></th>\n",
       "      <th></th>\n",
       "      <th></th>\n",
       "    </tr>\n",
       "  </thead>\n",
       "  <tbody>\n",
       "    <tr>\n",
       "      <th>00005ca1c9ed5f5146b52ac8639a40ca9d57aeff4d1bd2c5feb1ca5dff07c43e</th>\n",
       "      <td>2</td>\n",
       "      <td>2</td>\n",
       "      <td>2</td>\n",
       "      <td>2</td>\n",
       "    </tr>\n",
       "    <tr>\n",
       "      <th>000064249685c11552da43ef22a5030f35a147f723d5b02ddd9fd22452b1f5a6</th>\n",
       "      <td>3</td>\n",
       "      <td>3</td>\n",
       "      <td>3</td>\n",
       "      <td>3</td>\n",
       "    </tr>\n",
       "    <tr>\n",
       "      <th>0000757967448a6cb83efb3ea7a3fb9d418ac7adf2379d8cd0c725276a467a2a</th>\n",
       "      <td>6</td>\n",
       "      <td>6</td>\n",
       "      <td>6</td>\n",
       "      <td>6</td>\n",
       "    </tr>\n",
       "    <tr>\n",
       "      <th>00007e8d4e54114b5b2a9b51586325a8d0fa74ea23ef77334eaec4ffccd7ebcc</th>\n",
       "      <td>2</td>\n",
       "      <td>2</td>\n",
       "      <td>2</td>\n",
       "      <td>2</td>\n",
       "    </tr>\n",
       "    <tr>\n",
       "      <th>00008469a21b50b3d147c97135e25b4201a8c58997f78782a0cc706645e14493</th>\n",
       "      <td>4</td>\n",
       "      <td>4</td>\n",
       "      <td>4</td>\n",
       "      <td>4</td>\n",
       "    </tr>\n",
       "    <tr>\n",
       "      <th>...</th>\n",
       "      <td>...</td>\n",
       "      <td>...</td>\n",
       "      <td>...</td>\n",
       "      <td>...</td>\n",
       "    </tr>\n",
       "    <tr>\n",
       "      <th>ffff8f9ecdce722b5bab97fff68a6d1866492209bfe5242c50d2a10a652fb5ef</th>\n",
       "      <td>9</td>\n",
       "      <td>9</td>\n",
       "      <td>9</td>\n",
       "      <td>9</td>\n",
       "    </tr>\n",
       "    <tr>\n",
       "      <th>ffffa28cd7ab5d1cbbbfe7b582b1c419270cc0539f3dae5bdfa4cf4b5874c806</th>\n",
       "      <td>3</td>\n",
       "      <td>3</td>\n",
       "      <td>3</td>\n",
       "      <td>3</td>\n",
       "    </tr>\n",
       "    <tr>\n",
       "      <th>ffffaff3905b803d1c7e153a1378a5151e1f34f236ba5451afc7cf3f699c5690</th>\n",
       "      <td>1</td>\n",
       "      <td>1</td>\n",
       "      <td>1</td>\n",
       "      <td>1</td>\n",
       "    </tr>\n",
       "    <tr>\n",
       "      <th>ffffd7744cebcf3aca44ae7049d2a94b87074c3d4ffe38b2236865d949d4df6a</th>\n",
       "      <td>7</td>\n",
       "      <td>7</td>\n",
       "      <td>7</td>\n",
       "      <td>7</td>\n",
       "    </tr>\n",
       "    <tr>\n",
       "      <th>ffffd9ac14e89946416d80e791d064701994755c3ab686a1eaf3458c36f52241</th>\n",
       "      <td>1</td>\n",
       "      <td>1</td>\n",
       "      <td>1</td>\n",
       "      <td>1</td>\n",
       "    </tr>\n",
       "  </tbody>\n",
       "</table>\n",
       "<p>750836 rows × 4 columns</p>\n",
       "</div>"
      ],
      "text/plain": [
       "                                                    t_dat  article_id  price  \\\n",
       "customer_id                                                                    \n",
       "00005ca1c9ed5f5146b52ac8639a40ca9d57aeff4d1bd2c...      2           2      2   \n",
       "000064249685c11552da43ef22a5030f35a147f723d5b02...      3           3      3   \n",
       "0000757967448a6cb83efb3ea7a3fb9d418ac7adf2379d8...      6           6      6   \n",
       "00007e8d4e54114b5b2a9b51586325a8d0fa74ea23ef773...      2           2      2   \n",
       "00008469a21b50b3d147c97135e25b4201a8c58997f7878...      4           4      4   \n",
       "...                                                   ...         ...    ...   \n",
       "ffff8f9ecdce722b5bab97fff68a6d1866492209bfe5242...      9           9      9   \n",
       "ffffa28cd7ab5d1cbbbfe7b582b1c419270cc0539f3dae5...      3           3      3   \n",
       "ffffaff3905b803d1c7e153a1378a5151e1f34f236ba545...      1           1      1   \n",
       "ffffd7744cebcf3aca44ae7049d2a94b87074c3d4ffe38b...      7           7      7   \n",
       "ffffd9ac14e89946416d80e791d064701994755c3ab686a...      1           1      1   \n",
       "\n",
       "                                                    sales_channel_id  \n",
       "customer_id                                                           \n",
       "00005ca1c9ed5f5146b52ac8639a40ca9d57aeff4d1bd2c...                 2  \n",
       "000064249685c11552da43ef22a5030f35a147f723d5b02...                 3  \n",
       "0000757967448a6cb83efb3ea7a3fb9d418ac7adf2379d8...                 6  \n",
       "00007e8d4e54114b5b2a9b51586325a8d0fa74ea23ef773...                 2  \n",
       "00008469a21b50b3d147c97135e25b4201a8c58997f7878...                 4  \n",
       "...                                                              ...  \n",
       "ffff8f9ecdce722b5bab97fff68a6d1866492209bfe5242...                 9  \n",
       "ffffa28cd7ab5d1cbbbfe7b582b1c419270cc0539f3dae5...                 3  \n",
       "ffffaff3905b803d1c7e153a1378a5151e1f34f236ba545...                 1  \n",
       "ffffd7744cebcf3aca44ae7049d2a94b87074c3d4ffe38b...                 7  \n",
       "ffffd9ac14e89946416d80e791d064701994755c3ab686a...                 1  \n",
       "\n",
       "[750836 rows x 4 columns]"
      ]
     },
     "execution_count": 11,
     "metadata": {},
     "output_type": "execute_result"
    }
   ],
   "source": [
    "train_byid[train_byid['article_id']<12]"
   ]
  },
  {
   "cell_type": "code",
   "execution_count": 24,
   "id": "4e2fe3f1",
   "metadata": {},
   "outputs": [
    {
     "data": {
      "text/plain": [
       "'55.43%'"
      ]
     },
     "execution_count": 24,
     "metadata": {},
     "output_type": "execute_result"
    }
   ],
   "source": [
    "# check proportion of cold start customers\n",
    "str(round(((750836+9699)/1371980*100),2))+'%'"
   ]
  },
  {
   "cell_type": "markdown",
   "id": "55fabdf1",
   "metadata": {},
   "source": [
    "55.43% of users made less than 12 purchases in the last 2 years. This shows that indeed cold start is a problem that is very big in this Kaggle competition.\n",
    "\n",
    "We simply do not have enough data to know what these users have preferences for in terms of the items purchased. In the recommender models that I build, I will need to guess the buying behaviours of these customers well."
   ]
  },
  {
   "cell_type": "code",
   "execution_count": 51,
   "id": "8713b9fc",
   "metadata": {},
   "outputs": [
    {
     "data": {
      "text/html": [
       "<div>\n",
       "<style scoped>\n",
       "    .dataframe tbody tr th:only-of-type {\n",
       "        vertical-align: middle;\n",
       "    }\n",
       "\n",
       "    .dataframe tbody tr th {\n",
       "        vertical-align: top;\n",
       "    }\n",
       "\n",
       "    .dataframe thead th {\n",
       "        text-align: right;\n",
       "    }\n",
       "</style>\n",
       "<table border=\"1\" class=\"dataframe\">\n",
       "  <thead>\n",
       "    <tr style=\"text-align: right;\">\n",
       "      <th></th>\n",
       "      <th>t_dat</th>\n",
       "      <th>article_id</th>\n",
       "      <th>price</th>\n",
       "      <th>sales_channel_id</th>\n",
       "    </tr>\n",
       "    <tr>\n",
       "      <th>customer_id</th>\n",
       "      <th></th>\n",
       "      <th></th>\n",
       "      <th></th>\n",
       "      <th></th>\n",
       "    </tr>\n",
       "  </thead>\n",
       "  <tbody>\n",
       "    <tr>\n",
       "      <th>ffffd9ac14e89946416d80e791d064701994755c3ab686a1eaf3458c36f52241</th>\n",
       "      <td>1</td>\n",
       "      <td>1</td>\n",
       "      <td>1</td>\n",
       "      <td>1</td>\n",
       "    </tr>\n",
       "    <tr>\n",
       "      <th>73f988e71aa96456022c21f0fc62e78bcf7d97b5646b33883b231dd37d88204b</th>\n",
       "      <td>1</td>\n",
       "      <td>1</td>\n",
       "      <td>1</td>\n",
       "      <td>1</td>\n",
       "    </tr>\n",
       "    <tr>\n",
       "      <th>73f9a9dd9f5f3249685206fd12ac93b68c206a8c56fbd95eb767fa0dccde0892</th>\n",
       "      <td>1</td>\n",
       "      <td>1</td>\n",
       "      <td>1</td>\n",
       "      <td>1</td>\n",
       "    </tr>\n",
       "    <tr>\n",
       "      <th>11fa5af0b08a07eaf538044849db18130d706ca031a01c413af285e5e7b4d35b</th>\n",
       "      <td>1</td>\n",
       "      <td>1</td>\n",
       "      <td>1</td>\n",
       "      <td>1</td>\n",
       "    </tr>\n",
       "    <tr>\n",
       "      <th>73f9ca9e633c23ff9da2dbccbc687e092abdd375d4baa087209305378561f082</th>\n",
       "      <td>1</td>\n",
       "      <td>1</td>\n",
       "      <td>1</td>\n",
       "      <td>1</td>\n",
       "    </tr>\n",
       "    <tr>\n",
       "      <th>62db93dc8cab39fbe082b685357f12bc486a1d9b4a2c9f1d96b9f15beae25b34</th>\n",
       "      <td>1</td>\n",
       "      <td>1</td>\n",
       "      <td>1</td>\n",
       "      <td>1</td>\n",
       "    </tr>\n",
       "    <tr>\n",
       "      <th>835b25520087f43ff560d65a0c0751d5ef3a5059e8e216d274304a9df35d63e9</th>\n",
       "      <td>1</td>\n",
       "      <td>1</td>\n",
       "      <td>1</td>\n",
       "      <td>1</td>\n",
       "    </tr>\n",
       "    <tr>\n",
       "      <th>1eed2c3a97c09c95b74ca947b361a73e8309880ac870451d3c2cfdb5909abacf</th>\n",
       "      <td>1</td>\n",
       "      <td>1</td>\n",
       "      <td>1</td>\n",
       "      <td>1</td>\n",
       "    </tr>\n",
       "    <tr>\n",
       "      <th>62db5602a5d732134502eefe8212dc7de39f26f414a87350b8d5a4820df2020c</th>\n",
       "      <td>1</td>\n",
       "      <td>1</td>\n",
       "      <td>1</td>\n",
       "      <td>1</td>\n",
       "    </tr>\n",
       "    <tr>\n",
       "      <th>93ddbad3e5ed183031753fda49702cf86cd8875d01bb14c791ffa159f9561bcd</th>\n",
       "      <td>1</td>\n",
       "      <td>1</td>\n",
       "      <td>1</td>\n",
       "      <td>1</td>\n",
       "    </tr>\n",
       "    <tr>\n",
       "      <th>f7fbad0705d24b42e96fc0615489253db0dc43164a4c6ebc8386f30b829abf30</th>\n",
       "      <td>1</td>\n",
       "      <td>1</td>\n",
       "      <td>1</td>\n",
       "      <td>1</td>\n",
       "    </tr>\n",
       "    <tr>\n",
       "      <th>38afc5d8ca6bd2bd7e0f8d5a07ee5bc6582beef54531f4bc038a815d27c3eb8a</th>\n",
       "      <td>1</td>\n",
       "      <td>1</td>\n",
       "      <td>1</td>\n",
       "      <td>1</td>\n",
       "    </tr>\n",
       "    <tr>\n",
       "      <th>be63c73f5e072e6b1082ceeca5850f64691ea09fbabf0119275e031570a97474</th>\n",
       "      <td>1</td>\n",
       "      <td>1</td>\n",
       "      <td>1</td>\n",
       "      <td>1</td>\n",
       "    </tr>\n",
       "    <tr>\n",
       "      <th>835b1985fe9f68383a2107297d403956951aa283a4cd16507917f3164eec1dd5</th>\n",
       "      <td>1</td>\n",
       "      <td>1</td>\n",
       "      <td>1</td>\n",
       "      <td>1</td>\n",
       "    </tr>\n",
       "    <tr>\n",
       "      <th>38afebf2543671cf3cfd57326f36f2d04d63d0f05d0c67d79a4afacaea62a76f</th>\n",
       "      <td>1</td>\n",
       "      <td>1</td>\n",
       "      <td>1</td>\n",
       "      <td>1</td>\n",
       "    </tr>\n",
       "    <tr>\n",
       "      <th>11f9880e3ce270a56bd366eded78da953d35c7eb9ba4328d1cbe991d43a5bd3e</th>\n",
       "      <td>1</td>\n",
       "      <td>1</td>\n",
       "      <td>1</td>\n",
       "      <td>1</td>\n",
       "    </tr>\n",
       "    <tr>\n",
       "      <th>38b00bec91f6a58f4f198310f62f5a850598f89c79d0b9b0e0a5d7c6ee700f52</th>\n",
       "      <td>1</td>\n",
       "      <td>1</td>\n",
       "      <td>1</td>\n",
       "      <td>1</td>\n",
       "    </tr>\n",
       "    <tr>\n",
       "      <th>eceb1261faec4161708b652a01b5250cca26be1a677b11d2674b1ac3d7bb4043</th>\n",
       "      <td>1</td>\n",
       "      <td>1</td>\n",
       "      <td>1</td>\n",
       "      <td>1</td>\n",
       "    </tr>\n",
       "    <tr>\n",
       "      <th>62dace555722ca3c4cb49dc8c3637b078399ffafe81456d2e45c5d8de2cb2857</th>\n",
       "      <td>1</td>\n",
       "      <td>1</td>\n",
       "      <td>1</td>\n",
       "      <td>1</td>\n",
       "    </tr>\n",
       "    <tr>\n",
       "      <th>38b021e1084a17dabdede0cb00b4b4378c8af62e0cc757325248ce7031207167</th>\n",
       "      <td>1</td>\n",
       "      <td>1</td>\n",
       "      <td>1</td>\n",
       "      <td>1</td>\n",
       "    </tr>\n",
       "  </tbody>\n",
       "</table>\n",
       "</div>"
      ],
      "text/plain": [
       "                                                    t_dat  article_id  price  \\\n",
       "customer_id                                                                    \n",
       "ffffd9ac14e89946416d80e791d064701994755c3ab686a...      1           1      1   \n",
       "73f988e71aa96456022c21f0fc62e78bcf7d97b5646b338...      1           1      1   \n",
       "73f9a9dd9f5f3249685206fd12ac93b68c206a8c56fbd95...      1           1      1   \n",
       "11fa5af0b08a07eaf538044849db18130d706ca031a01c4...      1           1      1   \n",
       "73f9ca9e633c23ff9da2dbccbc687e092abdd375d4baa08...      1           1      1   \n",
       "62db93dc8cab39fbe082b685357f12bc486a1d9b4a2c9f1...      1           1      1   \n",
       "835b25520087f43ff560d65a0c0751d5ef3a5059e8e216d...      1           1      1   \n",
       "1eed2c3a97c09c95b74ca947b361a73e8309880ac870451...      1           1      1   \n",
       "62db5602a5d732134502eefe8212dc7de39f26f414a8735...      1           1      1   \n",
       "93ddbad3e5ed183031753fda49702cf86cd8875d01bb14c...      1           1      1   \n",
       "f7fbad0705d24b42e96fc0615489253db0dc43164a4c6eb...      1           1      1   \n",
       "38afc5d8ca6bd2bd7e0f8d5a07ee5bc6582beef54531f4b...      1           1      1   \n",
       "be63c73f5e072e6b1082ceeca5850f64691ea09fbabf011...      1           1      1   \n",
       "835b1985fe9f68383a2107297d403956951aa283a4cd165...      1           1      1   \n",
       "38afebf2543671cf3cfd57326f36f2d04d63d0f05d0c67d...      1           1      1   \n",
       "11f9880e3ce270a56bd366eded78da953d35c7eb9ba4328...      1           1      1   \n",
       "38b00bec91f6a58f4f198310f62f5a850598f89c79d0b9b...      1           1      1   \n",
       "eceb1261faec4161708b652a01b5250cca26be1a677b11d...      1           1      1   \n",
       "62dace555722ca3c4cb49dc8c3637b078399ffafe81456d...      1           1      1   \n",
       "38b021e1084a17dabdede0cb00b4b4378c8af62e0cc7573...      1           1      1   \n",
       "\n",
       "                                                    sales_channel_id  \n",
       "customer_id                                                           \n",
       "ffffd9ac14e89946416d80e791d064701994755c3ab686a...                 1  \n",
       "73f988e71aa96456022c21f0fc62e78bcf7d97b5646b338...                 1  \n",
       "73f9a9dd9f5f3249685206fd12ac93b68c206a8c56fbd95...                 1  \n",
       "11fa5af0b08a07eaf538044849db18130d706ca031a01c4...                 1  \n",
       "73f9ca9e633c23ff9da2dbccbc687e092abdd375d4baa08...                 1  \n",
       "62db93dc8cab39fbe082b685357f12bc486a1d9b4a2c9f1...                 1  \n",
       "835b25520087f43ff560d65a0c0751d5ef3a5059e8e216d...                 1  \n",
       "1eed2c3a97c09c95b74ca947b361a73e8309880ac870451...                 1  \n",
       "62db5602a5d732134502eefe8212dc7de39f26f414a8735...                 1  \n",
       "93ddbad3e5ed183031753fda49702cf86cd8875d01bb14c...                 1  \n",
       "f7fbad0705d24b42e96fc0615489253db0dc43164a4c6eb...                 1  \n",
       "38afc5d8ca6bd2bd7e0f8d5a07ee5bc6582beef54531f4b...                 1  \n",
       "be63c73f5e072e6b1082ceeca5850f64691ea09fbabf011...                 1  \n",
       "835b1985fe9f68383a2107297d403956951aa283a4cd165...                 1  \n",
       "38afebf2543671cf3cfd57326f36f2d04d63d0f05d0c67d...                 1  \n",
       "11f9880e3ce270a56bd366eded78da953d35c7eb9ba4328...                 1  \n",
       "38b00bec91f6a58f4f198310f62f5a850598f89c79d0b9b...                 1  \n",
       "eceb1261faec4161708b652a01b5250cca26be1a677b11d...                 1  \n",
       "62dace555722ca3c4cb49dc8c3637b078399ffafe81456d...                 1  \n",
       "38b021e1084a17dabdede0cb00b4b4378c8af62e0cc7573...                 1  "
      ]
     },
     "execution_count": 51,
     "metadata": {},
     "output_type": "execute_result"
    }
   ],
   "source": [
    "#Bottom 20 customers\n",
    "train_byid.sort_values('t_dat',ascending=True)[:20]"
   ]
  },
  {
   "cell_type": "markdown",
   "id": "580b2e13",
   "metadata": {},
   "source": [
    "For the bottom 20 customers, we see that as long as there is 1 transaction, customers will be recorded into the system as a new customer ID. "
   ]
  },
  {
   "cell_type": "code",
   "execution_count": 23,
   "id": "6d69deb9",
   "metadata": {},
   "outputs": [],
   "source": [
    "# Mask train dataset into years\n",
    "train_2018=train[train['year']==2018]\n",
    "train_2019=train[train['year']==2019]\n",
    "train_2020=train[train['year']==2020]"
   ]
  },
  {
   "cell_type": "code",
   "execution_count": 25,
   "id": "ebc53473",
   "metadata": {},
   "outputs": [
    {
     "data": {
      "text/plain": [
       "t_dat               datetime64[ns]\n",
       "customer_id                 object\n",
       "article_id                  object\n",
       "price                      float64\n",
       "sales_channel_id             int64\n",
       "month                        int64\n",
       "year                         int64\n",
       "dtype: object"
      ]
     },
     "execution_count": 25,
     "metadata": {},
     "output_type": "execute_result"
    }
   ],
   "source": [
    "train_2018.dtypes"
   ]
  },
  {
   "cell_type": "code",
   "execution_count": 36,
   "id": "c2ae4dcb",
   "metadata": {},
   "outputs": [
    {
     "data": {
      "image/png": "[encoded data removed]",
      "text/plain": [
       "<Figure size 432x288 with 1 Axes>"
      ]
     },
     "metadata": {
      "needs_background": "light"
     },
     "output_type": "display_data"
    }
   ],
   "source": [
    "# Plot 2018 transactions per month\n",
    "plt.ticklabel_format(style='plain')\n",
    "plt.xticks(np.arange(8, 13))\n",
    "sns.histplot(train_2018,x='month', discrete=True)\n",
    "plt.title('2018 number of sales transaction in each month', fontsize=14);"
   ]
  },
  {
   "cell_type": "code",
   "execution_count": 37,
   "id": "105ba7c3",
   "metadata": {},
   "outputs": [
    {
     "data": {
      "image/png": "[encoded data removed]",
      "text/plain": [
       "<Figure size 432x288 with 1 Axes>"
      ]
     },
     "metadata": {
      "needs_background": "light"
     },
     "output_type": "display_data"
    }
   ],
   "source": [
    "# Plot 2019 transactions per month\n",
    "plt.ticklabel_format(style='plain')\n",
    "plt.xticks(np.arange(0, 13))\n",
    "sns.histplot(train_2019,x='month', discrete=True)\n",
    "plt.title('2019 number of sales transaction in each month', fontsize=14);"
   ]
  },
  {
   "cell_type": "code",
   "execution_count": 38,
   "id": "e20e1f2e",
   "metadata": {},
   "outputs": [
    {
     "data": {
      "image/png": "[encoded data removed]",
      "text/plain": [
       "<Figure size 432x288 with 1 Axes>"
      ]
     },
     "metadata": {
      "needs_background": "light"
     },
     "output_type": "display_data"
    }
   ],
   "source": [
    "# Plot 2020 transactions per month\n",
    "plt.ticklabel_format(style='plain')\n",
    "plt.xticks(np.arange(0, 13))\n",
    "sns.histplot(train_2020,x='month', discrete=True)\n",
    "plt.title('2020 number of sales transaction in each month', fontsize=14);"
   ]
  },
  {
   "cell_type": "markdown",
   "id": "d700b67d",
   "metadata": {},
   "source": [
    "Extracted from the annual report of H&M 2021, it was noted that the seasons for new apparels are different country to country. [*source*](https://hmgroup.com/wp-content/uploads/2022/03/HM-Group-Annual-and-Sustainability-Report-2021.pdf) There does not seem be a publicly available information as to when each season begins and when each ends. \n",
    "\n",
    "As the key output is to have predicted items a customer will buy in the next 7-day period after the training time period (22 September 2020), our predicted month will still be in September 2020.\n",
    "\n",
    "As my best guess, I would expect September to be the start of fall, and clothing should be either fall or summmer collection. Thus I assume that June to November for each year would be the best predictors for the types of clothing that customers would buy in September.\n",
    "\n",
    "When I did a quick search online, I noted that the fall season clothing for H&M was released in the first week of September. As such, I will be intending to zoom into specifically September 2020 period, since timing would be important. In later notebooks, I would identify that the last 5 weeks seems to be the sweet spot that gives the best scoring."
   ]
  },
  {
   "cell_type": "code",
   "execution_count": 39,
   "id": "ecc3305b",
   "metadata": {},
   "outputs": [],
   "source": [
    "# merging customer with train should be correct - for active customers\n",
    "merged = train.merge(customers, how='left', on='customer_id')"
   ]
  },
  {
   "cell_type": "code",
   "execution_count": 41,
   "id": "60f0e631",
   "metadata": {},
   "outputs": [
    {
     "data": {
      "text/html": [
       "<div>\n",
       "<style scoped>\n",
       "    .dataframe tbody tr th:only-of-type {\n",
       "        vertical-align: middle;\n",
       "    }\n",
       "\n",
       "    .dataframe tbody tr th {\n",
       "        vertical-align: top;\n",
       "    }\n",
       "\n",
       "    .dataframe thead th {\n",
       "        text-align: right;\n",
       "    }\n",
       "</style>\n",
       "<table border=\"1\" class=\"dataframe\">\n",
       "  <thead>\n",
       "    <tr style=\"text-align: right;\">\n",
       "      <th></th>\n",
       "      <th>article_id</th>\n",
       "      <th>product_code</th>\n",
       "      <th>prod_name</th>\n",
       "      <th>product_type_no</th>\n",
       "      <th>product_type_name</th>\n",
       "      <th>product_group_name</th>\n",
       "      <th>graphical_appearance_no</th>\n",
       "      <th>graphical_appearance_name</th>\n",
       "      <th>colour_group_code</th>\n",
       "      <th>colour_group_name</th>\n",
       "      <th>...</th>\n",
       "      <th>department_name</th>\n",
       "      <th>index_code</th>\n",
       "      <th>index_name</th>\n",
       "      <th>index_group_no</th>\n",
       "      <th>index_group_name</th>\n",
       "      <th>section_no</th>\n",
       "      <th>section_name</th>\n",
       "      <th>garment_group_no</th>\n",
       "      <th>garment_group_name</th>\n",
       "      <th>detail_desc</th>\n",
       "    </tr>\n",
       "  </thead>\n",
       "  <tbody>\n",
       "    <tr>\n",
       "      <th>0</th>\n",
       "      <td>0108775015</td>\n",
       "      <td>108775</td>\n",
       "      <td>Strap top</td>\n",
       "      <td>253</td>\n",
       "      <td>Vest top</td>\n",
       "      <td>Garment Upper body</td>\n",
       "      <td>1010016</td>\n",
       "      <td>Solid</td>\n",
       "      <td>9</td>\n",
       "      <td>Black</td>\n",
       "      <td>...</td>\n",
       "      <td>Jersey Basic</td>\n",
       "      <td>A</td>\n",
       "      <td>Ladieswear</td>\n",
       "      <td>1</td>\n",
       "      <td>Ladieswear</td>\n",
       "      <td>16</td>\n",
       "      <td>Womens Everyday Basics</td>\n",
       "      <td>1002</td>\n",
       "      <td>Jersey Basic</td>\n",
       "      <td>Jersey top with narrow shoulder straps.</td>\n",
       "    </tr>\n",
       "    <tr>\n",
       "      <th>1</th>\n",
       "      <td>0108775044</td>\n",
       "      <td>108775</td>\n",
       "      <td>Strap top</td>\n",
       "      <td>253</td>\n",
       "      <td>Vest top</td>\n",
       "      <td>Garment Upper body</td>\n",
       "      <td>1010016</td>\n",
       "      <td>Solid</td>\n",
       "      <td>10</td>\n",
       "      <td>White</td>\n",
       "      <td>...</td>\n",
       "      <td>Jersey Basic</td>\n",
       "      <td>A</td>\n",
       "      <td>Ladieswear</td>\n",
       "      <td>1</td>\n",
       "      <td>Ladieswear</td>\n",
       "      <td>16</td>\n",
       "      <td>Womens Everyday Basics</td>\n",
       "      <td>1002</td>\n",
       "      <td>Jersey Basic</td>\n",
       "      <td>Jersey top with narrow shoulder straps.</td>\n",
       "    </tr>\n",
       "    <tr>\n",
       "      <th>2</th>\n",
       "      <td>0108775051</td>\n",
       "      <td>108775</td>\n",
       "      <td>Strap top (1)</td>\n",
       "      <td>253</td>\n",
       "      <td>Vest top</td>\n",
       "      <td>Garment Upper body</td>\n",
       "      <td>1010017</td>\n",
       "      <td>Stripe</td>\n",
       "      <td>11</td>\n",
       "      <td>Off White</td>\n",
       "      <td>...</td>\n",
       "      <td>Jersey Basic</td>\n",
       "      <td>A</td>\n",
       "      <td>Ladieswear</td>\n",
       "      <td>1</td>\n",
       "      <td>Ladieswear</td>\n",
       "      <td>16</td>\n",
       "      <td>Womens Everyday Basics</td>\n",
       "      <td>1002</td>\n",
       "      <td>Jersey Basic</td>\n",
       "      <td>Jersey top with narrow shoulder straps.</td>\n",
       "    </tr>\n",
       "    <tr>\n",
       "      <th>3</th>\n",
       "      <td>0110065001</td>\n",
       "      <td>110065</td>\n",
       "      <td>OP T-shirt (Idro)</td>\n",
       "      <td>306</td>\n",
       "      <td>Bra</td>\n",
       "      <td>Underwear</td>\n",
       "      <td>1010016</td>\n",
       "      <td>Solid</td>\n",
       "      <td>9</td>\n",
       "      <td>Black</td>\n",
       "      <td>...</td>\n",
       "      <td>Clean Lingerie</td>\n",
       "      <td>B</td>\n",
       "      <td>Lingeries/Tights</td>\n",
       "      <td>1</td>\n",
       "      <td>Ladieswear</td>\n",
       "      <td>61</td>\n",
       "      <td>Womens Lingerie</td>\n",
       "      <td>1017</td>\n",
       "      <td>Under-, Nightwear</td>\n",
       "      <td>Microfibre T-shirt bra with underwired, moulde...</td>\n",
       "    </tr>\n",
       "    <tr>\n",
       "      <th>4</th>\n",
       "      <td>0110065002</td>\n",
       "      <td>110065</td>\n",
       "      <td>OP T-shirt (Idro)</td>\n",
       "      <td>306</td>\n",
       "      <td>Bra</td>\n",
       "      <td>Underwear</td>\n",
       "      <td>1010016</td>\n",
       "      <td>Solid</td>\n",
       "      <td>10</td>\n",
       "      <td>White</td>\n",
       "      <td>...</td>\n",
       "      <td>Clean Lingerie</td>\n",
       "      <td>B</td>\n",
       "      <td>Lingeries/Tights</td>\n",
       "      <td>1</td>\n",
       "      <td>Ladieswear</td>\n",
       "      <td>61</td>\n",
       "      <td>Womens Lingerie</td>\n",
       "      <td>1017</td>\n",
       "      <td>Under-, Nightwear</td>\n",
       "      <td>Microfibre T-shirt bra with underwired, moulde...</td>\n",
       "    </tr>\n",
       "  </tbody>\n",
       "</table>\n",
       "<p>5 rows × 25 columns</p>\n",
       "</div>"
      ],
      "text/plain": [
       "   article_id  product_code          prod_name  product_type_no  \\\n",
       "0  0108775015        108775          Strap top              253   \n",
       "1  0108775044        108775          Strap top              253   \n",
       "2  0108775051        108775      Strap top (1)              253   \n",
       "3  0110065001        110065  OP T-shirt (Idro)              306   \n",
       "4  0110065002        110065  OP T-shirt (Idro)              306   \n",
       "\n",
       "  product_type_name  product_group_name  graphical_appearance_no  \\\n",
       "0          Vest top  Garment Upper body                  1010016   \n",
       "1          Vest top  Garment Upper body                  1010016   \n",
       "2          Vest top  Garment Upper body                  1010017   \n",
       "3               Bra           Underwear                  1010016   \n",
       "4               Bra           Underwear                  1010016   \n",
       "\n",
       "  graphical_appearance_name  colour_group_code colour_group_name  ...  \\\n",
       "0                     Solid                  9             Black  ...   \n",
       "1                     Solid                 10             White  ...   \n",
       "2                    Stripe                 11         Off White  ...   \n",
       "3                     Solid                  9             Black  ...   \n",
       "4                     Solid                 10             White  ...   \n",
       "\n",
       "   department_name index_code        index_name index_group_no  \\\n",
       "0     Jersey Basic          A        Ladieswear              1   \n",
       "1     Jersey Basic          A        Ladieswear              1   \n",
       "2     Jersey Basic          A        Ladieswear              1   \n",
       "3   Clean Lingerie          B  Lingeries/Tights              1   \n",
       "4   Clean Lingerie          B  Lingeries/Tights              1   \n",
       "\n",
       "   index_group_name section_no            section_name garment_group_no  \\\n",
       "0        Ladieswear         16  Womens Everyday Basics             1002   \n",
       "1        Ladieswear         16  Womens Everyday Basics             1002   \n",
       "2        Ladieswear         16  Womens Everyday Basics             1002   \n",
       "3        Ladieswear         61         Womens Lingerie             1017   \n",
       "4        Ladieswear         61         Womens Lingerie             1017   \n",
       "\n",
       "   garment_group_name                                        detail_desc  \n",
       "0        Jersey Basic            Jersey top with narrow shoulder straps.  \n",
       "1        Jersey Basic            Jersey top with narrow shoulder straps.  \n",
       "2        Jersey Basic            Jersey top with narrow shoulder straps.  \n",
       "3   Under-, Nightwear  Microfibre T-shirt bra with underwired, moulde...  \n",
       "4   Under-, Nightwear  Microfibre T-shirt bra with underwired, moulde...  \n",
       "\n",
       "[5 rows x 25 columns]"
      ]
     },
     "execution_count": 41,
     "metadata": {},
     "output_type": "execute_result"
    }
   ],
   "source": [
    "articles.head()"
   ]
  },
  {
   "cell_type": "code",
   "execution_count": 42,
   "id": "29877d90",
   "metadata": {},
   "outputs": [],
   "source": [
    "merged = merged.merge(articles, how='left', on='article_id')"
   ]
  },
  {
   "cell_type": "code",
   "execution_count": 45,
   "id": "e1a95051",
   "metadata": {},
   "outputs": [
    {
     "data": {
      "text/plain": [
       "Index(['t_dat', 'customer_id', 'article_id', 'price', 'sales_channel_id',\n",
       "       'month', 'year', 'FN', 'Active', 'club_member_status',\n",
       "       'fashion_news_frequency', 'age', 'postal_code', 'product_code',\n",
       "       'prod_name', 'product_type_no', 'product_type_name',\n",
       "       'product_group_name', 'graphical_appearance_no',\n",
       "       'graphical_appearance_name', 'colour_group_code', 'colour_group_name',\n",
       "       'perceived_colour_value_id', 'perceived_colour_value_name',\n",
       "       'perceived_colour_master_id', 'perceived_colour_master_name',\n",
       "       'department_no', 'department_name', 'index_code', 'index_name',\n",
       "       'index_group_no', 'index_group_name', 'section_no', 'section_name',\n",
       "       'garment_group_no', 'garment_group_name', 'detail_desc'],\n",
       "      dtype='object')"
      ]
     },
     "execution_count": 45,
     "metadata": {},
     "output_type": "execute_result"
    }
   ],
   "source": [
    "merged.columns"
   ]
  },
  {
   "cell_type": "code",
   "execution_count": 47,
   "id": "69968707",
   "metadata": {},
   "outputs": [
    {
     "data": {
      "text/plain": [
       "Garment Upper body       12552755\n",
       "Garment Lower body        7046054\n",
       "Garment Full body         3552470\n",
       "Swimwear                  2579222\n",
       "Underwear                 2565858\n",
       "Accessories               1599593\n",
       "Shoes                      745521\n",
       "Socks & Tights             685712\n",
       "Nightwear                  348180\n",
       "Unknown                     97040\n",
       "Bags                         7313\n",
       "Items                        5427\n",
       "Cosmetic                     1500\n",
       "Underwear/nightwear           559\n",
       "Furniture                     533\n",
       "Garment and Shoe care         279\n",
       "Stationery                    229\n",
       "Interior textile               74\n",
       "Fun                             5\n",
       "Name: product_group_name, dtype: int64"
      ]
     },
     "execution_count": 47,
     "metadata": {},
     "output_type": "execute_result"
    }
   ],
   "source": [
    "merged['product_group_name'].value_counts()"
   ]
  },
  {
   "cell_type": "code",
   "execution_count": 51,
   "id": "8ecaa755",
   "metadata": {},
   "outputs": [
    {
     "data": {
      "text/plain": [
       "Black              11036956\n",
       "White               3368276\n",
       "Dark Blue           2180620\n",
       "Light Beige         1263385\n",
       "Blue                1088455\n",
       "Beige                921184\n",
       "Light Blue           913496\n",
       "Light Pink           858234\n",
       "Off White            841673\n",
       "Grey                 840065\n",
       "Red                  768645\n",
       "Greenish Khaki       761391\n",
       "Dark Red             717390\n",
       "Dark Grey            717041\n",
       "Dark Green           713973\n",
       "Pink                 492176\n",
       "Yellow               429296\n",
       "Yellowish Brown      414028\n",
       "Light Grey           405098\n",
       "Light Orange         384099\n",
       "Dark Beige           290696\n",
       "Dark Orange          276779\n",
       "Gold                 244046\n",
       "Dark Pink            191746\n",
       "Green                187765\n",
       "Light Yellow         185699\n",
       "Orange               163804\n",
       "Light Green          123006\n",
       "Dark Turquoise       117842\n",
       "Silver               117335\n",
       "Dark Yellow          114494\n",
       "Light Purple         108760\n",
       "Light Turquoise       72502\n",
       "Turquoise             72280\n",
       "Other Pink            71748\n",
       "Greyish Beige         60195\n",
       "Dark Purple           50384\n",
       "Other Yellow          41908\n",
       "Light Red             33481\n",
       "Purple                28897\n",
       "Other Orange          27797\n",
       "Other                 21027\n",
       "Other Red             15369\n",
       "Other Green           14893\n",
       "Bronze/Copper          9869\n",
       "Transparent            8443\n",
       "Other Blue             8057\n",
       "Other Purple           7871\n",
       "Unknown                5595\n",
       "Other Turquoise         555\n",
       "Name: colour_group_name, dtype: int64"
      ]
     },
     "execution_count": 51,
     "metadata": {},
     "output_type": "execute_result"
    }
   ],
   "source": [
    "merged['colour_group_name'].value_counts()"
   ]
  },
  {
   "cell_type": "markdown",
   "id": "93cfe0d7",
   "metadata": {},
   "source": [
    "It was interesting to see that bulk of the items that are sold are black, white and dark blue in color. This is aligned with what we noticed in the `Articles` dataset EDA."
   ]
  },
  {
   "cell_type": "code",
   "execution_count": 52,
   "id": "f2bd7eaa",
   "metadata": {},
   "outputs": [
    {
     "data": {
      "text/plain": [
       "Jersey Fancy                     5171611\n",
       "Jersey Basic                     3268451\n",
       "Under-, Nightwear                2966788\n",
       "Trousers                         2953711\n",
       "Swimwear                         2538085\n",
       "Blouses                          2510441\n",
       "Knitwear                         2392807\n",
       "Dresses Ladies                   2147529\n",
       "Accessories                      1645464\n",
       "Trousers Denim                   1279886\n",
       "Socks and Tights                  747344\n",
       "Shorts                            736716\n",
       "Shoes                             729477\n",
       "Outdoor                           715576\n",
       "Skirts                            624822\n",
       "Dressed                           409535\n",
       "Unknown                           391639\n",
       "Special Offers                    232397\n",
       "Shirts                            210289\n",
       "Woven/Jersey/Knitted mix Baby      59863\n",
       "Dresses/Skirts girls               55893\n",
       "Name: garment_group_name, dtype: int64"
      ]
     },
     "execution_count": 52,
     "metadata": {},
     "output_type": "execute_result"
    }
   ],
   "source": [
    "merged['garment_group_name'].value_counts()"
   ]
  },
  {
   "cell_type": "markdown",
   "id": "56e10769",
   "metadata": {},
   "source": [
    "Top 3 items that are the most popular are the fancy and basic jersey tops and underwear and nightwear."
   ]
  },
  {
   "cell_type": "markdown",
   "id": "388fd9cd",
   "metadata": {},
   "source": [
    "## Conclusion from EDA"
   ]
  },
  {
   "cell_type": "markdown",
   "id": "10a05ffb",
   "metadata": {},
   "source": [
    "Based on my understanding of the fast fashion business factors such as recency, trends, customer profiling, age can be key methods to create rule based models. \n",
    "\n",
    "I will also attempt to deal with the problem of cold start, by filling them up with general predictions with use of bestsellers and popular items.\n",
    "\n",
    "There are many features that can also be used to create a machine learning model.\n",
    "\n",
    "It was also noted that the sheer size of transactions and data is large. Further manipulation of data will be needed, and Google Colab will be used in order to not be limited by my local computer's RAM size. GPU use through RAPIDS and cuDF will also speed up process in these future notebooks."
   ]
  },
  {
   "cell_type": "code",
   "execution_count": 52,
   "id": "0bc9a6e7",
   "metadata": {},
   "outputs": [],
   "source": [
    "articles.to_csv('../datasets/articles_cleaned.csv')"
   ]
  }
 ],
 "metadata": {
  "kernelspec": {
   "display_name": "Python 3 (ipykernel)",
   "language": "python",
   "name": "python3"
  },
  "language_info": {
   "codemirror_mode": {
    "name": "ipython",
    "version": 3
   },
   "file_extension": ".py",
   "mimetype": "text/x-python",
   "name": "python",
   "nbconvert_exporter": "python",
   "pygments_lexer": "ipython3",
   "version": "3.7.13"
  }
 },
 "nbformat": 4,
 "nbformat_minor": 5
}
