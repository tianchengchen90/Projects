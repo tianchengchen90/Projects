{
 "cells": [
  {
   "cell_type": "markdown",
   "id": "7c8aad29",
   "metadata": {},
   "source": [
    "# Project 3 Part 3: Model and Insights"
   ]
  },
  {
   "cell_type": "markdown",
   "id": "744cfc29",
   "metadata": {},
   "source": [
    "This workbook is 3 out of 3 parts of an Natural Language Processing (NLP) classification model. The focus of this part is to select best model based on accuracy score and least false negatives, tune for accuracy, and perform error analysis."
   ]
  },
  {
   "cell_type": "markdown",
   "id": "55679543",
   "metadata": {},
   "source": [
    "## Model selection criteria and expectation on error analysis"
   ]
  },
  {
   "cell_type": "markdown",
   "id": "31266d77",
   "metadata": {},
   "source": [
    "I have chosen to evaluate the models based on the following:\n",
    "    \n",
    "1) Overall accuracy based on test score - from this I have chosen Logistic Regression models over Multinomial Naive Bayes models as they were more simply more accurate.\n",
    "\n",
    "2) Highest sensivity - the Vectorizer used will be evaluated within the Logistic Regression models section.\n",
    "\n",
    "3) Time to fit and optimise model - with this criteria I have disqualified both Random Forest models, as it takes a significant amount of time to fit and optimize the models. It is likely that chatbots will need to have a close to instantaneous reply, and time is not a luxury for such classifier to be useful.\n",
    "\n",
    "I have kept my workflow in tact in this workbook, and not rearranged the sequential modeling process I have done, which started from Multinomial Naive Bayes, to Logistic Regression and lastly to Random Forest models. However, error analysis is done only on the finalized model, which is Logistic Regression."
   ]
  },
  {
   "cell_type": "code",
   "execution_count": 1,
   "id": "2a83af7d",
   "metadata": {},
   "outputs": [],
   "source": [
    "# Import libraries\n",
    "import numpy as np\n",
    "import pandas as pd\n",
    "import matplotlib.pyplot as plt\n",
    "import seaborn as sns\n",
    "\n",
    "from sklearn.feature_extraction.text import CountVectorizer, TfidfVectorizer\n",
    "from sklearn.pipeline import Pipeline\n",
    "from sklearn.model_selection import train_test_split, cross_val_score, GridSearchCV, RandomizedSearchCV\n",
    "from sklearn.linear_model import LogisticRegression, LinearRegression\n",
    "from sklearn.naive_bayes import MultinomialNB\n",
    "from sklearn.ensemble import RandomForestClassifier\n",
    "from sklearn import metrics\n",
    "from sklearn.metrics import confusion_matrix, ConfusionMatrixDisplay\n",
    "from nltk.corpus import stopwords\n",
    "\n",
    "%matplotlib inline"
   ]
  },
  {
   "cell_type": "code",
   "execution_count": 2,
   "id": "92d7f5bc",
   "metadata": {},
   "outputs": [],
   "source": [
    "# Create dataframes by reading csv\n",
    "df = pd.read_csv('../datasets/cleaned.csv')"
   ]
  },
  {
   "cell_type": "code",
   "execution_count": 3,
   "id": "6d6d84d9",
   "metadata": {},
   "outputs": [],
   "source": [
    "pd.options.display.max_colwidth = 4000"
   ]
  },
  {
   "cell_type": "markdown",
   "id": "ebaad4a6",
   "metadata": {},
   "source": [
    "## Stopwords"
   ]
  },
  {
   "cell_type": "code",
   "execution_count": 4,
   "id": "145d5eba",
   "metadata": {},
   "outputs": [],
   "source": [
    "custom_stopwords = stopwords.words('english')"
   ]
  },
  {
   "cell_type": "code",
   "execution_count": 5,
   "id": "7895a437",
   "metadata": {},
   "outputs": [],
   "source": [
    "# Add additional stop words based on subreddit names\n",
    "new_words = ['no',\n",
    "             'stupid',\n",
    "             'legal',\n",
    "             'advice',\n",
    "             'advices',\n",
    "             'question',\n",
    "             'questions']"
   ]
  },
  {
   "cell_type": "code",
   "execution_count": 6,
   "id": "543207ad",
   "metadata": {},
   "outputs": [],
   "source": [
    "# Include new words into stopwords list\n",
    "custom_stopwords.extend(new_words)"
   ]
  },
  {
   "cell_type": "code",
   "execution_count": 7,
   "id": "473d080d",
   "metadata": {
    "scrolled": true
   },
   "outputs": [
    {
     "data": {
      "text/plain": [
       "1    11973\n",
       "0    11760\n",
       "Name: subreddit, dtype: int64"
      ]
     },
     "execution_count": 7,
     "metadata": {},
     "output_type": "execute_result"
    }
   ],
   "source": [
    "# Analyse proportions of 1 - belongs to r/legaladvice and 0 - belongs to r/NoStupidQuestions\n",
    "df['subreddit'].value_counts()"
   ]
  },
  {
   "cell_type": "markdown",
   "id": "aad96675",
   "metadata": {},
   "source": [
    "In this dataset which I have full control of when datascraping, the distribution of 1 and 0 are relatively balanced. This may not be realistic in real life, and it is very likely that there would be much lesser legal queries compared to normal questions in real life."
   ]
  },
  {
   "cell_type": "markdown",
   "id": "e7dc9e26",
   "metadata": {},
   "source": [
    "#### Baseline score"
   ]
  },
  {
   "cell_type": "code",
   "execution_count": 8,
   "id": "b621edef",
   "metadata": {},
   "outputs": [
    {
     "data": {
      "text/plain": [
       "1    0.504487\n",
       "0    0.495513\n",
       "Name: subreddit, dtype: float64"
      ]
     },
     "execution_count": 8,
     "metadata": {},
     "output_type": "execute_result"
    }
   ],
   "source": [
    "# Baseline score\n",
    "df['subreddit'].value_counts(normalize=True)"
   ]
  },
  {
   "cell_type": "markdown",
   "id": "e63df0a5",
   "metadata": {},
   "source": [
    "For model evaluation purpose, I expect my model to minimally perform better than 50.4%."
   ]
  },
  {
   "cell_type": "markdown",
   "id": "3d6611e6",
   "metadata": {},
   "source": [
    "## Set X and y variables/ Train test split"
   ]
  },
  {
   "cell_type": "code",
   "execution_count": 9,
   "id": "1d48e35e",
   "metadata": {},
   "outputs": [],
   "source": [
    "# Use lemmatized combined text for X and y\n",
    "X = df['lem_combi_text']\n",
    "y = df['subreddit']"
   ]
  },
  {
   "cell_type": "code",
   "execution_count": 10,
   "id": "ff61550b",
   "metadata": {},
   "outputs": [],
   "source": [
    "# Train test split for lemmatized text\n",
    "X_train, X_test, y_train, y_test = train_test_split(\n",
    "    X,\n",
    "    y,\n",
    "    test_size=0.25,\n",
    "    stratify=y, \n",
    "    random_state=42\n",
    ")"
   ]
  },
  {
   "cell_type": "markdown",
   "id": "20ca76e8",
   "metadata": {},
   "source": [
    "In the optimisation of my models, non lemmatized text will be compared against lemmatized text to determine which improves model accuracy."
   ]
  },
  {
   "cell_type": "code",
   "execution_count": 11,
   "id": "b234cdf0",
   "metadata": {},
   "outputs": [],
   "source": [
    "# Use non lemmatized text for X and y\n",
    "X1 = df['combi_text']\n",
    "y1 = df['subreddit']"
   ]
  },
  {
   "cell_type": "code",
   "execution_count": 12,
   "id": "616ba10a",
   "metadata": {},
   "outputs": [],
   "source": [
    "# Train test split for non lemmatized text\n",
    "\n",
    "X1_train, X1_test, y1_train, y1_test = train_test_split(\n",
    "    X1,\n",
    "    y1,\n",
    "    test_size=0.25,\n",
    "    stratify=y, \n",
    "    random_state=42\n",
    ")"
   ]
  },
  {
   "cell_type": "markdown",
   "id": "2a53bda5",
   "metadata": {},
   "source": [
    "For the purpose of train test split, stratify will be in place to make sure to keep the proportions in tact. Proportions of the two subreddits is quite balanced."
   ]
  },
  {
   "cell_type": "markdown",
   "id": "8a48f858",
   "metadata": {},
   "source": [
    "## Modelling"
   ]
  },
  {
   "cell_type": "markdown",
   "id": "f3372b44",
   "metadata": {},
   "source": [
    "For the purpose of model evaluation, the models will use their default hyperparameters first.\n",
    "\n",
    "I have then used GridSearch to select the hyperparameters that give the highest accuracy. To keep the documentation succinct, the hyperparameters I will be putting the optimized hyperparameters below the GridSearch cell, so that reviewers can save the running time that GridSearch may take."
   ]
  },
  {
   "cell_type": "markdown",
   "id": "2ca3b163",
   "metadata": {},
   "source": [
    "### Instantiate all models for use later"
   ]
  },
  {
   "cell_type": "code",
   "execution_count": 13,
   "id": "e3a49007",
   "metadata": {},
   "outputs": [],
   "source": [
    "#Instantiate models\n",
    "cvec = CountVectorizer(stop_words=custom_stopwords)\n",
    "tvec = TfidfVectorizer(stop_words=custom_stopwords)\n",
    "nb = MultinomialNB()\n",
    "lr = LogisticRegression(solver='liblinear')\n",
    "\n",
    "# Instantiate RandomForest Classifier, n_jobs=-1 to use all cores\n",
    "rf = RandomForestClassifier(n_jobs=-1)"
   ]
  },
  {
   "cell_type": "markdown",
   "id": "be7e70e0",
   "metadata": {},
   "source": [
    "## Multinomial Naive Bayes, and justification to use non lemmatized text"
   ]
  },
  {
   "cell_type": "markdown",
   "id": "60b17ddc",
   "metadata": {},
   "source": [
    "As the results are going to be counts of subreddit, which would be integer counts, the most appropriate would be Multinomial Naive Bayes model, which I would be performing as my first baseline model."
   ]
  },
  {
   "cell_type": "markdown",
   "id": "cd0a39ec",
   "metadata": {},
   "source": [
    "### Base model - 1) CVEC Multinomial NB on lemmatized combined text "
   ]
  },
  {
   "cell_type": "code",
   "execution_count": 14,
   "id": "09468c9a",
   "metadata": {},
   "outputs": [],
   "source": [
    "# Create pipeline for CVEC Multinomial NB\n",
    "cvecnb = Pipeline([\n",
    "    ('cvec', cvec),\n",
    "    ('nb', nb)\n",
    "])"
   ]
  },
  {
   "cell_type": "markdown",
   "id": "1ea02efc",
   "metadata": {},
   "source": [
    "In the next steps, I wish to check if lemmatized combined text would make my model perform better than unlemmatized text. Thus, there are two iterations of models, 1) and 1b) which investigates which type of text is optimal."
   ]
  },
  {
   "cell_type": "code",
   "execution_count": 15,
   "id": "0c6f45df",
   "metadata": {},
   "outputs": [],
   "source": [
    "cvecnb.fit(X_train, y_train);"
   ]
  },
  {
   "cell_type": "code",
   "execution_count": 16,
   "id": "dea2eba2",
   "metadata": {},
   "outputs": [
    {
     "data": {
      "text/plain": [
       "0.9314568234170459"
      ]
     },
     "execution_count": 16,
     "metadata": {},
     "output_type": "execute_result"
    }
   ],
   "source": [
    "cvecnb.score(X_train, y_train)"
   ]
  },
  {
   "cell_type": "code",
   "execution_count": 17,
   "id": "c3bf6b2b",
   "metadata": {},
   "outputs": [
    {
     "data": {
      "text/plain": [
       "0.9063026626221773"
      ]
     },
     "execution_count": 17,
     "metadata": {},
     "output_type": "execute_result"
    }
   ],
   "source": [
    "cvecnb.score(X_test, y_test)"
   ]
  },
  {
   "cell_type": "markdown",
   "id": "33f33197",
   "metadata": {},
   "source": [
    "### Improved base model - 1b) CVEC Multinomial NB on non-lemmatized combined text"
   ]
  },
  {
   "cell_type": "code",
   "execution_count": 18,
   "id": "b850a5fe",
   "metadata": {},
   "outputs": [],
   "source": [
    "cvecnb.fit(X1_train, y1_train);"
   ]
  },
  {
   "cell_type": "code",
   "execution_count": 19,
   "id": "ca074669",
   "metadata": {},
   "outputs": [
    {
     "data": {
      "text/plain": [
       "0.9352772627675712"
      ]
     },
     "execution_count": 19,
     "metadata": {},
     "output_type": "execute_result"
    }
   ],
   "source": [
    "cvecnb.score(X1_train, y1_train)"
   ]
  },
  {
   "cell_type": "code",
   "execution_count": 20,
   "id": "802600fa",
   "metadata": {},
   "outputs": [
    {
     "data": {
      "text/plain": [
       "0.9108527131782945"
      ]
     },
     "execution_count": 20,
     "metadata": {},
     "output_type": "execute_result"
    }
   ],
   "source": [
    "cvecnb.score(X1_test, y1_test)"
   ]
  },
  {
   "cell_type": "markdown",
   "id": "1faa25dd",
   "metadata": {},
   "source": [
    "#### Comparison of 1 and 1b - Non-lemmatized combined text increased accuracy by 0.4%"
   ]
  },
  {
   "cell_type": "markdown",
   "id": "9c246366",
   "metadata": {},
   "source": [
    "It was interesting to see that just by changing the feature to non lemmatized text, the accuracy increased by 0.4% for both train and test data. This showed me that contrary to what I expected, lemmatizing may not always be helpful in improving accuracy in the model. As lemmatizing has decreased model accuracy, stemming which is even more aggressive will not be looked into. Furthermore, lemmatizing is not a must do, so since I am given the luxury to choose, I would choose to not lemmatize from here on out.\n",
    "\n",
    "From my understanding, non lemmatized text might have worked better in accuracy as Redditors tend to use colloquial short forms and mispellings that are not available on WordNet. By lemmatizing the text, lots of meaning and key words would be lost."
   ]
  },
  {
   "cell_type": "markdown",
   "id": "4073ba98",
   "metadata": {},
   "source": [
    "#### Conclusion with using only non-lemmatized combined text from here on out"
   ]
  },
  {
   "cell_type": "markdown",
   "id": "a8ac70e2",
   "metadata": {},
   "source": [
    "I have further tested in other models that indeed non lemmatized combined text performed better in accuracy than lemmatized text. With the purpose of keeping the notebook succinct, I will not futher include comparisons of lemmatized versus non lemmatized combined text scores."
   ]
  },
  {
   "cell_type": "markdown",
   "id": "c439a29d",
   "metadata": {},
   "source": [
    "### Final optimised model 1) CVEC Multinomial NB on non-lemmatized combined text"
   ]
  },
  {
   "cell_type": "code",
   "execution_count": 21,
   "id": "f7d08196",
   "metadata": {},
   "outputs": [
    {
     "name": "stdout",
     "output_type": "stream",
     "text": [
      "Fitting 3 folds for each of 9 candidates, totalling 27 fits\n",
      "Best score: 0.9105567728524074\n",
      "Train score 0.9417944828361144\n",
      "Test score 0.9140546006066734\n"
     ]
    },
    {
     "data": {
      "text/plain": [
       "{'cvec__ngram_range': (1, 1), 'nb__alpha': 0.37}"
      ]
     },
     "execution_count": 21,
     "metadata": {},
     "output_type": "execute_result"
    }
   ],
   "source": [
    "# Final optimised hyperparameters inside as shown\n",
    "# Hyperparameters tuning with GridSearchCV\n",
    "cvecnb_params = {'cvec__ngram_range': [(1,1), (1,2), (1,3)],\n",
    "               'nb__alpha': [0.1, 0.37, 0.5]}\n",
    "\n",
    "cvecnb_gs = GridSearchCV(cvecnb, param_grid=cvecnb_params, n_jobs=-1, verbose=2, cv=3)\n",
    "cvecnb_gs.fit(X1_train, y1_train);\n",
    "print(\"Best score:\", cvecnb_gs.best_score_)\n",
    "print(\"Train score\", cvecnb_gs.score(X1_train, y1_train))\n",
    "print(\"Test score\", cvecnb_gs.score(X1_test, y1_test))\n",
    "\n",
    "cvecnb_gs.best_params_"
   ]
  },
  {
   "cell_type": "code",
   "execution_count": 22,
   "id": "cc5eeb29",
   "metadata": {},
   "outputs": [],
   "source": [
    "# For reference:\n",
    "#{'cvec__ngram_range': (1, 1), 'nb__alpha': 0.37}\n",
    "#Best score: 0.9105567728524074\n",
    "#Train score 0.9417944828361144\n",
    "#Test score 0.9140546006066734"
   ]
  },
  {
   "cell_type": "markdown",
   "id": "f4825c58",
   "metadata": {},
   "source": [
    "### Usage of a different vectorizer - TF-IDF Vectorizer"
   ]
  },
  {
   "cell_type": "markdown",
   "id": "4ab3cd27",
   "metadata": {},
   "source": [
    "Term Frequency-Inverse Document Frequency (TF-IDF) Vectorizer overcomes a limitation of CountVectorizer, which simply give a count, by focusing on important words that appear on often in one document but don't appear in many documents. It is expected to have more predictive power especially when terminologies and jargons are commonly used in law.\n",
    "\n",
    "From my EDA, I noted that for both r/NoStupidQuestions and `r/legaladvice`, the top 10 common words are the same for TF-IDF and CountVectorizer. Only the order changed, showing that there is no dispute what the most common words are.\n",
    "\n",
    "I would expect that TF-IDF Vectorizer should perform better as the top common words in `r/NoStupidQuestions` are very commonly used conversational english words. From here on out I refer to TF-IDF Vectorizer and TVEC interchangeably."
   ]
  },
  {
   "cell_type": "markdown",
   "id": "1165b841",
   "metadata": {},
   "source": [
    "### Model - 2) TF-IDF Vectorizer (TVEC) Multinomial NB on non-lemmatized combined text"
   ]
  },
  {
   "cell_type": "code",
   "execution_count": 23,
   "id": "e4507085",
   "metadata": {},
   "outputs": [],
   "source": [
    "# Create pipeline for TVEC Multinomial NB\n",
    "tvecnb = Pipeline([\n",
    "    ('tvec', tvec),\n",
    "    ('nb', nb)\n",
    "])"
   ]
  },
  {
   "cell_type": "code",
   "execution_count": 24,
   "id": "ba5bab60",
   "metadata": {},
   "outputs": [],
   "source": [
    "tvecnb.fit(X1_train, y1_train);"
   ]
  },
  {
   "cell_type": "code",
   "execution_count": 25,
   "id": "315bfb17",
   "metadata": {},
   "outputs": [
    {
     "data": {
      "text/plain": [
       "0.9143210292713074"
      ]
     },
     "execution_count": 25,
     "metadata": {},
     "output_type": "execute_result"
    }
   ],
   "source": [
    "tvecnb.score(X1_train, y1_train)"
   ]
  },
  {
   "cell_type": "code",
   "execution_count": 26,
   "id": "c0e5ae29",
   "metadata": {},
   "outputs": [
    {
     "data": {
      "text/plain": [
       "0.8828783282777216"
      ]
     },
     "execution_count": 26,
     "metadata": {},
     "output_type": "execute_result"
    }
   ],
   "source": [
    "tvecnb.score(X1_test, y1_test)"
   ]
  },
  {
   "cell_type": "markdown",
   "id": "fd2d7515",
   "metadata": {},
   "source": [
    "Model 2 before optimised hyperparameters tweaking performed worst than model 1 base model. However, I will be tweaking hyperparameters later on, before I make any conclusion. As there is a possibility that after hyperparameter tuning, model 2 can outperform model 1, it is important to not make any preliminary conclusions from the accuracy that comes using default hyper parameters."
   ]
  },
  {
   "cell_type": "code",
   "execution_count": 28,
   "id": "245d07e3",
   "metadata": {},
   "outputs": [
    {
     "name": "stdout",
     "output_type": "stream",
     "text": [
      "Fitting 3 folds for each of 54 candidates, totalling 162 fits\n",
      "Best score: 0.9162874318781954\n",
      "Train score 0.9687061070846676\n",
      "Test score 0.9180990899898888\n"
     ]
    },
    {
     "data": {
      "text/plain": [
       "{'nb__alpha': 0.1,\n",
       " 'tvec__max_df': 0.5,\n",
       " 'tvec__min_df': 3,\n",
       " 'tvec__ngram_range': (1, 3)}"
      ]
     },
     "execution_count": 28,
     "metadata": {},
     "output_type": "execute_result"
    }
   ],
   "source": [
    "# Final optimised hyperparameters inside as shown\n",
    "# Hyperparameters tuning with GridSearchCV\n",
    "tvecnb_params = {'tvec__max_df': [0.1, 0.5],\n",
    "               'tvec__min_df': [2, 3, 4],\n",
    "               'tvec__ngram_range': [(1,1),(1,2),(1,3)],\n",
    "               'nb__alpha': [0.1, 0.2, 0.3]}\n",
    "\n",
    "tvecnb_gs = GridSearchCV(tvecnb, param_grid=tvecnb_params, n_jobs=-1, verbose=2, cv=3)\n",
    "tvecnb_gs.fit(X1_train, y1_train);\n",
    "print(\"Best score:\", tvecnb_gs.best_score_)\n",
    "print(\"Train score\", tvecnb_gs.score(X1_train, y1_train))\n",
    "print(\"Test score\", tvecnb_gs.score(X1_test, y1_test))\n",
    "\n",
    "tvecnb_gs.best_params_"
   ]
  },
  {
   "cell_type": "code",
   "execution_count": 28,
   "id": "d8823c25",
   "metadata": {},
   "outputs": [],
   "source": [
    "# For reference:\n",
    "# {'nb__alpha': 0.1,\n",
    "#'tvec__max_df': 0.5,\n",
    "#'tvec__min_df': 3,\n",
    "#'tvec__ngram_range': (1, 3)}\n",
    "    \n",
    "#Best score: 0.9162874318781954\n",
    "#Train score 0.9687061070846676\n",
    "#Test score 0.9180990899898888"
   ]
  },
  {
   "cell_type": "markdown",
   "id": "b66d2d32",
   "metadata": {},
   "source": [
    "### Learning point and observation from hyperparameters tuning"
   ]
  },
  {
   "cell_type": "markdown",
   "id": "1601ad89",
   "metadata": {},
   "source": [
    "I learnt from the step above that a model may seem to underperform compared to another model initially, however, with hyperparameters tuning, it has a chance to end up outperforming the other model. From this, I have learnt not to make any premature conclusion, but to look at model selection and evaluation together with tuning.\n",
    "\n",
    "As expected, TF-IDF Vectorizer did improved accuracy for Multinomial NB. It is likely due to the limitation of CountVectorizer, which simply give a count, while TF-IDF focusing on important words that appear on often in one document but don't appear in many documents, it has indeed given more predictive power especially when terminologies and jargons are commonly used in law.\n",
    "\n",
    "On a side note, GridSearch showed that with a different model and vectorizer, the optimised ngram range differs (at time it may be unigrams and trigrams, at others it may be unigrams and bigrams. This underscores the importance to do hyperparameter tuning for each model, even though the underlying dataset is the same, and the mechanics of each learning model will run differently, giving rise to different optimizations."
   ]
  },
  {
   "cell_type": "markdown",
   "id": "a52e61bf",
   "metadata": {},
   "source": [
    "## Feature importance based on TVEC Multinomial NB"
   ]
  },
  {
   "cell_type": "code",
   "execution_count": 29,
   "id": "b87c205a",
   "metadata": {},
   "outputs": [],
   "source": [
    "tvecnb_gs.best_estimator_['nb'].feature_log_prob_;"
   ]
  },
  {
   "cell_type": "code",
   "execution_count": 30,
   "id": "1f8f898d",
   "metadata": {},
   "outputs": [],
   "source": [
    "gs_tvec = tvecnb_gs.best_estimator_['tvec'].get_feature_names_out()"
   ]
  },
  {
   "cell_type": "code",
   "execution_count": 31,
   "id": "eb60f2b5",
   "metadata": {},
   "outputs": [],
   "source": [
    "log_prob_difference = tvecnb_gs.best_estimator_['nb'].feature_log_prob_[1] - tvecnb_gs.best_estimator_['nb'].feature_log_prob_[0]"
   ]
  },
  {
   "cell_type": "code",
   "execution_count": 32,
   "id": "4205ed0d",
   "metadata": {},
   "outputs": [
    {
     "data": {
      "text/plain": [
       "81717"
      ]
     },
     "execution_count": 32,
     "metadata": {},
     "output_type": "execute_result"
    }
   ],
   "source": [
    "len(gs_tvec)"
   ]
  },
  {
   "cell_type": "code",
   "execution_count": 33,
   "id": "bd572492",
   "metadata": {},
   "outputs": [
    {
     "data": {
      "text/plain": [
       "(81717,)"
      ]
     },
     "execution_count": 33,
     "metadata": {},
     "output_type": "execute_result"
    }
   ],
   "source": [
    "log_prob_difference.shape"
   ]
  },
  {
   "cell_type": "code",
   "execution_count": 34,
   "id": "0cc758d4",
   "metadata": {},
   "outputs": [],
   "source": [
    "df_features = pd.DataFrame(data=log_prob_difference, index=gs_tvec)\n",
    "df_features.columns = ['log_prob_difference']"
   ]
  },
  {
   "cell_type": "code",
   "execution_count": 35,
   "id": "7370a21b",
   "metadata": {},
   "outputs": [
    {
     "data": {
      "text/html": [
       "<div>\n",
       "<style scoped>\n",
       "    .dataframe tbody tr th:only-of-type {\n",
       "        vertical-align: middle;\n",
       "    }\n",
       "\n",
       "    .dataframe tbody tr th {\n",
       "        vertical-align: top;\n",
       "    }\n",
       "\n",
       "    .dataframe thead th {\n",
       "        text-align: right;\n",
       "    }\n",
       "</style>\n",
       "<table border=\"1\" class=\"dataframe\">\n",
       "  <thead>\n",
       "    <tr style=\"text-align: right;\">\n",
       "      <th></th>\n",
       "      <th>log_prob_difference</th>\n",
       "    </tr>\n",
       "  </thead>\n",
       "  <tbody>\n",
       "    <tr>\n",
       "      <th>llc</th>\n",
       "      <td>4.804310</td>\n",
       "    </tr>\n",
       "    <tr>\n",
       "      <th>small claims</th>\n",
       "      <td>4.631508</td>\n",
       "    </tr>\n",
       "    <tr>\n",
       "      <th>court date</th>\n",
       "      <td>4.574062</td>\n",
       "    </tr>\n",
       "    <tr>\n",
       "      <th>termination</th>\n",
       "      <td>4.534524</td>\n",
       "    </tr>\n",
       "    <tr>\n",
       "      <th>eviction</th>\n",
       "      <td>4.530112</td>\n",
       "    </tr>\n",
       "    <tr>\n",
       "      <th>felony</th>\n",
       "      <td>4.411986</td>\n",
       "    </tr>\n",
       "    <tr>\n",
       "      <th>misdemeanor</th>\n",
       "      <td>4.375482</td>\n",
       "    </tr>\n",
       "    <tr>\n",
       "      <th>tenant</th>\n",
       "      <td>4.367443</td>\n",
       "    </tr>\n",
       "    <tr>\n",
       "      <th>hoa</th>\n",
       "      <td>4.289719</td>\n",
       "    </tr>\n",
       "    <tr>\n",
       "      <th>claims court</th>\n",
       "      <td>4.228177</td>\n",
       "    </tr>\n",
       "  </tbody>\n",
       "</table>\n",
       "</div>"
      ],
      "text/plain": [
       "              log_prob_difference\n",
       "llc                      4.804310\n",
       "small claims             4.631508\n",
       "court date               4.574062\n",
       "termination              4.534524\n",
       "eviction                 4.530112\n",
       "felony                   4.411986\n",
       "misdemeanor              4.375482\n",
       "tenant                   4.367443\n",
       "hoa                      4.289719\n",
       "claims court             4.228177"
      ]
     },
     "execution_count": 35,
     "metadata": {},
     "output_type": "execute_result"
    }
   ],
   "source": [
    "df_features.sort_values(by='log_prob_difference', ascending=False).head(10)"
   ]
  },
  {
   "cell_type": "markdown",
   "id": "525f2d1c",
   "metadata": {},
   "source": [
    "For the largest positive log_prob_difference values suggests that these are important words that justifies a post belongs to `r/legaladvice` than `r/NoStupidQuestions`. It is very understandable as quite alot of legal jargons are used here."
   ]
  },
  {
   "cell_type": "code",
   "execution_count": 36,
   "id": "8f135148",
   "metadata": {},
   "outputs": [
    {
     "data": {
      "text/html": [
       "<div>\n",
       "<style scoped>\n",
       "    .dataframe tbody tr th:only-of-type {\n",
       "        vertical-align: middle;\n",
       "    }\n",
       "\n",
       "    .dataframe tbody tr th {\n",
       "        vertical-align: top;\n",
       "    }\n",
       "\n",
       "    .dataframe thead th {\n",
       "        text-align: right;\n",
       "    }\n",
       "</style>\n",
       "<table border=\"1\" class=\"dataframe\">\n",
       "  <thead>\n",
       "    <tr style=\"text-align: right;\">\n",
       "      <th></th>\n",
       "      <th>log_prob_difference</th>\n",
       "    </tr>\n",
       "  </thead>\n",
       "  <tbody>\n",
       "    <tr>\n",
       "      <th>humans</th>\n",
       "      <td>-5.158139</td>\n",
       "    </tr>\n",
       "    <tr>\n",
       "      <th>calories</th>\n",
       "      <td>-4.467350</td>\n",
       "    </tr>\n",
       "    <tr>\n",
       "      <th>daylight savings</th>\n",
       "      <td>-4.442010</td>\n",
       "    </tr>\n",
       "    <tr>\n",
       "      <th>cringe</th>\n",
       "      <td>-4.360837</td>\n",
       "    </tr>\n",
       "    <tr>\n",
       "      <th>tastes</th>\n",
       "      <td>-4.254929</td>\n",
       "    </tr>\n",
       "    <tr>\n",
       "      <th>gas prices</th>\n",
       "      <td>-4.250506</td>\n",
       "    </tr>\n",
       "    <tr>\n",
       "      <th>heaven</th>\n",
       "      <td>-4.184990</td>\n",
       "    </tr>\n",
       "    <tr>\n",
       "      <th>bible</th>\n",
       "      <td>-4.140652</td>\n",
       "    </tr>\n",
       "    <tr>\n",
       "      <th>cultures</th>\n",
       "      <td>-4.125408</td>\n",
       "    </tr>\n",
       "    <tr>\n",
       "      <th>iq</th>\n",
       "      <td>-4.118611</td>\n",
       "    </tr>\n",
       "  </tbody>\n",
       "</table>\n",
       "</div>"
      ],
      "text/plain": [
       "                  log_prob_difference\n",
       "humans                      -5.158139\n",
       "calories                    -4.467350\n",
       "daylight savings            -4.442010\n",
       "cringe                      -4.360837\n",
       "tastes                      -4.254929\n",
       "gas prices                  -4.250506\n",
       "heaven                      -4.184990\n",
       "bible                       -4.140652\n",
       "cultures                    -4.125408\n",
       "iq                          -4.118611"
      ]
     },
     "execution_count": 36,
     "metadata": {},
     "output_type": "execute_result"
    }
   ],
   "source": [
    "df_features.sort_values(by='log_prob_difference', ascending=True).head(10)"
   ]
  },
  {
   "cell_type": "markdown",
   "id": "a0487146",
   "metadata": {},
   "source": [
    "On the other hand, the negative log_prob_difference values suggests that these are important words that justifies a post belongs to `r/NoStupidQuestions` than `r/legaladvice`."
   ]
  },
  {
   "cell_type": "code",
   "execution_count": 37,
   "id": "4046b987",
   "metadata": {
    "scrolled": true
   },
   "outputs": [
    {
     "data": {
      "text/html": [
       "<div>\n",
       "<style scoped>\n",
       "    .dataframe tbody tr th:only-of-type {\n",
       "        vertical-align: middle;\n",
       "    }\n",
       "\n",
       "    .dataframe tbody tr th {\n",
       "        vertical-align: top;\n",
       "    }\n",
       "\n",
       "    .dataframe thead th {\n",
       "        text-align: right;\n",
       "    }\n",
       "</style>\n",
       "<table border=\"1\" class=\"dataframe\">\n",
       "  <thead>\n",
       "    <tr style=\"text-align: right;\">\n",
       "      <th></th>\n",
       "      <th>log_prob_difference</th>\n",
       "    </tr>\n",
       "  </thead>\n",
       "  <tbody>\n",
       "    <tr>\n",
       "      <th>abandon</th>\n",
       "      <td>0.046401</td>\n",
       "    </tr>\n",
       "    <tr>\n",
       "      <th>abandoning</th>\n",
       "      <td>0.047934</td>\n",
       "    </tr>\n",
       "    <tr>\n",
       "      <th>abc</th>\n",
       "      <td>-0.014942</td>\n",
       "    </tr>\n",
       "    <tr>\n",
       "      <th>able hold</th>\n",
       "      <td>-0.004906</td>\n",
       "    </tr>\n",
       "    <tr>\n",
       "      <th>able talk</th>\n",
       "      <td>-0.035111</td>\n",
       "    </tr>\n",
       "    <tr>\n",
       "      <th>...</th>\n",
       "      <td>...</td>\n",
       "    </tr>\n",
       "    <tr>\n",
       "      <th>yet asked</th>\n",
       "      <td>0.031911</td>\n",
       "    </tr>\n",
       "    <tr>\n",
       "      <th>yet still</th>\n",
       "      <td>-0.002591</td>\n",
       "    </tr>\n",
       "    <tr>\n",
       "      <th>youre taking</th>\n",
       "      <td>0.035320</td>\n",
       "    </tr>\n",
       "    <tr>\n",
       "      <th>youre telling</th>\n",
       "      <td>0.006382</td>\n",
       "    </tr>\n",
       "    <tr>\n",
       "      <th>yrs old</th>\n",
       "      <td>0.048887</td>\n",
       "    </tr>\n",
       "  </tbody>\n",
       "</table>\n",
       "<p>2003 rows × 1 columns</p>\n",
       "</div>"
      ],
      "text/plain": [
       "               log_prob_difference\n",
       "abandon                   0.046401\n",
       "abandoning                0.047934\n",
       "abc                      -0.014942\n",
       "able hold                -0.004906\n",
       "able talk                -0.035111\n",
       "...                            ...\n",
       "yet asked                 0.031911\n",
       "yet still                -0.002591\n",
       "youre taking              0.035320\n",
       "youre telling             0.006382\n",
       "yrs old                   0.048887\n",
       "\n",
       "[2003 rows x 1 columns]"
      ]
     },
     "execution_count": 37,
     "metadata": {},
     "output_type": "execute_result"
    }
   ],
   "source": [
    "# Filter out features that are close to 0, as they are expected to makes no difference\n",
    "df_features[(df_features['log_prob_difference']<0.05) & (df_features['log_prob_difference']>-0.05)]"
   ]
  },
  {
   "cell_type": "markdown",
   "id": "5d60b935",
   "metadata": {},
   "source": [
    "For the dataframe above, it contains words that are expected to be widely used in both subreddits. I have tried using the list as extended stopwords, but they did not help to improve the accuracy rates for my finalised model using TVEC and logistic regression."
   ]
  },
  {
   "cell_type": "markdown",
   "id": "a72f8573",
   "metadata": {},
   "source": [
    "### Model - 3) CVEC logistic regression on non lemmatized combined text"
   ]
  },
  {
   "cell_type": "code",
   "execution_count": 38,
   "id": "f83ad801",
   "metadata": {},
   "outputs": [],
   "source": [
    "# Create pipeline for CVEC Logreg\n",
    "cveclr = Pipeline([\n",
    "    ('cvec', cvec),\n",
    "    ('lr', lr)\n",
    "])"
   ]
  },
  {
   "cell_type": "code",
   "execution_count": 39,
   "id": "950f2e4f",
   "metadata": {},
   "outputs": [],
   "source": [
    "cveclr.fit(X1_train, y1_train);"
   ]
  },
  {
   "cell_type": "code",
   "execution_count": 40,
   "id": "ad7590f8",
   "metadata": {},
   "outputs": [
    {
     "data": {
      "text/plain": [
       "0.9952806337434688"
      ]
     },
     "execution_count": 40,
     "metadata": {},
     "output_type": "execute_result"
    }
   ],
   "source": [
    "cveclr.score(X1_train, y1_train)"
   ]
  },
  {
   "cell_type": "code",
   "execution_count": 41,
   "id": "fd07a97c",
   "metadata": {},
   "outputs": [
    {
     "data": {
      "text/plain": [
       "0.9290529154027637"
      ]
     },
     "execution_count": 41,
     "metadata": {},
     "output_type": "execute_result"
    }
   ],
   "source": [
    "cveclr.score(X1_test, y1_test)"
   ]
  },
  {
   "cell_type": "code",
   "execution_count": 42,
   "id": "6a1b8676",
   "metadata": {},
   "outputs": [
    {
     "name": "stdout",
     "output_type": "stream",
     "text": [
      "Fitting 3 folds for each of 18 candidates, totalling 54 fits\n",
      "Best score: 0.930108433058037\n",
      "Train score 0.9988763413674926\n",
      "Test score 0.9309066397034041\n"
     ]
    },
    {
     "data": {
      "text/plain": [
       "{'cvec__max_features': 200000, 'cvec__ngram_range': (1, 2), 'lr__C': 1}"
      ]
     },
     "execution_count": 42,
     "metadata": {},
     "output_type": "execute_result"
    }
   ],
   "source": [
    "# Optimised \n",
    "# Tune GridSearchCV\n",
    "cveclr_params = {'cvec__max_features':[None, 10000,200000],\n",
    "               'cvec__ngram_range': [(1,1),(1,2),(1,3)],\n",
    "               'lr__C': [0.5, 1],\n",
    "                }\n",
    "\n",
    "cveclr_gs = GridSearchCV(cveclr, param_grid=cveclr_params, n_jobs=-1, verbose=2, cv=3)\n",
    "cveclr_gs.fit(X1_train, y1_train);\n",
    "print(\"Best score:\", cveclr_gs.best_score_)\n",
    "print(\"Train score\", cveclr_gs.score(X1_train, y1_train))\n",
    "print(\"Test score\", cveclr_gs.score(X1_test, y1_test))\n",
    "\n",
    "cveclr_gs.best_params_"
   ]
  },
  {
   "cell_type": "code",
   "execution_count": 43,
   "id": "5667ffb7",
   "metadata": {},
   "outputs": [],
   "source": [
    "# for reference:\n",
    "#{'cvec__max_features': 200000, 'cvec__ngram_range': (1, 2), 'lr__C': 1}\n",
    "#Best score: 0.930108433058037\n",
    "#Train score 0.9988763413674926\n",
    "#Test score 0.9309066397034041"
   ]
  },
  {
   "cell_type": "markdown",
   "id": "1ccd75e2",
   "metadata": {},
   "source": [
    "CountVectorizer with logistic regression performed the best by score on train data. There is a worrying sign of overfitting as train data score is significantly higher than test score."
   ]
  },
  {
   "cell_type": "code",
   "execution_count": 44,
   "id": "c4e68e05",
   "metadata": {},
   "outputs": [],
   "source": [
    "pred = cveclr_gs.predict(X1_test)"
   ]
  },
  {
   "cell_type": "code",
   "execution_count": 45,
   "id": "61edd26c",
   "metadata": {},
   "outputs": [],
   "source": [
    "confusion_matrix(y1_test, pred);"
   ]
  },
  {
   "cell_type": "code",
   "execution_count": 46,
   "id": "36ca9cec",
   "metadata": {},
   "outputs": [],
   "source": [
    "cm = confusion_matrix(y1_test, pred)"
   ]
  },
  {
   "cell_type": "code",
   "execution_count": 47,
   "id": "2f86cce3",
   "metadata": {},
   "outputs": [
    {
     "data": {
      "image/png": "[encoded data removed]",
      "text/plain": [
       "<Figure size 432x288 with 2 Axes>"
      ]
     },
     "metadata": {
      "needs_background": "light"
     },
     "output_type": "display_data"
    }
   ],
   "source": [
    "# Plot confusion matrix \n",
    "\n",
    "disp = ConfusionMatrixDisplay(confusion_matrix=cm)\n",
    "disp.plot(cmap='Blues')\n",
    "plt.title('Confusion matrix for CVEC Logreg')\n",
    "plt.show()"
   ]
  },
  {
   "cell_type": "code",
   "execution_count": 48,
   "id": "5953be31",
   "metadata": {},
   "outputs": [],
   "source": [
    "tn, fp, fn, tp = confusion_matrix(y1_test, pred).ravel()"
   ]
  },
  {
   "cell_type": "code",
   "execution_count": 49,
   "id": "35024fe0",
   "metadata": {},
   "outputs": [
    {
     "name": "stdout",
     "output_type": "stream",
     "text": [
      "True Negatives: 2777\n",
      "False Positives: 163\n",
      "False Negatives: 247\n",
      "True Positives: 2747\n"
     ]
    }
   ],
   "source": [
    "print(\"True Negatives: %s\" % tn)\n",
    "print(\"False Positives: %s\" % fp)\n",
    "print(\"False Negatives: %s\" % fn)\n",
    "print(\"True Positives: %s\" % tp)"
   ]
  },
  {
   "cell_type": "code",
   "execution_count": 50,
   "id": "33c1b050",
   "metadata": {},
   "outputs": [
    {
     "data": {
      "text/plain": [
       "0.91750167000668"
      ]
     },
     "execution_count": 50,
     "metadata": {},
     "output_type": "execute_result"
    }
   ],
   "source": [
    "sensitivity = tp/(tp+fn)\n",
    "sensitivity"
   ]
  },
  {
   "cell_type": "markdown",
   "id": "7ae3a60d",
   "metadata": {},
   "source": [
    "### Model - 4) TVEC logistic regression on non lemmatized combined text (My chosen model)"
   ]
  },
  {
   "cell_type": "code",
   "execution_count": 51,
   "id": "4b0bb189",
   "metadata": {},
   "outputs": [],
   "source": [
    "# Create pipeline for TVEC Logreg\n",
    "tveclr = Pipeline([\n",
    "    ('tvec', tvec),\n",
    "    ('lr', lr)\n",
    "])"
   ]
  },
  {
   "cell_type": "code",
   "execution_count": 52,
   "id": "460b02cc",
   "metadata": {},
   "outputs": [],
   "source": [
    "tveclr.fit(X1_train, y1_train);"
   ]
  },
  {
   "cell_type": "code",
   "execution_count": 53,
   "id": "9d170df7",
   "metadata": {},
   "outputs": [
    {
     "data": {
      "text/plain": [
       "0.9551098376313276"
      ]
     },
     "execution_count": 53,
     "metadata": {},
     "output_type": "execute_result"
    }
   ],
   "source": [
    "tveclr.score(X1_train, y1_train)"
   ]
  },
  {
   "cell_type": "code",
   "execution_count": 54,
   "id": "cc87528b",
   "metadata": {
    "scrolled": true
   },
   "outputs": [
    {
     "data": {
      "text/plain": [
       "0.9344455679137176"
      ]
     },
     "execution_count": 54,
     "metadata": {},
     "output_type": "execute_result"
    }
   ],
   "source": [
    "tveclr.score(X1_test, y1_test) "
   ]
  },
  {
   "cell_type": "code",
   "execution_count": 66,
   "id": "c2eec781",
   "metadata": {
    "scrolled": true
   },
   "outputs": [
    {
     "name": "stdout",
     "output_type": "stream",
     "text": [
      "Fitting 3 folds for each of 24 candidates, totalling 72 fits\n",
      "Best score: 0.9299398842631609\n",
      "Train score 0.9598292038878589\n",
      "Test score 0.9344455679137176\n"
     ]
    },
    {
     "data": {
      "text/plain": [
       "{'lr__C': 1,\n",
       " 'tvec__max_df': 0.5,\n",
       " 'tvec__min_df': 5,\n",
       " 'tvec__ngram_range': (1, 2)}"
      ]
     },
     "execution_count": 66,
     "metadata": {},
     "output_type": "execute_result"
    }
   ],
   "source": [
    "# Hyperparameters tuning - > not optimised for test score though, but selected as final model\n",
    "# Tune GridSearchCV\n",
    "tveclr_params = {'tvec__max_df': [0.5, 0.75],\n",
    "               'tvec__min_df': [4,5],\n",
    "               'tvec__ngram_range': [(1,1),(1,2),(1,3)],\n",
    "               'lr__C': [0.5, 1]}\n",
    "\n",
    "tveclr_gs = GridSearchCV(tveclr, param_grid=tveclr_params, n_jobs=-1, verbose=2, cv=3)\n",
    "tveclr_gs.fit(X1_train, y1_train);\n",
    "print(\"Best score:\", tveclr_gs.best_score_)\n",
    "print(\"Train score\", tveclr_gs.score(X1_train, y1_train))\n",
    "print(\"Test score\", tveclr_gs.score(X1_test, y1_test))\n",
    "\n",
    "tveclr_gs.best_params_"
   ]
  },
  {
   "cell_type": "code",
   "execution_count": 63,
   "id": "e5a48b4d",
   "metadata": {},
   "outputs": [],
   "source": [
    "#{'lr__C': 1,\n",
    " #'tvec__max_df': 0.5,\n",
    " #'tvec__min_df': 5,\n",
    " #'tvec__ngram_range': (1, 2)}\n",
    "\n",
    "#Best score: 0.9299398842631609\n",
    "#Train score 0.9598292038878589\n",
    "#Test score 0.9344455679137176"
   ]
  },
  {
   "cell_type": "markdown",
   "id": "462794c5",
   "metadata": {},
   "source": [
    "TF-IDF Vectorizer with logistic regression performed the best by score on test data. There is less overfitting compared to model 3 as well. This is likely due to how the TF-IDF Vectorizer penalises words that commonly appear across all threads, so that key words gain more importance, unlike CountVectorizer which simply counts every occurence."
   ]
  },
  {
   "cell_type": "markdown",
   "id": "1939475d",
   "metadata": {},
   "source": [
    "Logistic regression models is the model that gives me the best accuracy score based on test data. As such, I will be choosing between TVEC and CVEC logistic regression models as my final model. Unfortunately, there is no feature importance function with logistic regression that I can utilise, as such, I will be using other feature importance functions, with Multinomial NB and Random Forest to help identify where I can further improve the accuracy rates.\n",
    "\n",
    "Accuracy is also not the only important factor. As such, I will be looking beyond accuracy, and look at the confusion matrix, as well as to identify trends in misclassified data, to see if any corrective action can be taken preemptively."
   ]
  },
  {
   "cell_type": "code",
   "execution_count": 67,
   "id": "f2f5b408",
   "metadata": {},
   "outputs": [],
   "source": [
    "pred = tveclr_gs.predict(X1_test)"
   ]
  },
  {
   "cell_type": "code",
   "execution_count": 68,
   "id": "fd0e4b34",
   "metadata": {},
   "outputs": [],
   "source": [
    "confusion_matrix(y1_test, pred);"
   ]
  },
  {
   "cell_type": "code",
   "execution_count": 69,
   "id": "362b26a4",
   "metadata": {},
   "outputs": [],
   "source": [
    "cm = confusion_matrix(y1_test, pred)"
   ]
  },
  {
   "cell_type": "code",
   "execution_count": 70,
   "id": "29a4894e",
   "metadata": {},
   "outputs": [
    {
     "data": {
      "image/png": "[encoded data removed]",
      "text/plain": [
       "<Figure size 432x288 with 2 Axes>"
      ]
     },
     "metadata": {
      "needs_background": "light"
     },
     "output_type": "display_data"
    }
   ],
   "source": [
    "# Plot confusion matrix \n",
    "\n",
    "disp = ConfusionMatrixDisplay(confusion_matrix=cm)\n",
    "disp.plot(cmap='Blues')\n",
    "plt.title('Confusion matrix for TVEC Logreg')\n",
    "plt.show()"
   ]
  },
  {
   "cell_type": "code",
   "execution_count": 71,
   "id": "40379ad5",
   "metadata": {},
   "outputs": [],
   "source": [
    "tn, fp, fn, tp = confusion_matrix(y1_test, pred).ravel()"
   ]
  },
  {
   "cell_type": "code",
   "execution_count": 72,
   "id": "c6f87cf3",
   "metadata": {},
   "outputs": [
    {
     "name": "stdout",
     "output_type": "stream",
     "text": [
      "True Negatives: 2756\n",
      "False Positives: 184\n",
      "False Negatives: 205\n",
      "True Positives: 2789\n"
     ]
    }
   ],
   "source": [
    "print(\"True Negatives: %s\" % tn)\n",
    "print(\"False Positives: %s\" % fp)\n",
    "print(\"False Negatives: %s\" % fn)\n",
    "print(\"True Positives: %s\" % tp)"
   ]
  },
  {
   "cell_type": "code",
   "execution_count": 73,
   "id": "dcae8c56",
   "metadata": {},
   "outputs": [
    {
     "data": {
      "text/plain": [
       "0.9315297261189045"
      ]
     },
     "execution_count": 73,
     "metadata": {},
     "output_type": "execute_result"
    }
   ],
   "source": [
    "sensitivity = tp/(tp+fn)\n",
    "sensitivity"
   ]
  },
  {
   "cell_type": "markdown",
   "id": "5fa1672e",
   "metadata": {},
   "source": [
    "Accuracy is also not the most important factor. As such, I will be looking beyond accuracy, and look at the confusion matrix, as well as to identify trends in misclassified data, to see if any corrective action can be taken preemptively. \n",
    "\n",
    "My problem statement seeks to help organizations mitigate legal risk and unintended liabilities. As such, there is an importance to look at the positives, and therefore sensitivity is the most important metric to evaluate the model.\n",
    "\n",
    "Minimizing false negatives, which means minimizing legal advices that were misclassified as non legal queries, would be more important since I wish to minimize the risk exposure of organisations who receive legal queries through their chatbots. As such, when comparing TVEC Logistic Regression model with CVEC Logistic Regression model, TVEC Logistic Regression model outperforms CVEC Logistic Regression model to keep the false negatives lower, and have a higher sensivity score overall (93.2% versus 91.8%)."
   ]
  },
  {
   "cell_type": "markdown",
   "id": "53156fa2",
   "metadata": {},
   "source": [
    "## Error analysis of final chosen model"
   ]
  },
  {
   "cell_type": "code",
   "execution_count": 74,
   "id": "f59908dd",
   "metadata": {},
   "outputs": [
    {
     "data": {
      "text/html": [
       "<div>\n",
       "<style scoped>\n",
       "    .dataframe tbody tr th:only-of-type {\n",
       "        vertical-align: middle;\n",
       "    }\n",
       "\n",
       "    .dataframe tbody tr th {\n",
       "        vertical-align: top;\n",
       "    }\n",
       "\n",
       "    .dataframe thead th {\n",
       "        text-align: right;\n",
       "    }\n",
       "</style>\n",
       "<table border=\"1\" class=\"dataframe\">\n",
       "  <thead>\n",
       "    <tr style=\"text-align: right;\">\n",
       "      <th></th>\n",
       "      <th>actual</th>\n",
       "      <th>predicted</th>\n",
       "    </tr>\n",
       "  </thead>\n",
       "  <tbody>\n",
       "    <tr>\n",
       "      <th>22249</th>\n",
       "      <td>1</td>\n",
       "      <td>1</td>\n",
       "    </tr>\n",
       "    <tr>\n",
       "      <th>392</th>\n",
       "      <td>0</td>\n",
       "      <td>0</td>\n",
       "    </tr>\n",
       "    <tr>\n",
       "      <th>4300</th>\n",
       "      <td>0</td>\n",
       "      <td>0</td>\n",
       "    </tr>\n",
       "    <tr>\n",
       "      <th>8595</th>\n",
       "      <td>0</td>\n",
       "      <td>0</td>\n",
       "    </tr>\n",
       "    <tr>\n",
       "      <th>22225</th>\n",
       "      <td>1</td>\n",
       "      <td>1</td>\n",
       "    </tr>\n",
       "  </tbody>\n",
       "</table>\n",
       "</div>"
      ],
      "text/plain": [
       "       actual  predicted\n",
       "22249       1          1\n",
       "392         0          0\n",
       "4300        0          0\n",
       "8595        0          0\n",
       "22225       1          1"
      ]
     },
     "execution_count": 74,
     "metadata": {},
     "output_type": "execute_result"
    }
   ],
   "source": [
    "# Create dataframe with y1_test values\n",
    "df_actual_pred = pd.DataFrame(y1_test)\n",
    "\n",
    "# Create predicted column based on predictions from chosen model\n",
    "df_actual_pred['predicted'] = pred\n",
    "df_actual_pred.rename(columns={'subreddit': 'actual'}, inplace=True)\n",
    "df_actual_pred.head()"
   ]
  },
  {
   "cell_type": "code",
   "execution_count": 75,
   "id": "969f3dee",
   "metadata": {},
   "outputs": [
    {
     "data": {
      "text/html": [
       "<div>\n",
       "<style scoped>\n",
       "    .dataframe tbody tr th:only-of-type {\n",
       "        vertical-align: middle;\n",
       "    }\n",
       "\n",
       "    .dataframe tbody tr th {\n",
       "        vertical-align: top;\n",
       "    }\n",
       "\n",
       "    .dataframe thead th {\n",
       "        text-align: right;\n",
       "    }\n",
       "</style>\n",
       "<table border=\"1\" class=\"dataframe\">\n",
       "  <thead>\n",
       "    <tr style=\"text-align: right;\">\n",
       "      <th></th>\n",
       "      <th>combi_text</th>\n",
       "      <th>actual</th>\n",
       "      <th>predicted</th>\n",
       "    </tr>\n",
       "  </thead>\n",
       "  <tbody>\n",
       "    <tr>\n",
       "      <th>22249</th>\n",
       "      <td>apartment complex forces residents to send packages to a thirdparty and pay a monthly fee for redelivery my apartment complex has all its residents agree to have their packages sent to a thirdparty that then redelivers the packages to the residents for a monthly fee the company in question is called fetch we pay the complex for the service not fetch  im wondering if this holds up legally can an apartment complex really have residents waive their right to receive packages sent to their legal address  this seems unethical and reeks of exploitation while purely speculation it stands to reason that the apartment complex likely worked out a deal with fetch fifteen dollars per month may not be much but fifteen dollars per month per resident is an exorbitant amount of money  the complex argues that its for the safety of our packages but the way i see it a fifteen dollar package is being stolen from me every month now moreover the package they redeliver can still be stolen the fact that they likely generate income through this arrangement is also a red flag   so    is this in fact legal   what are my options aside from moving somewhere else</td>\n",
       "      <td>1</td>\n",
       "      <td>1</td>\n",
       "    </tr>\n",
       "    <tr>\n",
       "      <th>392</th>\n",
       "      <td>what is your favorite tea just ran out of lipton tea and looking to try new ones what do you recommend</td>\n",
       "      <td>0</td>\n",
       "      <td>0</td>\n",
       "    </tr>\n",
       "    <tr>\n",
       "      <th>4300</th>\n",
       "      <td>in terms of war are average citizens in a country just seen as war expenses to the government in the past politicians just send the poor people to go fight their wars for them tools and an expense for a political agenda is it still the same today</td>\n",
       "      <td>0</td>\n",
       "      <td>0</td>\n",
       "    </tr>\n",
       "    <tr>\n",
       "      <th>8595</th>\n",
       "      <td>why do rappers like hennessy so much it tastes like ass</td>\n",
       "      <td>0</td>\n",
       "      <td>0</td>\n",
       "    </tr>\n",
       "    <tr>\n",
       "      <th>22225</th>\n",
       "      <td>wondering about some charges i recently got arrested on so as the title says im trying to get some thoughts on charges i recently got arrested on so i male  live in california which is where this all takes place i entered a chain hardware store on a wednesday afternoon with the intention of stealing a chainsaw i walked around the store a little bit then walked up to where the saws are they arent locked up but they have a phone cord that if you unclip sets off an alarm so i unclip the cord grab the saw and run for the door just before i get out the door a female employee latches onto my collar while im at full sprint we both collapse into the door she is death gripped on my shirt so i begin to slip out of my shirt at which point another employee grams me from behind and places my arms in a way a cop would before they cuff you i tried to pull away and he begins bending my arm until its about to snap so i stop resisting the one who initially grabbed me is screaming to call the cops so cops show up cuff me and take me in the back of store to review the footage they say after the lady grabbed me i attempted to hit her i know this is untrue and they charge me with a  robbery with attempted great bodily injury and petty theft i did  days in jail before bailing out court next month what should i expect will these charges stick the store has a no chase no touch policy for theft i have a public defender this happened in california should i prepare for the robbery charge sticking thank you for any and all advice</td>\n",
       "      <td>1</td>\n",
       "      <td>1</td>\n",
       "    </tr>\n",
       "  </tbody>\n",
       "</table>\n",
       "</div>"
      ],
      "text/plain": [
       "                                                                                                                                                                                                                                                                                                                                                                                                                                                                                                                                                                                                                                                                                                                                                                                                                                                                                                                                                                                                                                                                                                                                                                                                                                                                                                                                                                                                                                                                                                                                                                                   combi_text  \\\n",
       "22249                                                                                                                                                                                                                                                                                                                                                                                          apartment complex forces residents to send packages to a thirdparty and pay a monthly fee for redelivery my apartment complex has all its residents agree to have their packages sent to a thirdparty that then redelivers the packages to the residents for a monthly fee the company in question is called fetch we pay the complex for the service not fetch  im wondering if this holds up legally can an apartment complex really have residents waive their right to receive packages sent to their legal address  this seems unethical and reeks of exploitation while purely speculation it stands to reason that the apartment complex likely worked out a deal with fetch fifteen dollars per month may not be much but fifteen dollars per month per resident is an exorbitant amount of money  the complex argues that its for the safety of our packages but the way i see it a fifteen dollar package is being stolen from me every month now moreover the package they redeliver can still be stolen the fact that they likely generate income through this arrangement is also a red flag   so    is this in fact legal   what are my options aside from moving somewhere else   \n",
       "392                                                                                                                                                                                                                                                                                                                                                                                                                                                                                                                                                                                                                                                                                                                                                                                                                                                                                                                                                                                                                                                                                                                                                                                                                                                                                                                                                                                                                                                                                    what is your favorite tea just ran out of lipton tea and looking to try new ones what do you recommend   \n",
       "4300                                                                                                                                                                                                                                                                                                                                                                                                                                                                                                                                                                                                                                                                                                                                                                                                                                                                                                                                                                                                                                                                                                                                                                                                                                                                                                                                   in terms of war are average citizens in a country just seen as war expenses to the government in the past politicians just send the poor people to go fight their wars for them tools and an expense for a political agenda is it still the same today   \n",
       "8595                                                                                                                                                                                                                                                                                                                                                                                                                                                                                                                                                                                                                                                                                                                                                                                                                                                                                                                                                                                                                                                                                                                                                                                                                                                                                                                                                                                                                                                                                                                                  why do rappers like hennessy so much it tastes like ass   \n",
       "22225  wondering about some charges i recently got arrested on so as the title says im trying to get some thoughts on charges i recently got arrested on so i male  live in california which is where this all takes place i entered a chain hardware store on a wednesday afternoon with the intention of stealing a chainsaw i walked around the store a little bit then walked up to where the saws are they arent locked up but they have a phone cord that if you unclip sets off an alarm so i unclip the cord grab the saw and run for the door just before i get out the door a female employee latches onto my collar while im at full sprint we both collapse into the door she is death gripped on my shirt so i begin to slip out of my shirt at which point another employee grams me from behind and places my arms in a way a cop would before they cuff you i tried to pull away and he begins bending my arm until its about to snap so i stop resisting the one who initially grabbed me is screaming to call the cops so cops show up cuff me and take me in the back of store to review the footage they say after the lady grabbed me i attempted to hit her i know this is untrue and they charge me with a  robbery with attempted great bodily injury and petty theft i did  days in jail before bailing out court next month what should i expect will these charges stick the store has a no chase no touch policy for theft i have a public defender this happened in california should i prepare for the robbery charge sticking thank you for any and all advice   \n",
       "\n",
       "       actual  predicted  \n",
       "22249       1          1  \n",
       "392         0          0  \n",
       "4300        0          0  \n",
       "8595        0          0  \n",
       "22225       1          1  "
      ]
     },
     "execution_count": 75,
     "metadata": {},
     "output_type": "execute_result"
    }
   ],
   "source": [
    "# Concatenate dataframe of X1 test and prediction\n",
    "df_classify = pd.concat([X1_test, df_actual_pred], axis=1)\n",
    "df_classify.head()"
   ]
  },
  {
   "cell_type": "code",
   "execution_count": 76,
   "id": "0c8ab4aa",
   "metadata": {},
   "outputs": [],
   "source": [
    "# Create word count column\n",
    "df_classify['word_count'] = df_classify['combi_text'].apply(lambda x: len(str(x).split(' ')))"
   ]
  },
  {
   "cell_type": "code",
   "execution_count": 77,
   "id": "8321aa0a",
   "metadata": {},
   "outputs": [
    {
     "data": {
      "text/html": [
       "<div>\n",
       "<style scoped>\n",
       "    .dataframe tbody tr th:only-of-type {\n",
       "        vertical-align: middle;\n",
       "    }\n",
       "\n",
       "    .dataframe tbody tr th {\n",
       "        vertical-align: top;\n",
       "    }\n",
       "\n",
       "    .dataframe thead th {\n",
       "        text-align: right;\n",
       "    }\n",
       "</style>\n",
       "<table border=\"1\" class=\"dataframe\">\n",
       "  <thead>\n",
       "    <tr style=\"text-align: right;\">\n",
       "      <th></th>\n",
       "      <th>combi_text</th>\n",
       "      <th>actual</th>\n",
       "      <th>predicted</th>\n",
       "      <th>word_count</th>\n",
       "    </tr>\n",
       "  </thead>\n",
       "  <tbody>\n",
       "    <tr>\n",
       "      <th>12842</th>\n",
       "      <td>is this bounds to press charges for harassment i dont really know because i like this girl let me know dont really know what sub to post this in ive put it in others and no one responds with the advice im looking for if this is the wrong place feel free to remove i m work at a supermarket with this women f who i find very pretty i havent gotten the courage to talk to her myself because im very quiet and shy and shes super outgoing and charismatic the entire staff loves her i find it very intimidating to be honest anyway she always acts in ways towards me that i dont understand when im having conversations with people and shes not involved with it shell mimic my voice in a high pitched voice while walking by she also taps me on the shoulder and head when im not looking and acts like she didnt i randomly will catch her staring at me and when i look over shell just smile at me and look away the other day there was a staff meeting and on the way out of the room some guy was talking about ropes in reference to some sort of project hes working on and she whispered to me you have no idea how bad i want to use those on you in a super serious voice now whenever she walks by me she just smiles at me it kind of feels like its in a way where she thinks she has an upper hand on me she said to me the other day when she walked by i know youre thinking about what i said and i love doing this to you seeing you uncomfortable is so cute then she tapped my nose and walked away to be honest it kind of freaks me out to be honest though i think shes super hot and i would be interested in a relationship with her but i dont know if shes into me or if shes just trying to fuck with my head she doesnt act like this with anyone else and i havent told any of the other staff because shes adored by everyone and i dont want to sound weird or like an idiot cuz everyone already kind of thinks of me as that shy awkward dude anyway what do you guys think of this at first i thought it was just friendly flirting but ive put this in other subs and many people have told me this is harassment and i need to do something about it</td>\n",
       "      <td>1</td>\n",
       "      <td>0</td>\n",
       "      <td>437</td>\n",
       "    </tr>\n",
       "    <tr>\n",
       "      <th>8633</th>\n",
       "      <td>how do i make it up to my girlfriend so basically i messed up with my girlfriend weve been dating for over two years but i went behind her back and did things that i regret deeply i went behind her back and watched porn which i promised not to do and i sexualized other girls i lied to her for almost all of the relationship i recently came clean and told her everything she considers the things ive done as cheating i hurt her so much but she decided to give me another chance i love her so much and am so grateful that shes giving me another chance i really want to make things up with her i am looking for any suggestions to try to help thank you</td>\n",
       "      <td>0</td>\n",
       "      <td>1</td>\n",
       "      <td>131</td>\n",
       "    </tr>\n",
       "    <tr>\n",
       "      <th>1925</th>\n",
       "      <td>tax and w form drama so i worked at this small town beauty salon during the summer my friend helped me get the job the whole salon was a mess and people were slowly leaving when i got hired didnt know any of the drama was happening when i got hired or i wouldve applied everywhere else before working there well anyways i did and i had an opportunity i told them i was taking and they said ok no one seemed mad well my friend then while i was away tried to scam me and did some other not friendly things and i was a bit of a bitch back but not a bitch for no reason it was just added up angst and she wanted to be mad about something but was really only mad i was calling her out and im not stupid i know how rent on an apartment works anyways so much drama and here i am months later i never received my w so i messaged the owner she asked for my email and said she would and she still hasnt ive messaged her already again since she asked for email and she opened it but still no email i dont want to be annoying i know she sold the company to her friend but that doesnt mean shes done with all the backed up paper work she neglected to ever come to work to do so i also dont care if im annoying deep down my anxiety is like she turned everyone against you and now everyone hates you which honestly i dont care if a  year old and  forty year old coke heads hate me they all kinda suck i just wanna do my taxes im not trying to let my anxiety make up a story so im asking if anyone knows what i can do past that i dont have any of my pay stubs either because all of my stuff is in another country from where i am right now thats why i needed her to email me she also said it was sent in the mail and i checked in the last  addresses it couldve been sent to and nothing is there anything i can do thank you</td>\n",
       "      <td>0</td>\n",
       "      <td>1</td>\n",
       "      <td>382</td>\n",
       "    </tr>\n",
       "    <tr>\n",
       "      <th>22319</th>\n",
       "      <td>revoke hippa consent form can i revoke my hippa release forms   i recently tried to join the military and had to sign a hippa release form but after some thought i decided to not join  can i revoke my hippa release form</td>\n",
       "      <td>1</td>\n",
       "      <td>0</td>\n",
       "      <td>45</td>\n",
       "    </tr>\n",
       "    <tr>\n",
       "      <th>9013</th>\n",
       "      <td>when do i start to panic that i didnt actually get an apartment i put a deposit down for i have to move really suddenly due to a pretty not great thing and im moving over an hour away last wednesday i got a call saying an apartment i applied for is mine if i pay the deposit so i paid it when i got off of work that night i had  hours ive triple checked it came out of my bank account but i havent been contacted since i left them a voicemail but its a huge management company and i dont have the extension for my complex yet im just pretty overwhelmed and i really need this to work out lol were already kinda packing and i need to move by the end of the month because i dont want to sleep on my parents couch past that lol im just not really sure what to do at this point haha</td>\n",
       "      <td>0</td>\n",
       "      <td>1</td>\n",
       "      <td>164</td>\n",
       "    </tr>\n",
       "  </tbody>\n",
       "</table>\n",
       "</div>"
      ],
      "text/plain": [
       "                                                                                                                                                                                                                                                                                                                                                                                                                                                                                                                                                                                                                                                                                                                                                                                                                                                                                                                                                                                                                                                                                                                                                                                                                                                                                                                                                                                                                                                                                                                                                                                                                                                                                                                                                                                                                                                                                                                                                                                                                                                                                                                                                                                                        combi_text  \\\n",
       "12842  is this bounds to press charges for harassment i dont really know because i like this girl let me know dont really know what sub to post this in ive put it in others and no one responds with the advice im looking for if this is the wrong place feel free to remove i m work at a supermarket with this women f who i find very pretty i havent gotten the courage to talk to her myself because im very quiet and shy and shes super outgoing and charismatic the entire staff loves her i find it very intimidating to be honest anyway she always acts in ways towards me that i dont understand when im having conversations with people and shes not involved with it shell mimic my voice in a high pitched voice while walking by she also taps me on the shoulder and head when im not looking and acts like she didnt i randomly will catch her staring at me and when i look over shell just smile at me and look away the other day there was a staff meeting and on the way out of the room some guy was talking about ropes in reference to some sort of project hes working on and she whispered to me you have no idea how bad i want to use those on you in a super serious voice now whenever she walks by me she just smiles at me it kind of feels like its in a way where she thinks she has an upper hand on me she said to me the other day when she walked by i know youre thinking about what i said and i love doing this to you seeing you uncomfortable is so cute then she tapped my nose and walked away to be honest it kind of freaks me out to be honest though i think shes super hot and i would be interested in a relationship with her but i dont know if shes into me or if shes just trying to fuck with my head she doesnt act like this with anyone else and i havent told any of the other staff because shes adored by everyone and i dont want to sound weird or like an idiot cuz everyone already kind of thinks of me as that shy awkward dude anyway what do you guys think of this at first i thought it was just friendly flirting but ive put this in other subs and many people have told me this is harassment and i need to do something about it   \n",
       "8633                                                                                                                                                                                                                                                                                                                                                                                                                                                                                                                                                                                                                                                                                                                                                                                                                                                                                                                                                                                                                                                                                                                                                                                                                                                                                                                                                                                                                                                                                                                                     how do i make it up to my girlfriend so basically i messed up with my girlfriend weve been dating for over two years but i went behind her back and did things that i regret deeply i went behind her back and watched porn which i promised not to do and i sexualized other girls i lied to her for almost all of the relationship i recently came clean and told her everything she considers the things ive done as cheating i hurt her so much but she decided to give me another chance i love her so much and am so grateful that shes giving me another chance i really want to make things up with her i am looking for any suggestions to try to help thank you   \n",
       "1925                                                                                                                                                                                                                                                                                                                                 tax and w form drama so i worked at this small town beauty salon during the summer my friend helped me get the job the whole salon was a mess and people were slowly leaving when i got hired didnt know any of the drama was happening when i got hired or i wouldve applied everywhere else before working there well anyways i did and i had an opportunity i told them i was taking and they said ok no one seemed mad well my friend then while i was away tried to scam me and did some other not friendly things and i was a bit of a bitch back but not a bitch for no reason it was just added up angst and she wanted to be mad about something but was really only mad i was calling her out and im not stupid i know how rent on an apartment works anyways so much drama and here i am months later i never received my w so i messaged the owner she asked for my email and said she would and she still hasnt ive messaged her already again since she asked for email and she opened it but still no email i dont want to be annoying i know she sold the company to her friend but that doesnt mean shes done with all the backed up paper work she neglected to ever come to work to do so i also dont care if im annoying deep down my anxiety is like she turned everyone against you and now everyone hates you which honestly i dont care if a  year old and  forty year old coke heads hate me they all kinda suck i just wanna do my taxes im not trying to let my anxiety make up a story so im asking if anyone knows what i can do past that i dont have any of my pay stubs either because all of my stuff is in another country from where i am right now thats why i needed her to email me she also said it was sent in the mail and i checked in the last  addresses it couldve been sent to and nothing is there anything i can do thank you   \n",
       "22319                                                                                                                                                                                                                                                                                                                                                                                                                                                                                                                                                                                                                                                                                                                                                                                                                                                                                                                                                                                                                                                                                                                                                                                                                                                                                                                                                                                                                                                                                                                                                                                                                                                                                                                                                                                                                                                                                                                                                                                  revoke hippa consent form can i revoke my hippa release forms   i recently tried to join the military and had to sign a hippa release form but after some thought i decided to not join  can i revoke my hippa release form   \n",
       "9013                                                                                                                                                                                                                                                                                                                                                                                                                                                                                                                                                                                                                                                                                                                                                                                                                                                                                                                                                                                                                                                                                                                                                                                                                                                                                                                                                                                                    when do i start to panic that i didnt actually get an apartment i put a deposit down for i have to move really suddenly due to a pretty not great thing and im moving over an hour away last wednesday i got a call saying an apartment i applied for is mine if i pay the deposit so i paid it when i got off of work that night i had  hours ive triple checked it came out of my bank account but i havent been contacted since i left them a voicemail but its a huge management company and i dont have the extension for my complex yet im just pretty overwhelmed and i really need this to work out lol were already kinda packing and i need to move by the end of the month because i dont want to sleep on my parents couch past that lol im just not really sure what to do at this point haha   \n",
       "\n",
       "       actual  predicted  word_count  \n",
       "12842       1          0         437  \n",
       "8633        0          1         131  \n",
       "1925        0          1         382  \n",
       "22319       1          0          45  \n",
       "9013        0          1         164  "
      ]
     },
     "execution_count": 77,
     "metadata": {},
     "output_type": "execute_result"
    }
   ],
   "source": [
    "# Find indices where predicted and true results were not the same\n",
    "classify_wrong = df_classify[df_classify['predicted'] != df_classify['actual']]\n",
    "classify_wrong.head()"
   ]
  },
  {
   "cell_type": "code",
   "execution_count": 78,
   "id": "030f85b2",
   "metadata": {},
   "outputs": [
    {
     "data": {
      "text/plain": [
       "(389, 4)"
      ]
     },
     "execution_count": 78,
     "metadata": {},
     "output_type": "execute_result"
    }
   ],
   "source": [
    "classify_wrong.shape"
   ]
  },
  {
   "cell_type": "code",
   "execution_count": 79,
   "id": "f0ad4c51",
   "metadata": {},
   "outputs": [
    {
     "data": {
      "text/html": [
       "<div>\n",
       "<style scoped>\n",
       "    .dataframe tbody tr th:only-of-type {\n",
       "        vertical-align: middle;\n",
       "    }\n",
       "\n",
       "    .dataframe tbody tr th {\n",
       "        vertical-align: top;\n",
       "    }\n",
       "\n",
       "    .dataframe thead th {\n",
       "        text-align: right;\n",
       "    }\n",
       "</style>\n",
       "<table border=\"1\" class=\"dataframe\">\n",
       "  <thead>\n",
       "    <tr style=\"text-align: right;\">\n",
       "      <th></th>\n",
       "      <th>combi_text</th>\n",
       "      <th>actual</th>\n",
       "      <th>predicted</th>\n",
       "      <th>word_count</th>\n",
       "    </tr>\n",
       "  </thead>\n",
       "  <tbody>\n",
       "    <tr>\n",
       "      <th>12842</th>\n",
       "      <td>is this bounds to press charges for harassment i dont really know because i like this girl let me know dont really know what sub to post this in ive put it in others and no one responds with the advice im looking for if this is the wrong place feel free to remove i m work at a supermarket with this women f who i find very pretty i havent gotten the courage to talk to her myself because im very quiet and shy and shes super outgoing and charismatic the entire staff loves her i find it very intimidating to be honest anyway she always acts in ways towards me that i dont understand when im having conversations with people and shes not involved with it shell mimic my voice in a high pitched voice while walking by she also taps me on the shoulder and head when im not looking and acts like she didnt i randomly will catch her staring at me and when i look over shell just smile at me and look away the other day there was a staff meeting and on the way out of the room some guy was talking about ropes in reference to some sort of project hes working on and she whispered to me you have no idea how bad i want to use those on you in a super serious voice now whenever she walks by me she just smiles at me it kind of feels like its in a way where she thinks she has an upper hand on me she said to me the other day when she walked by i know youre thinking about what i said and i love doing this to you seeing you uncomfortable is so cute then she tapped my nose and walked away to be honest it kind of freaks me out to be honest though i think shes super hot and i would be interested in a relationship with her but i dont know if shes into me or if shes just trying to fuck with my head she doesnt act like this with anyone else and i havent told any of the other staff because shes adored by everyone and i dont want to sound weird or like an idiot cuz everyone already kind of thinks of me as that shy awkward dude anyway what do you guys think of this at first i thought it was just friendly flirting but ive put this in other subs and many people have told me this is harassment and i need to do something about it</td>\n",
       "      <td>1</td>\n",
       "      <td>0</td>\n",
       "      <td>437</td>\n",
       "    </tr>\n",
       "    <tr>\n",
       "      <th>8633</th>\n",
       "      <td>how do i make it up to my girlfriend so basically i messed up with my girlfriend weve been dating for over two years but i went behind her back and did things that i regret deeply i went behind her back and watched porn which i promised not to do and i sexualized other girls i lied to her for almost all of the relationship i recently came clean and told her everything she considers the things ive done as cheating i hurt her so much but she decided to give me another chance i love her so much and am so grateful that shes giving me another chance i really want to make things up with her i am looking for any suggestions to try to help thank you</td>\n",
       "      <td>0</td>\n",
       "      <td>1</td>\n",
       "      <td>131</td>\n",
       "    </tr>\n",
       "    <tr>\n",
       "      <th>1925</th>\n",
       "      <td>tax and w form drama so i worked at this small town beauty salon during the summer my friend helped me get the job the whole salon was a mess and people were slowly leaving when i got hired didnt know any of the drama was happening when i got hired or i wouldve applied everywhere else before working there well anyways i did and i had an opportunity i told them i was taking and they said ok no one seemed mad well my friend then while i was away tried to scam me and did some other not friendly things and i was a bit of a bitch back but not a bitch for no reason it was just added up angst and she wanted to be mad about something but was really only mad i was calling her out and im not stupid i know how rent on an apartment works anyways so much drama and here i am months later i never received my w so i messaged the owner she asked for my email and said she would and she still hasnt ive messaged her already again since she asked for email and she opened it but still no email i dont want to be annoying i know she sold the company to her friend but that doesnt mean shes done with all the backed up paper work she neglected to ever come to work to do so i also dont care if im annoying deep down my anxiety is like she turned everyone against you and now everyone hates you which honestly i dont care if a  year old and  forty year old coke heads hate me they all kinda suck i just wanna do my taxes im not trying to let my anxiety make up a story so im asking if anyone knows what i can do past that i dont have any of my pay stubs either because all of my stuff is in another country from where i am right now thats why i needed her to email me she also said it was sent in the mail and i checked in the last  addresses it couldve been sent to and nothing is there anything i can do thank you</td>\n",
       "      <td>0</td>\n",
       "      <td>1</td>\n",
       "      <td>382</td>\n",
       "    </tr>\n",
       "    <tr>\n",
       "      <th>22319</th>\n",
       "      <td>revoke hippa consent form can i revoke my hippa release forms   i recently tried to join the military and had to sign a hippa release form but after some thought i decided to not join  can i revoke my hippa release form</td>\n",
       "      <td>1</td>\n",
       "      <td>0</td>\n",
       "      <td>45</td>\n",
       "    </tr>\n",
       "    <tr>\n",
       "      <th>9013</th>\n",
       "      <td>when do i start to panic that i didnt actually get an apartment i put a deposit down for i have to move really suddenly due to a pretty not great thing and im moving over an hour away last wednesday i got a call saying an apartment i applied for is mine if i pay the deposit so i paid it when i got off of work that night i had  hours ive triple checked it came out of my bank account but i havent been contacted since i left them a voicemail but its a huge management company and i dont have the extension for my complex yet im just pretty overwhelmed and i really need this to work out lol were already kinda packing and i need to move by the end of the month because i dont want to sleep on my parents couch past that lol im just not really sure what to do at this point haha</td>\n",
       "      <td>0</td>\n",
       "      <td>1</td>\n",
       "      <td>164</td>\n",
       "    </tr>\n",
       "  </tbody>\n",
       "</table>\n",
       "</div>"
      ],
      "text/plain": [
       "                                                                                                                                                                                                                                                                                                                                                                                                                                                                                                                                                                                                                                                                                                                                                                                                                                                                                                                                                                                                                                                                                                                                                                                                                                                                                                                                                                                                                                                                                                                                                                                                                                                                                                                                                                                                                                                                                                                                                                                                                                                                                                                                                                                                        combi_text  \\\n",
       "12842  is this bounds to press charges for harassment i dont really know because i like this girl let me know dont really know what sub to post this in ive put it in others and no one responds with the advice im looking for if this is the wrong place feel free to remove i m work at a supermarket with this women f who i find very pretty i havent gotten the courage to talk to her myself because im very quiet and shy and shes super outgoing and charismatic the entire staff loves her i find it very intimidating to be honest anyway she always acts in ways towards me that i dont understand when im having conversations with people and shes not involved with it shell mimic my voice in a high pitched voice while walking by she also taps me on the shoulder and head when im not looking and acts like she didnt i randomly will catch her staring at me and when i look over shell just smile at me and look away the other day there was a staff meeting and on the way out of the room some guy was talking about ropes in reference to some sort of project hes working on and she whispered to me you have no idea how bad i want to use those on you in a super serious voice now whenever she walks by me she just smiles at me it kind of feels like its in a way where she thinks she has an upper hand on me she said to me the other day when she walked by i know youre thinking about what i said and i love doing this to you seeing you uncomfortable is so cute then she tapped my nose and walked away to be honest it kind of freaks me out to be honest though i think shes super hot and i would be interested in a relationship with her but i dont know if shes into me or if shes just trying to fuck with my head she doesnt act like this with anyone else and i havent told any of the other staff because shes adored by everyone and i dont want to sound weird or like an idiot cuz everyone already kind of thinks of me as that shy awkward dude anyway what do you guys think of this at first i thought it was just friendly flirting but ive put this in other subs and many people have told me this is harassment and i need to do something about it   \n",
       "8633                                                                                                                                                                                                                                                                                                                                                                                                                                                                                                                                                                                                                                                                                                                                                                                                                                                                                                                                                                                                                                                                                                                                                                                                                                                                                                                                                                                                                                                                                                                                     how do i make it up to my girlfriend so basically i messed up with my girlfriend weve been dating for over two years but i went behind her back and did things that i regret deeply i went behind her back and watched porn which i promised not to do and i sexualized other girls i lied to her for almost all of the relationship i recently came clean and told her everything she considers the things ive done as cheating i hurt her so much but she decided to give me another chance i love her so much and am so grateful that shes giving me another chance i really want to make things up with her i am looking for any suggestions to try to help thank you   \n",
       "1925                                                                                                                                                                                                                                                                                                                                 tax and w form drama so i worked at this small town beauty salon during the summer my friend helped me get the job the whole salon was a mess and people were slowly leaving when i got hired didnt know any of the drama was happening when i got hired or i wouldve applied everywhere else before working there well anyways i did and i had an opportunity i told them i was taking and they said ok no one seemed mad well my friend then while i was away tried to scam me and did some other not friendly things and i was a bit of a bitch back but not a bitch for no reason it was just added up angst and she wanted to be mad about something but was really only mad i was calling her out and im not stupid i know how rent on an apartment works anyways so much drama and here i am months later i never received my w so i messaged the owner she asked for my email and said she would and she still hasnt ive messaged her already again since she asked for email and she opened it but still no email i dont want to be annoying i know she sold the company to her friend but that doesnt mean shes done with all the backed up paper work she neglected to ever come to work to do so i also dont care if im annoying deep down my anxiety is like she turned everyone against you and now everyone hates you which honestly i dont care if a  year old and  forty year old coke heads hate me they all kinda suck i just wanna do my taxes im not trying to let my anxiety make up a story so im asking if anyone knows what i can do past that i dont have any of my pay stubs either because all of my stuff is in another country from where i am right now thats why i needed her to email me she also said it was sent in the mail and i checked in the last  addresses it couldve been sent to and nothing is there anything i can do thank you   \n",
       "22319                                                                                                                                                                                                                                                                                                                                                                                                                                                                                                                                                                                                                                                                                                                                                                                                                                                                                                                                                                                                                                                                                                                                                                                                                                                                                                                                                                                                                                                                                                                                                                                                                                                                                                                                                                                                                                                                                                                                                                                  revoke hippa consent form can i revoke my hippa release forms   i recently tried to join the military and had to sign a hippa release form but after some thought i decided to not join  can i revoke my hippa release form   \n",
       "9013                                                                                                                                                                                                                                                                                                                                                                                                                                                                                                                                                                                                                                                                                                                                                                                                                                                                                                                                                                                                                                                                                                                                                                                                                                                                                                                                                                                                    when do i start to panic that i didnt actually get an apartment i put a deposit down for i have to move really suddenly due to a pretty not great thing and im moving over an hour away last wednesday i got a call saying an apartment i applied for is mine if i pay the deposit so i paid it when i got off of work that night i had  hours ive triple checked it came out of my bank account but i havent been contacted since i left them a voicemail but its a huge management company and i dont have the extension for my complex yet im just pretty overwhelmed and i really need this to work out lol were already kinda packing and i need to move by the end of the month because i dont want to sleep on my parents couch past that lol im just not really sure what to do at this point haha   \n",
       "\n",
       "       actual  predicted  word_count  \n",
       "12842       1          0         437  \n",
       "8633        0          1         131  \n",
       "1925        0          1         382  \n",
       "22319       1          0          45  \n",
       "9013        0          1         164  "
      ]
     },
     "execution_count": 79,
     "metadata": {},
     "output_type": "execute_result"
    }
   ],
   "source": [
    "classify_wrong.head()"
   ]
  },
  {
   "cell_type": "code",
   "execution_count": 80,
   "id": "aa5a98e9",
   "metadata": {},
   "outputs": [
    {
     "data": {
      "text/plain": [
       "21267    618\n",
       "9007     485\n",
       "12842    437\n",
       "1484     427\n",
       "4596     422\n",
       "1664     416\n",
       "5797     387\n",
       "5535     383\n",
       "1925     382\n",
       "16551    381\n",
       "Name: word_count, dtype: int64"
      ]
     },
     "execution_count": 80,
     "metadata": {},
     "output_type": "execute_result"
    }
   ],
   "source": [
    "classify_wrong['word_count'].sort_values(ascending=False).head(10)"
   ]
  },
  {
   "cell_type": "code",
   "execution_count": 81,
   "id": "7cde14ad",
   "metadata": {
    "scrolled": false
   },
   "outputs": [
    {
     "data": {
      "text/plain": [
       "103.8611825192802"
      ]
     },
     "execution_count": 81,
     "metadata": {},
     "output_type": "execute_result"
    }
   ],
   "source": [
    "classify_wrong['word_count'].mean()"
   ]
  },
  {
   "cell_type": "code",
   "execution_count": 82,
   "id": "eaf21800",
   "metadata": {},
   "outputs": [
    {
     "data": {
      "text/html": [
       "<div>\n",
       "<style scoped>\n",
       "    .dataframe tbody tr th:only-of-type {\n",
       "        vertical-align: middle;\n",
       "    }\n",
       "\n",
       "    .dataframe tbody tr th {\n",
       "        vertical-align: top;\n",
       "    }\n",
       "\n",
       "    .dataframe thead th {\n",
       "        text-align: right;\n",
       "    }\n",
       "</style>\n",
       "<table border=\"1\" class=\"dataframe\">\n",
       "  <thead>\n",
       "    <tr style=\"text-align: right;\">\n",
       "      <th></th>\n",
       "      <th>actual</th>\n",
       "      <th>predicted</th>\n",
       "      <th>word_count</th>\n",
       "    </tr>\n",
       "  </thead>\n",
       "  <tbody>\n",
       "    <tr>\n",
       "      <th>count</th>\n",
       "      <td>389.000000</td>\n",
       "      <td>389.000000</td>\n",
       "      <td>389.000000</td>\n",
       "    </tr>\n",
       "    <tr>\n",
       "      <th>mean</th>\n",
       "      <td>0.526992</td>\n",
       "      <td>0.473008</td>\n",
       "      <td>103.861183</td>\n",
       "    </tr>\n",
       "    <tr>\n",
       "      <th>std</th>\n",
       "      <td>0.499914</td>\n",
       "      <td>0.499914</td>\n",
       "      <td>82.162344</td>\n",
       "    </tr>\n",
       "    <tr>\n",
       "      <th>min</th>\n",
       "      <td>0.000000</td>\n",
       "      <td>0.000000</td>\n",
       "      <td>10.000000</td>\n",
       "    </tr>\n",
       "    <tr>\n",
       "      <th>25%</th>\n",
       "      <td>0.000000</td>\n",
       "      <td>0.000000</td>\n",
       "      <td>49.000000</td>\n",
       "    </tr>\n",
       "    <tr>\n",
       "      <th>50%</th>\n",
       "      <td>1.000000</td>\n",
       "      <td>0.000000</td>\n",
       "      <td>82.000000</td>\n",
       "    </tr>\n",
       "    <tr>\n",
       "      <th>75%</th>\n",
       "      <td>1.000000</td>\n",
       "      <td>1.000000</td>\n",
       "      <td>133.000000</td>\n",
       "    </tr>\n",
       "    <tr>\n",
       "      <th>max</th>\n",
       "      <td>1.000000</td>\n",
       "      <td>1.000000</td>\n",
       "      <td>618.000000</td>\n",
       "    </tr>\n",
       "  </tbody>\n",
       "</table>\n",
       "</div>"
      ],
      "text/plain": [
       "           actual   predicted  word_count\n",
       "count  389.000000  389.000000  389.000000\n",
       "mean     0.526992    0.473008  103.861183\n",
       "std      0.499914    0.499914   82.162344\n",
       "min      0.000000    0.000000   10.000000\n",
       "25%      0.000000    0.000000   49.000000\n",
       "50%      1.000000    0.000000   82.000000\n",
       "75%      1.000000    1.000000  133.000000\n",
       "max      1.000000    1.000000  618.000000"
      ]
     },
     "execution_count": 82,
     "metadata": {},
     "output_type": "execute_result"
    }
   ],
   "source": [
    "classify_wrong.describe()"
   ]
  },
  {
   "cell_type": "markdown",
   "id": "e40a227c",
   "metadata": {},
   "source": [
    "#### Observations from word count and content"
   ]
  },
  {
   "cell_type": "markdown",
   "id": "48102957",
   "metadata": {},
   "source": [
    "There is a trend that the posts that are wrongly classified are either long posts in `r/NoStupidQuestions`, or badly crafted queries on `r/legaladvice` which sounds casual, crude and vulgar conversations. The mean word count for `r/NoStupidQuestions` is 79 words and `r/legaladvice` is 216 words.\n",
    "\n",
    "I personally would have mistaken that could belong to `r/NoStupidQuestions`. Otherwise, they could be posts on `r/NoStupidQuestions` that were long and containing certain key themes of management, tax, sex which are heavier topics that similarly appears in `r/legaladvice`. "
   ]
  },
  {
   "cell_type": "code",
   "execution_count": 83,
   "id": "cb27fd65",
   "metadata": {},
   "outputs": [],
   "source": [
    "false_negatives_df = classify_wrong[(classify_wrong['actual']==1) & (classify_wrong['predicted']==0)]"
   ]
  },
  {
   "cell_type": "code",
   "execution_count": 84,
   "id": "71da3436",
   "metadata": {
    "scrolled": true
   },
   "outputs": [
    {
     "data": {
      "text/html": [
       "<div>\n",
       "<style scoped>\n",
       "    .dataframe tbody tr th:only-of-type {\n",
       "        vertical-align: middle;\n",
       "    }\n",
       "\n",
       "    .dataframe tbody tr th {\n",
       "        vertical-align: top;\n",
       "    }\n",
       "\n",
       "    .dataframe thead th {\n",
       "        text-align: right;\n",
       "    }\n",
       "</style>\n",
       "<table border=\"1\" class=\"dataframe\">\n",
       "  <thead>\n",
       "    <tr style=\"text-align: right;\">\n",
       "      <th></th>\n",
       "      <th>combi_text</th>\n",
       "      <th>actual</th>\n",
       "      <th>predicted</th>\n",
       "      <th>word_count</th>\n",
       "    </tr>\n",
       "  </thead>\n",
       "  <tbody>\n",
       "    <tr>\n",
       "      <th>12842</th>\n",
       "      <td>is this bounds to press charges for harassment i dont really know because i like this girl let me know dont really know what sub to post this in ive put it in others and no one responds with the advice im looking for if this is the wrong place feel free to remove i m work at a supermarket with this women f who i find very pretty i havent gotten the courage to talk to her myself because im very quiet and shy and shes super outgoing and charismatic the entire staff loves her i find it very intimidating to be honest anyway she always acts in ways towards me that i dont understand when im having conversations with people and shes not involved with it shell mimic my voice in a high pitched voice while walking by she also taps me on the shoulder and head when im not looking and acts like she didnt i randomly will catch her staring at me and when i look over shell just smile at me and look away the other day there was a staff meeting and on the way out of the room some guy was talking about ropes in reference to some sort of project hes working on and she whispered to me you have no idea how bad i want to use those on you in a super serious voice now whenever she walks by me she just smiles at me it kind of feels like its in a way where she thinks she has an upper hand on me she said to me the other day when she walked by i know youre thinking about what i said and i love doing this to you seeing you uncomfortable is so cute then she tapped my nose and walked away to be honest it kind of freaks me out to be honest though i think shes super hot and i would be interested in a relationship with her but i dont know if shes into me or if shes just trying to fuck with my head she doesnt act like this with anyone else and i havent told any of the other staff because shes adored by everyone and i dont want to sound weird or like an idiot cuz everyone already kind of thinks of me as that shy awkward dude anyway what do you guys think of this at first i thought it was just friendly flirting but ive put this in other subs and many people have told me this is harassment and i need to do something about it</td>\n",
       "      <td>1</td>\n",
       "      <td>0</td>\n",
       "      <td>437</td>\n",
       "    </tr>\n",
       "    <tr>\n",
       "      <th>22319</th>\n",
       "      <td>revoke hippa consent form can i revoke my hippa release forms   i recently tried to join the military and had to sign a hippa release form but after some thought i decided to not join  can i revoke my hippa release form</td>\n",
       "      <td>1</td>\n",
       "      <td>0</td>\n",
       "      <td>45</td>\n",
       "    </tr>\n",
       "    <tr>\n",
       "      <th>18902</th>\n",
       "      <td>traded nudes and sent to story now her and her cousin unadded me what do i do edit before you get mad i understand what i did now please help  what do i fucking do her cousin saw and ss my dick and now she has a nude shes a complete drama queen and is going to show people what do i do i was talking to a girl and i sent her a dick pick and accidentally put it on my story now her cousin has a photo im  and there bother  she unadded me and said some excuse about her mom checking her phone for boys what do i do</td>\n",
       "      <td>1</td>\n",
       "      <td>0</td>\n",
       "      <td>115</td>\n",
       "    </tr>\n",
       "    <tr>\n",
       "      <th>18246</th>\n",
       "      <td>questions about fbicriminal clearance letter so lets say someone made a cold call to the fbi accusing me of commiting a crime later on the fbi investigates me and finds out the accusations were false and thus makes a clearance letter where i cannot be reported for that specific crime ever again  my questions are   is it possible for me to get a copy of that clearance letter if yes how  once a clearance letter is made can the fbi anytime revoke the clearance letter</td>\n",
       "      <td>1</td>\n",
       "      <td>0</td>\n",
       "      <td>89</td>\n",
       "    </tr>\n",
       "    <tr>\n",
       "      <th>16274</th>\n",
       "      <td>looking for legalities in prohibiting digital exclusives in video games in summation i have an idea i wish to turn into a bill that would prohibit video games from restricting digital goods from consumers artificial scarcity and the usage of fomo should not be such a common practicethey use nfts to work around the consumer rights act and its predatory some videos games advertise digital goods that are made exclusive and are unobtainable for newcomers and i want legal advice on how to present my idea as a bill to my local congress</td>\n",
       "      <td>1</td>\n",
       "      <td>0</td>\n",
       "      <td>93</td>\n",
       "    </tr>\n",
       "    <tr>\n",
       "      <th>...</th>\n",
       "      <td>...</td>\n",
       "      <td>...</td>\n",
       "      <td>...</td>\n",
       "      <td>...</td>\n",
       "    </tr>\n",
       "    <tr>\n",
       "      <th>23671</th>\n",
       "      <td>if you insult someone on a game can you get sued for example if you really insult someones motherfather etc can they sue you over a game and how long does it take</td>\n",
       "      <td>1</td>\n",
       "      <td>0</td>\n",
       "      <td>33</td>\n",
       "    </tr>\n",
       "    <tr>\n",
       "      <th>21054</th>\n",
       "      <td>if you are a sole trader can you call yourself a company based in the uk</td>\n",
       "      <td>1</td>\n",
       "      <td>0</td>\n",
       "      <td>16</td>\n",
       "    </tr>\n",
       "    <tr>\n",
       "      <th>17802</th>\n",
       "      <td>can a subreddit organize a giveaway contest i recently made this post where i referred to a contest as a raffle but really it is a giveaway users do not need to spend any money to enter only make a post it was suggested that i resubmit my question as i had originally called it a raffle does this change the legalityour liability as mods  basically  wed ask users to submit posts the winning post could be chosen by the mods or by a poll or number of upvotes whatever would receive a prize which would be donated by a third party in the form of a gift certificate or discount card</td>\n",
       "      <td>1</td>\n",
       "      <td>0</td>\n",
       "      <td>114</td>\n",
       "    </tr>\n",
       "    <tr>\n",
       "      <th>18464</th>\n",
       "      <td>what are the conditions to getting unemployment checks in indana im a  year old and i saw the max amount i could get from unemployment checks is  per week and if your old enough to work then your old enough to receive unemployment benefits im not as stupid as your normal  year old in th grade i was learning how to enrich uranium and make nukes</td>\n",
       "      <td>1</td>\n",
       "      <td>0</td>\n",
       "      <td>69</td>\n",
       "    </tr>\n",
       "    <tr>\n",
       "      <th>18910</th>\n",
       "      <td>can i get fired for leaked porn leaked as in not with my consent throwaway for obvious reasons just wondering i made a mistake of letting someone film me while we were fucking and we work in related industries side note</td>\n",
       "      <td>1</td>\n",
       "      <td>0</td>\n",
       "      <td>41</td>\n",
       "    </tr>\n",
       "  </tbody>\n",
       "</table>\n",
       "<p>205 rows × 4 columns</p>\n",
       "</div>"
      ],
      "text/plain": [
       "                                                                                                                                                                                                                                                                                                                                                                                                                                                                                                                                                                                                                                                                                                                                                                                                                                                                                                                                                                                                                                                                                                                                                                                                                                                                                                                                                                                                                                                                                                                                                                                                                                                                                                                                                                                                                                                                                                                                                                                                                                                                                                                                                                                                        combi_text  \\\n",
       "12842  is this bounds to press charges for harassment i dont really know because i like this girl let me know dont really know what sub to post this in ive put it in others and no one responds with the advice im looking for if this is the wrong place feel free to remove i m work at a supermarket with this women f who i find very pretty i havent gotten the courage to talk to her myself because im very quiet and shy and shes super outgoing and charismatic the entire staff loves her i find it very intimidating to be honest anyway she always acts in ways towards me that i dont understand when im having conversations with people and shes not involved with it shell mimic my voice in a high pitched voice while walking by she also taps me on the shoulder and head when im not looking and acts like she didnt i randomly will catch her staring at me and when i look over shell just smile at me and look away the other day there was a staff meeting and on the way out of the room some guy was talking about ropes in reference to some sort of project hes working on and she whispered to me you have no idea how bad i want to use those on you in a super serious voice now whenever she walks by me she just smiles at me it kind of feels like its in a way where she thinks she has an upper hand on me she said to me the other day when she walked by i know youre thinking about what i said and i love doing this to you seeing you uncomfortable is so cute then she tapped my nose and walked away to be honest it kind of freaks me out to be honest though i think shes super hot and i would be interested in a relationship with her but i dont know if shes into me or if shes just trying to fuck with my head she doesnt act like this with anyone else and i havent told any of the other staff because shes adored by everyone and i dont want to sound weird or like an idiot cuz everyone already kind of thinks of me as that shy awkward dude anyway what do you guys think of this at first i thought it was just friendly flirting but ive put this in other subs and many people have told me this is harassment and i need to do something about it   \n",
       "22319                                                                                                                                                                                                                                                                                                                                                                                                                                                                                                                                                                                                                                                                                                                                                                                                                                                                                                                                                                                                                                                                                                                                                                                                                                                                                                                                                                                                                                                                                                                                                                                                                                                                                                                                                                                                                                                                                                                                                                                  revoke hippa consent form can i revoke my hippa release forms   i recently tried to join the military and had to sign a hippa release form but after some thought i decided to not join  can i revoke my hippa release form   \n",
       "18902                                                                                                                                                                                                                                                                                                                                                                                                                                                                                                                                                                                                                                                                                                                                                                                                                                                                                                                                                                                                                                                                                                                                                                                                                                                                                                                                                                                                                                                                                                                                                                                                                                                                             traded nudes and sent to story now her and her cousin unadded me what do i do edit before you get mad i understand what i did now please help  what do i fucking do her cousin saw and ss my dick and now she has a nude shes a complete drama queen and is going to show people what do i do i was talking to a girl and i sent her a dick pick and accidentally put it on my story now her cousin has a photo im  and there bother  she unadded me and said some excuse about her mom checking her phone for boys what do i do   \n",
       "18246                                                                                                                                                                                                                                                                                                                                                                                                                                                                                                                                                                                                                                                                                                                                                                                                                                                                                                                                                                                                                                                                                                                                                                                                                                                                                                                                                                                                                                                                                                                                                                                                                                                                                                                         questions about fbicriminal clearance letter so lets say someone made a cold call to the fbi accusing me of commiting a crime later on the fbi investigates me and finds out the accusations were false and thus makes a clearance letter where i cannot be reported for that specific crime ever again  my questions are   is it possible for me to get a copy of that clearance letter if yes how  once a clearance letter is made can the fbi anytime revoke the clearance letter   \n",
       "16274                                                                                                                                                                                                                                                                                                                                                                                                                                                                                                                                                                                                                                                                                                                                                                                                                                                                                                                                                                                                                                                                                                                                                                                                                                                                                                                                                                                                                                                                                                                                                                                                                                                      looking for legalities in prohibiting digital exclusives in video games in summation i have an idea i wish to turn into a bill that would prohibit video games from restricting digital goods from consumers artificial scarcity and the usage of fomo should not be such a common practicethey use nfts to work around the consumer rights act and its predatory some videos games advertise digital goods that are made exclusive and are unobtainable for newcomers and i want legal advice on how to present my idea as a bill to my local congress   \n",
       "...                                                                                                                                                                                                                                                                                                                                                                                                                                                                                                                                                                                                                                                                                                                                                                                                                                                                                                                                                                                                                                                                                                                                                                                                                                                                                                                                                                                                                                                                                                                                                                                                                                                                                                                                                                                                                                                                                                                                                                                                                                                                                                                                                                                                            ...   \n",
       "23671                                                                                                                                                                                                                                                                                                                                                                                                                                                                                                                                                                                                                                                                                                                                                                                                                                                                                                                                                                                                                                                                                                                                                                                                                                                                                                                                                                                                                                                                                                                                                                                                                                                                                                                                                                                                                                                                                                                                                                                                                                           if you insult someone on a game can you get sued for example if you really insult someones motherfather etc can they sue you over a game and how long does it take   \n",
       "21054                                                                                                                                                                                                                                                                                                                                                                                                                                                                                                                                                                                                                                                                                                                                                                                                                                                                                                                                                                                                                                                                                                                                                                                                                                                                                                                                                                                                                                                                                                                                                                                                                                                                                                                                                                                                                                                                                                                                                                                                                                                                                                                                     if you are a sole trader can you call yourself a company based in the uk   \n",
       "17802                                                                                                                                                                                                                                                                                                                                                                                                                                                                                                                                                                                                                                                                                                                                                                                                                                                                                                                                                                                                                                                                                                                                                                                                                                                                                                                                                                                                                                                                                                                                                                                                         can a subreddit organize a giveaway contest i recently made this post where i referred to a contest as a raffle but really it is a giveaway users do not need to spend any money to enter only make a post it was suggested that i resubmit my question as i had originally called it a raffle does this change the legalityour liability as mods  basically  wed ask users to submit posts the winning post could be chosen by the mods or by a poll or number of upvotes whatever would receive a prize which would be donated by a third party in the form of a gift certificate or discount card   \n",
       "18464                                                                                                                                                                                                                                                                                                                                                                                                                                                                                                                                                                                                                                                                                                                                                                                                                                                                                                                                                                                                                                                                                                                                                                                                                                                                                                                                                                                                                                                                                                                                                                                                                                                                                                                                                                                                                                                    what are the conditions to getting unemployment checks in indana im a  year old and i saw the max amount i could get from unemployment checks is  per week and if your old enough to work then your old enough to receive unemployment benefits im not as stupid as your normal  year old in th grade i was learning how to enrich uranium and make nukes   \n",
       "18910                                                                                                                                                                                                                                                                                                                                                                                                                                                                                                                                                                                                                                                                                                                                                                                                                                                                                                                                                                                                                                                                                                                                                                                                                                                                                                                                                                                                                                                                                                                                                                                                                                                                                                                                                                                                                                                                                                                                                                                  can i get fired for leaked porn leaked as in not with my consent throwaway for obvious reasons just wondering i made a mistake of letting someone film me while we were fucking and we work in related industries side note   \n",
       "\n",
       "       actual  predicted  word_count  \n",
       "12842       1          0         437  \n",
       "22319       1          0          45  \n",
       "18902       1          0         115  \n",
       "18246       1          0          89  \n",
       "16274       1          0          93  \n",
       "...       ...        ...         ...  \n",
       "23671       1          0          33  \n",
       "21054       1          0          16  \n",
       "17802       1          0         114  \n",
       "18464       1          0          69  \n",
       "18910       1          0          41  \n",
       "\n",
       "[205 rows x 4 columns]"
      ]
     },
     "execution_count": 84,
     "metadata": {},
     "output_type": "execute_result"
    }
   ],
   "source": [
    "false_negatives_df "
   ]
  },
  {
   "cell_type": "code",
   "execution_count": 85,
   "id": "b4cab1e3",
   "metadata": {},
   "outputs": [
    {
     "data": {
      "text/plain": [
       "91.1609756097561"
      ]
     },
     "execution_count": 85,
     "metadata": {},
     "output_type": "execute_result"
    }
   ],
   "source": [
    "false_negatives_df['word_count'].mean()"
   ]
  },
  {
   "cell_type": "markdown",
   "id": "9c9dc40f",
   "metadata": {},
   "source": [
    "For large amount of cases, it is unlikely that these badly framed questions will get an organisation which gave advice to an individual be liable for their advice, since to the normal human eye, they do not even appear to have legal implications. For questions that are really short, they may be linked to legal matters, but such questions can easily be Googled to give a right answer, it is also unlikely that the firm ends up having any form of liability."
   ]
  },
  {
   "cell_type": "code",
   "execution_count": 86,
   "id": "a1a458fd",
   "metadata": {},
   "outputs": [
    {
     "data": {
      "text/html": [
       "<div>\n",
       "<style scoped>\n",
       "    .dataframe tbody tr th:only-of-type {\n",
       "        vertical-align: middle;\n",
       "    }\n",
       "\n",
       "    .dataframe tbody tr th {\n",
       "        vertical-align: top;\n",
       "    }\n",
       "\n",
       "    .dataframe thead th {\n",
       "        text-align: right;\n",
       "    }\n",
       "</style>\n",
       "<table border=\"1\" class=\"dataframe\">\n",
       "  <thead>\n",
       "    <tr style=\"text-align: right;\">\n",
       "      <th></th>\n",
       "      <th>actual</th>\n",
       "      <th>predicted</th>\n",
       "      <th>word_count</th>\n",
       "    </tr>\n",
       "  </thead>\n",
       "  <tbody>\n",
       "    <tr>\n",
       "      <th>count</th>\n",
       "      <td>205.0</td>\n",
       "      <td>205.0</td>\n",
       "      <td>205.000000</td>\n",
       "    </tr>\n",
       "    <tr>\n",
       "      <th>mean</th>\n",
       "      <td>1.0</td>\n",
       "      <td>0.0</td>\n",
       "      <td>91.160976</td>\n",
       "    </tr>\n",
       "    <tr>\n",
       "      <th>std</th>\n",
       "      <td>0.0</td>\n",
       "      <td>0.0</td>\n",
       "      <td>74.125612</td>\n",
       "    </tr>\n",
       "    <tr>\n",
       "      <th>min</th>\n",
       "      <td>1.0</td>\n",
       "      <td>0.0</td>\n",
       "      <td>10.000000</td>\n",
       "    </tr>\n",
       "    <tr>\n",
       "      <th>25%</th>\n",
       "      <td>1.0</td>\n",
       "      <td>0.0</td>\n",
       "      <td>45.000000</td>\n",
       "    </tr>\n",
       "    <tr>\n",
       "      <th>50%</th>\n",
       "      <td>1.0</td>\n",
       "      <td>0.0</td>\n",
       "      <td>71.000000</td>\n",
       "    </tr>\n",
       "    <tr>\n",
       "      <th>75%</th>\n",
       "      <td>1.0</td>\n",
       "      <td>0.0</td>\n",
       "      <td>115.000000</td>\n",
       "    </tr>\n",
       "    <tr>\n",
       "      <th>max</th>\n",
       "      <td>1.0</td>\n",
       "      <td>0.0</td>\n",
       "      <td>618.000000</td>\n",
       "    </tr>\n",
       "  </tbody>\n",
       "</table>\n",
       "</div>"
      ],
      "text/plain": [
       "       actual  predicted  word_count\n",
       "count   205.0      205.0  205.000000\n",
       "mean      1.0        0.0   91.160976\n",
       "std       0.0        0.0   74.125612\n",
       "min       1.0        0.0   10.000000\n",
       "25%       1.0        0.0   45.000000\n",
       "50%       1.0        0.0   71.000000\n",
       "75%       1.0        0.0  115.000000\n",
       "max       1.0        0.0  618.000000"
      ]
     },
     "execution_count": 86,
     "metadata": {},
     "output_type": "execute_result"
    }
   ],
   "source": [
    "false_negatives_df.describe()"
   ]
  },
  {
   "cell_type": "code",
   "execution_count": 87,
   "id": "4cca4a4b",
   "metadata": {},
   "outputs": [
    {
     "data": {
      "text/html": [
       "<div>\n",
       "<style scoped>\n",
       "    .dataframe tbody tr th:only-of-type {\n",
       "        vertical-align: middle;\n",
       "    }\n",
       "\n",
       "    .dataframe tbody tr th {\n",
       "        vertical-align: top;\n",
       "    }\n",
       "\n",
       "    .dataframe thead th {\n",
       "        text-align: right;\n",
       "    }\n",
       "</style>\n",
       "<table border=\"1\" class=\"dataframe\">\n",
       "  <thead>\n",
       "    <tr style=\"text-align: right;\">\n",
       "      <th></th>\n",
       "      <th>combi_text</th>\n",
       "      <th>actual</th>\n",
       "      <th>predicted</th>\n",
       "      <th>word_count</th>\n",
       "    </tr>\n",
       "  </thead>\n",
       "  <tbody>\n",
       "    <tr>\n",
       "      <th>13410</th>\n",
       "      <td>estranged parent is ruining my reputation and business va deleted</td>\n",
       "      <td>1</td>\n",
       "      <td>0</td>\n",
       "      <td>10</td>\n",
       "    </tr>\n",
       "    <tr>\n",
       "      <th>13352</th>\n",
       "      <td>add clicker is making a bot to click on ads illegal</td>\n",
       "      <td>1</td>\n",
       "      <td>0</td>\n",
       "      <td>11</td>\n",
       "    </tr>\n",
       "    <tr>\n",
       "      <th>15250</th>\n",
       "      <td>is ok send bitcoin to russian military charity legal or no</td>\n",
       "      <td>1</td>\n",
       "      <td>0</td>\n",
       "      <td>11</td>\n",
       "    </tr>\n",
       "    <tr>\n",
       "      <th>14473</th>\n",
       "      <td>what does it mean to discharge marital duties what does it mean to discharge marital duties</td>\n",
       "      <td>1</td>\n",
       "      <td>0</td>\n",
       "      <td>16</td>\n",
       "    </tr>\n",
       "    <tr>\n",
       "      <th>21054</th>\n",
       "      <td>if you are a sole trader can you call yourself a company based in the uk</td>\n",
       "      <td>1</td>\n",
       "      <td>0</td>\n",
       "      <td>16</td>\n",
       "    </tr>\n",
       "  </tbody>\n",
       "</table>\n",
       "</div>"
      ],
      "text/plain": [
       "                                                                                        combi_text  \\\n",
       "13410                            estranged parent is ruining my reputation and business va deleted   \n",
       "13352                                          add clicker is making a bot to click on ads illegal   \n",
       "15250                                   is ok send bitcoin to russian military charity legal or no   \n",
       "14473  what does it mean to discharge marital duties what does it mean to discharge marital duties   \n",
       "21054                     if you are a sole trader can you call yourself a company based in the uk   \n",
       "\n",
       "       actual  predicted  word_count  \n",
       "13410       1          0          10  \n",
       "13352       1          0          11  \n",
       "15250       1          0          11  \n",
       "14473       1          0          16  \n",
       "21054       1          0          16  "
      ]
     },
     "execution_count": 87,
     "metadata": {},
     "output_type": "execute_result"
    }
   ],
   "source": [
    "false_negatives_df.sort_values(by=['word_count'],ascending=True).head()"
   ]
  },
  {
   "cell_type": "markdown",
   "id": "f7f25499",
   "metadata": {},
   "source": [
    "#### Insight on false negative short postings\n",
    "\n",
    "Few of the short postings (ie. 13352 and 15250) would have been easily picked up if the stopwords did not have to include 'legal' in it. In a real world situation, in the implementing of the actual model, 'legal' can definitely be tuned to not be a part of the stopwords.\n",
    "\n",
    "Others are badly crafted generic questions (ie. 13410 and 21054) that do not seem to readily be a legal query.\n",
    "\n",
    "Others have spelling issues (ie. 12793), but then again, anything sexual and relationship (ie. 14473) related seems like a limitation of the model to correctly classify."
   ]
  },
  {
   "cell_type": "code",
   "execution_count": 88,
   "id": "05cdfc65",
   "metadata": {},
   "outputs": [
    {
     "data": {
      "text/html": [
       "<div>\n",
       "<style scoped>\n",
       "    .dataframe tbody tr th:only-of-type {\n",
       "        vertical-align: middle;\n",
       "    }\n",
       "\n",
       "    .dataframe tbody tr th {\n",
       "        vertical-align: top;\n",
       "    }\n",
       "\n",
       "    .dataframe thead th {\n",
       "        text-align: right;\n",
       "    }\n",
       "</style>\n",
       "<table border=\"1\" class=\"dataframe\">\n",
       "  <thead>\n",
       "    <tr style=\"text-align: right;\">\n",
       "      <th></th>\n",
       "      <th>combi_text</th>\n",
       "      <th>actual</th>\n",
       "      <th>predicted</th>\n",
       "      <th>word_count</th>\n",
       "    </tr>\n",
       "  </thead>\n",
       "  <tbody>\n",
       "    <tr>\n",
       "      <th>21267</th>\n",
       "      <td>im not allowed to do anything with my baby brother hiii sooo im  years old and my parents broke up when i was a baby when i was  my dad remarried and when i was  my baby sister was born i loved her unconditionally and i was allowed to hold her and play with her whenever i wanted when ich was about  my dad and his wife divorced and since i was  my dad has a new girlfriend at the beginning she was so sweet and nice to us but after about  years she started to be mean to us but not all the time depends on her mood ig idk sometimes shes super nice but then she starts gossiping about me to my sister or she just says some mean things to us like one time i dyed my hair and she told me how ugly it was  in february  they told me and my sister that theyre having a baby boy and i was so happy because i always wished for a baby brother we always had to get covid tested before we visited them and thats totally fine especially when someones pregnant at the beginning i was allowed to hold him but then his mom said that me and my sister werent allowed to touch his face and thats fine like whatever but after some time we werent allowed to touch his hands anymore which made me kinda mad cause we get covid tested every time before we see him and i wash my hands every time before i touch him now hes  months old and i barely see him anymore i visit just once a week because theyre always so busy that im only allowed to come almost every friday but when im there my dads girlfriend always takes my brother with her into another room when im there for  hours i only see him like  hour then she sometimes lets him play on his play mat and my sister and i always go sit with him and play with him a couple of weeks ago she came back in the room saw us sitting with him and let out a big sigh today i visited again and when my grandma gave my brother to me he was so happy and started laughing so much but then his mom came and immediately wanted me to give him to her she always does that when i hold him i didnt even held him for a minute he always adores me so much and its so cute his other grandma talked about how much he adores me every time he sees me and her daughtermy brothers mom didnt seem too happy about that then her my grandma and her mom sat in the kitchen my grandma was holding my brother i started to play with him a little bit and he started to giggle loudly then my grandma asked me if i wanted to hold him and his mom just quietly said to her no please dont i was so sad that i really had to hold my tears back shes always so mean to me for what i dont understand why shes so nice one day and then just so extremely mean the other day and it makes me so sad that im not allowed to do anything with my brother because of her im always scared to play with him or sit with him when shes around because she always takes him away from me did anyone here go through the same because idk what to do anymore and im just so hurt</td>\n",
       "      <td>1</td>\n",
       "      <td>0</td>\n",
       "      <td>618</td>\n",
       "    </tr>\n",
       "    <tr>\n",
       "      <th>12842</th>\n",
       "      <td>is this bounds to press charges for harassment i dont really know because i like this girl let me know dont really know what sub to post this in ive put it in others and no one responds with the advice im looking for if this is the wrong place feel free to remove i m work at a supermarket with this women f who i find very pretty i havent gotten the courage to talk to her myself because im very quiet and shy and shes super outgoing and charismatic the entire staff loves her i find it very intimidating to be honest anyway she always acts in ways towards me that i dont understand when im having conversations with people and shes not involved with it shell mimic my voice in a high pitched voice while walking by she also taps me on the shoulder and head when im not looking and acts like she didnt i randomly will catch her staring at me and when i look over shell just smile at me and look away the other day there was a staff meeting and on the way out of the room some guy was talking about ropes in reference to some sort of project hes working on and she whispered to me you have no idea how bad i want to use those on you in a super serious voice now whenever she walks by me she just smiles at me it kind of feels like its in a way where she thinks she has an upper hand on me she said to me the other day when she walked by i know youre thinking about what i said and i love doing this to you seeing you uncomfortable is so cute then she tapped my nose and walked away to be honest it kind of freaks me out to be honest though i think shes super hot and i would be interested in a relationship with her but i dont know if shes into me or if shes just trying to fuck with my head she doesnt act like this with anyone else and i havent told any of the other staff because shes adored by everyone and i dont want to sound weird or like an idiot cuz everyone already kind of thinks of me as that shy awkward dude anyway what do you guys think of this at first i thought it was just friendly flirting but ive put this in other subs and many people have told me this is harassment and i need to do something about it</td>\n",
       "      <td>1</td>\n",
       "      <td>0</td>\n",
       "      <td>437</td>\n",
       "    </tr>\n",
       "    <tr>\n",
       "      <th>16551</th>\n",
       "      <td>was this a sexual assault va just for context before this i had never had sex with a woman before i had three sexual encounters before this all with men one of which was not completely consensual but i didnt say anything about it even before that i had been sexually abusedassaulted by multiple individuals throughout my life one such assault left a deep scar on my genital area that i dont like for people to see for this reason i dont like it when people try to take my clothes off and i dont like it when people try to touch my genitalia   i met this woman on an app and we agreed to meet at her place i went there and we got right into it  we started kissing and i pinned her to the bed by her arms i asked how she was feeling and she said good so i continued kissing her i asked if shed rather be on top and she said yes so i let her get on top of me and she tried to take my pants off i pushed her hand away but she kept trying so i got back on top of her and she said she didnt like all the struggling so i got off of her and got next to her i started fingering her and asked if she wanted me to continue she said yes after that we cuddled and talked for a bit   she texted me today and told me that she had a good time last night but she was scared at first when i was using so much force because she could tell right away that i was stronger and she didnt really know what to do i apologized for scaring her telling her i didnt realize it was to the point that she didnt feel comfortable i asked if she was okay with everything else that happened and she said yes she said she wanted to see me again but we probably should establish better boundaries   i dont really know how to feel about this i feel like if she was scared of me then the encounter wasnt completely consensual and i really wasnt trying to be scary</td>\n",
       "      <td>1</td>\n",
       "      <td>0</td>\n",
       "      <td>381</td>\n",
       "    </tr>\n",
       "    <tr>\n",
       "      <th>22302</th>\n",
       "      <td>adopted a kitten from a shelter his sibling was sick but at the time he wasnt not even a month later both me and my daughter have ringworm no biggie i guess but i have a serious case of cellulitis on my face that has made it swell bleed painful and drain were both on antibiotics my face is really really tore up tho and other parts of my body like my legs and back and did i mention my face  started antibiotics for the cellulitis but i also have ringworm more on different areas of my body    i dont wanna ruin your night showing the cellulitis on my face but its painful and ugly   anyway looking back on the adoption papers i see this    he was provided a free first appointment which ended up costing me  and he will need to be seen more   ive had him for less than a month and have spent  on him alone plus my own medical expenses   i was going to reach out to the shelter in the morning but i dont really know what would happen or if i have a leg to stand on   he was taking medicine at the shelter and in the same room with his sibling who clearly was still sick   were still waiting on vet tests to come back but were almost positive he has atleast ringworm  its just insane that i adopted a kitten and its sent  people in my home to the dr in less then a month and i have to keep him quarantined in my living space with small children while i recover from a bacterial skin infection and ringworm   while also forking over vet money im just kinda of lost right now</td>\n",
       "      <td>1</td>\n",
       "      <td>0</td>\n",
       "      <td>313</td>\n",
       "    </tr>\n",
       "    <tr>\n",
       "      <th>18580</th>\n",
       "      <td>my apartment might have gotten broken into idk if this is the right sub or not or the right flair me and my roommate rent half a duplex really cheap from this guy whos best friends with my granddad a couple days ago he left to go up north and visit with my uncle and his kids so weve been the only ones in the house for a few days last night i woke up in the middle of the night with the worst headache ive ever had i felt so nauseous i could barely pull myself out of bed the smoke detector was going off which i thought was strange i noticed that my nose was bleeding bad and i started coughing really bad too i also noticed the door to my bedroom was wide open which was not how i left it the night before when i left my room still coughing and bleeding out my nose my roommate was outside his room also with a bloody nose and coughing as well  we were coughing for a good half hour coughing up phlegm and sometimes blood after we felt fine we realized how weird it was that we both had these weird symptoms at the same time in the middle of the night while the smoke detector went off we at first thought it was a carbon monoxide leak but we didnt smell anything my roommate said his door was open when he woke up too we also noticed one of the windows in the living room was wide open it seemed like someone broke into our house and bedrooms but nothing was stolen we dont know if we should call the police or not and we dont know what the hell actually happened</td>\n",
       "      <td>1</td>\n",
       "      <td>0</td>\n",
       "      <td>297</td>\n",
       "    </tr>\n",
       "  </tbody>\n",
       "</table>\n",
       "</div>"
      ],
      "text/plain": [
       "                                                                                                                                                                                                                                                                                                                                                                                                                                                                                                                                                                                                                                                                                                                                                                                                                                                                                                                                                                                                                                                                                                                                                                                                                                                                                                                                                                                                                                                                                                                                                                                                                                                                                                                                                                                                                                                                                                                                                                                                                                                                                                                                                                                                                                                                                                                                                                                                                                                                                                                                                                                                                                                                                                                                                                                                                                                                                                                                                                                                                                                        combi_text  \\\n",
       "21267  im not allowed to do anything with my baby brother hiii sooo im  years old and my parents broke up when i was a baby when i was  my dad remarried and when i was  my baby sister was born i loved her unconditionally and i was allowed to hold her and play with her whenever i wanted when ich was about  my dad and his wife divorced and since i was  my dad has a new girlfriend at the beginning she was so sweet and nice to us but after about  years she started to be mean to us but not all the time depends on her mood ig idk sometimes shes super nice but then she starts gossiping about me to my sister or she just says some mean things to us like one time i dyed my hair and she told me how ugly it was  in february  they told me and my sister that theyre having a baby boy and i was so happy because i always wished for a baby brother we always had to get covid tested before we visited them and thats totally fine especially when someones pregnant at the beginning i was allowed to hold him but then his mom said that me and my sister werent allowed to touch his face and thats fine like whatever but after some time we werent allowed to touch his hands anymore which made me kinda mad cause we get covid tested every time before we see him and i wash my hands every time before i touch him now hes  months old and i barely see him anymore i visit just once a week because theyre always so busy that im only allowed to come almost every friday but when im there my dads girlfriend always takes my brother with her into another room when im there for  hours i only see him like  hour then she sometimes lets him play on his play mat and my sister and i always go sit with him and play with him a couple of weeks ago she came back in the room saw us sitting with him and let out a big sigh today i visited again and when my grandma gave my brother to me he was so happy and started laughing so much but then his mom came and immediately wanted me to give him to her she always does that when i hold him i didnt even held him for a minute he always adores me so much and its so cute his other grandma talked about how much he adores me every time he sees me and her daughtermy brothers mom didnt seem too happy about that then her my grandma and her mom sat in the kitchen my grandma was holding my brother i started to play with him a little bit and he started to giggle loudly then my grandma asked me if i wanted to hold him and his mom just quietly said to her no please dont i was so sad that i really had to hold my tears back shes always so mean to me for what i dont understand why shes so nice one day and then just so extremely mean the other day and it makes me so sad that im not allowed to do anything with my brother because of her im always scared to play with him or sit with him when shes around because she always takes him away from me did anyone here go through the same because idk what to do anymore and im just so hurt   \n",
       "12842                                                                                                                                                                                                                                                                                                                                                                                                                                                                                                                                                                                                                                                                                                                                                                                                                                                  is this bounds to press charges for harassment i dont really know because i like this girl let me know dont really know what sub to post this in ive put it in others and no one responds with the advice im looking for if this is the wrong place feel free to remove i m work at a supermarket with this women f who i find very pretty i havent gotten the courage to talk to her myself because im very quiet and shy and shes super outgoing and charismatic the entire staff loves her i find it very intimidating to be honest anyway she always acts in ways towards me that i dont understand when im having conversations with people and shes not involved with it shell mimic my voice in a high pitched voice while walking by she also taps me on the shoulder and head when im not looking and acts like she didnt i randomly will catch her staring at me and when i look over shell just smile at me and look away the other day there was a staff meeting and on the way out of the room some guy was talking about ropes in reference to some sort of project hes working on and she whispered to me you have no idea how bad i want to use those on you in a super serious voice now whenever she walks by me she just smiles at me it kind of feels like its in a way where she thinks she has an upper hand on me she said to me the other day when she walked by i know youre thinking about what i said and i love doing this to you seeing you uncomfortable is so cute then she tapped my nose and walked away to be honest it kind of freaks me out to be honest though i think shes super hot and i would be interested in a relationship with her but i dont know if shes into me or if shes just trying to fuck with my head she doesnt act like this with anyone else and i havent told any of the other staff because shes adored by everyone and i dont want to sound weird or like an idiot cuz everyone already kind of thinks of me as that shy awkward dude anyway what do you guys think of this at first i thought it was just friendly flirting but ive put this in other subs and many people have told me this is harassment and i need to do something about it   \n",
       "16551                                                                                                                                                                                                                                                                                                                                                                                                                                                                                                                                                                                                                                                                                                                                                                                                                                                                                                                                                                                                                                                                                                                                                             was this a sexual assault va just for context before this i had never had sex with a woman before i had three sexual encounters before this all with men one of which was not completely consensual but i didnt say anything about it even before that i had been sexually abusedassaulted by multiple individuals throughout my life one such assault left a deep scar on my genital area that i dont like for people to see for this reason i dont like it when people try to take my clothes off and i dont like it when people try to touch my genitalia   i met this woman on an app and we agreed to meet at her place i went there and we got right into it  we started kissing and i pinned her to the bed by her arms i asked how she was feeling and she said good so i continued kissing her i asked if shed rather be on top and she said yes so i let her get on top of me and she tried to take my pants off i pushed her hand away but she kept trying so i got back on top of her and she said she didnt like all the struggling so i got off of her and got next to her i started fingering her and asked if she wanted me to continue she said yes after that we cuddled and talked for a bit   she texted me today and told me that she had a good time last night but she was scared at first when i was using so much force because she could tell right away that i was stronger and she didnt really know what to do i apologized for scaring her telling her i didnt realize it was to the point that she didnt feel comfortable i asked if she was okay with everything else that happened and she said yes she said she wanted to see me again but we probably should establish better boundaries   i dont really know how to feel about this i feel like if she was scared of me then the encounter wasnt completely consensual and i really wasnt trying to be scary   \n",
       "22302                                                                                                                                                                                                                                                                                                                                                                                                                                                                                                                                                                                                                                                                                                                                                                                                                                                                                                                                                                                                                                                                                                                                                                                                                                                                                                                                                                                                                                                                                                                            adopted a kitten from a shelter his sibling was sick but at the time he wasnt not even a month later both me and my daughter have ringworm no biggie i guess but i have a serious case of cellulitis on my face that has made it swell bleed painful and drain were both on antibiotics my face is really really tore up tho and other parts of my body like my legs and back and did i mention my face  started antibiotics for the cellulitis but i also have ringworm more on different areas of my body    i dont wanna ruin your night showing the cellulitis on my face but its painful and ugly   anyway looking back on the adoption papers i see this    he was provided a free first appointment which ended up costing me  and he will need to be seen more   ive had him for less than a month and have spent  on him alone plus my own medical expenses   i was going to reach out to the shelter in the morning but i dont really know what would happen or if i have a leg to stand on   he was taking medicine at the shelter and in the same room with his sibling who clearly was still sick   were still waiting on vet tests to come back but were almost positive he has atleast ringworm  its just insane that i adopted a kitten and its sent  people in my home to the dr in less then a month and i have to keep him quarantined in my living space with small children while i recover from a bacterial skin infection and ringworm   while also forking over vet money im just kinda of lost right now   \n",
       "18580                                                                                                                                                                                                                                                                                                                                                                                                                                                                                                                                                                                                                                                                                                                                                                                                                                                                                                                                                                                                                                                                                                                                                                                                                                                                                                                                                                                                                                                                                                                                  my apartment might have gotten broken into idk if this is the right sub or not or the right flair me and my roommate rent half a duplex really cheap from this guy whos best friends with my granddad a couple days ago he left to go up north and visit with my uncle and his kids so weve been the only ones in the house for a few days last night i woke up in the middle of the night with the worst headache ive ever had i felt so nauseous i could barely pull myself out of bed the smoke detector was going off which i thought was strange i noticed that my nose was bleeding bad and i started coughing really bad too i also noticed the door to my bedroom was wide open which was not how i left it the night before when i left my room still coughing and bleeding out my nose my roommate was outside his room also with a bloody nose and coughing as well  we were coughing for a good half hour coughing up phlegm and sometimes blood after we felt fine we realized how weird it was that we both had these weird symptoms at the same time in the middle of the night while the smoke detector went off we at first thought it was a carbon monoxide leak but we didnt smell anything my roommate said his door was open when he woke up too we also noticed one of the windows in the living room was wide open it seemed like someone broke into our house and bedrooms but nothing was stolen we dont know if we should call the police or not and we dont know what the hell actually happened   \n",
       "\n",
       "       actual  predicted  word_count  \n",
       "21267       1          0         618  \n",
       "12842       1          0         437  \n",
       "16551       1          0         381  \n",
       "22302       1          0         313  \n",
       "18580       1          0         297  "
      ]
     },
     "execution_count": 88,
     "metadata": {},
     "output_type": "execute_result"
    }
   ],
   "source": [
    "false_negatives_df.sort_values(by=['word_count'],ascending=False).head()"
   ]
  },
  {
   "cell_type": "markdown",
   "id": "fe809dbd",
   "metadata": {},
   "source": [
    "#### Insight on false negative long postings\n",
    "Relationship and sexual related queries are hard for the model to correctly classify (ie. 12842 and 16551). This is likely due to people talking about sex and relationship related topic in great detail on `r/NoStupidQuestions`, making it hard for the model to pick up nuanced differences.\n",
    "\n",
    "Some questions do not look like legal queries even though it was posted on `r/legaladvice`. (ie. 21267 and 22302) \n",
    "\n",
    "For general query requiring a yes or no answer, my model seems to do badly for those (ie. 18580) looks like general query and ask for help to see if should they call the police or not."
   ]
  },
  {
   "cell_type": "code",
   "execution_count": 89,
   "id": "61f9277e",
   "metadata": {},
   "outputs": [],
   "source": [
    "false_positives_df = classify_wrong[(classify_wrong['actual']==0) & (classify_wrong['predicted']==1)]"
   ]
  },
  {
   "cell_type": "code",
   "execution_count": 90,
   "id": "2b9af8f8",
   "metadata": {
    "scrolled": false
   },
   "outputs": [
    {
     "data": {
      "text/html": [
       "<div>\n",
       "<style scoped>\n",
       "    .dataframe tbody tr th:only-of-type {\n",
       "        vertical-align: middle;\n",
       "    }\n",
       "\n",
       "    .dataframe tbody tr th {\n",
       "        vertical-align: top;\n",
       "    }\n",
       "\n",
       "    .dataframe thead th {\n",
       "        text-align: right;\n",
       "    }\n",
       "</style>\n",
       "<table border=\"1\" class=\"dataframe\">\n",
       "  <thead>\n",
       "    <tr style=\"text-align: right;\">\n",
       "      <th></th>\n",
       "      <th>combi_text</th>\n",
       "      <th>actual</th>\n",
       "      <th>predicted</th>\n",
       "      <th>word_count</th>\n",
       "    </tr>\n",
       "  </thead>\n",
       "  <tbody>\n",
       "    <tr>\n",
       "      <th>8633</th>\n",
       "      <td>how do i make it up to my girlfriend so basically i messed up with my girlfriend weve been dating for over two years but i went behind her back and did things that i regret deeply i went behind her back and watched porn which i promised not to do and i sexualized other girls i lied to her for almost all of the relationship i recently came clean and told her everything she considers the things ive done as cheating i hurt her so much but she decided to give me another chance i love her so much and am so grateful that shes giving me another chance i really want to make things up with her i am looking for any suggestions to try to help thank you</td>\n",
       "      <td>0</td>\n",
       "      <td>1</td>\n",
       "      <td>131</td>\n",
       "    </tr>\n",
       "    <tr>\n",
       "      <th>1925</th>\n",
       "      <td>tax and w form drama so i worked at this small town beauty salon during the summer my friend helped me get the job the whole salon was a mess and people were slowly leaving when i got hired didnt know any of the drama was happening when i got hired or i wouldve applied everywhere else before working there well anyways i did and i had an opportunity i told them i was taking and they said ok no one seemed mad well my friend then while i was away tried to scam me and did some other not friendly things and i was a bit of a bitch back but not a bitch for no reason it was just added up angst and she wanted to be mad about something but was really only mad i was calling her out and im not stupid i know how rent on an apartment works anyways so much drama and here i am months later i never received my w so i messaged the owner she asked for my email and said she would and she still hasnt ive messaged her already again since she asked for email and she opened it but still no email i dont want to be annoying i know she sold the company to her friend but that doesnt mean shes done with all the backed up paper work she neglected to ever come to work to do so i also dont care if im annoying deep down my anxiety is like she turned everyone against you and now everyone hates you which honestly i dont care if a  year old and  forty year old coke heads hate me they all kinda suck i just wanna do my taxes im not trying to let my anxiety make up a story so im asking if anyone knows what i can do past that i dont have any of my pay stubs either because all of my stuff is in another country from where i am right now thats why i needed her to email me she also said it was sent in the mail and i checked in the last  addresses it couldve been sent to and nothing is there anything i can do thank you</td>\n",
       "      <td>0</td>\n",
       "      <td>1</td>\n",
       "      <td>382</td>\n",
       "    </tr>\n",
       "    <tr>\n",
       "      <th>9013</th>\n",
       "      <td>when do i start to panic that i didnt actually get an apartment i put a deposit down for i have to move really suddenly due to a pretty not great thing and im moving over an hour away last wednesday i got a call saying an apartment i applied for is mine if i pay the deposit so i paid it when i got off of work that night i had  hours ive triple checked it came out of my bank account but i havent been contacted since i left them a voicemail but its a huge management company and i dont have the extension for my complex yet im just pretty overwhelmed and i really need this to work out lol were already kinda packing and i need to move by the end of the month because i dont want to sleep on my parents couch past that lol im just not really sure what to do at this point haha</td>\n",
       "      <td>0</td>\n",
       "      <td>1</td>\n",
       "      <td>164</td>\n",
       "    </tr>\n",
       "    <tr>\n",
       "      <th>514</th>\n",
       "      <td>how does a wiz quiz work for employment if you are on prescription narcotics i was wondering this since im currently on oxy for chronic pain  if i was to need to take a drug test for employment they are going to find opioids in my system  obviously that is going to raise a problem because well opioids are illegal normally and an employer is going to not hire me with them  however i have a legit prescription from a doctor to take them  so how do you not fail your drug test because of the legally prescribed opioids</td>\n",
       "      <td>0</td>\n",
       "      <td>1</td>\n",
       "      <td>103</td>\n",
       "    </tr>\n",
       "    <tr>\n",
       "      <th>8041</th>\n",
       "      <td>how do you find a recruiter hi i tried to search before asking and didnt see anything quite exact   i am unhappy with where i am working shocking i want to use a recruiter but have never used one before the first recruiter i talked to i found out is used by my current employer so they cannot help me find a new job another recruiter isnt accepting new people   i am also unaware of how many recruiting companies my employer uses i do know its at least    i am nervous to call a recruiter give them my info and then it be leaked back to my current employer    can anyone provide me tips on how to move forward with this process i havent had to job hunt in awhile and have been working in a newish field i dont want to waste anyones time by being the wrong fit if i applied on my own thanks</td>\n",
       "      <td>0</td>\n",
       "      <td>1</td>\n",
       "      <td>167</td>\n",
       "    </tr>\n",
       "    <tr>\n",
       "      <th>...</th>\n",
       "      <td>...</td>\n",
       "      <td>...</td>\n",
       "      <td>...</td>\n",
       "      <td>...</td>\n",
       "    </tr>\n",
       "    <tr>\n",
       "      <th>768</th>\n",
       "      <td>is this a possible solution to increasing minimum wage sorry if this is a stupid idea lol  what i mean is most people seem to agree that increasing minimum wage will lead to an increase in the cost of everything else so there wouldnt really be much point  what if there was a law to cap how much money each position in a company can make and that all additional income must be spread amongst everyone in that company  for example imagine theres a law that states that nobody in a company can make more than year not the ceos the board members nobody this company is doing really well and raking in millions each month the ceo and board members could easily increase their wages to year if they wanted to but they cant   what if all that money was forced to be shared amongst all the workers at the company everyone from the cleaners and janitorial services to the security guards etc  would this be a solution to raising minimum wage</td>\n",
       "      <td>0</td>\n",
       "      <td>1</td>\n",
       "      <td>179</td>\n",
       "    </tr>\n",
       "    <tr>\n",
       "      <th>9823</th>\n",
       "      <td>if somebody was being filmed for a showmovie like a documentary and stole a car and the cameraman got in the car with them and they got pulled over by police and charged for stealing the car would the cameraman also get charged i been think about it</td>\n",
       "      <td>0</td>\n",
       "      <td>1</td>\n",
       "      <td>48</td>\n",
       "    </tr>\n",
       "    <tr>\n",
       "      <th>10980</th>\n",
       "      <td>if i kick a moving car side on a zebra crossway which doesnt let me cross can car owner call me to court sorry english not first langauge</td>\n",
       "      <td>0</td>\n",
       "      <td>1</td>\n",
       "      <td>28</td>\n",
       "    </tr>\n",
       "    <tr>\n",
       "      <th>11245</th>\n",
       "      <td>i want to print an unreleased track from an artist onto a personal vinyl not to sell is this somewhat illegal in particular i want to print this track   on vinyl just for myself</td>\n",
       "      <td>0</td>\n",
       "      <td>1</td>\n",
       "      <td>36</td>\n",
       "    </tr>\n",
       "    <tr>\n",
       "      <th>3726</th>\n",
       "      <td>should i report my old place of work for improper cleaning techniques i worked in the school cafeteria in  after the students were done i was instructed to put a cap of bleach in a bucket then fill it with water then go whipe down the tables i just did some research and it turns out bleach needs a  minute contact time to disinfect  and i highly doubt it was nearly that much time should i report the school for improper cleaning techniques</td>\n",
       "      <td>0</td>\n",
       "      <td>1</td>\n",
       "      <td>86</td>\n",
       "    </tr>\n",
       "  </tbody>\n",
       "</table>\n",
       "<p>184 rows × 4 columns</p>\n",
       "</div>"
      ],
      "text/plain": [
       "                                                                                                                                                                                                                                                                                                                                                                                                                                                                                                                                                                                                                                                                                                                                                                                                                                                                                                                                                                                                                                                                                                                                                                                                                                                                                                                                                                                                                                                                                                                                                                                                                                                                                                                                                                                                                                                                          combi_text  \\\n",
       "8633                                                                                                                                                                                                                                                                                                                                                                                                                                                                                                                                                                                                                                                                                                                                                                                                                                                                                                                                                                                                                                                                                                                                                                                                       how do i make it up to my girlfriend so basically i messed up with my girlfriend weve been dating for over two years but i went behind her back and did things that i regret deeply i went behind her back and watched porn which i promised not to do and i sexualized other girls i lied to her for almost all of the relationship i recently came clean and told her everything she considers the things ive done as cheating i hurt her so much but she decided to give me another chance i love her so much and am so grateful that shes giving me another chance i really want to make things up with her i am looking for any suggestions to try to help thank you   \n",
       "1925   tax and w form drama so i worked at this small town beauty salon during the summer my friend helped me get the job the whole salon was a mess and people were slowly leaving when i got hired didnt know any of the drama was happening when i got hired or i wouldve applied everywhere else before working there well anyways i did and i had an opportunity i told them i was taking and they said ok no one seemed mad well my friend then while i was away tried to scam me and did some other not friendly things and i was a bit of a bitch back but not a bitch for no reason it was just added up angst and she wanted to be mad about something but was really only mad i was calling her out and im not stupid i know how rent on an apartment works anyways so much drama and here i am months later i never received my w so i messaged the owner she asked for my email and said she would and she still hasnt ive messaged her already again since she asked for email and she opened it but still no email i dont want to be annoying i know she sold the company to her friend but that doesnt mean shes done with all the backed up paper work she neglected to ever come to work to do so i also dont care if im annoying deep down my anxiety is like she turned everyone against you and now everyone hates you which honestly i dont care if a  year old and  forty year old coke heads hate me they all kinda suck i just wanna do my taxes im not trying to let my anxiety make up a story so im asking if anyone knows what i can do past that i dont have any of my pay stubs either because all of my stuff is in another country from where i am right now thats why i needed her to email me she also said it was sent in the mail and i checked in the last  addresses it couldve been sent to and nothing is there anything i can do thank you   \n",
       "9013                                                                                                                                                                                                                                                                                                                                                                                                                                                                                                                                                                                                                                                                                                                                                                                                                                                                                                                                                                                                                                                                      when do i start to panic that i didnt actually get an apartment i put a deposit down for i have to move really suddenly due to a pretty not great thing and im moving over an hour away last wednesday i got a call saying an apartment i applied for is mine if i pay the deposit so i paid it when i got off of work that night i had  hours ive triple checked it came out of my bank account but i havent been contacted since i left them a voicemail but its a huge management company and i dont have the extension for my complex yet im just pretty overwhelmed and i really need this to work out lol were already kinda packing and i need to move by the end of the month because i dont want to sleep on my parents couch past that lol im just not really sure what to do at this point haha   \n",
       "514                                                                                                                                                                                                                                                                                                                                                                                                                                                                                                                                                                                                                                                                                                                                                                                                                                                                                                                                                                                                                                                                                                                                                                                                                                                                                                                                           how does a wiz quiz work for employment if you are on prescription narcotics i was wondering this since im currently on oxy for chronic pain  if i was to need to take a drug test for employment they are going to find opioids in my system  obviously that is going to raise a problem because well opioids are illegal normally and an employer is going to not hire me with them  however i have a legit prescription from a doctor to take them  so how do you not fail your drug test because of the legally prescribed opioids   \n",
       "8041                                                                                                                                                                                                                                                                                                                                                                                                                                                                                                                                                                                                                                                                                                                                                                                                                                                                                                                                                                                                                                                           how do you find a recruiter hi i tried to search before asking and didnt see anything quite exact   i am unhappy with where i am working shocking i want to use a recruiter but have never used one before the first recruiter i talked to i found out is used by my current employer so they cannot help me find a new job another recruiter isnt accepting new people   i am also unaware of how many recruiting companies my employer uses i do know its at least    i am nervous to call a recruiter give them my info and then it be leaked back to my current employer    can anyone provide me tips on how to move forward with this process i havent had to job hunt in awhile and have been working in a newish field i dont want to waste anyones time by being the wrong fit if i applied on my own thanks   \n",
       "...                                                                                                                                                                                                                                                                                                                                                                                                                                                                                                                                                                                                                                                                                                                                                                                                                                                                                                                                                                                                                                                                                                                                                                                                                                                                                                                                                                                                                                                                                                                                                                                                                                                                                                                                                                                                                                                                              ...   \n",
       "768                                                                                                                                                                                                                                                                                                                                                                                                                                                                                                                                                                                                                                                                                                                                                                                                                                                                                                            is this a possible solution to increasing minimum wage sorry if this is a stupid idea lol  what i mean is most people seem to agree that increasing minimum wage will lead to an increase in the cost of everything else so there wouldnt really be much point  what if there was a law to cap how much money each position in a company can make and that all additional income must be spread amongst everyone in that company  for example imagine theres a law that states that nobody in a company can make more than year not the ceos the board members nobody this company is doing really well and raking in millions each month the ceo and board members could easily increase their wages to year if they wanted to but they cant   what if all that money was forced to be shared amongst all the workers at the company everyone from the cleaners and janitorial services to the security guards etc  would this be a solution to raising minimum wage   \n",
       "9823                                                                                                                                                                                                                                                                                                                                                                                                                                                                                                                                                                                                                                                                                                                                                                                                                                                                                                                                                                                                                                                                                                                                                                                                                                                                                                                                                                                                                                                                                                                                                                                                                       if somebody was being filmed for a showmovie like a documentary and stole a car and the cameraman got in the car with them and they got pulled over by police and charged for stealing the car would the cameraman also get charged i been think about it   \n",
       "10980                                                                                                                                                                                                                                                                                                                                                                                                                                                                                                                                                                                                                                                                                                                                                                                                                                                                                                                                                                                                                                                                                                                                                                                                                                                                                                                                                                                                                                                                                                                                                                                                                                                                                                                                      if i kick a moving car side on a zebra crossway which doesnt let me cross can car owner call me to court sorry english not first langauge   \n",
       "11245                                                                                                                                                                                                                                                                                                                                                                                                                                                                                                                                                                                                                                                                                                                                                                                                                                                                                                                                                                                                                                                                                                                                                                                                                                                                                                                                                                                                                                                                                                                                                                                                                                                                                              i want to print an unreleased track from an artist onto a personal vinyl not to sell is this somewhat illegal in particular i want to print this track   on vinyl just for myself   \n",
       "3726                                                                                                                                                                                                                                                                                                                                                                                                                                                                                                                                                                                                                                                                                                                                                                                                                                                                                                                                                                                                                                                                                                                                                                                                                                                                                                                                                                                                                       should i report my old place of work for improper cleaning techniques i worked in the school cafeteria in  after the students were done i was instructed to put a cap of bleach in a bucket then fill it with water then go whipe down the tables i just did some research and it turns out bleach needs a  minute contact time to disinfect  and i highly doubt it was nearly that much time should i report the school for improper cleaning techniques   \n",
       "\n",
       "       actual  predicted  word_count  \n",
       "8633        0          1         131  \n",
       "1925        0          1         382  \n",
       "9013        0          1         164  \n",
       "514         0          1         103  \n",
       "8041        0          1         167  \n",
       "...       ...        ...         ...  \n",
       "768         0          1         179  \n",
       "9823        0          1          48  \n",
       "10980       0          1          28  \n",
       "11245       0          1          36  \n",
       "3726        0          1          86  \n",
       "\n",
       "[184 rows x 4 columns]"
      ]
     },
     "execution_count": 90,
     "metadata": {},
     "output_type": "execute_result"
    }
   ],
   "source": [
    "false_positives_df "
   ]
  },
  {
   "cell_type": "markdown",
   "id": "78e47691",
   "metadata": {},
   "source": [
    "From looking at the common topics, sex, relationship, tax, property, employment related advices are hard to be accurately classify, as there can be legal implications to them, even though the author posted them on a non legal related subreddit."
   ]
  },
  {
   "cell_type": "code",
   "execution_count": 91,
   "id": "f1f63aa4",
   "metadata": {},
   "outputs": [
    {
     "data": {
      "text/plain": [
       "118.01086956521739"
      ]
     },
     "execution_count": 91,
     "metadata": {},
     "output_type": "execute_result"
    }
   ],
   "source": [
    "false_positives_df['word_count'].mean()"
   ]
  },
  {
   "cell_type": "code",
   "execution_count": 92,
   "id": "46e4e087",
   "metadata": {},
   "outputs": [
    {
     "data": {
      "text/html": [
       "<div>\n",
       "<style scoped>\n",
       "    .dataframe tbody tr th:only-of-type {\n",
       "        vertical-align: middle;\n",
       "    }\n",
       "\n",
       "    .dataframe tbody tr th {\n",
       "        vertical-align: top;\n",
       "    }\n",
       "\n",
       "    .dataframe thead th {\n",
       "        text-align: right;\n",
       "    }\n",
       "</style>\n",
       "<table border=\"1\" class=\"dataframe\">\n",
       "  <thead>\n",
       "    <tr style=\"text-align: right;\">\n",
       "      <th></th>\n",
       "      <th>actual</th>\n",
       "      <th>predicted</th>\n",
       "      <th>word_count</th>\n",
       "    </tr>\n",
       "  </thead>\n",
       "  <tbody>\n",
       "    <tr>\n",
       "      <th>count</th>\n",
       "      <td>184.0</td>\n",
       "      <td>184.0</td>\n",
       "      <td>184.000000</td>\n",
       "    </tr>\n",
       "    <tr>\n",
       "      <th>mean</th>\n",
       "      <td>0.0</td>\n",
       "      <td>1.0</td>\n",
       "      <td>118.010870</td>\n",
       "    </tr>\n",
       "    <tr>\n",
       "      <th>std</th>\n",
       "      <td>0.0</td>\n",
       "      <td>0.0</td>\n",
       "      <td>88.350024</td>\n",
       "    </tr>\n",
       "    <tr>\n",
       "      <th>min</th>\n",
       "      <td>0.0</td>\n",
       "      <td>1.0</td>\n",
       "      <td>16.000000</td>\n",
       "    </tr>\n",
       "    <tr>\n",
       "      <th>25%</th>\n",
       "      <td>0.0</td>\n",
       "      <td>1.0</td>\n",
       "      <td>59.500000</td>\n",
       "    </tr>\n",
       "    <tr>\n",
       "      <th>50%</th>\n",
       "      <td>0.0</td>\n",
       "      <td>1.0</td>\n",
       "      <td>92.500000</td>\n",
       "    </tr>\n",
       "    <tr>\n",
       "      <th>75%</th>\n",
       "      <td>0.0</td>\n",
       "      <td>1.0</td>\n",
       "      <td>150.250000</td>\n",
       "    </tr>\n",
       "    <tr>\n",
       "      <th>max</th>\n",
       "      <td>0.0</td>\n",
       "      <td>1.0</td>\n",
       "      <td>485.000000</td>\n",
       "    </tr>\n",
       "  </tbody>\n",
       "</table>\n",
       "</div>"
      ],
      "text/plain": [
       "       actual  predicted  word_count\n",
       "count   184.0      184.0  184.000000\n",
       "mean      0.0        1.0  118.010870\n",
       "std       0.0        0.0   88.350024\n",
       "min       0.0        1.0   16.000000\n",
       "25%       0.0        1.0   59.500000\n",
       "50%       0.0        1.0   92.500000\n",
       "75%       0.0        1.0  150.250000\n",
       "max       0.0        1.0  485.000000"
      ]
     },
     "execution_count": 92,
     "metadata": {},
     "output_type": "execute_result"
    }
   ],
   "source": [
    "false_positives_df.describe()"
   ]
  },
  {
   "cell_type": "markdown",
   "id": "a06bd9ac",
   "metadata": {},
   "source": [
    "False positives tend to be longer word count posts which are written and articulated well, but have heavier topics, and written in a refined and non vulgar way."
   ]
  },
  {
   "cell_type": "code",
   "execution_count": 93,
   "id": "485da334",
   "metadata": {
    "scrolled": true
   },
   "outputs": [
    {
     "data": {
      "text/html": [
       "<div>\n",
       "<style scoped>\n",
       "    .dataframe tbody tr th:only-of-type {\n",
       "        vertical-align: middle;\n",
       "    }\n",
       "\n",
       "    .dataframe tbody tr th {\n",
       "        vertical-align: top;\n",
       "    }\n",
       "\n",
       "    .dataframe thead th {\n",
       "        text-align: right;\n",
       "    }\n",
       "</style>\n",
       "<table border=\"1\" class=\"dataframe\">\n",
       "  <thead>\n",
       "    <tr style=\"text-align: right;\">\n",
       "      <th></th>\n",
       "      <th>combi_text</th>\n",
       "      <th>actual</th>\n",
       "      <th>predicted</th>\n",
       "      <th>word_count</th>\n",
       "    </tr>\n",
       "  </thead>\n",
       "  <tbody>\n",
       "    <tr>\n",
       "      <th>10949</th>\n",
       "      <td>why is it illegal to drive offroad in iceland are they afraid youll hit a sheep</td>\n",
       "      <td>0</td>\n",
       "      <td>1</td>\n",
       "      <td>16</td>\n",
       "    </tr>\n",
       "    <tr>\n",
       "      <th>8555</th>\n",
       "      <td>is it illegal to break a car window to take something back that was stolen from me hypothetically</td>\n",
       "      <td>0</td>\n",
       "      <td>1</td>\n",
       "      <td>18</td>\n",
       "    </tr>\n",
       "    <tr>\n",
       "      <th>632</th>\n",
       "      <td>hi everyone im looking detailed k walkthrough the game someday youll return is there on youtube thanks in advance</td>\n",
       "      <td>0</td>\n",
       "      <td>1</td>\n",
       "      <td>19</td>\n",
       "    </tr>\n",
       "    <tr>\n",
       "      <th>365</th>\n",
       "      <td>can you get signed to a record label from a different state or country and how does that work</td>\n",
       "      <td>0</td>\n",
       "      <td>1</td>\n",
       "      <td>19</td>\n",
       "    </tr>\n",
       "    <tr>\n",
       "      <th>6737</th>\n",
       "      <td>why are same sex couples allowed children a child needs a mother and a father not two moms or two dads</td>\n",
       "      <td>0</td>\n",
       "      <td>1</td>\n",
       "      <td>21</td>\n",
       "    </tr>\n",
       "  </tbody>\n",
       "</table>\n",
       "</div>"
      ],
      "text/plain": [
       "                                                                                                              combi_text  \\\n",
       "10949                                    why is it illegal to drive offroad in iceland are they afraid youll hit a sheep   \n",
       "8555                   is it illegal to break a car window to take something back that was stolen from me hypothetically   \n",
       "632    hi everyone im looking detailed k walkthrough the game someday youll return is there on youtube thanks in advance   \n",
       "365                        can you get signed to a record label from a different state or country and how does that work   \n",
       "6737              why are same sex couples allowed children a child needs a mother and a father not two moms or two dads   \n",
       "\n",
       "       actual  predicted  word_count  \n",
       "10949       0          1          16  \n",
       "8555        0          1          18  \n",
       "632         0          1          19  \n",
       "365         0          1          19  \n",
       "6737        0          1          21  "
      ]
     },
     "execution_count": 93,
     "metadata": {},
     "output_type": "execute_result"
    }
   ],
   "source": [
    "false_positives_df.sort_values(by=['word_count'],ascending=True).head()"
   ]
  },
  {
   "cell_type": "markdown",
   "id": "6e0e5b4e",
   "metadata": {},
   "source": [
    "#### Insight on false positive short postings\n",
    "Some of the shortest posts in false positives (ie. 10949, 8555, and 365) look like legal questions to me, or are instituted by the law or country (ie 6737). So they may not be really false positives. Others are badly crafted grammatically where the meaning is vague (ie. 632) that can end up confusing the learning model."
   ]
  },
  {
   "cell_type": "code",
   "execution_count": 94,
   "id": "860c0559",
   "metadata": {},
   "outputs": [
    {
     "data": {
      "text/html": [
       "<div>\n",
       "<style scoped>\n",
       "    .dataframe tbody tr th:only-of-type {\n",
       "        vertical-align: middle;\n",
       "    }\n",
       "\n",
       "    .dataframe tbody tr th {\n",
       "        vertical-align: top;\n",
       "    }\n",
       "\n",
       "    .dataframe thead th {\n",
       "        text-align: right;\n",
       "    }\n",
       "</style>\n",
       "<table border=\"1\" class=\"dataframe\">\n",
       "  <thead>\n",
       "    <tr style=\"text-align: right;\">\n",
       "      <th></th>\n",
       "      <th>combi_text</th>\n",
       "      <th>actual</th>\n",
       "      <th>predicted</th>\n",
       "      <th>word_count</th>\n",
       "    </tr>\n",
       "  </thead>\n",
       "  <tbody>\n",
       "    <tr>\n",
       "      <th>5797</th>\n",
       "      <td>is it okay to tell drunk people fighting outside your place to stop and go home in a city im new to living in a city i got a good opportunity for work and here i am i live in a medium sized city on a nice street in an old victorian house converted to apartments i live on the ground floor though its relatively quiet i hear cars sirens people walking by and all types of stuff  but tonight for a half hour straight at am i heard a group of drunks fighting and screaming on the street directly in front of my door im talking several feet away one of them was a neighbor or someone staying here who was one of the reasons it was taking place in front of my door from the window i could see him running up and down our building porch which is how i know he lived here never saw him before but we just moved here a few months back and only know a couple of our neighbors they were shouting curses at eachother screaming saying to come at them and throwing food and water   i was dead asleep and this went on and on i finally walked outside and told them to get lost or id call the police one person challenged me to do it but before i could respond the neighbor went no no no guys leave already just go im sorry and they all drunkenly got in their cars and left  my bf told me in a city its not a good idea because they could be crazy and do something and instead let him deal if it gets out of hand and loud which i agreed i was so tired and exhausted that i snapped when this went on for a half hour normally when i hear people talking or laughing outside i dont care but it was ridiculous and one of the drunks was hanging in the gate right outside my door and going off i dont like calling the police for anything unless its actually serious it was an empty threat for them to go away so i could sleep is this a bad idea should i just call the police next time or ignore it</td>\n",
       "      <td>0</td>\n",
       "      <td>1</td>\n",
       "      <td>387</td>\n",
       "    </tr>\n",
       "    <tr>\n",
       "      <th>1664</th>\n",
       "      <td>how do i let someone stay with me for a bit without them contributing to rent i live in a  bedroom apartment and want to let someone stay with me for the summer without them paying rent so that they can work and accrue a good amount of savings  my lease says the premises shall be used as a private residence only no other persons shall occupy the said premises without written consent of the lessor  my landlord is nice we have a good relationship i think and doesnt live in the areahe runs a ton of different buildings for a singular company the way i see it there are two options  just let the person stay with us for three months and the likelihood of my landlord noticing will be slim to none ive never even met the man in person before especially since he has to give us  hour notice before anyone enters the apartment or  ask my landlord if it is okay if my roommates and i do this if i go with option  i am worried he will ask for extra rent or just flat out say no and then i definitely cant let the person stay with us under the radar   so i guess here is my full question if you are a landlord or have ever been in this situation before what do i do if i do option  and my landlord finds out is it likely he will terminate our lease or just request that the extra person leave if i do option  what will my landlord likely say we are all good tenants whom he likes we dont cause any trouble and we pay on time   some more information  this is in ma  the apartment is the top floor of a triple decker  there are four people on the lease all with separate rooms most likely one of my roommates will not be living here over the summer it is unclear if the other two will  if this th person temporarily moves in i will obviously have the full consent from all my roommates for it to happen  to reiterate i do not want this extra person to sublet they need to save up money because they have been through a lot recently i do not want them paying rent for the record they will still be contributing to utilities</td>\n",
       "      <td>0</td>\n",
       "      <td>1</td>\n",
       "      <td>416</td>\n",
       "    </tr>\n",
       "    <tr>\n",
       "      <th>4596</th>\n",
       "      <td>my boyfriend  got taken advantage of by a minor while he was drunk how do i handle this a couple of nights ago i  was at a house party with my boyfriend  there were a bunch of people who were complete strangers to us so we were just trying to get to know people and have fun around  am i went to check in on him because hes a little bit of a lightweight when it comes to alcohol the last i spoke to him was around half an hour ago i enter the room to see him passed on a couch the girl a stranger was sitting on a bed across him caressing one of his hands and his other hand up her skirt she knew that i was his girlfriend and suddenly started telling me how hes too drunk and is passed out i asked her to leave and that ill take it from there but she didnt i left the room because i was too mad a few moments later i hear the sound of a thud shed tried to wake him up and the movement made him dizzy he tried to go to the washroom to puke but he couldnt even stand properly so he fell flat we got him back to the bed and he passed right out again  i had a word with her to try and understand if anything happened between them she said he kept kissing her hand while he was passed out and he grabbed her thigh which made her uncomfortable so she left whereas i clearly saw her caressing his hand and shit i tried to talk to my boyfriend and he had no idea that anything like that happened i spoke to both of them again the next day she kept changing her statements about what exactly happened and looked really guilty my boyfriend on the other hand stuck to his word me and a a friend went through the whole situation and it seems like she took advantage of him while he was passed out now im not sure how to react to the whole situation im extremely angry and really worried because i dont even know what exactly happened as in what extent she went to as far as touching him is concerned it seems like she planted his hand there because his arm was stretched out in a really uncomfortable position i dont think anyone can do that while being drunk as shit</td>\n",
       "      <td>0</td>\n",
       "      <td>1</td>\n",
       "      <td>422</td>\n",
       "    </tr>\n",
       "    <tr>\n",
       "      <th>1484</th>\n",
       "      <td>as a french candidate who may apply to jobs in the us in the future will all the documents and references i have work be sufficient hi there fellas im from france and i simply wanted to verify something with you guys when it comes to background checks  in france whenever someone wants to hire you or promote you to a very important job vp sales partner director if someone wants to do a background check on your previous employment and degrees they can  call every single employer you had and ask about you and verify you were here and the job you performed  check if your degrees bachelors degree masters degree phd are real by asking for copies calling the corresponding universities  business schools checking online websites of the aforementioned establishments and so on  sometimes if the company that wants to recruit you is very thorough like a consulting firm or if a company you worked for shut down often happens years after you leave a place theyll ask you to provide them with a work certificate signed by the employer that you were supposed to get when you left the place years ago like that one  its your responsibility to get it whenever you leave a place so if you dont have it well its on you lol if your ex boss that you used as a reference is still alive you may also let them call him obviously  and thats about it  i have two questions  if i eventually get a job in the us one day will that satisfy most companies demands as far as background check goes i have all the aforementoned documents and i dont mind them calling any reference i indicated  how far back do companies tend to go back not that i mind obviously but more than  years would be quite a hassle in terms of paper work and calling previous employers to ask them if they dont mind being called yada yada yada and like i said before i may only be able to provide them with proof of employment such as a jobwork certificate signed by the employer becausewell after such a long time one of them might be dead xd  thank you  nb ws dont exist in france in fact its illegal to ask for taxes documents as your employer might want to use that to renegotiate your salaries which is why we use work certificates like the one i linked to you</td>\n",
       "      <td>0</td>\n",
       "      <td>1</td>\n",
       "      <td>427</td>\n",
       "    </tr>\n",
       "    <tr>\n",
       "      <th>9007</th>\n",
       "      <td>im feeling conflicted about a workplace situation can i get some advice so i work in a small office with a about  people a day different people for different days of the week  were all scanning clerks scan some docs shred the paper take out the shreds to the trash go find more boxes of documents at a separate location  rinse repeat  i also happen to work with both of my parents  me and my dad started together and my mom about a month later  we needed to find work and someone knew a guy and told us to apply  that someone well call her jane also started working the same time i did  we kinda knew jane pretty extroverted and a little weird but not too much to make any judgements you know  anyways after the first week working with her it became pretty apparent that she was full blown princess because she always weasels her way into making others do the heavy lifting stuff getting boxes and taking the trash  she claims theyre too heavy and shes being modest of what she can manage  while were all doing what were required she makes up for it by sweeping any paper on the floor  or saying she can put the door stopper whenever we get boxes  you know the not hard stuff  and idk about anyone else but sweeping hurts my back more than getting boxes  she also lied to my face about not knowing how to lock a door because i saw her open it before  keep in mind jane is early s  my mom is sick of her antics and continues to tell me dont do anything for her  she can figure it out you or anyone else shouldnt be her personal assistant  my mom is the kind who calls crap out like it is and is used to being painted as the bad guy because she takes crap from no one  my dad is aware of all this idiocracy but hes a bit nicer and tolerates jane and then vents in the car on the ride home  my conflict comes from being told not to help jane with anything but my conscience just cant help it  i dont feel bad far from i curse under my breath every time she ask for help  but i cant just sit there and not have the workflow go to a halt  at the moment all three of us are already thinking of finding a new job not just because of jane but because the work itself and the drive over isnt worth being paid   so any advice for me on what i should do  and sorry for the semi rant its been a rough week so far</td>\n",
       "      <td>0</td>\n",
       "      <td>1</td>\n",
       "      <td>485</td>\n",
       "    </tr>\n",
       "  </tbody>\n",
       "</table>\n",
       "</div>"
      ],
      "text/plain": [
       "                                                                                                                                                                                                                                                                                                                                                                                                                                                                                                                                                                                                                                                                                                                                                                                                                                                                                                                                                                                                                                                                                                                                                                                                                                                                                                                                                                                                                                                                                                                                                                                                                                                                                                                                                                                                                                                                                                                                                                                                                                                                                                                                                                                                                                                                                                                                                                                        combi_text  \\\n",
       "5797                                                                                                                                                                                                                                                                                                                                                                                                                                             is it okay to tell drunk people fighting outside your place to stop and go home in a city im new to living in a city i got a good opportunity for work and here i am i live in a medium sized city on a nice street in an old victorian house converted to apartments i live on the ground floor though its relatively quiet i hear cars sirens people walking by and all types of stuff  but tonight for a half hour straight at am i heard a group of drunks fighting and screaming on the street directly in front of my door im talking several feet away one of them was a neighbor or someone staying here who was one of the reasons it was taking place in front of my door from the window i could see him running up and down our building porch which is how i know he lived here never saw him before but we just moved here a few months back and only know a couple of our neighbors they were shouting curses at eachother screaming saying to come at them and throwing food and water   i was dead asleep and this went on and on i finally walked outside and told them to get lost or id call the police one person challenged me to do it but before i could respond the neighbor went no no no guys leave already just go im sorry and they all drunkenly got in their cars and left  my bf told me in a city its not a good idea because they could be crazy and do something and instead let him deal if it gets out of hand and loud which i agreed i was so tired and exhausted that i snapped when this went on for a half hour normally when i hear people talking or laughing outside i dont care but it was ridiculous and one of the drunks was hanging in the gate right outside my door and going off i dont like calling the police for anything unless its actually serious it was an empty threat for them to go away so i could sleep is this a bad idea should i just call the police next time or ignore it   \n",
       "1664                                                                                                                                                                                                                                                                                               how do i let someone stay with me for a bit without them contributing to rent i live in a  bedroom apartment and want to let someone stay with me for the summer without them paying rent so that they can work and accrue a good amount of savings  my lease says the premises shall be used as a private residence only no other persons shall occupy the said premises without written consent of the lessor  my landlord is nice we have a good relationship i think and doesnt live in the areahe runs a ton of different buildings for a singular company the way i see it there are two options  just let the person stay with us for three months and the likelihood of my landlord noticing will be slim to none ive never even met the man in person before especially since he has to give us  hour notice before anyone enters the apartment or  ask my landlord if it is okay if my roommates and i do this if i go with option  i am worried he will ask for extra rent or just flat out say no and then i definitely cant let the person stay with us under the radar   so i guess here is my full question if you are a landlord or have ever been in this situation before what do i do if i do option  and my landlord finds out is it likely he will terminate our lease or just request that the extra person leave if i do option  what will my landlord likely say we are all good tenants whom he likes we dont cause any trouble and we pay on time   some more information  this is in ma  the apartment is the top floor of a triple decker  there are four people on the lease all with separate rooms most likely one of my roommates will not be living here over the summer it is unclear if the other two will  if this th person temporarily moves in i will obviously have the full consent from all my roommates for it to happen  to reiterate i do not want this extra person to sublet they need to save up money because they have been through a lot recently i do not want them paying rent for the record they will still be contributing to utilities   \n",
       "4596                                                                                                                                                                                                                                                      my boyfriend  got taken advantage of by a minor while he was drunk how do i handle this a couple of nights ago i  was at a house party with my boyfriend  there were a bunch of people who were complete strangers to us so we were just trying to get to know people and have fun around  am i went to check in on him because hes a little bit of a lightweight when it comes to alcohol the last i spoke to him was around half an hour ago i enter the room to see him passed on a couch the girl a stranger was sitting on a bed across him caressing one of his hands and his other hand up her skirt she knew that i was his girlfriend and suddenly started telling me how hes too drunk and is passed out i asked her to leave and that ill take it from there but she didnt i left the room because i was too mad a few moments later i hear the sound of a thud shed tried to wake him up and the movement made him dizzy he tried to go to the washroom to puke but he couldnt even stand properly so he fell flat we got him back to the bed and he passed right out again  i had a word with her to try and understand if anything happened between them she said he kept kissing her hand while he was passed out and he grabbed her thigh which made her uncomfortable so she left whereas i clearly saw her caressing his hand and shit i tried to talk to my boyfriend and he had no idea that anything like that happened i spoke to both of them again the next day she kept changing her statements about what exactly happened and looked really guilty my boyfriend on the other hand stuck to his word me and a a friend went through the whole situation and it seems like she took advantage of him while he was passed out now im not sure how to react to the whole situation im extremely angry and really worried because i dont even know what exactly happened as in what extent she went to as far as touching him is concerned it seems like she planted his hand there because his arm was stretched out in a really uncomfortable position i dont think anyone can do that while being drunk as shit   \n",
       "1484                                                                                     as a french candidate who may apply to jobs in the us in the future will all the documents and references i have work be sufficient hi there fellas im from france and i simply wanted to verify something with you guys when it comes to background checks  in france whenever someone wants to hire you or promote you to a very important job vp sales partner director if someone wants to do a background check on your previous employment and degrees they can  call every single employer you had and ask about you and verify you were here and the job you performed  check if your degrees bachelors degree masters degree phd are real by asking for copies calling the corresponding universities  business schools checking online websites of the aforementioned establishments and so on  sometimes if the company that wants to recruit you is very thorough like a consulting firm or if a company you worked for shut down often happens years after you leave a place theyll ask you to provide them with a work certificate signed by the employer that you were supposed to get when you left the place years ago like that one  its your responsibility to get it whenever you leave a place so if you dont have it well its on you lol if your ex boss that you used as a reference is still alive you may also let them call him obviously  and thats about it  i have two questions  if i eventually get a job in the us one day will that satisfy most companies demands as far as background check goes i have all the aforementoned documents and i dont mind them calling any reference i indicated  how far back do companies tend to go back not that i mind obviously but more than  years would be quite a hassle in terms of paper work and calling previous employers to ask them if they dont mind being called yada yada yada and like i said before i may only be able to provide them with proof of employment such as a jobwork certificate signed by the employer becausewell after such a long time one of them might be dead xd  thank you  nb ws dont exist in france in fact its illegal to ask for taxes documents as your employer might want to use that to renegotiate your salaries which is why we use work certificates like the one i linked to you   \n",
       "9007  im feeling conflicted about a workplace situation can i get some advice so i work in a small office with a about  people a day different people for different days of the week  were all scanning clerks scan some docs shred the paper take out the shreds to the trash go find more boxes of documents at a separate location  rinse repeat  i also happen to work with both of my parents  me and my dad started together and my mom about a month later  we needed to find work and someone knew a guy and told us to apply  that someone well call her jane also started working the same time i did  we kinda knew jane pretty extroverted and a little weird but not too much to make any judgements you know  anyways after the first week working with her it became pretty apparent that she was full blown princess because she always weasels her way into making others do the heavy lifting stuff getting boxes and taking the trash  she claims theyre too heavy and shes being modest of what she can manage  while were all doing what were required she makes up for it by sweeping any paper on the floor  or saying she can put the door stopper whenever we get boxes  you know the not hard stuff  and idk about anyone else but sweeping hurts my back more than getting boxes  she also lied to my face about not knowing how to lock a door because i saw her open it before  keep in mind jane is early s  my mom is sick of her antics and continues to tell me dont do anything for her  she can figure it out you or anyone else shouldnt be her personal assistant  my mom is the kind who calls crap out like it is and is used to being painted as the bad guy because she takes crap from no one  my dad is aware of all this idiocracy but hes a bit nicer and tolerates jane and then vents in the car on the ride home  my conflict comes from being told not to help jane with anything but my conscience just cant help it  i dont feel bad far from i curse under my breath every time she ask for help  but i cant just sit there and not have the workflow go to a halt  at the moment all three of us are already thinking of finding a new job not just because of jane but because the work itself and the drive over isnt worth being paid   so any advice for me on what i should do  and sorry for the semi rant its been a rough week so far   \n",
       "\n",
       "      actual  predicted  word_count  \n",
       "5797       0          1         387  \n",
       "1664       0          1         416  \n",
       "4596       0          1         422  \n",
       "1484       0          1         427  \n",
       "9007       0          1         485  "
      ]
     },
     "execution_count": 94,
     "metadata": {},
     "output_type": "execute_result"
    }
   ],
   "source": [
    "false_positives_df.sort_values(by=['word_count'],ascending=True).tail()"
   ]
  },
  {
   "cell_type": "markdown",
   "id": "71b6de68",
   "metadata": {},
   "source": [
    "#### Insight on false positive long postings\n",
    "Common threads of sexual or relationship (ie. 11748, 4596), workplace (ie. 1484 and 9007) and property (ie. 1664) related post end up being misclassifed as legal advices. This is understandable, especially queries that talk about police as there are quite alot of such themes that spirals into lawsuits (ie. 5797). "
   ]
  },
  {
   "cell_type": "markdown",
   "id": "94d3397c",
   "metadata": {},
   "source": [
    "## Random Forest Classifier"
   ]
  },
  {
   "cell_type": "markdown",
   "id": "c4bad69e",
   "metadata": {},
   "source": [
    "In the next portion of the notebook, I will be using Random Forest Classifier."
   ]
  },
  {
   "cell_type": "markdown",
   "id": "55b7ced7",
   "metadata": {},
   "source": [
    "### Model - 5) CVEC Random Forest Classifier"
   ]
  },
  {
   "cell_type": "code",
   "execution_count": 95,
   "id": "c5962e43",
   "metadata": {},
   "outputs": [],
   "source": [
    "# create a pipeline\n",
    "rfcvec = Pipeline([\n",
    "    ('cvec', cvec),\n",
    "    ('rf', rf)    \n",
    "])"
   ]
  },
  {
   "cell_type": "code",
   "execution_count": 96,
   "id": "afd3f34a",
   "metadata": {},
   "outputs": [],
   "source": [
    "rfcvec.fit(X1_train, y1_train);"
   ]
  },
  {
   "cell_type": "code",
   "execution_count": 97,
   "id": "fe64dd69",
   "metadata": {},
   "outputs": [
    {
     "data": {
      "text/plain": [
       "0.9998314512051238"
      ]
     },
     "execution_count": 97,
     "metadata": {},
     "output_type": "execute_result"
    }
   ],
   "source": [
    "rfcvec.score(X1_train, y1_train)"
   ]
  },
  {
   "cell_type": "code",
   "execution_count": 98,
   "id": "5c7f876f",
   "metadata": {},
   "outputs": [
    {
     "data": {
      "text/plain": [
       "0.9123550044040902"
      ]
     },
     "execution_count": 98,
     "metadata": {},
     "output_type": "execute_result"
    }
   ],
   "source": [
    "cross_val_score(rfcvec,\n",
    "                X1_train,\n",
    "                y1_train, \n",
    "                cv=5).mean()"
   ]
  },
  {
   "cell_type": "code",
   "execution_count": 99,
   "id": "62f5b878",
   "metadata": {},
   "outputs": [
    {
     "data": {
      "text/plain": [
       "0.9089989888776542"
      ]
     },
     "execution_count": 99,
     "metadata": {},
     "output_type": "execute_result"
    }
   ],
   "source": [
    "rfcvec.score(X1_test, y1_test)"
   ]
  },
  {
   "cell_type": "code",
   "execution_count": 102,
   "id": "ad100841",
   "metadata": {},
   "outputs": [],
   "source": [
    "rfcvec_params = {'cvec__max_features': [5000,10000],\n",
    "    'cvec__ngram_range': [(1,1),(1, 2),(1,3)],\n",
    "    'rf__n_estimators': [100,200],\n",
    "    'rf__max_depth': [None,1]   \n",
    "}"
   ]
  },
  {
   "cell_type": "code",
   "execution_count": 103,
   "id": "bff0aa47",
   "metadata": {},
   "outputs": [
    {
     "name": "stdout",
     "output_type": "stream",
     "text": [
      "Fitting 3 folds for each of 10 candidates, totalling 30 fits\n",
      "Best score: 0.9105567728524074\n",
      "Train score 0.9998314512051238\n",
      "Test score 0.9135490394337715\n"
     ]
    },
    {
     "data": {
      "text/plain": [
       "{'rf__n_estimators': 200,\n",
       " 'rf__max_depth': None,\n",
       " 'cvec__ngram_range': (1, 1),\n",
       " 'cvec__max_features': 5000}"
      ]
     },
     "execution_count": 103,
     "metadata": {},
     "output_type": "execute_result"
    }
   ],
   "source": [
    "# External research: https://towardsdatascience.com/hyperparameter-tuning-the-random-forest-in-python-using-scikit-learn-28d2aa77dd74\n",
    "# https://www.youtube.com/watch?v=Q5dH5mOQ_ik\n",
    "\n",
    "# Random search of parameters, using 3 fold cross validation, \n",
    "# search across 10 different combinations, small number of iterations\n",
    "rfcvecrs = RandomizedSearchCV(estimator = rfcvec, param_distributions = rfcvec_params, n_iter = 10, cv = 3, verbose=2, n_jobs = -1)\n",
    "# Fit the random search model\n",
    "rfcvecrs.fit(X1_train, y1_train)\n",
    "print(\"Best score:\", rfcvecrs.best_score_)\n",
    "print(\"Train score\", rfcvecrs.score(X1_train, y1_train))\n",
    "print(\"Test score\", rfcvecrs.score(X1_test, y1_test))\n",
    "\n",
    "rfcvecrs.best_params_"
   ]
  },
  {
   "cell_type": "code",
   "execution_count": 104,
   "id": "a00c4ef5",
   "metadata": {},
   "outputs": [],
   "source": [
    "# As I am using randomizedsearch, results may not be replicated exactly\n",
    "#{'rf__n_estimators': 200,\n",
    " #'rf__max_depth': None,\n",
    " #'cvec__ngram_range': (1, 2),\n",
    " #'cvec__max_features': 5000}\n",
    "\n",
    "#Best score: 0.9111747851002865\n",
    "#Train score 0.9998314512051238\n",
    "#Test score 0.9132119986518369"
   ]
  },
  {
   "cell_type": "markdown",
   "id": "9f52f34f",
   "metadata": {},
   "source": [
    "## Feature importance based on  Random Forest CVEC"
   ]
  },
  {
   "cell_type": "code",
   "execution_count": 105,
   "id": "7c0372ab",
   "metadata": {},
   "outputs": [],
   "source": [
    "# Create array of feature importances\n",
    "rfcvec_feature_impt = rfcvecrs.best_estimator_['rf'].feature_importances_"
   ]
  },
  {
   "cell_type": "code",
   "execution_count": 106,
   "id": "d8f4239a",
   "metadata": {},
   "outputs": [],
   "source": [
    "rfcvec_feature_names = rfcvecrs.best_estimator_['cvec'].get_feature_names_out()"
   ]
  },
  {
   "cell_type": "code",
   "execution_count": 107,
   "id": "cb978535",
   "metadata": {},
   "outputs": [],
   "source": [
    "rfcvec_df = pd.DataFrame(data=rfcvec_feature_impt,\n",
    "                     index=rfcvec_feature_names)"
   ]
  },
  {
   "cell_type": "code",
   "execution_count": 108,
   "id": "fa97cbde",
   "metadata": {},
   "outputs": [],
   "source": [
    "rfcvec_df.columns = ['feature_importance']"
   ]
  },
  {
   "cell_type": "code",
   "execution_count": 109,
   "id": "ce41c36f",
   "metadata": {},
   "outputs": [
    {
     "data": {
      "text/html": [
       "<div>\n",
       "<style scoped>\n",
       "    .dataframe tbody tr th:only-of-type {\n",
       "        vertical-align: middle;\n",
       "    }\n",
       "\n",
       "    .dataframe tbody tr th {\n",
       "        vertical-align: top;\n",
       "    }\n",
       "\n",
       "    .dataframe thead th {\n",
       "        text-align: right;\n",
       "    }\n",
       "</style>\n",
       "<table border=\"1\" class=\"dataframe\">\n",
       "  <thead>\n",
       "    <tr style=\"text-align: right;\">\n",
       "      <th></th>\n",
       "      <th>feature_importance</th>\n",
       "    </tr>\n",
       "  </thead>\n",
       "  <tbody>\n",
       "    <tr>\n",
       "      <th>court</th>\n",
       "      <td>0.019131</td>\n",
       "    </tr>\n",
       "    <tr>\n",
       "      <th>pay</th>\n",
       "      <td>0.016514</td>\n",
       "    </tr>\n",
       "    <tr>\n",
       "      <th>lawyer</th>\n",
       "      <td>0.013755</td>\n",
       "    </tr>\n",
       "    <tr>\n",
       "      <th>company</th>\n",
       "      <td>0.013486</td>\n",
       "    </tr>\n",
       "    <tr>\n",
       "      <th>said</th>\n",
       "      <td>0.012753</td>\n",
       "    </tr>\n",
       "    <tr>\n",
       "      <th>told</th>\n",
       "      <td>0.011735</td>\n",
       "    </tr>\n",
       "    <tr>\n",
       "      <th>state</th>\n",
       "      <td>0.010949</td>\n",
       "    </tr>\n",
       "    <tr>\n",
       "      <th>legally</th>\n",
       "      <td>0.009620</td>\n",
       "    </tr>\n",
       "    <tr>\n",
       "      <th>paid</th>\n",
       "      <td>0.009177</td>\n",
       "    </tr>\n",
       "    <tr>\n",
       "      <th>police</th>\n",
       "      <td>0.008963</td>\n",
       "    </tr>\n",
       "  </tbody>\n",
       "</table>\n",
       "</div>"
      ],
      "text/plain": [
       "         feature_importance\n",
       "court              0.019131\n",
       "pay                0.016514\n",
       "lawyer             0.013755\n",
       "company            0.013486\n",
       "said               0.012753\n",
       "told               0.011735\n",
       "state              0.010949\n",
       "legally            0.009620\n",
       "paid               0.009177\n",
       "police             0.008963"
      ]
     },
     "execution_count": 109,
     "metadata": {},
     "output_type": "execute_result"
    }
   ],
   "source": [
    "rfcvec_df.sort_values(by='feature_importance', ascending=False).head(10)"
   ]
  },
  {
   "cell_type": "markdown",
   "id": "52856469",
   "metadata": {},
   "source": [
    "The following are the top 10 most important words to distinguish post from `r/legaladvice` from `r/NoStupidQuestions`. Most are legal related jargon. "
   ]
  },
  {
   "cell_type": "code",
   "execution_count": 110,
   "id": "5a8b1424",
   "metadata": {},
   "outputs": [
    {
     "data": {
      "text/html": [
       "<div>\n",
       "<style scoped>\n",
       "    .dataframe tbody tr th:only-of-type {\n",
       "        vertical-align: middle;\n",
       "    }\n",
       "\n",
       "    .dataframe tbody tr th {\n",
       "        vertical-align: top;\n",
       "    }\n",
       "\n",
       "    .dataframe thead th {\n",
       "        text-align: right;\n",
       "    }\n",
       "</style>\n",
       "<table border=\"1\" class=\"dataframe\">\n",
       "  <thead>\n",
       "    <tr style=\"text-align: right;\">\n",
       "      <th></th>\n",
       "      <th>feature_importance</th>\n",
       "    </tr>\n",
       "  </thead>\n",
       "  <tbody>\n",
       "    <tr>\n",
       "      <th>sherman</th>\n",
       "      <td>0.000000e+00</td>\n",
       "    </tr>\n",
       "    <tr>\n",
       "      <th>moveout</th>\n",
       "      <td>1.561057e-08</td>\n",
       "    </tr>\n",
       "    <tr>\n",
       "      <th>earnest</th>\n",
       "      <td>1.111480e-07</td>\n",
       "    </tr>\n",
       "    <tr>\n",
       "      <th>facilities</th>\n",
       "      <td>6.338280e-07</td>\n",
       "    </tr>\n",
       "    <tr>\n",
       "      <th>bots</th>\n",
       "      <td>6.908560e-07</td>\n",
       "    </tr>\n",
       "    <tr>\n",
       "      <th>stepdaughter</th>\n",
       "      <td>7.495194e-07</td>\n",
       "    </tr>\n",
       "    <tr>\n",
       "      <th>patio</th>\n",
       "      <td>9.946113e-07</td>\n",
       "    </tr>\n",
       "    <tr>\n",
       "      <th>bbb</th>\n",
       "      <td>9.991114e-07</td>\n",
       "    </tr>\n",
       "    <tr>\n",
       "      <th>sheriff</th>\n",
       "      <td>1.093968e-06</td>\n",
       "    </tr>\n",
       "    <tr>\n",
       "      <th>unfortunate</th>\n",
       "      <td>1.176853e-06</td>\n",
       "    </tr>\n",
       "  </tbody>\n",
       "</table>\n",
       "</div>"
      ],
      "text/plain": [
       "              feature_importance\n",
       "sherman             0.000000e+00\n",
       "moveout             1.561057e-08\n",
       "earnest             1.111480e-07\n",
       "facilities          6.338280e-07\n",
       "bots                6.908560e-07\n",
       "stepdaughter        7.495194e-07\n",
       "patio               9.946113e-07\n",
       "bbb                 9.991114e-07\n",
       "sheriff             1.093968e-06\n",
       "unfortunate         1.176853e-06"
      ]
     },
     "execution_count": 110,
     "metadata": {},
     "output_type": "execute_result"
    }
   ],
   "source": [
    "rfcvec_df.sort_values(by='feature_importance', ascending=True).head(10)"
   ]
  },
  {
   "cell_type": "markdown",
   "id": "274fbe4f",
   "metadata": {},
   "source": [
    "The following are the 10 least important words to distinguish post from `r/legaladvice` from `r/NoStupidQuestions`. As the number is very small and close to zero, we can suggest that they bring no additional value in making correct predictions."
   ]
  },
  {
   "cell_type": "markdown",
   "id": "1e2c9694",
   "metadata": {},
   "source": [
    "From: https://scikit-learn.org/stable/auto_examples/ensemble/plot_forest_importances.html\n",
    "\n",
    "Feature importances are provided by the fitted attribute feature_importances_ and they are computed as the mean and standard deviation of accumulation of the impurity decrease within each tree."
   ]
  },
  {
   "cell_type": "markdown",
   "id": "0866e64c",
   "metadata": {},
   "source": [
    "### Model - 6) TVEC Random Forest Classifier"
   ]
  },
  {
   "cell_type": "code",
   "execution_count": 111,
   "id": "ef5b4f36",
   "metadata": {},
   "outputs": [],
   "source": [
    "# create a pipeline\n",
    "rftvec = Pipeline([\n",
    "    ('tvec', tvec),\n",
    "    ('rf', rf)    \n",
    "])"
   ]
  },
  {
   "cell_type": "code",
   "execution_count": 112,
   "id": "a5db8091",
   "metadata": {},
   "outputs": [],
   "source": [
    "rftvec.fit(X1_train, y1_train);"
   ]
  },
  {
   "cell_type": "code",
   "execution_count": 113,
   "id": "50cd2294",
   "metadata": {},
   "outputs": [
    {
     "data": {
      "text/plain": [
       "0.9998314512051238"
      ]
     },
     "execution_count": 113,
     "metadata": {},
     "output_type": "execute_result"
    }
   ],
   "source": [
    "rftvec.score(X1_train, y1_train)"
   ]
  },
  {
   "cell_type": "code",
   "execution_count": 114,
   "id": "a815c58a",
   "metadata": {},
   "outputs": [
    {
     "data": {
      "text/plain": [
       "0.9122986825613811"
      ]
     },
     "execution_count": 114,
     "metadata": {},
     "output_type": "execute_result"
    }
   ],
   "source": [
    "cross_val_score(rftvec,\n",
    "                X1_train,\n",
    "                y1_train, \n",
    "                cv=5).mean()"
   ]
  },
  {
   "cell_type": "code",
   "execution_count": 115,
   "id": "55e48c0b",
   "metadata": {},
   "outputs": [
    {
     "data": {
      "text/plain": [
       "0.910010111223458"
      ]
     },
     "execution_count": 115,
     "metadata": {},
     "output_type": "execute_result"
    }
   ],
   "source": [
    "rftvec.score(X1_test, y1_test)"
   ]
  },
  {
   "cell_type": "code",
   "execution_count": 116,
   "id": "99b2df78",
   "metadata": {},
   "outputs": [],
   "source": [
    "rftvec_params = {\n",
    "    'tvec__max_features': [5000, 6000, 7000],\n",
    "    'tvec__ngram_range': [(1, 1), (1, 2), (1, 3)],\n",
    "    'rf__n_estimators': [300, 350, 400],\n",
    "    'rf__max_depth': [None, 2, 4]\n",
    "}"
   ]
  },
  {
   "cell_type": "code",
   "execution_count": 117,
   "id": "d40e968a",
   "metadata": {
    "scrolled": true
   },
   "outputs": [
    {
     "name": "stdout",
     "output_type": "stream",
     "text": [
      "Fitting 3 folds for each of 10 candidates, totalling 30 fits\n",
      "Best score: 0.9146581268610596\n",
      "Train score 0.9998314512051238\n",
      "Test score 0.9110212335692619\n"
     ]
    },
    {
     "data": {
      "text/plain": [
       "{'tvec__ngram_range': (1, 3),\n",
       " 'tvec__max_features': 5000,\n",
       " 'rf__n_estimators': 400,\n",
       " 'rf__max_depth': None}"
      ]
     },
     "execution_count": 117,
     "metadata": {},
     "output_type": "execute_result"
    }
   ],
   "source": [
    "# External research: https://towardsdatascience.com/hyperparameter-tuning-the-random-forest-in-python-using-scikit-learn-28d2aa77dd74\n",
    "# https://www.youtube.com/watch?v=Q5dH5mOQ_ik\n",
    "\n",
    "# Random search of parameters, using 3 fold cross validation, \n",
    "# search across 10 different combinations, small number of iterations\n",
    "rftvecrs = RandomizedSearchCV(estimator = rftvec, param_distributions = rftvec_params, n_iter = 10, cv = 3, verbose=2, n_jobs = -1)\n",
    "# Fit the random search model\n",
    "rftvecrs.fit(X1_train, y1_train)\n",
    "print(\"Best score:\", rftvecrs.best_score_)\n",
    "print(\"Train score\", rftvecrs.score(X1_train, y1_train))\n",
    "print(\"Test score\", rftvecrs.score(X1_test, y1_test))\n",
    "\n",
    "rftvecrs.best_params_"
   ]
  },
  {
   "cell_type": "code",
   "execution_count": 118,
   "id": "6bd5d331",
   "metadata": {},
   "outputs": [],
   "source": [
    "# As I am using randomizedsearch, results may not be replicated exactly\n",
    "#{'tvec__ngram_range': (1, 1),\n",
    "#'tvec__max_features': 7000,\n",
    "#'rf__n_estimators': 400,\n",
    "#'rf__max_depth': None}\n",
    "    \n",
    "# Best score: 0.9137030170234283\n",
    "# Train score 0.9998314512051238\n",
    "# Test score 0.9123693966970003"
   ]
  },
  {
   "cell_type": "markdown",
   "id": "12cb45e0",
   "metadata": {},
   "source": [
    "Both Random Forest Classifier takes a long time to be optimized using GridSearch. In view of the limited time, I have opted to optimize the hyperparameters with a quicker method, which was to use RandomizedSearch to tune the hyperparameters.\n",
    "\n",
    "The improvement in terms of accuracy for both models were minor as compared to logistic regression and Multinomial Naive Bayes when tuned.\n",
    "\n",
    "However, it is clearly the most accurate model in terms of train score and has a decent test score. "
   ]
  },
  {
   "cell_type": "markdown",
   "id": "5c1a43b0",
   "metadata": {},
   "source": [
    "## Limitations and future works by others"
   ]
  },
  {
   "attachments": {},
   "cell_type": "markdown",
   "id": "5b56f050",
   "metadata": {},
   "source": [
    "#### Misclassifications of questions in subreddit, wrong spellings in posts\n",
    "As observed from the misclassified datapoints, there are a number of submissions that are posted in `r/legaladvice` that are badly crafted and do not look like they have legal implications. Similarly, there are a number of submissions posted in `r/NoStupidQuestions` that are legal queries in nature, since all questions are welcomed in that subreddit. This creates confusion for the model, but for now, this works out as a proxy for real life questions and legal queries. \n",
    "\n",
    "Also, there were several instances of use of shortforms and spelling errors in the data.\n",
    "\n",
    "To improve on the data, should an organisation want to proceed further, logging in new data with high integrity would be helpful. This is to prevent the situation of garbage in garbarge out.\n",
    "\n",
    "#### Law terms are different across all countries\n",
    "A challenge when implementing the classifier is that legal jargons can be very different across different countries. There must be a sizable number of data to train the model to become more accurate. Thus, the current model would take time to be implemented across different countries.\n",
    "\n",
    "#### Differences in language and slangs\n",
    "Word choices can be different across different cultures. Even amidst the english language, the British, Americans and Australians for example will have their own colloquial ways of writing.\n",
    "\n",
    "Furthermore, the model is built on existing data from Reddit based on the english language. There will be a limitation of language as such. \n",
    "\n",
    "#### Hyperparameters tuning for Random Forest, also use of other models\n",
    "In my process, I have opted to run RandomizedSearch instead of GridSearch for the two Random Forest models. Perhaps the accuracy rates could have been improved further, and if organisation have the capability and investment to process the model quick enough, they may get a different model choice compared to me. Use of other models, like SVM and Boosting to improve accuracy can also be explored.\n",
    "\n",
    "#### Merely one step in the correct direction\n",
    "Other classifier related to suicide, depression, and defamation can also be paired with this legal query classifier. My classifier alone will not be sufficient to cover all liabilities legally."
   ]
  },
  {
   "cell_type": "code",
   "execution_count": null,
   "id": "75a5713c",
   "metadata": {},
   "outputs": [],
   "source": []
  }
 ],
 "metadata": {
  "kernelspec": {
   "display_name": "Python 3 (ipykernel)",
   "language": "python",
   "name": "python3"
  },
  "language_info": {
   "codemirror_mode": {
    "name": "ipython",
    "version": 3
   },
   "file_extension": ".py",
   "mimetype": "text/x-python",
   "name": "python",
   "nbconvert_exporter": "python",
   "pygments_lexer": "ipython3",
   "version": "3.8.12"
  }
 },
 "nbformat": 4,
 "nbformat_minor": 5
}
